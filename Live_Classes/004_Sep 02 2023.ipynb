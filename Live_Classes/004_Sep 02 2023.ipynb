{
 "cells": [
  {
   "cell_type": "markdown",
   "id": "a24f8177",
   "metadata": {},
   "source": [
    "# 1. User Input\n",
    "\n",
    "User input in Python can be obtained using the `input()` function. This function reads a line of text from the user and returns it as a string. Here are some examples of user input in Python:\n",
    "\n",
    "1. **Basic User Input:**\n",
    "\n",
    "   ```python\n",
    "   user_input = input(\"Enter something: \")\n",
    "   print(\"You entered:\", user_input)\n",
    "   ```\n",
    "\n",
    "   In this example, the program will prompt the user to enter something, and whatever the user enters will be stored in the `user_input` variable and then printed.\n",
    "\n",
    "2. **Converting User Input to Integer:**\n",
    "\n",
    "   ```python\n",
    "   age = int(input(\"Enter your age: \"))\n",
    "   print(\"Your age is:\", age)\n",
    "   ```\n",
    "\n",
    "   Here, the `input()` function is used to get a string from the user, which is then converted to an integer using `int()`.\n",
    "\n",
    "3. **Handling Floating-Point Numbers:**\n",
    "\n",
    "   ```python\n",
    "   price = float(input(\"Enter the price: \"))\n",
    "   print(\"The price is:\", price)\n",
    "   ```\n",
    "\n",
    "   Similar to the previous example, but it converts the user's input to a floating-point number using `float()`.\n",
    "\n",
    "4. **Accepting Multiple Inputs:**\n",
    "\n",
    "   ```python\n",
    "   name = input(\"Enter your name: \")\n",
    "   age = int(input(\"Enter your age: \"))\n",
    "   print(\"Hello, {0}! You are {1} years old.\".format(name, age))\n",
    "   ```\n",
    "\n",
    "   Here, we're taking both the name and age as separate inputs from the user and then formatting and printing them.\n",
    "\n",
    "5. **Password Input (Hiding User Input):**\n",
    "\n",
    "   ```python\n",
    "   from getpass import getpass\n",
    "\n",
    "   password = getpass(\"Enter your password: \")\n",
    "   print(\"Password entered.\")\n",
    "   ```\n",
    "\n",
    "   The `getpass` function from the `getpass` module allows you to securely input a password without displaying it on the screen.\n",
    "\n",
    "6. **Handling Lists of Numbers:**\n",
    "\n",
    "   ```python\n",
    "   numbers = input(\"Enter a list of numbers separated by spaces: \")\n",
    "   number_list = [int(x) for x in numbers.split()]\n",
    "   print(\"List of numbers:\", number_list)\n",
    "   ```\n",
    "\n",
    "   This example takes a space-separated list of numbers as input and converts them into a list of integers for further processing.\n",
    "\n",
    "Remember to handle input validation and error checking, especially when you expect specific types of input or need to handle potential exceptions that can occur during user input."
   ]
  },
  {
   "cell_type": "markdown",
   "id": "fd3ab2b8",
   "metadata": {},
   "source": [
    "# Practice"
   ]
  },
  {
   "cell_type": "code",
   "execution_count": 4,
   "id": "0b8fca36",
   "metadata": {},
   "outputs": [
    {
     "name": "stdout",
     "output_type": "stream",
     "text": [
      "Enter first no: 10\n",
      "Enter second no: 8\n",
      "Sum of numbers is: 18\n"
     ]
    }
   ],
   "source": [
    "num1 = input('Enter first no: ')\n",
    "num2 = input('Enter second no: ')\n",
    "print(f'Sum of numbers is: {int(num1)+int(num2)}')"
   ]
  },
  {
   "cell_type": "code",
   "execution_count": 5,
   "id": "67054420",
   "metadata": {},
   "outputs": [
    {
     "name": "stdout",
     "output_type": "stream",
     "text": [
      "Enter your first name:Siddharth\n",
      "Enter your last name:Swain\n",
      "Welcome Siddharth Swain!\n"
     ]
    }
   ],
   "source": [
    "fname = input('Enter your first name:')\n",
    "lname = input('Enter your last name:')\n",
    "print(f'Welcome {fname} {lname}!')"
   ]
  },
  {
   "cell_type": "markdown",
   "id": "4406e1d4",
   "metadata": {},
   "source": [
    "# 2. F-String Format\n",
    "\n",
    "You can use f-strings in Python to format and print strings with variables or expressions embedded within them. Here are some examples of using f-strings for printing:\n",
    "\n",
    "1. **Basic Variable Insertion:**\n",
    "\n",
    "   ```python\n",
    "   name = \"Alice\"\n",
    "   age = 30\n",
    "   print(f\"My name is {name} and I am {age} years old.\")\n",
    "   ```\n",
    "\n",
    "   Output:\n",
    "   ```\n",
    "   My name is Alice and I am 30 years old.\n",
    "   ```\n",
    "\n",
    "2. **Mathematical Expressions:**\n",
    "\n",
    "   ```python\n",
    "   x = 5\n",
    "   y = 10\n",
    "   print(f\"The sum of {x} and {y} is {x + y}.\")\n",
    "   ```\n",
    "\n",
    "   Output:\n",
    "   ```\n",
    "   The sum of 5 and 10 is 15.\n",
    "   ```\n",
    "\n",
    "3. **Formatting Floating-Point Numbers:**\n",
    "\n",
    "   ```python\n",
    "   pi = 3.14159265\n",
    "   print(f\"The value of pi to 2 decimal places is approximately {pi:.2f}.\")\n",
    "   ```\n",
    "\n",
    "   Output:\n",
    "   ```\n",
    "   The value of pi to 2 decimal places is approximately 3.14.\n",
    "   ```\n",
    "\n",
    "4. **Using Expressions:**\n",
    "\n",
    "   ```python\n",
    "   length = 5\n",
    "   width = 10\n",
    "   area = length * width\n",
    "   print(f\"The area of a rectangle with length {length} and width {width} is {area}.\")\n",
    "   ```\n",
    "\n",
    "   Output:\n",
    "   ```\n",
    "   The area of a rectangle with length 5 and width 10 is 50.\n",
    "   ```\n",
    "\n",
    "5. **Using Dictionary Values:**\n",
    "\n",
    "   ```python\n",
    "   person = {\"name\": \"Bob\", \"age\": 25}\n",
    "   print(f\"Name: {person['name']}, Age: {person['age']}\")\n",
    "   ```\n",
    "\n",
    "   Output:\n",
    "   ```\n",
    "   Name: Bob, Age: 25\n",
    "   ```\n",
    "\n",
    "6. **String Formatting with Functions:**\n",
    "\n",
    "   ```python\n",
    "   def greet(name):\n",
    "       return f\"Hello, {name}!\"\n",
    "\n",
    "   print(greet(\"Alice\"))\n",
    "   ```\n",
    "\n",
    "   Output:\n",
    "   ```\n",
    "   Hello, Alice!\n",
    "   ```\n",
    "\n",
    "F-strings provide a concise and readable way to format strings in Python, making it easier to insert variables and expressions into your output.\n",
    "\n",
    "# Practice"
   ]
  },
  {
   "cell_type": "code",
   "execution_count": 1,
   "id": "48a6372c",
   "metadata": {},
   "outputs": [
    {
     "name": "stdout",
     "output_type": "stream",
     "text": [
      "Sudhanshu and Krish are great mentors.\n"
     ]
    }
   ],
   "source": [
    "name1 = 'Sudhanshu'\n",
    "name2 = 'Krish'\n",
    "\n",
    "print(f'{name1} and {name2} are great mentors.')"
   ]
  },
  {
   "cell_type": "markdown",
   "id": "882c33fa",
   "metadata": {},
   "source": [
    "# 3. Format Method\n",
    "\n",
    "In Python, the `format()` method is used to format strings by replacing placeholders (usually enclosed in curly braces `{}`) with values or variables. It allows you to create dynamic strings with variable content. Here are some examples of how to use the `format()` method in Python:\n",
    "\n",
    "1. **Basic String Formatting:**\n",
    "   ```python\n",
    "   name = \"Alice\"\n",
    "   age = 30\n",
    "   message = \"Hello, my name is {} and I am {} years old.\".format(name, age)\n",
    "   print(message)\n",
    "   ```\n",
    "\n",
    "2. **Positional Arguments:**\n",
    "   You can specify placeholders in the string and provide values in the `format()` method in the order they appear in the string:\n",
    "   ```python\n",
    "   first_name = \"John\"\n",
    "   last_name = \"Doe\"\n",
    "   full_name = \"{} {}\".format(first_name, last_name)\n",
    "   print(full_name)\n",
    "   ```\n",
    "\n",
    "3. **Named Arguments:**\n",
    "   You can also use named placeholders and provide values using keyword arguments:\n",
    "   ```python\n",
    "   product = \"Laptop\"\n",
    "   price = 999.99\n",
    "   message = \"The {item} costs ${cost:.2f}\".format(item=product, cost=price)\n",
    "   print(message)\n",
    "   ```\n",
    "\n",
    "4. **Format Specifiers:**\n",
    "   You can format the placeholders using format specifiers. For example, to control the number of decimal places for a floating-point number:\n",
    "   ```python\n",
    "   pi = 3.14159265\n",
    "   message = \"The value of pi is approximately {:.2f}\".format(pi)\n",
    "   print(message)\n",
    "   ```\n",
    "\n",
    "5. **Accessing List Elements:**\n",
    "   You can access elements of a list using indexing within the placeholders:\n",
    "   ```python\n",
    "   fruits = [\"apple\", \"banana\", \"cherry\"]\n",
    "   message = \"I like {} and {}\".format(fruits[0], fruits[1])\n",
    "   print(message)\n",
    "   ```\n",
    "\n",
    "6. **Using Positional and Named Arguments Together:**\n",
    "   You can mix positional and named arguments, but positional arguments must come before named arguments:\n",
    "   ```python\n",
    "   name = \"Bob\"\n",
    "   age = 25\n",
    "   message = \"My name is {} and I am {years} years old.\".format(name, years=age)\n",
    "   print(message)\n",
    "   ```\n",
    "\n",
    "7. **Reusing Values:**\n",
    "   You can reuse the same value multiple times in the string:\n",
    "   ```python\n",
    "   value = 42\n",
    "   message = \"The answer to everything is {}! {} is a great number.\".format(value, value)\n",
    "   print(message)\n",
    "   ```\n",
    "\n",
    "8. **Using Format Strings (Python 3.6+):**\n",
    "   Python 3.6 introduced f-strings, which provide a more concise way of formatting strings:\n",
    "   ```python\n",
    "   name = \"Carol\"\n",
    "   age = 28\n",
    "   message = f\"Hello, my name is {name} and I am {age} years old.\"\n",
    "   print(message)\n",
    "   ```\n",
    "\n",
    "The `format()` method is a flexible way to create formatted strings in Python, and it can handle a wide range of formatting requirements.\n",
    "\n",
    "# Practice"
   ]
  },
  {
   "cell_type": "code",
   "execution_count": 7,
   "id": "90475ca1",
   "metadata": {},
   "outputs": [
    {
     "name": "stdout",
     "output_type": "stream",
     "text": [
      "skills and pw.\n"
     ]
    }
   ],
   "source": [
    "print(\"{1} and {0}.\".format('pw','skills'))"
   ]
  },
  {
   "cell_type": "markdown",
   "id": "b2e6e4d5",
   "metadata": {},
   "source": [
    "# 4. Operators\n",
    "\n",
    "Python supports a variety of operators, which can be categorized into several groups. Here are examples of some common Python operators:\n",
    "\n",
    "1. **Arithmetic Operators:**\n",
    "   - Addition: `+`\n",
    "     ```python\n",
    "     result = 5 + 3  # result will be 8\n",
    "     ```\n",
    "\n",
    "   - Subtraction: `-`\n",
    "     ```python\n",
    "     result = 10 - 4  # result will be 6\n",
    "     ```\n",
    "\n",
    "   - Multiplication: `*`\n",
    "     ```python\n",
    "     result = 7 * 2  # result will be 14\n",
    "     ```\n",
    "\n",
    "   - Division: `/`\n",
    "     ```python\n",
    "     result = 16 / 4  # result will be 4.0 (float)\n",
    "     ```\n",
    "\n",
    "   - Floor Division: `//`\n",
    "     ```python\n",
    "     result = 16 // 4  # result will be 4 (integer)\n",
    "     ```\n",
    "\n",
    "   - Modulus (Remainder): `%`\n",
    "     ```python\n",
    "     result = 17 % 5  # result will be 2\n",
    "     ```\n",
    "\n",
    "   - Exponentiation: `**`\n",
    "     ```python\n",
    "     result = 2 ** 3  # result will be 8\n",
    "     ```\n",
    "\n",
    "2. **Comparison Operators:**\n",
    "   - Equal to: `==`\n",
    "   - Not equal to: `!=`\n",
    "   - Greater than: `>`\n",
    "   - Less than: `<`\n",
    "   - Greater than or equal to: `>=`\n",
    "   - Less than or equal to: `<=`\n",
    "\n",
    "   Example:\n",
    "   ```python\n",
    "   x = 5\n",
    "   y = 10\n",
    "   is_equal = x == y  # False\n",
    "   is_not_equal = x != y  # True\n",
    "   is_greater = x > y  # False\n",
    "   is_less = x < y  # True\n",
    "   ```\n",
    "\n",
    "3. **Logical Operators:**\n",
    "   - Logical AND: `and`\n",
    "   - Logical OR: `or`\n",
    "   - Logical NOT: `not`\n",
    "\n",
    "   Example:\n",
    "   ```python\n",
    "   a = True\n",
    "   b = False\n",
    "   result_and = a and b  # False\n",
    "   result_or = a or b  # True\n",
    "   result_not = not a  # False\n",
    "   ```\n",
    "\n",
    "4. **Assignment Operators:**\n",
    "   - Assignment: `=`\n",
    "   - Add and assign: `+=`\n",
    "   - Subtract and assign: `-=`\n",
    "   - Multiply and assign: `*=`\n",
    "   - Divide and assign: `/=`\n",
    "\n",
    "   Example:\n",
    "   ```python\n",
    "   x = 5\n",
    "   x += 3  # x is now 8\n",
    "   ```\n",
    "\n",
    "5. **Bitwise Operators:**\n",
    "   - Bitwise AND: `&`\n",
    "   - Bitwise OR: `|`\n",
    "   - Bitwise XOR: `^`\n",
    "   - Bitwise NOT: `~`\n",
    "   - Left shift: `<<`\n",
    "   - Right shift: `>>`\n",
    "\n",
    "   Example:\n",
    "   ```python\n",
    "   a = 5  # 0101 in binary\n",
    "   b = 3  # 0011 in binary\n",
    "   result_and = a & b  # 0001 (1 in decimal)\n",
    "   ```\n",
    "\n",
    "6. **Membership Operators:**\n",
    "   - `in`: Used to test if a value is present in a sequence (e.g., list, tuple, string).\n",
    "   - `not in`: Used to test if a value is not present in a sequence.\n",
    "\n",
    "   Example:\n",
    "   ```python\n",
    "   my_list = [1, 2, 3, 4]\n",
    "   is_present = 3 in my_list  # True\n",
    "   ```\n",
    "\n",
    "7. **Identity Operators:**\n",
    "   - `is`: Used to test if two variables reference the same object.\n",
    "   - `is not`: Used to test if two variables reference different objects.\n",
    "\n",
    "   Example:\n",
    "   ```python\n",
    "   x = [1, 2, 3]\n",
    "   y = x\n",
    "   is_same = x is y  # True\n",
    "   ```\n",
    "\n",
    "These are some of the common operators in Python. Python also provides other specialized operators for specific tasks, such as slicing and indexing for sequences (e.g., strings, lists), and more.\n",
    "\n",
    "# Practice"
   ]
  },
  {
   "cell_type": "code",
   "execution_count": 8,
   "id": "61b5f7b1",
   "metadata": {},
   "outputs": [],
   "source": [
    "a = 10\n",
    "b = 5"
   ]
  },
  {
   "cell_type": "code",
   "execution_count": 9,
   "id": "7d5547d1",
   "metadata": {},
   "outputs": [
    {
     "data": {
      "text/plain": [
       "15"
      ]
     },
     "execution_count": 9,
     "metadata": {},
     "output_type": "execute_result"
    }
   ],
   "source": [
    "a+b"
   ]
  },
  {
   "cell_type": "code",
   "execution_count": 10,
   "id": "380bd7e9",
   "metadata": {},
   "outputs": [
    {
     "data": {
      "text/plain": [
       "5"
      ]
     },
     "execution_count": 10,
     "metadata": {},
     "output_type": "execute_result"
    }
   ],
   "source": [
    "a-b"
   ]
  },
  {
   "cell_type": "code",
   "execution_count": 11,
   "id": "4cb03c25",
   "metadata": {},
   "outputs": [
    {
     "data": {
      "text/plain": [
       "50"
      ]
     },
     "execution_count": 11,
     "metadata": {},
     "output_type": "execute_result"
    }
   ],
   "source": [
    "a*b"
   ]
  },
  {
   "cell_type": "code",
   "execution_count": 12,
   "id": "61d19b19",
   "metadata": {},
   "outputs": [
    {
     "data": {
      "text/plain": [
       "2.0"
      ]
     },
     "execution_count": 12,
     "metadata": {},
     "output_type": "execute_result"
    }
   ],
   "source": [
    "a/b"
   ]
  },
  {
   "cell_type": "code",
   "execution_count": 13,
   "id": "6eaf651d",
   "metadata": {},
   "outputs": [
    {
     "data": {
      "text/plain": [
       "2"
      ]
     },
     "execution_count": 13,
     "metadata": {},
     "output_type": "execute_result"
    }
   ],
   "source": [
    "a//b"
   ]
  },
  {
   "cell_type": "code",
   "execution_count": 14,
   "id": "890ac03c",
   "metadata": {},
   "outputs": [
    {
     "data": {
      "text/plain": [
       "0"
      ]
     },
     "execution_count": 14,
     "metadata": {},
     "output_type": "execute_result"
    }
   ],
   "source": [
    "a%b"
   ]
  },
  {
   "cell_type": "code",
   "execution_count": 15,
   "id": "b97a4ff1",
   "metadata": {},
   "outputs": [
    {
     "data": {
      "text/plain": [
       "False"
      ]
     },
     "execution_count": 15,
     "metadata": {},
     "output_type": "execute_result"
    }
   ],
   "source": [
    "a==b"
   ]
  },
  {
   "cell_type": "code",
   "execution_count": 16,
   "id": "5cf38004",
   "metadata": {},
   "outputs": [
    {
     "data": {
      "text/plain": [
       "True"
      ]
     },
     "execution_count": 16,
     "metadata": {},
     "output_type": "execute_result"
    }
   ],
   "source": [
    "a!=b"
   ]
  },
  {
   "cell_type": "code",
   "execution_count": 19,
   "id": "bda0e900",
   "metadata": {},
   "outputs": [
    {
     "name": "stderr",
     "output_type": "stream",
     "text": [
      "<>:1: SyntaxWarning: \"is\" with a literal. Did you mean \"==\"?\n",
      "<>:1: SyntaxWarning: \"is\" with a literal. Did you mean \"==\"?\n",
      "C:\\Users\\Siddharth.1.Swain\\AppData\\Local\\Temp\\ipykernel_8016\\2365217341.py:1: SyntaxWarning: \"is\" with a literal. Did you mean \"==\"?\n",
      "  a is 10\n"
     ]
    },
    {
     "data": {
      "text/plain": [
       "True"
      ]
     },
     "execution_count": 19,
     "metadata": {},
     "output_type": "execute_result"
    }
   ],
   "source": [
    "a is 10"
   ]
  },
  {
   "cell_type": "code",
   "execution_count": 20,
   "id": "12eacde4",
   "metadata": {},
   "outputs": [
    {
     "data": {
      "text/plain": [
       "True"
      ]
     },
     "execution_count": 20,
     "metadata": {},
     "output_type": "execute_result"
    }
   ],
   "source": [
    "a = 10\n",
    "b = 10\n",
    "\n",
    "a is b"
   ]
  },
  {
   "cell_type": "code",
   "execution_count": 21,
   "id": "1cef99bf",
   "metadata": {},
   "outputs": [
    {
     "data": {
      "text/plain": [
       "False"
      ]
     },
     "execution_count": 21,
     "metadata": {},
     "output_type": "execute_result"
    }
   ],
   "source": [
    "c = 11\n",
    "a is c"
   ]
  },
  {
   "cell_type": "code",
   "execution_count": 22,
   "id": "193d798f",
   "metadata": {},
   "outputs": [
    {
     "data": {
      "text/plain": [
       "True"
      ]
     },
     "execution_count": 22,
     "metadata": {},
     "output_type": "execute_result"
    }
   ],
   "source": [
    "a = [1,2,3]\n",
    "b = a\n",
    "a is b"
   ]
  },
  {
   "cell_type": "code",
   "execution_count": 23,
   "id": "bf382ba5",
   "metadata": {},
   "outputs": [
    {
     "data": {
      "text/plain": [
       "True"
      ]
     },
     "execution_count": 23,
     "metadata": {},
     "output_type": "execute_result"
    }
   ],
   "source": [
    "b is a"
   ]
  },
  {
   "cell_type": "markdown",
   "id": "d5981e20",
   "metadata": {},
   "source": [
    "# Question"
   ]
  },
  {
   "cell_type": "code",
   "execution_count": 24,
   "id": "0d1f8efa",
   "metadata": {},
   "outputs": [
    {
     "name": "stdout",
     "output_type": "stream",
     "text": [
      "Enter the divisor (x): 10\n",
      "The quotient when 3^35 is divided by 10 is: 5003154509899970\n"
     ]
    }
   ],
   "source": [
    "# Get user input for the divisor 'x'\n",
    "x = int(input(\"Enter the divisor (x): \"))\n",
    "\n",
    "# Calculate 3^35\n",
    "result = 3 ** 35\n",
    "\n",
    "# Calculate the quotient when 3^35 is divided by 'x'\n",
    "quotient = result // x\n",
    "\n",
    "# Print the quotient\n",
    "print(f\"The quotient when 3^35 is divided by {x} is: {quotient}\")"
   ]
  },
  {
   "cell_type": "markdown",
   "id": "e65eb6fc",
   "metadata": {},
   "source": [
    "# Question\n",
    "\n",
    "What will a & b return if a = 10 and b = 5?"
   ]
  },
  {
   "cell_type": "code",
   "execution_count": 25,
   "id": "73550ca4",
   "metadata": {},
   "outputs": [
    {
     "data": {
      "text/plain": [
       "0"
      ]
     },
     "execution_count": 25,
     "metadata": {},
     "output_type": "execute_result"
    }
   ],
   "source": [
    "a = 10\n",
    "b = 5\n",
    "\n",
    "a & b"
   ]
  },
  {
   "cell_type": "markdown",
   "id": "e8d67572",
   "metadata": {},
   "source": [
    "**Explanation:** In Python, the `&` operator is the bitwise AND operator. When you use `a & b`, it performs a bitwise AND operation between the binary representations of the integers `a` and `b`. Here's how it works in your case:"
   ]
  },
  {
   "cell_type": "markdown",
   "id": "333387ac",
   "metadata": {},
   "source": [
    "1. Convert `a` and `b` to binary:\n",
    "   - `a` in binary: `1010`\n",
    "   - `b` in binary: `0101`\n",
    "\n",
    "2. Perform the bitwise AND operation:\n",
    "\n",
    "   - `0000`\n",
    "\n",
    "3. Convert the result back to decimal:\n",
    "   - `0000` in binary is `0` in decimal.\n",
    "\n",
    "So, the result of `a & b` in Python will be `0`."
   ]
  },
  {
   "cell_type": "markdown",
   "id": "2561d9bb",
   "metadata": {},
   "source": [
    "# Question\n",
    "\n",
    "What will a & b return if a = 100 and b = 100?"
   ]
  },
  {
   "cell_type": "code",
   "execution_count": 27,
   "id": "7629b0f4",
   "metadata": {},
   "outputs": [
    {
     "data": {
      "text/plain": [
       "100"
      ]
     },
     "execution_count": 27,
     "metadata": {},
     "output_type": "execute_result"
    }
   ],
   "source": [
    "a = 100\n",
    "b = 100\n",
    "\n",
    "a & b"
   ]
  },
  {
   "cell_type": "markdown",
   "id": "45ff5894",
   "metadata": {},
   "source": [
    "**Note:** In Python, the `&` operator is the bitwise AND operator. When you use `a & b`, it performs a bitwise AND operation between the binary representations of `a` and `b`. In your case, both `a` and `b` are equal to 100, which in binary is `1100100`.\n",
    "\n",
    "So, when you perform `a & b`, you get the result of the bitwise AND operation on their binary representations:\n",
    "\n",
    "```\n",
    "a = 1100100\n",
    "b = 1100100\n",
    "\n",
    "a & b = 1100100\n",
    "```\n",
    "\n",
    "The result of `a & b` is also equal to 100 in decimal notation."
   ]
  }
 ],
 "metadata": {
  "kernelspec": {
   "display_name": "Python 3 (ipykernel)",
   "language": "python",
   "name": "python3"
  },
  "language_info": {
   "codemirror_mode": {
    "name": "ipython",
    "version": 3
   },
   "file_extension": ".py",
   "mimetype": "text/x-python",
   "name": "python",
   "nbconvert_exporter": "python",
   "pygments_lexer": "ipython3",
   "version": "3.11.3"
  }
 },
 "nbformat": 4,
 "nbformat_minor": 5
}
