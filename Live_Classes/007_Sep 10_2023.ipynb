{
 "cells": [
  {
   "cell_type": "markdown",
   "id": "cb1f316d",
   "metadata": {},
   "source": [
    "# 1. Global & Local Variables\n",
    "\n",
    "In Python, variables can be categorized into two main types: global variables and local variables. These two types differ in terms of their scope, where they can be accessed, and their lifetime within a program. Here are some examples to illustrate the differences between global and local variables:\n",
    "\n",
    "### Global Variables:\n",
    "\n",
    "Global variables are defined outside of any function or class. They have a global scope, which means they can be accessed from anywhere within the program.\n",
    "\n",
    "```python\n",
    "# Global variable\n",
    "global_var = 10\n",
    "\n",
    "def print_global_var():\n",
    "    # Accessing the global variable within a function\n",
    "    print(\"Global variable:\", global_var)\n",
    "\n",
    "# Call the function\n",
    "print_global_var()\n",
    "\n",
    "# Accessing the global variable outside the function\n",
    "print(\"Outside the function:\", global_var)\n",
    "```\n",
    "\n",
    "Output:\n",
    "```\n",
    "Global variable: 10\n",
    "Outside the function: 10\n",
    "```\n",
    "\n",
    "In this example, `global_var` is a global variable, and it can be accessed both inside and outside the `print_global_var` function.\n",
    "\n",
    "### Local Variables:\n",
    "\n",
    "Local variables are defined within a function and have a local scope, which means they are only accessible within the function where they are defined.\n",
    "\n",
    "```python\n",
    "def local_variable_example():\n",
    "    # Local variable\n",
    "    local_var = 5\n",
    "    print(\"Local variable:\", local_var)\n",
    "\n",
    "# Call the function\n",
    "local_variable_example()\n",
    "\n",
    "# Trying to access the local variable outside the function will result in an error\n",
    "# Uncommenting the next line will raise a NameError\n",
    "# print(\"Outside the function:\", local_var)\n",
    "```\n",
    "\n",
    "Output:\n",
    "```\n",
    "Local variable: 5\n",
    "```\n",
    "\n",
    "In this example, `local_var` is a local variable, and it can only be accessed within the `local_variable_example` function. Attempting to access it outside the function will result in a `NameError` because it's out of scope.\n",
    "\n",
    "To summarize, global variables have a broader scope and can be accessed from anywhere in the program, while local variables are limited to the function or block where they are defined. It's important to be aware of variable scope to avoid unexpected behavior in your Python programs.\n",
    "\n",
    "# Practice"
   ]
  },
  {
   "cell_type": "code",
   "execution_count": 1,
   "id": "e795546a",
   "metadata": {},
   "outputs": [
    {
     "name": "stdout",
     "output_type": "stream",
     "text": [
      "Global variable: 10\n",
      "Outside the function: 10\n"
     ]
    }
   ],
   "source": [
    "# Global variable\n",
    "global_var = 10\n",
    "\n",
    "def print_global_var():\n",
    "    # Accessing the global variable within a function\n",
    "    print(\"Global variable:\", global_var)\n",
    "\n",
    "# Call the function\n",
    "print_global_var()\n",
    "\n",
    "# Accessing the global variable outside the function\n",
    "print(\"Outside the function:\", global_var)"
   ]
  },
  {
   "cell_type": "code",
   "execution_count": 2,
   "id": "66ede7b6",
   "metadata": {},
   "outputs": [
    {
     "name": "stdout",
     "output_type": "stream",
     "text": [
      "Local variable: 5\n"
     ]
    }
   ],
   "source": [
    "def local_variable_example():\n",
    "    # Local variable\n",
    "    local_var = 5\n",
    "    print(\"Local variable:\", local_var)\n",
    "\n",
    "# Call the function\n",
    "local_variable_example()\n",
    "\n",
    "# Trying to access the local variable outside the function will result in an error\n",
    "# Uncommenting the next line will raise a NameError\n",
    "# print(\"Outside the function:\", local_var)"
   ]
  },
  {
   "cell_type": "code",
   "execution_count": 3,
   "id": "600bca11",
   "metadata": {},
   "outputs": [
    {
     "name": "stdout",
     "output_type": "stream",
     "text": [
      "Local variable: 5\n"
     ]
    },
    {
     "ename": "NameError",
     "evalue": "name 'local_var' is not defined",
     "output_type": "error",
     "traceback": [
      "\u001b[1;31m---------------------------------------------------------------------------\u001b[0m",
      "\u001b[1;31mNameError\u001b[0m                                 Traceback (most recent call last)",
      "Cell \u001b[1;32mIn[3], line 11\u001b[0m\n\u001b[0;32m      7\u001b[0m local_variable_example()\n\u001b[0;32m      9\u001b[0m \u001b[38;5;66;03m# Trying to access the local variable outside the function will result in an error\u001b[39;00m\n\u001b[0;32m     10\u001b[0m \u001b[38;5;66;03m# Uncommenting the next line will raise a NameError\u001b[39;00m\n\u001b[1;32m---> 11\u001b[0m \u001b[38;5;28mprint\u001b[39m(\u001b[38;5;124m\"\u001b[39m\u001b[38;5;124mOutside the function:\u001b[39m\u001b[38;5;124m\"\u001b[39m, local_var)\n",
      "\u001b[1;31mNameError\u001b[0m: name 'local_var' is not defined"
     ]
    }
   ],
   "source": [
    "def local_variable_example():\n",
    "    # Local variable\n",
    "    local_var = 5\n",
    "    print(\"Local variable:\", local_var)\n",
    "\n",
    "# Call the function\n",
    "local_variable_example()\n",
    "\n",
    "# Trying to access the local variable outside the function will result in an error\n",
    "# Uncommenting the next line will raise a NameError\n",
    "print(\"Outside the function:\", local_var)"
   ]
  },
  {
   "cell_type": "markdown",
   "id": "99286321",
   "metadata": {},
   "source": [
    "# Practice"
   ]
  },
  {
   "cell_type": "code",
   "execution_count": 5,
   "id": "b6d90ec7",
   "metadata": {},
   "outputs": [
    {
     "name": "stdout",
     "output_type": "stream",
     "text": [
      "1 one\n",
      "2 two\n",
      "3 three\n"
     ]
    }
   ],
   "source": [
    "x = {1:'one',2:'two',3:'three'}\n",
    "\n",
    "for key,value in x.items():\n",
    "    print(key,value)"
   ]
  },
  {
   "cell_type": "code",
   "execution_count": 7,
   "id": "9b4ba71d",
   "metadata": {},
   "outputs": [
    {
     "name": "stdout",
     "output_type": "stream",
     "text": [
      "1st and 3d argument passed are: 99 and 77\n"
     ]
    }
   ],
   "source": [
    "def numbers(*args):\n",
    "    print(f'1st and 3d argument passed are: {args[0]} and {args[2]}')\n",
    "\n",
    "numbers(99,88,77,66,55,44,33)"
   ]
  },
  {
   "cell_type": "code",
   "execution_count": 15,
   "id": "42e54ea9",
   "metadata": {},
   "outputs": [
    {
     "name": "stdout",
     "output_type": "stream",
     "text": [
      "m and w argument passed are: 99 and 44\n"
     ]
    }
   ],
   "source": [
    "def numbers(**kwargs):\n",
    "    print(f'm and w argument passed are: {kwargs[\"m\"]} and {kwargs[\"w\"]}')\n",
    "    \n",
    "numbers(m = 99, d = 88, g = 77, n = 66, e = 55, w = 44, q = 33)"
   ]
  },
  {
   "cell_type": "code",
   "execution_count": 16,
   "id": "c8365681",
   "metadata": {},
   "outputs": [
    {
     "name": "stdout",
     "output_type": "stream",
     "text": [
      "{'a': '10', 'b': 100, 'c': True}\n"
     ]
    }
   ],
   "source": [
    "def showkeyvalue(**something):\n",
    "    print(something)\n",
    "    \n",
    "showkeyvalue(a = '10', b = 100, c = True)"
   ]
  },
  {
   "cell_type": "markdown",
   "id": "687c6f25",
   "metadata": {},
   "source": [
    "# 2. Built-In & User Defined Functions\n",
    "\n",
    "In Python, functions are blocks of reusable code that can perform specific tasks or computations. Functions can be categorized into two main types: built-in functions and user-defined functions.\n",
    "\n",
    "**Built-in Functions:**\n",
    "\n",
    "   - Built-in functions are functions that are included in the Python standard library.\n",
    "   - These functions are readily available for use without needing to define them yourself.\n",
    "   - Examples of built-in functions include `print()`, `len()`, `str()`, `int()`, `max()`, `min()`, and many more.\n",
    "   - You can use these functions directly in your code without any additional coding.\n",
    "\n",
    "Example of using a built-in function:\n",
    "\n",
    "```python\n",
    "my_list = [1, 2, 3, 4, 5]\n",
    "length = len(my_list)\n",
    "print(length)  # Output: 5\n",
    "```\n",
    "\n",
    "**User-Defined Functions:**\n",
    "\n",
    "   - User-defined functions are functions that you create yourself in your Python code.\n",
    "   - You define the behavior of these functions according to your specific requirements.\n",
    "   - You can give your functions any name, specify input parameters (if needed), and include the code that the function should execute when called.\n",
    "   - User-defined functions allow you to encapsulate logic and promote code reusability.\n",
    "\n",
    "Example of defining and using a user-defined function:\n",
    "\n",
    "```python\n",
    "def greet(name):\n",
    "    \"\"\"This function greets the person passed in as a parameter.\"\"\"\n",
    "    print(f\"Hello, {name}!\")\n",
    "\n",
    "# Calling the user-defined function\n",
    "greet(\"Alice\")  # Output: Hello, Alice!\n",
    "```\n",
    "\n",
    "Key differences between built-in and user-defined functions:\n",
    "\n",
    "- Built-in functions are part of the Python language itself, while user-defined functions are created by the programmer.\n",
    "- You can use built-in functions directly, but you need to define user-defined functions before using them.\n",
    "- User-defined functions are specific to your program's needs and can be customized to perform any desired task.\n",
    "- Built-in functions cover a wide range of general-purpose tasks and are available for common operations.\n",
    "\n",
    "In summary, built-in functions are provided by Python's standard library and cover a broad set of general-purpose operations, while user-defined functions are created by programmers to perform specific tasks or encapsulate custom logic in their Python programs. Both types of functions are essential for writing effective and organized code.\n",
    "\n",
    "# Practice"
   ]
  },
  {
   "cell_type": "code",
   "execution_count": 18,
   "id": "8c0082e6",
   "metadata": {},
   "outputs": [
    {
     "name": "stdout",
     "output_type": "stream",
     "text": [
      "5\n"
     ]
    }
   ],
   "source": [
    "# Built-In Function\n",
    "\n",
    "my_list = [1, 2, 3, 4, 5]\n",
    "length = len(my_list)\n",
    "print(length)  # Output: 5"
   ]
  },
  {
   "cell_type": "code",
   "execution_count": 19,
   "id": "271414bd",
   "metadata": {},
   "outputs": [
    {
     "name": "stdout",
     "output_type": "stream",
     "text": [
      "Hello, Alice!\n"
     ]
    }
   ],
   "source": [
    "# User Defined Function\n",
    "\n",
    "def greet(name):\n",
    "    \"\"\"This function greets the person passed in as a parameter.\"\"\"\n",
    "    print(f\"Hello, {name}!\")\n",
    "\n",
    "# Calling the user-defined function\n",
    "greet(\"Alice\")  # Output: Hello, Alice!"
   ]
  },
  {
   "cell_type": "markdown",
   "id": "e2e0b460",
   "metadata": {},
   "source": [
    "# 3. Lambda Functions\n",
    "\n",
    "Lambda functions in Python, also known as anonymous functions, are small, inline functions that can have any number of arguments but can only have one expression. They are often used for short, simple operations. Here are some examples of lambda functions in Python:\n",
    "\n",
    "**Basic Lambda Function:**\n",
    "\n",
    "A lambda function that takes two arguments and returns their sum:"
   ]
  },
  {
   "cell_type": "code",
   "execution_count": 21,
   "id": "5be5315e",
   "metadata": {},
   "outputs": [
    {
     "name": "stdout",
     "output_type": "stream",
     "text": [
      "8\n"
     ]
    }
   ],
   "source": [
    "add = lambda x, y: x + y\n",
    "print(add(5, 3))  # Output: 8"
   ]
  },
  {
   "cell_type": "markdown",
   "id": "29e1b005",
   "metadata": {},
   "source": [
    "**Sorting with Lambda:**\n",
    "\n",
    "Lambda functions are commonly used as key functions for sorting. Here's an example of sorting a list of tuples based on the second element of each tuple:"
   ]
  },
  {
   "cell_type": "code",
   "execution_count": 23,
   "id": "e649ae43",
   "metadata": {},
   "outputs": [
    {
     "name": "stdout",
     "output_type": "stream",
     "text": [
      "[(3, 1), (5, 3), (1, 4), (2, 8)]\n"
     ]
    }
   ],
   "source": [
    "data = [(1, 4), (3, 1), (2, 8), (5, 3)]\n",
    "sorted_data = sorted(data, key=lambda x: x[1])\n",
    "print(sorted_data)"
   ]
  },
  {
   "cell_type": "markdown",
   "id": "8099a042",
   "metadata": {},
   "source": [
    "**Filtering with Lambda:**\n",
    "\n",
    "You can use lambda functions with filter() to filter elements from a list based on a condition. Here's an example that filters even numbers from a list:"
   ]
  },
  {
   "cell_type": "code",
   "execution_count": 24,
   "id": "5fe4294b",
   "metadata": {},
   "outputs": [
    {
     "name": "stdout",
     "output_type": "stream",
     "text": [
      "[2, 4, 6, 8, 10]\n"
     ]
    }
   ],
   "source": [
    "numbers = [1, 2, 3, 4, 5, 6, 7, 8, 9, 10]\n",
    "even_numbers = list(filter(lambda x: x % 2 == 0, numbers))\n",
    "print(even_numbers)  # Output: [2, 4, 6, 8, 10]"
   ]
  },
  {
   "cell_type": "markdown",
   "id": "d0b2a289",
   "metadata": {},
   "source": [
    "**Mapping with Lambda:**\n",
    "\n",
    "Lambda functions can be used with map() to apply a function to all elements of a list. Here's an example that squares each element in a list:"
   ]
  },
  {
   "cell_type": "code",
   "execution_count": 25,
   "id": "e64d84ab",
   "metadata": {},
   "outputs": [
    {
     "name": "stdout",
     "output_type": "stream",
     "text": [
      "[1, 4, 9, 16, 25]\n"
     ]
    }
   ],
   "source": [
    "numbers = [1, 2, 3, 4, 5]\n",
    "squared_numbers = list(map(lambda x: x**2, numbers))\n",
    "print(squared_numbers)  # Output: [1, 4, 9, 16, 25]"
   ]
  },
  {
   "cell_type": "markdown",
   "id": "7ab1c865",
   "metadata": {},
   "source": [
    "**Using Lambda with reduce():**\n",
    "\n",
    "You can use a lambda function with the reduce() function from the functools module to perform a cumulative operation on a list. Here's an example that calculates the product of all elements in a list:"
   ]
  },
  {
   "cell_type": "code",
   "execution_count": 27,
   "id": "5abc8a58",
   "metadata": {},
   "outputs": [
    {
     "name": "stdout",
     "output_type": "stream",
     "text": [
      "120\n"
     ]
    }
   ],
   "source": [
    "from functools import reduce\n",
    "numbers = [1, 2, 3, 4, 5]\n",
    "product = reduce(lambda x, y: x * y, numbers)\n",
    "print(product)  # Output: 120"
   ]
  },
  {
   "cell_type": "markdown",
   "id": "ee229dae",
   "metadata": {},
   "source": [
    "**Lambda Functions in List Comprehensions:**\n",
    "\n",
    "Lambda functions can also be used within list comprehensions. Here's an example that squares all even numbers in a list using a list comprehension:"
   ]
  },
  {
   "cell_type": "code",
   "execution_count": 28,
   "id": "2615e50b",
   "metadata": {},
   "outputs": [
    {
     "name": "stdout",
     "output_type": "stream",
     "text": [
      "[4, 16, 36]\n"
     ]
    }
   ],
   "source": [
    "numbers = [1, 2, 3, 4, 5, 6]\n",
    "squared_evens = [x**2 for x in numbers if x % 2 == 0]\n",
    "print(squared_evens)  # Output: [4, 16, 36]"
   ]
  },
  {
   "cell_type": "markdown",
   "id": "ea746bff",
   "metadata": {},
   "source": [
    "Lambda functions are useful for simple operations where defining a full function using def would be overkill. However, for more complex logic, it's generally better to use regular functions for readability and reusability."
   ]
  },
  {
   "cell_type": "markdown",
   "id": "cf42041d",
   "metadata": {},
   "source": [
    "# Practice"
   ]
  },
  {
   "cell_type": "code",
   "execution_count": 29,
   "id": "155c0893",
   "metadata": {},
   "outputs": [
    {
     "name": "stdout",
     "output_type": "stream",
     "text": [
      "The greatest number is: 30\n"
     ]
    }
   ],
   "source": [
    "numbers = {10, 5, 20, 15, 30}\n",
    "\n",
    "greatest_number = max(numbers, key=lambda x: x)\n",
    "\n",
    "print(\"The greatest number is:\", greatest_number)"
   ]
  },
  {
   "cell_type": "code",
   "execution_count": 31,
   "id": "8a7d47fe",
   "metadata": {},
   "outputs": [
    {
     "data": {
      "text/plain": [
       "10"
      ]
     },
     "execution_count": 31,
     "metadata": {},
     "output_type": "execute_result"
    }
   ],
   "source": [
    "greatest = lambda a,b: a if a>b else b\n",
    "\n",
    "greatest(10,1)"
   ]
  },
  {
   "cell_type": "code",
   "execution_count": 32,
   "id": "2433bce9",
   "metadata": {},
   "outputs": [
    {
     "name": "stdout",
     "output_type": "stream",
     "text": [
      "10\n"
     ]
    }
   ],
   "source": [
    "sumofthreenumbers = lambda a,b,c: print(a+b+c)\n",
    "\n",
    "sumofthreenumbers(8,1,1)"
   ]
  },
  {
   "cell_type": "code",
   "execution_count": 33,
   "id": "000d3385",
   "metadata": {},
   "outputs": [
    {
     "name": "stdout",
     "output_type": "stream",
     "text": [
      "{'name': 'Product D', 'price': 20}\n",
      "{'name': 'Product B', 'price': 30}\n",
      "{'name': 'Product A', 'price': 50}\n",
      "{'name': 'Product C', 'price': 80}\n"
     ]
    }
   ],
   "source": [
    "products = [\n",
    "    {\"name\": \"Product A\", \"price\": 50},\n",
    "    {\"name\": \"Product B\", \"price\": 30},\n",
    "    {\"name\": \"Product C\", \"price\": 80},\n",
    "    {\"name\": \"Product D\", \"price\": 20},\n",
    "]\n",
    "\n",
    "sorted_products = sorted(products, key=lambda x: x[\"price\"])\n",
    "\n",
    "for product in sorted_products:\n",
    "    print(product)"
   ]
  },
  {
   "cell_type": "markdown",
   "id": "2e1fc79d",
   "metadata": {},
   "source": [
    "# 4. Enumerate Function\n",
    "\n",
    "In Python, the `enumerate()` function is used to iterate over elements in an iterable while keeping track of their index. It returns a tuple containing the index and the value of each element. Here are some examples of how to use `enumerate()`:\n",
    "\n",
    "**1. Enumerate a list:**\n",
    "\n",
    "```python\n",
    "fruits = [\"apple\", \"banana\", \"cherry\", \"date\"]\n",
    "\n",
    "for index, fruit in enumerate(fruits):\n",
    "    print(f\"Index {index}: {fruit}\")\n",
    "```\n",
    "\n",
    "Output:\n",
    "```\n",
    "Index 0: apple\n",
    "Index 1: banana\n",
    "Index 2: cherry\n",
    "Index 3: date\n",
    "```\n",
    "\n",
    "**2. Enumerate a string:**\n",
    "\n",
    "```python\n",
    "word = \"Python\"\n",
    "\n",
    "for index, letter in enumerate(word):\n",
    "    print(f\"Index {index}: {letter}\")\n",
    "```\n",
    "\n",
    "Output:\n",
    "```\n",
    "Index 0: P\n",
    "Index 1: y\n",
    "Index 2: t\n",
    "Index 3: h\n",
    "Index 4: o\n",
    "Index 5: n\n",
    "```\n",
    "\n",
    "**3. Enumerate with a custom start value:**\n",
    "\n",
    "You can specify a custom start value for the index by passing a second argument to `enumerate()`:\n",
    "\n",
    "```python\n",
    "colors = [\"red\", \"green\", \"blue\"]\n",
    "\n",
    "for index, color in enumerate(colors, start=1):\n",
    "    print(f\"Color {index}: {color}\")\n",
    "```\n",
    "\n",
    "Output:\n",
    "```\n",
    "Color 1: red\n",
    "Color 2: green\n",
    "Color 3: blue\n",
    "```\n",
    "\n",
    "**4. Enumerate a dictionary:**\n",
    "\n",
    "When enumerating a dictionary, you can access both keys and values:\n",
    "\n",
    "```python\n",
    "student_grades = {\"Alice\": 85, \"Bob\": 92, \"Charlie\": 78}\n",
    "\n",
    "for name, grade in enumerate(student_grades.items()):\n",
    "    print(f\"{name + 1}. {grade[0]}'s grade is {grade[1]}\")\n",
    "```\n",
    "\n",
    "Output:\n",
    "```\n",
    "1. Alice's grade is 85\n",
    "2. Bob's grade is 92\n",
    "3. Charlie's grade is 78\n",
    "```\n",
    "\n",
    "These are some common examples of how to use `enumerate()` in Python to iterate over elements with their corresponding indices.\n",
    "\n",
    "# Practice"
   ]
  },
  {
   "cell_type": "code",
   "execution_count": 34,
   "id": "4525293c",
   "metadata": {},
   "outputs": [
    {
     "name": "stdout",
     "output_type": "stream",
     "text": [
      "Index 0: apple\n",
      "Index 1: banana\n",
      "Index 2: cherry\n",
      "Index 3: date\n"
     ]
    }
   ],
   "source": [
    "fruits = [\"apple\", \"banana\", \"cherry\", \"date\"]\n",
    "\n",
    "for index, fruit in enumerate(fruits):\n",
    "    print(f\"Index {index}: {fruit}\")"
   ]
  },
  {
   "cell_type": "code",
   "execution_count": 36,
   "id": "53812a14",
   "metadata": {},
   "outputs": [
    {
     "data": {
      "text/plain": [
       "[(0, 'English'), (1, 'French'), (2, 'Russian'), (3, 'German')]"
      ]
     },
     "execution_count": 36,
     "metadata": {},
     "output_type": "execute_result"
    }
   ],
   "source": [
    "languages = ['English','French','Russian','German']\n",
    "\n",
    "enumerate_prime = enumerate(languages)\n",
    "list(enumerate_prime)"
   ]
  },
  {
   "cell_type": "code",
   "execution_count": 37,
   "id": "131714d6",
   "metadata": {},
   "outputs": [
    {
     "data": {
      "text/plain": [
       "[(100, 'English'), (101, 'French'), (102, 'Russian'), (103, 'German')]"
      ]
     },
     "execution_count": 37,
     "metadata": {},
     "output_type": "execute_result"
    }
   ],
   "source": [
    "languages = ['English','French','Russian','German']\n",
    "\n",
    "enumerate_prime = enumerate(languages,100)\n",
    "list(enumerate_prime)"
   ]
  },
  {
   "cell_type": "markdown",
   "id": "4e67dec8",
   "metadata": {},
   "source": [
    "# 5. List Comprehension\n",
    "\n",
    "List comprehensions are a concise way to create lists in Python. They allow you to generate a new list by applying an expression to each item in an iterable (e.g., a list, tuple, or range) and optionally applying a condition to filter the items. Here are some examples of list comprehensions in Python:\n",
    "\n",
    "1. **Basic List Comprehension:**\n",
    "\n",
    "   ```python\n",
    "   # Create a list of squares from 0 to 9\n",
    "   squares = [x**2 for x in range(10)]\n",
    "   # Output: [0, 1, 4, 9, 16, 25, 36, 49, 64, 81]\n",
    "   ```\n",
    "\n",
    "2. **List Comprehension with Conditional Filtering:**\n",
    "\n",
    "   ```python\n",
    "   # Create a list of even numbers from 0 to 9\n",
    "   even_numbers = [x for x in range(10) if x % 2 == 0]\n",
    "   # Output: [0, 2, 4, 6, 8]\n",
    "   ```\n",
    "\n",
    "3. **List Comprehension with Conditional Expression:**\n",
    "\n",
    "   ```python\n",
    "   # Create a list of squared even numbers from 0 to 9 and \"N/A\" for odd numbers\n",
    "   squared_even_numbers = [x**2 if x % 2 == 0 else \"N/A\" for x in range(10)]\n",
    "   # Output: [0, 'N/A', 4, 'N/A', 16, 'N/A', 36, 'N/A', 64, 'N/A']\n",
    "   ```\n",
    "\n",
    "4. **Nested List Comprehension:**\n",
    "\n",
    "   ```python\n",
    "   # Create a 2D list (matrix) with zeros\n",
    "   matrix = [[0 for _ in range(3)] for _ in range(3)]\n",
    "   # Output: [[0, 0, 0], [0, 0, 0], [0, 0, 0]]\n",
    "   ```\n",
    "\n",
    "5. **List Comprehension with String Manipulation:**\n",
    "\n",
    "   ```python\n",
    "   # Create a list of uppercase characters from a string\n",
    "   text = \"Hello, World!\"\n",
    "   uppercase_chars = [char.upper() for char in text if char.isalpha()]\n",
    "   # Output: ['H', 'E', 'L', 'L', 'O', 'W', 'O', 'R', 'L', 'D']\n",
    "   ```\n",
    "\n",
    "6. **List Comprehension with Function Call:**\n",
    "\n",
    "   ```python\n",
    "   # Create a list of squares using a custom function\n",
    "   def square(x):\n",
    "       return x**2\n",
    "   numbers = [1, 2, 3, 4, 5]\n",
    "   squares = [square(x) for x in numbers]\n",
    "   # Output: [1, 4, 9, 16, 25]\n",
    "   ```\n",
    "\n",
    "These examples demonstrate the flexibility and power of list comprehensions in Python for creating and transforming lists in a concise and readable manner.\n",
    "\n",
    "# Practice"
   ]
  },
  {
   "cell_type": "code",
   "execution_count": 39,
   "id": "f75a0926",
   "metadata": {},
   "outputs": [
    {
     "data": {
      "text/plain": [
       "[0, 1, 4, 9, 16, 25, 36, 49, 64, 81]"
      ]
     },
     "execution_count": 39,
     "metadata": {},
     "output_type": "execute_result"
    }
   ],
   "source": [
    "# Create a list of squares from 0 to 9\n",
    "\n",
    "squares = [x**2 for x in range(10)]\n",
    "squares"
   ]
  },
  {
   "cell_type": "code",
   "execution_count": 41,
   "id": "d17d0ebe",
   "metadata": {},
   "outputs": [
    {
     "data": {
      "text/plain": [
       "[0, 2, 4, 6, 8]"
      ]
     },
     "execution_count": 41,
     "metadata": {},
     "output_type": "execute_result"
    }
   ],
   "source": [
    "# Create a list of even numbers from 0 to 9\n",
    "\n",
    "even_numbers = [x for x in range(10) if x % 2 == 0]\n",
    "even_numbers"
   ]
  },
  {
   "cell_type": "code",
   "execution_count": 43,
   "id": "e3e788c1",
   "metadata": {},
   "outputs": [
    {
     "data": {
      "text/plain": [
       "[1, 3, 5, 7, 9]"
      ]
     },
     "execution_count": 43,
     "metadata": {},
     "output_type": "execute_result"
    }
   ],
   "source": [
    "# Create a list of odd numbers from 0 to 9\n",
    "\n",
    "odd_numbers = [x for x in range(10) if x % 2 != 0]\n",
    "odd_numbers"
   ]
  },
  {
   "cell_type": "code",
   "execution_count": 42,
   "id": "321b00c7",
   "metadata": {},
   "outputs": [
    {
     "data": {
      "text/plain": [
       "['H', 'E', 'L', 'L', 'O', 'W', 'O', 'R', 'L', 'D']"
      ]
     },
     "execution_count": 42,
     "metadata": {},
     "output_type": "execute_result"
    }
   ],
   "source": [
    "# Create a list of uppercase characters from a string\n",
    "\n",
    "text = \"Hello, World!\"\n",
    "uppercase_chars = [char.upper() for char in text if char.isalpha()]\n",
    "uppercase_chars"
   ]
  },
  {
   "cell_type": "code",
   "execution_count": 45,
   "id": "ad24d3ee",
   "metadata": {},
   "outputs": [
    {
     "data": {
      "text/plain": [
       "[(1, 'a'),\n",
       " (1, 'b'),\n",
       " (1, 'c'),\n",
       " (2, 'a'),\n",
       " (2, 'b'),\n",
       " (2, 'c'),\n",
       " (3, 'a'),\n",
       " (3, 'b'),\n",
       " (3, 'c')]"
      ]
     },
     "execution_count": 45,
     "metadata": {},
     "output_type": "execute_result"
    }
   ],
   "source": [
    "# Sample Code without List Comprehension\n",
    "\n",
    "list1 = [1, 2, 3]\n",
    "list2 = ['a', 'b', 'c']\n",
    "combined_list = []\n",
    "\n",
    "for x in list1:\n",
    "    for y in list2:\n",
    "        combined_list.append((x, y))\n",
    "combined_list\n",
    "        \n",
    "# Result: [(1, 'a'), (1, 'b'), (1, 'c'), (2, 'a'), (2, 'b'), (2, 'c'), (3, 'a'), (3, 'b'), (3, 'c')]"
   ]
  },
  {
   "cell_type": "code",
   "execution_count": 47,
   "id": "72bf000b",
   "metadata": {},
   "outputs": [
    {
     "data": {
      "text/plain": [
       "[(1, 'a'),\n",
       " (1, 'b'),\n",
       " (1, 'c'),\n",
       " (2, 'a'),\n",
       " (2, 'b'),\n",
       " (2, 'c'),\n",
       " (3, 'a'),\n",
       " (3, 'b'),\n",
       " (3, 'c')]"
      ]
     },
     "execution_count": 47,
     "metadata": {},
     "output_type": "execute_result"
    }
   ],
   "source": [
    "# Same Code using List Comprehension\n",
    "\n",
    "list1 = [1, 2, 3]\n",
    "list2 = ['a', 'b', 'c']\n",
    "combined_list = [(x, y) for x in list1 for y in list2]\n",
    "combined_list"
   ]
  }
 ],
 "metadata": {
  "kernelspec": {
   "display_name": "Python 3 (ipykernel)",
   "language": "python",
   "name": "python3"
  },
  "language_info": {
   "codemirror_mode": {
    "name": "ipython",
    "version": 3
   },
   "file_extension": ".py",
   "mimetype": "text/x-python",
   "name": "python",
   "nbconvert_exporter": "python",
   "pygments_lexer": "ipython3",
   "version": "3.11.3"
  }
 },
 "nbformat": 4,
 "nbformat_minor": 5
}
