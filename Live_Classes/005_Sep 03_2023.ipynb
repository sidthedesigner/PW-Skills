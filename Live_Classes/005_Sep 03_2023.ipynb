{
 "cells": [
  {
   "cell_type": "markdown",
   "id": "2e30177d",
   "metadata": {},
   "source": [
    "# 1. Logical Operators\n",
    "\n",
    "In Python, \"and,\" \"or,\" and \"not\" are logical operators used to perform logical operations on boolean values. These operators are often used to make decisions in conditional statements, control flow, and filtering data.\n",
    "\n",
    "Here's how these operators work in Python:\n",
    "\n",
    "1. `and` Operator:\n",
    "   - The `and` operator returns `True` if both operands are `True`.\n",
    "   - If any of the operands is `False`, it returns `False`.\n",
    "   - Example:\n",
    "\n",
    "   ```python\n",
    "   x = True\n",
    "   y = False\n",
    "   result = x and y  # result is False\n",
    "   ```\n",
    "\n",
    "2. `or` Operator:\n",
    "   - The `or` operator returns `True` if at least one of the operands is `True`.\n",
    "   - It returns `False` only if both operands are `False`.\n",
    "   - Example:\n",
    "\n",
    "   ```python\n",
    "   x = True\n",
    "   y = False\n",
    "   result = x or y  # result is True\n",
    "   ```\n",
    "\n",
    "3. `not` Operator:\n",
    "   - The `not` operator returns the opposite of the operand's boolean value. If the operand is `True`, it returns `False`, and if the operand is `False`, it returns `True`.\n",
    "   - Example:\n",
    "\n",
    "   ```python\n",
    "   x = True\n",
    "   result = not x  # result is False\n",
    "   ```\n",
    "\n",
    "These logical operators are often used in conditional statements (e.g., if statements) to control the flow of a program based on boolean conditions. Here's an example:\n",
    "\n",
    "```python\n",
    "x = True\n",
    "y = False\n",
    "\n",
    "if x and y:\n",
    "    print(\"Both x and y are True.\")\n",
    "elif x or y:\n",
    "    print(\"At least one of x or y is True.\")\n",
    "else:\n",
    "    print(\"Neither x nor y is True.\")\n",
    "```\n",
    "\n",
    "In this example, the program prints \"At least one of x or y is True.\" because the `or` operator evaluates to `True` since `x` is `True`.\n",
    "\n",
    "# Practice"
   ]
  },
  {
   "cell_type": "code",
   "execution_count": 1,
   "id": "b9a17263",
   "metadata": {},
   "outputs": [],
   "source": [
    "a = 10\n",
    "b = 20"
   ]
  },
  {
   "cell_type": "code",
   "execution_count": 2,
   "id": "8f42846d",
   "metadata": {},
   "outputs": [
    {
     "data": {
      "text/plain": [
       "False"
      ]
     },
     "execution_count": 2,
     "metadata": {},
     "output_type": "execute_result"
    }
   ],
   "source": [
    "a>10 and b==20"
   ]
  },
  {
   "cell_type": "code",
   "execution_count": 3,
   "id": "13d1cb5e",
   "metadata": {},
   "outputs": [
    {
     "data": {
      "text/plain": [
       "False"
      ]
     },
     "execution_count": 3,
     "metadata": {},
     "output_type": "execute_result"
    }
   ],
   "source": [
    "a>10"
   ]
  },
  {
   "cell_type": "code",
   "execution_count": 4,
   "id": "c5cc057c",
   "metadata": {},
   "outputs": [
    {
     "data": {
      "text/plain": [
       "True"
      ]
     },
     "execution_count": 4,
     "metadata": {},
     "output_type": "execute_result"
    }
   ],
   "source": [
    "b==20"
   ]
  },
  {
   "cell_type": "code",
   "execution_count": 5,
   "id": "6ec14d8c",
   "metadata": {},
   "outputs": [
    {
     "data": {
      "text/plain": [
       "False"
      ]
     },
     "execution_count": 5,
     "metadata": {},
     "output_type": "execute_result"
    }
   ],
   "source": [
    "True and False"
   ]
  },
  {
   "cell_type": "code",
   "execution_count": 6,
   "id": "0c857fa9",
   "metadata": {},
   "outputs": [
    {
     "data": {
      "text/plain": [
       "True"
      ]
     },
     "execution_count": 6,
     "metadata": {},
     "output_type": "execute_result"
    }
   ],
   "source": [
    "a == 10"
   ]
  },
  {
   "cell_type": "code",
   "execution_count": 7,
   "id": "8c3e98f9",
   "metadata": {},
   "outputs": [
    {
     "data": {
      "text/plain": [
       "True"
      ]
     },
     "execution_count": 7,
     "metadata": {},
     "output_type": "execute_result"
    }
   ],
   "source": [
    "b == 20"
   ]
  },
  {
   "cell_type": "code",
   "execution_count": 8,
   "id": "c44aaa60",
   "metadata": {},
   "outputs": [
    {
     "data": {
      "text/plain": [
       "True"
      ]
     },
     "execution_count": 8,
     "metadata": {},
     "output_type": "execute_result"
    }
   ],
   "source": [
    "a==10 and b==20"
   ]
  },
  {
   "cell_type": "code",
   "execution_count": 9,
   "id": "a0b1319a",
   "metadata": {},
   "outputs": [
    {
     "data": {
      "text/plain": [
       "False"
      ]
     },
     "execution_count": 9,
     "metadata": {},
     "output_type": "execute_result"
    }
   ],
   "source": [
    "not True"
   ]
  },
  {
   "cell_type": "code",
   "execution_count": 10,
   "id": "064aea74",
   "metadata": {},
   "outputs": [
    {
     "data": {
      "text/plain": [
       "True"
      ]
     },
     "execution_count": 10,
     "metadata": {},
     "output_type": "execute_result"
    }
   ],
   "source": [
    "not False"
   ]
  },
  {
   "cell_type": "code",
   "execution_count": 11,
   "id": "7a4357c1",
   "metadata": {},
   "outputs": [
    {
     "data": {
      "text/plain": [
       "True"
      ]
     },
     "execution_count": 11,
     "metadata": {},
     "output_type": "execute_result"
    }
   ],
   "source": [
    "a == 10 and b == 20"
   ]
  },
  {
   "cell_type": "code",
   "execution_count": 12,
   "id": "13c9d53a",
   "metadata": {},
   "outputs": [
    {
     "data": {
      "text/plain": [
       "False"
      ]
     },
     "execution_count": 12,
     "metadata": {},
     "output_type": "execute_result"
    }
   ],
   "source": [
    "not(a == 10 and b == 20)"
   ]
  },
  {
   "cell_type": "code",
   "execution_count": 13,
   "id": "512890d5",
   "metadata": {},
   "outputs": [
    {
     "data": {
      "text/plain": [
       "True"
      ]
     },
     "execution_count": 13,
     "metadata": {},
     "output_type": "execute_result"
    }
   ],
   "source": [
    "a == 10"
   ]
  },
  {
   "cell_type": "code",
   "execution_count": 14,
   "id": "40d5037d",
   "metadata": {},
   "outputs": [
    {
     "data": {
      "text/plain": [
       "False"
      ]
     },
     "execution_count": 14,
     "metadata": {},
     "output_type": "execute_result"
    }
   ],
   "source": [
    "b > 20"
   ]
  },
  {
   "cell_type": "code",
   "execution_count": 16,
   "id": "16cbf36b",
   "metadata": {},
   "outputs": [
    {
     "data": {
      "text/plain": [
       "True"
      ]
     },
     "execution_count": 16,
     "metadata": {},
     "output_type": "execute_result"
    }
   ],
   "source": [
    "a == 10 or b > 20"
   ]
  },
  {
   "cell_type": "markdown",
   "id": "66117251",
   "metadata": {},
   "source": [
    "# 2. Bitwise Operators\n",
    "\n",
    "Bitwise operators in Python are used to perform operations on the individual bits (0s and 1s) of integer values. These operators work at the binary level, allowing you to manipulate and analyze the binary representation of integers. Python supports several bitwise operators, including:\n",
    "\n",
    "1. **Bitwise AND (&):** The `&` operator compares the bits of two integers and returns a new integer where each bit is set to 1 only if the corresponding bits in both operands are also 1. Otherwise, the bit is set to 0. Here's how it works:\n",
    "\n",
    "   ```\n",
    "   a = 5   # binary: 101\n",
    "   b = 3   # binary: 011\n",
    "   result = a & b  # binary result: 001, decimal result: 1\n",
    "   ```\n",
    "\n",
    "2. **Bitwise OR (|):** The `|` operator compares the bits of two integers and returns a new integer where each bit is set to 1 if either of the corresponding bits in the operands is 1. Here's an example:\n",
    "\n",
    "   ```\n",
    "   a = 5   # binary: 101\n",
    "   b = 3   # binary: 011\n",
    "   result = a | b  # binary result: 111, decimal result: 7\n",
    "   ```\n",
    "\n",
    "3. **Bitwise XOR (^):** The `^` operator compares the bits of two integers and returns a new integer where each bit is set to 1 if exactly one of the corresponding bits in the operands is 1. Here's an example:\n",
    "\n",
    "   ```\n",
    "   a = 5   # binary: 101\n",
    "   b = 3   # binary: 011\n",
    "   result = a ^ b  # binary result: 110, decimal result: 6\n",
    "   ```\n",
    "\n",
    "4. **Bitwise NOT (~):** The `~` operator is a unary operator that inverts all the bits of an integer, changing 0s to 1s and 1s to 0s. Be careful when using this operator, as it also inverts the sign bit, which can lead to unexpected results with signed integers. Here's an example:\n",
    "\n",
    "   ```\n",
    "   a = 5   # binary: 101\n",
    "   result = ~a  # binary result: -110, decimal result: -6\n",
    "   ```\n",
    "\n",
    "5. **Left Shift (<<):** The `<<` operator shifts the bits of the number to the left and fills 0 on voids right as a result. Similar effect as of multiplying the number with some power of two. Here's an example:\n",
    "\n",
    "   ```\n",
    "   a = 5   # binary: 101\n",
    "   result = a << 2  # binary result: 10100, decimal result: 20\n",
    "   ```\n",
    "\n",
    "6. **Right Shift (>>):** The `>>` operator shifts the bits of the number to the right and fills 0 on voids left( fills 1 in the case of a negative number) as a result. Similar effect as of dividing the number with some power of two.​ Here's an example:\n",
    "\n",
    "   ```\n",
    "   a = 20   # binary: 10100\n",
    "   result = a >> 2  # binary result: 101, decimal result: 5\n",
    "   ```\n",
    "\n",
    "Bitwise operators are commonly used in low-level programming, such as working with hardware or optimizing algorithms, but they can also have practical uses in various applications when you need to manipulate or extract specific bit patterns from integers.\n",
    "\n",
    "# Practice"
   ]
  },
  {
   "cell_type": "code",
   "execution_count": 36,
   "id": "1a031ba4",
   "metadata": {},
   "outputs": [
    {
     "name": "stdout",
     "output_type": "stream",
     "text": [
      "Decimal: 100, Binary: 1100100, Back to Decimal: 100\n"
     ]
    }
   ],
   "source": [
    "a = 100\n",
    "b = 66\n",
    "\n",
    "def decimal_to_binary_and_back(decimal_number):\n",
    "    binary_representation = bin(decimal_number)[2:]\n",
    "    decimal_equivalent = int(binary_representation, 2)\n",
    "    return binary_representation, decimal_equivalent\n",
    "\n",
    "decimal_number = 100\n",
    "binary, decimal = decimal_to_binary_and_back(decimal_number)\n",
    "print(f\"Decimal: {decimal_number}, Binary: {binary}, Back to Decimal: {decimal}\")"
   ]
  },
  {
   "cell_type": "code",
   "execution_count": 35,
   "id": "5caec995",
   "metadata": {},
   "outputs": [
    {
     "name": "stdout",
     "output_type": "stream",
     "text": [
      "Decimal: 66, Binary: 1000010, Back to Decimal: 66\n"
     ]
    }
   ],
   "source": [
    "def decimal_to_binary_and_back(decimal_number):\n",
    "    binary_representation = bin(decimal_number)[2:]\n",
    "    decimal_equivalent = int(binary_representation, 2)\n",
    "    return binary_representation, decimal_equivalent\n",
    "\n",
    "decimal_number = 66\n",
    "binary, decimal = decimal_to_binary_and_back(decimal_number)\n",
    "print(f\"Decimal: {decimal_number}, Binary: {binary}, Back to Decimal: {decimal}\")"
   ]
  },
  {
   "cell_type": "code",
   "execution_count": 20,
   "id": "3a009a24",
   "metadata": {},
   "outputs": [
    {
     "data": {
      "text/plain": [
       "64"
      ]
     },
     "execution_count": 20,
     "metadata": {},
     "output_type": "execute_result"
    }
   ],
   "source": [
    "# a = 1100100 (Binary)\n",
    "# b = 1000010 (Binary)\n",
    "# & = 1000000\n",
    "\n",
    "result = a & b\n",
    "result"
   ]
  },
  {
   "cell_type": "code",
   "execution_count": 22,
   "id": "5bc58ccb",
   "metadata": {},
   "outputs": [
    {
     "name": "stdout",
     "output_type": "stream",
     "text": [
      "64\n"
     ]
    }
   ],
   "source": [
    "binary_string = '1000000'  # Replace this with your binary string\n",
    "decimal_number = int(binary_string, 2)\n",
    "print(decimal_number)"
   ]
  },
  {
   "cell_type": "code",
   "execution_count": 23,
   "id": "a624003c",
   "metadata": {},
   "outputs": [
    {
     "data": {
      "text/plain": [
       "102"
      ]
     },
     "execution_count": 23,
     "metadata": {},
     "output_type": "execute_result"
    }
   ],
   "source": [
    "# a = 1100100 (Binary)\n",
    "# b = 1000010 (Binary)\n",
    "# | = 1100110\n",
    "\n",
    "result = a | b\n",
    "result"
   ]
  },
  {
   "cell_type": "code",
   "execution_count": 24,
   "id": "467d7624",
   "metadata": {},
   "outputs": [
    {
     "name": "stdout",
     "output_type": "stream",
     "text": [
      "102\n"
     ]
    }
   ],
   "source": [
    "binary_string = '1100110'  # Replace this with your binary string\n",
    "decimal_number = int(binary_string, 2)\n",
    "print(decimal_number)"
   ]
  },
  {
   "cell_type": "code",
   "execution_count": 25,
   "id": "aa73d906",
   "metadata": {},
   "outputs": [
    {
     "data": {
      "text/plain": [
       "38"
      ]
     },
     "execution_count": 25,
     "metadata": {},
     "output_type": "execute_result"
    }
   ],
   "source": [
    "# a = 1100100 (Binary)\n",
    "# b = 1000010 (Binary)\n",
    "# ^ = 0100110\n",
    "\n",
    "result = a ^ b\n",
    "result"
   ]
  },
  {
   "cell_type": "code",
   "execution_count": 26,
   "id": "c36dd8dd",
   "metadata": {},
   "outputs": [
    {
     "name": "stdout",
     "output_type": "stream",
     "text": [
      "38\n"
     ]
    }
   ],
   "source": [
    "binary_string = '0100110'  # Replace this with your binary string\n",
    "decimal_number = int(binary_string, 2)\n",
    "print(decimal_number)"
   ]
  },
  {
   "cell_type": "code",
   "execution_count": 37,
   "id": "7d9ebe07",
   "metadata": {},
   "outputs": [
    {
     "data": {
      "text/plain": [
       "10"
      ]
     },
     "execution_count": 37,
     "metadata": {},
     "output_type": "execute_result"
    }
   ],
   "source": [
    "# a    = 0000 0101 (Binary)\n",
    "# a<<1 = 0000 1010 (Binary)\n",
    "\n",
    "a = 5\n",
    "a << 1"
   ]
  },
  {
   "cell_type": "code",
   "execution_count": 38,
   "id": "a155378f",
   "metadata": {},
   "outputs": [
    {
     "name": "stdout",
     "output_type": "stream",
     "text": [
      "10\n"
     ]
    }
   ],
   "source": [
    "binary_string = '00001010'  # Replace this with your binary string\n",
    "decimal_number = int(binary_string, 2)\n",
    "print(decimal_number)"
   ]
  },
  {
   "cell_type": "code",
   "execution_count": 39,
   "id": "7526bc55",
   "metadata": {},
   "outputs": [
    {
     "data": {
      "text/plain": [
       "20"
      ]
     },
     "execution_count": 39,
     "metadata": {},
     "output_type": "execute_result"
    }
   ],
   "source": [
    "# a    = 0000 0101 (Binary)\n",
    "# a<<2 = 0001 0100 (Binary)\n",
    "\n",
    "a = 5\n",
    "a << 2"
   ]
  },
  {
   "cell_type": "code",
   "execution_count": 41,
   "id": "04ea7f93",
   "metadata": {},
   "outputs": [
    {
     "name": "stdout",
     "output_type": "stream",
     "text": [
      "20\n"
     ]
    }
   ],
   "source": [
    "binary_string = '00010100'  # Replace this with your binary string\n",
    "decimal_number = int(binary_string, 2)\n",
    "print(decimal_number)"
   ]
  },
  {
   "cell_type": "code",
   "execution_count": 42,
   "id": "4fc1cfa8",
   "metadata": {},
   "outputs": [
    {
     "data": {
      "text/plain": [
       "2"
      ]
     },
     "execution_count": 42,
     "metadata": {},
     "output_type": "execute_result"
    }
   ],
   "source": [
    "# a    = 0000 0101 (Binary)\n",
    "# a>>1 = 0000 0010 (Binary)\n",
    "\n",
    "a = 5\n",
    "a >> 1"
   ]
  },
  {
   "cell_type": "code",
   "execution_count": 43,
   "id": "57213c24",
   "metadata": {},
   "outputs": [
    {
     "name": "stdout",
     "output_type": "stream",
     "text": [
      "2\n"
     ]
    }
   ],
   "source": [
    "binary_string = '00000010'  # Replace this with your binary string\n",
    "decimal_number = int(binary_string, 2)\n",
    "print(decimal_number)"
   ]
  },
  {
   "cell_type": "code",
   "execution_count": 44,
   "id": "8cfc7953",
   "metadata": {},
   "outputs": [
    {
     "data": {
      "text/plain": [
       "1"
      ]
     },
     "execution_count": 44,
     "metadata": {},
     "output_type": "execute_result"
    }
   ],
   "source": [
    "# a    = 0000 0101 (Binary)\n",
    "# a>>2 = 0000 0001 (Binary)\n",
    "\n",
    "a = 5\n",
    "a >> 2"
   ]
  },
  {
   "cell_type": "code",
   "execution_count": 45,
   "id": "2ace55d0",
   "metadata": {},
   "outputs": [
    {
     "name": "stdout",
     "output_type": "stream",
     "text": [
      "1\n"
     ]
    }
   ],
   "source": [
    "binary_string = '00000001'  # Replace this with your binary string\n",
    "decimal_number = int(binary_string, 2)\n",
    "print(decimal_number)"
   ]
  },
  {
   "cell_type": "markdown",
   "id": "33203967",
   "metadata": {},
   "source": [
    "# 3. If, Else & Elif Statements\n",
    "\n",
    "In Python, `if`, `else`, and `elif` are control flow statements used to make decisions in your code. They are part of conditional statements and allow you to execute different blocks of code based on certain conditions.\n",
    "\n",
    "1. **`if` statement:**\n",
    "   The `if` statement is used to test a condition. If the condition is True, the code block indented under the `if` statement is executed. If the condition is False, the code block is skipped. Here's the basic syntax:\n",
    "\n",
    "   ```python\n",
    "   if condition:\n",
    "       # Code to execute if the condition is True\n",
    "   ```\n",
    "\n",
    "   Example:\n",
    "   ```python\n",
    "   x = 5\n",
    "   if x > 3:\n",
    "       print(\"x is greater than 3\")\n",
    "   ```\n",
    "\n",
    "2. **`else` statement:**\n",
    "   The `else` statement is used in conjunction with an `if` statement to provide an alternative code block to execute when the `if` condition is False. Here's the syntax:\n",
    "\n",
    "   ```python\n",
    "   if condition:\n",
    "       # Code to execute if the condition is True\n",
    "   else:\n",
    "       # Code to execute if the condition is False\n",
    "   ```\n",
    "\n",
    "   Example:\n",
    "   ```python\n",
    "   x = 2\n",
    "   if x > 3:\n",
    "       print(\"x is greater than 3\")\n",
    "   else:\n",
    "       print(\"x is not greater than 3\")\n",
    "   ```\n",
    "\n",
    "3. **`elif` statement:**\n",
    "   The `elif` (short for \"else if\") statement is used to test multiple conditions in a sequence. It allows you to check for different conditions one by one until a True condition is found, and the associated code block is executed. You can have multiple `elif` statements following an initial `if` statement. Here's the syntax:\n",
    "\n",
    "   ```python\n",
    "   if condition1:\n",
    "       # Code to execute if condition1 is True\n",
    "   elif condition2:\n",
    "       # Code to execute if condition2 is True\n",
    "   elif condition3:\n",
    "       # Code to execute if condition3 is True\n",
    "   # ...\n",
    "   else:\n",
    "       # Code to execute if none of the above conditions are True\n",
    "   ```\n",
    "\n",
    "   Example:\n",
    "   ```python\n",
    "   x = 7\n",
    "   if x < 5:\n",
    "       print(\"x is less than 5\")\n",
    "   elif x < 10:\n",
    "       print(\"x is between 5 and 10\")\n",
    "   else:\n",
    "       print(\"x is greater than or equal to 10\")\n",
    "   ```\n",
    "\n",
    "In the `if`, `else`, and `elif` statements, the conditions are evaluated from top to bottom, and as soon as one of the conditions is True, the corresponding code block is executed, and the rest of the statements are skipped. If none of the conditions are True and there is an `else` block, it will execute. These statements are fundamental for creating decision-making logic in Python program.\n",
    "\n",
    "# Practice"
   ]
  },
  {
   "cell_type": "code",
   "execution_count": 46,
   "id": "60e116c3",
   "metadata": {},
   "outputs": [
    {
     "name": "stdout",
     "output_type": "stream",
     "text": [
      "Score is greater than 70.\n"
     ]
    }
   ],
   "source": [
    "score = 75\n",
    "\n",
    "if score>70:\n",
    "    print('Score is greater than 70.')"
   ]
  },
  {
   "cell_type": "code",
   "execution_count": 48,
   "id": "44ad73bf",
   "metadata": {},
   "outputs": [
    {
     "name": "stdout",
     "output_type": "stream",
     "text": [
      "Score is not greater than 70.\n"
     ]
    }
   ],
   "source": [
    "score = 75\n",
    "\n",
    "if score>76:\n",
    "    print('Score is greater than 70.')\n",
    "else:\n",
    "    print('Score is not greater than 70.')"
   ]
  },
  {
   "cell_type": "code",
   "execution_count": 49,
   "id": "58480ccc",
   "metadata": {},
   "outputs": [
    {
     "name": "stdout",
     "output_type": "stream",
     "text": [
      "Score is lesser than 75.\n"
     ]
    }
   ],
   "source": [
    "score = 75\n",
    "\n",
    "if score>80:\n",
    "    print('Score is greater than 80.')\n",
    "elif score>75:\n",
    "    print('Score is greater than 75.')\n",
    "else:\n",
    "    print('Score is lesser than 75.')"
   ]
  },
  {
   "cell_type": "code",
   "execution_count": 50,
   "id": "1cf61efa",
   "metadata": {},
   "outputs": [
    {
     "name": "stdout",
     "output_type": "stream",
     "text": [
      "Score is greater than 75.\n"
     ]
    }
   ],
   "source": [
    "score = 76\n",
    "\n",
    "if score>80:\n",
    "    print('Score is greater than 80.')\n",
    "elif score>75:\n",
    "    print('Score is greater than 75.')\n",
    "else:\n",
    "    print('Score is lesser than 75.')"
   ]
  },
  {
   "cell_type": "code",
   "execution_count": 51,
   "id": "d3e78948",
   "metadata": {},
   "outputs": [
    {
     "name": "stdout",
     "output_type": "stream",
     "text": [
      "Score is greater than 80.\n"
     ]
    }
   ],
   "source": [
    "score = 81\n",
    "\n",
    "if score>80:\n",
    "    print('Score is greater than 80.')\n",
    "elif score>75:\n",
    "    print('Score is greater than 75.')\n",
    "else:\n",
    "    print('Score is lesser than 75.')"
   ]
  },
  {
   "cell_type": "markdown",
   "id": "bb01fa94",
   "metadata": {},
   "source": [
    "# Question"
   ]
  },
  {
   "cell_type": "code",
   "execution_count": 55,
   "id": "cabd03e9",
   "metadata": {},
   "outputs": [
    {
     "name": "stdout",
     "output_type": "stream",
     "text": [
      "Invalid\n"
     ]
    }
   ],
   "source": [
    "t = -1\n",
    "\n",
    "if t<0:\n",
    "    print('Invalid')\n",
    "elif 0<=t<=5:\n",
    "    print('Night')\n",
    "elif 6<=t<=11:\n",
    "    print('Morning')\n",
    "elif 12<=t<=17:\n",
    "    print('Afternoon')\n",
    "elif 18<=t<=23:\n",
    "    print('Evening')\n",
    "else:\n",
    "    print('Invalid')"
   ]
  },
  {
   "cell_type": "code",
   "execution_count": 56,
   "id": "ee49b0d4",
   "metadata": {},
   "outputs": [
    {
     "name": "stdout",
     "output_type": "stream",
     "text": [
      "Night\n"
     ]
    }
   ],
   "source": [
    "t = 2\n",
    "\n",
    "if t<0:\n",
    "    print('Invalid')\n",
    "elif 0<=t<=5:\n",
    "    print('Night')\n",
    "elif 6<=t<=11:\n",
    "    print('Morning')\n",
    "elif 12<=t<=17:\n",
    "    print('Afternoon')\n",
    "elif 18<=t<=23:\n",
    "    print('Evening')\n",
    "else:\n",
    "    print('Invalid')"
   ]
  },
  {
   "cell_type": "code",
   "execution_count": 57,
   "id": "7949932b",
   "metadata": {},
   "outputs": [
    {
     "name": "stdout",
     "output_type": "stream",
     "text": [
      "Morning\n"
     ]
    }
   ],
   "source": [
    "t = 10\n",
    "\n",
    "if t<0:\n",
    "    print('Invalid')\n",
    "elif 0<=t<=5:\n",
    "    print('Night')\n",
    "elif 6<=t<=11:\n",
    "    print('Morning')\n",
    "elif 12<=t<=17:\n",
    "    print('Afternoon')\n",
    "elif 18<=t<=23:\n",
    "    print('Evening')\n",
    "else:\n",
    "    print('Invalid')"
   ]
  },
  {
   "cell_type": "code",
   "execution_count": 58,
   "id": "67cfcd3f",
   "metadata": {},
   "outputs": [
    {
     "name": "stdout",
     "output_type": "stream",
     "text": [
      "Afternoon\n"
     ]
    }
   ],
   "source": [
    "t = 14\n",
    "\n",
    "if t<0:\n",
    "    print('Invalid')\n",
    "elif 0<=t<=5:\n",
    "    print('Night')\n",
    "elif 6<=t<=11:\n",
    "    print('Morning')\n",
    "elif 12<=t<=17:\n",
    "    print('Afternoon')\n",
    "elif 18<=t<=23:\n",
    "    print('Evening')\n",
    "else:\n",
    "    print('Invalid')"
   ]
  },
  {
   "cell_type": "code",
   "execution_count": 59,
   "id": "3be5eec3",
   "metadata": {},
   "outputs": [
    {
     "name": "stdout",
     "output_type": "stream",
     "text": [
      "Evening\n"
     ]
    }
   ],
   "source": [
    "t = 20\n",
    "\n",
    "if t<0:\n",
    "    print('Invalid')\n",
    "elif 0<=t<=5:\n",
    "    print('Night')\n",
    "elif 6<=t<=11:\n",
    "    print('Morning')\n",
    "elif 12<=t<=17:\n",
    "    print('Afternoon')\n",
    "elif 18<=t<=23:\n",
    "    print('Evening')\n",
    "else:\n",
    "    print('Invalid')"
   ]
  },
  {
   "cell_type": "code",
   "execution_count": 60,
   "id": "4dc8dca7",
   "metadata": {},
   "outputs": [
    {
     "name": "stdout",
     "output_type": "stream",
     "text": [
      "Invalid\n"
     ]
    }
   ],
   "source": [
    "t = 1000\n",
    "\n",
    "if t<0:\n",
    "    print('Invalid')\n",
    "elif 0<=t<=5:\n",
    "    print('Night')\n",
    "elif 6<=t<=11:\n",
    "    print('Morning')\n",
    "elif 12<=t<=17:\n",
    "    print('Afternoon')\n",
    "elif 18<=t<=23:\n",
    "    print('Evening')\n",
    "else:\n",
    "    print('Invalid')"
   ]
  },
  {
   "cell_type": "markdown",
   "id": "702a3b77",
   "metadata": {},
   "source": [
    "# Question\n",
    "\n",
    "Accept three positive integers as input from the user and check if they form the sides of a right triangle."
   ]
  },
  {
   "cell_type": "code",
   "execution_count": 61,
   "id": "9be34b07",
   "metadata": {},
   "outputs": [
    {
     "name": "stdout",
     "output_type": "stream",
     "text": [
      "Enter the first positive integer: 3\n",
      "Enter the second positive integer: 4\n",
      "Enter the third positive integer: 5\n",
      "The numbers form the sides of a right triangle.\n"
     ]
    }
   ],
   "source": [
    "a = int(input(\"Enter the first positive integer: \"))\n",
    "b = int(input(\"Enter the second positive integer: \"))\n",
    "c = int(input(\"Enter the third positive integer: \"))\n",
    "\n",
    "if a*a + b*b == c*c or a*a + c*c == b*b or b*b + c*c == a*a:\n",
    "    print('The numbers form the sides of a right triangle.')\n",
    "else:\n",
    "    print('The numbers do not form the sides of a right triangle.')"
   ]
  },
  {
   "cell_type": "code",
   "execution_count": 62,
   "id": "a7a1dfad",
   "metadata": {},
   "outputs": [
    {
     "name": "stdout",
     "output_type": "stream",
     "text": [
      "Enter the first positive integer: 3\n",
      "Enter the second positive integer: 4\n",
      "Enter the third positive integer: 6\n",
      "The numbers do not form the sides of a right triangle.\n"
     ]
    }
   ],
   "source": [
    "a = int(input(\"Enter the first positive integer: \"))\n",
    "b = int(input(\"Enter the second positive integer: \"))\n",
    "c = int(input(\"Enter the third positive integer: \"))\n",
    "\n",
    "if a*a + b*b == c*c or a*a + c*c == b*b or b*b + c*c == a*a:\n",
    "    print('The numbers form the sides of a right triangle.')\n",
    "else:\n",
    "    print('The numbers do not form the sides of a right triangle.')"
   ]
  },
  {
   "cell_type": "markdown",
   "id": "107ead0c",
   "metadata": {},
   "source": [
    "# Question\n",
    "\n",
    "Find largest of three numbers."
   ]
  },
  {
   "cell_type": "code",
   "execution_count": 75,
   "id": "fa524e85",
   "metadata": {},
   "outputs": [
    {
     "name": "stdout",
     "output_type": "stream",
     "text": [
      "Largest Number is: 20000\n"
     ]
    }
   ],
   "source": [
    "list,largest = [999,10,20000],-1\n",
    "\n",
    "for i in list:\n",
    "    if i>largest:\n",
    "        largest=i   \n",
    "    \n",
    "print(f\"Largest Number is: {largest}\")"
   ]
  },
  {
   "cell_type": "markdown",
   "id": "1285e73e",
   "metadata": {},
   "source": [
    "# Question\n",
    "\n",
    "Create a simple calculator."
   ]
  },
  {
   "cell_type": "code",
   "execution_count": 71,
   "id": "e05e81da",
   "metadata": {},
   "outputs": [
    {
     "name": "stdout",
     "output_type": "stream",
     "text": [
      "Enter a:100\n",
      "Enter b:10\n",
      "Enter Operation:div\n",
      "Division result is 10.0\n"
     ]
    }
   ],
   "source": [
    "a = int(input('Enter a:'))\n",
    "b = int(input('Enter b:'))\n",
    "operation = input('Enter Operation:')\n",
    "\n",
    "if operation=='add':\n",
    "    print('Sum result is {}.'.format(a+b))\n",
    "elif operation=='sub':\n",
    "    print('Differene result is {}'.format(a-b))\n",
    "elif operation=='mul':\n",
    "    print('Product resultis {}'.format(a*b))\n",
    "elif operation=='div':\n",
    "    print('Division result is {}'.format(a/b))"
   ]
  },
  {
   "cell_type": "code",
   "execution_count": 72,
   "id": "afc794c5",
   "metadata": {},
   "outputs": [
    {
     "name": "stdout",
     "output_type": "stream",
     "text": [
      "Enter a:100\n",
      "Enter b:10\n",
      "Enter Operation:sub\n",
      "Differene result is 90\n"
     ]
    }
   ],
   "source": [
    "a = int(input('Enter a:'))\n",
    "b = int(input('Enter b:'))\n",
    "operation = input('Enter Operation:')\n",
    "\n",
    "if operation=='add':\n",
    "    print('Sum result is {}.'.format(a+b))\n",
    "elif operation=='sub':\n",
    "    print('Differene result is {}'.format(a-b))\n",
    "elif operation=='mul':\n",
    "    print('Product resultis {}'.format(a*b))\n",
    "elif operation=='div':\n",
    "    print('Division result is {}'.format(a/b))"
   ]
  },
  {
   "cell_type": "code",
   "execution_count": 73,
   "id": "d00acc8c",
   "metadata": {},
   "outputs": [
    {
     "name": "stdout",
     "output_type": "stream",
     "text": [
      "Enter a:99\n",
      "Enter b:1\n",
      "Enter Operation:add\n",
      "Sum result is 100.\n"
     ]
    }
   ],
   "source": [
    "a = int(input('Enter a:'))\n",
    "b = int(input('Enter b:'))\n",
    "operation = input('Enter Operation:')\n",
    "\n",
    "if operation=='add':\n",
    "    print('Sum result is {}.'.format(a+b))\n",
    "elif operation=='sub':\n",
    "    print('Differene result is {}'.format(a-b))\n",
    "elif operation=='mul':\n",
    "    print('Product resultis {}'.format(a*b))\n",
    "elif operation=='div':\n",
    "    print('Division result is {}'.format(a/b))"
   ]
  },
  {
   "cell_type": "code",
   "execution_count": 74,
   "id": "c4c38cd1",
   "metadata": {},
   "outputs": [
    {
     "name": "stdout",
     "output_type": "stream",
     "text": [
      "Enter a:99\n",
      "Enter b:10\n",
      "Enter Operation:mul\n",
      "Product resultis 990\n"
     ]
    }
   ],
   "source": [
    "a = int(input('Enter a:'))\n",
    "b = int(input('Enter b:'))\n",
    "operation = input('Enter Operation:')\n",
    "\n",
    "if operation=='add':\n",
    "    print('Sum result is {}.'.format(a+b))\n",
    "elif operation=='sub':\n",
    "    print('Differene result is {}'.format(a-b))\n",
    "elif operation=='mul':\n",
    "    print('Product resultis {}'.format(a*b))\n",
    "elif operation=='div':\n",
    "    print('Division result is {}'.format(a/b))"
   ]
  },
  {
   "cell_type": "markdown",
   "id": "aea20d00",
   "metadata": {},
   "source": [
    "# 4. Nested If Statements\n",
    "\n",
    "Nested if statements in Python are used to create conditional structures with multiple levels of decision-making. Each level of the nested if statement is indented within the previous level. Here are some examples to illustrate how nested if statements work:"
   ]
  },
  {
   "cell_type": "code",
   "execution_count": 76,
   "id": "bb5ac0af",
   "metadata": {},
   "outputs": [
    {
     "name": "stdout",
     "output_type": "stream",
     "text": [
      "x is greater than y and positive\n"
     ]
    }
   ],
   "source": [
    "x = 10\n",
    "y = 5\n",
    "\n",
    "if x > y:\n",
    "    if x > 0:\n",
    "        print(\"x is greater than y and positive\")\n",
    "    else:\n",
    "        print(\"x is greater than y but not positive\")\n",
    "else:\n",
    "    print(\"x is not greater than y\")\n"
   ]
  },
  {
   "cell_type": "code",
   "execution_count": 77,
   "id": "eb5be0ba",
   "metadata": {},
   "outputs": [
    {
     "name": "stdout",
     "output_type": "stream",
     "text": [
      "You are eligible to apply for a credit card.\n"
     ]
    }
   ],
   "source": [
    "age = 25\n",
    "income = 45000\n",
    "\n",
    "if age >= 18:\n",
    "    if income >= 30000:\n",
    "        print(\"You are eligible to apply for a credit card.\")\n",
    "    else:\n",
    "        print(\"You need a minimum income of $30,000 to apply.\")\n",
    "else:\n",
    "    print(\"You must be at least 18 years old to apply.\")"
   ]
  },
  {
   "cell_type": "code",
   "execution_count": 78,
   "id": "cd77ef0f",
   "metadata": {},
   "outputs": [
    {
     "name": "stdout",
     "output_type": "stream",
     "text": [
      "Enter a number: 22\n",
      "The number is even and positive.\n"
     ]
    }
   ],
   "source": [
    "user_input = input(\"Enter a number: \")\n",
    "number = int(user_input)\n",
    "\n",
    "if number % 2 == 0:\n",
    "    if number > 0:\n",
    "        print(\"The number is even and positive.\")\n",
    "    else:\n",
    "        print(\"The number is even but not positive.\")\n",
    "else:\n",
    "    print(\"The number is not even.\")"
   ]
  },
  {
   "cell_type": "code",
   "execution_count": 79,
   "id": "479ea7a6",
   "metadata": {},
   "outputs": [
    {
     "name": "stdout",
     "output_type": "stream",
     "text": [
      "Enter a number: 3\n",
      "The number is not even.\n"
     ]
    }
   ],
   "source": [
    "user_input = input(\"Enter a number: \")\n",
    "number = int(user_input)\n",
    "\n",
    "if number % 2 == 0:\n",
    "    if number > 0:\n",
    "        print(\"The number is even and positive.\")\n",
    "    else:\n",
    "        print(\"The number is even but not positive.\")\n",
    "else:\n",
    "    print(\"The number is not even.\")"
   ]
  },
  {
   "cell_type": "code",
   "execution_count": 80,
   "id": "b3cc3ce2",
   "metadata": {},
   "outputs": [
    {
     "name": "stdout",
     "output_type": "stream",
     "text": [
      "Enter a number: -2\n",
      "The number is even but not positive.\n"
     ]
    }
   ],
   "source": [
    "user_input = input(\"Enter a number: \")\n",
    "number = int(user_input)\n",
    "\n",
    "if number % 2 == 0:\n",
    "    if number > 0:\n",
    "        print(\"The number is even and positive.\")\n",
    "    else:\n",
    "        print(\"The number is even but not positive.\")\n",
    "else:\n",
    "    print(\"The number is not even.\")"
   ]
  },
  {
   "cell_type": "markdown",
   "id": "72363e76",
   "metadata": {},
   "source": [
    "These examples demonstrate various scenarios where nested if statements can be useful for making complex decisions based on multiple conditions. Depending on the conditionals, different code blocks within the nested if statements will be executed."
   ]
  },
  {
   "cell_type": "markdown",
   "id": "958c13bb",
   "metadata": {},
   "source": [
    "# 5. Nested If-Elif-Else Statements\n",
    "\n",
    "Nested if-elif-else statements in Python are used when you have multiple conditions to check, and for each condition, you have further subconditions to evaluate. Here's an example:"
   ]
  },
  {
   "cell_type": "code",
   "execution_count": 81,
   "id": "daea1cdd",
   "metadata": {},
   "outputs": [
    {
     "name": "stdout",
     "output_type": "stream",
     "text": [
      "C\n"
     ]
    }
   ],
   "source": [
    "score = 75\n",
    "\n",
    "if score >= 90:\n",
    "    print(\"A\")\n",
    "elif score >= 80:\n",
    "    print(\"B\")\n",
    "    if score >= 85:\n",
    "        print(\"B+\")\n",
    "    else:\n",
    "        print(\"B-\")\n",
    "elif score >= 70:\n",
    "    print(\"C\")\n",
    "else:\n",
    "    print(\"F\")"
   ]
  },
  {
   "cell_type": "code",
   "execution_count": 82,
   "id": "9c5694ea",
   "metadata": {},
   "outputs": [
    {
     "name": "stdout",
     "output_type": "stream",
     "text": [
      "B\n",
      "B-\n"
     ]
    }
   ],
   "source": [
    "score = 83\n",
    "\n",
    "if score >= 90:\n",
    "    print(\"A\")\n",
    "elif score >= 80:\n",
    "    print(\"B\")\n",
    "    if score >= 85:\n",
    "        print(\"B+\")\n",
    "    else:\n",
    "        print(\"B-\")\n",
    "elif score >= 70:\n",
    "    print(\"C\")\n",
    "else:\n",
    "    print(\"F\")"
   ]
  },
  {
   "cell_type": "markdown",
   "id": "7fc17b97",
   "metadata": {},
   "source": [
    "In this example:\n",
    "\n",
    "- The first if statement checks if the score is greater than or equal to 90. If true, it prints \"A\" and the program terminates.\n",
    "\n",
    "- If the first condition is false, the program proceeds to the first elif statement, which checks if the score is greater than or equal to 80. If true, it prints \"B\" and then checks if the score is greater than or equal to 85. If that's true, it prints \"B+\"; otherwise, it prints \"B-\".\n",
    "\n",
    "- If neither the first if nor the first elif conditions are met, the program proceeds to the second elif statement, which checks if the score is greater than or equal to 70. If true, it prints \"C\".\n",
    "\n",
    "- If none of the conditions are met, the program falls into the else block and prints \"F\".\n",
    "\n",
    "This example demonstrates how to nest if-elif-else statements to handle different conditions and subconditions based on the value of a variable."
   ]
  },
  {
   "cell_type": "markdown",
   "id": "06e790d2",
   "metadata": {},
   "source": [
    "# 6. Range Function\n",
    "\n",
    "The `range()` function in Python is used to generate a sequence of numbers within a specified range. It is often used in loops to iterate over a specific range of values. The `range()` function can take one to three arguments:\n",
    "\n",
    "1. `range(stop)`: This form generates a sequence of numbers from 0 up to **(but not including) the specified `stop` value**.\n",
    "\n",
    "2. `range(start, stop)`: This form generates a sequence of numbers starting from `start` up to **(but not including) the `stop` value**.\n",
    "\n",
    "3. `range(start, stop, step)`: This form generates a sequence of numbers starting from `start`, up to **(but not including) the `stop` value**, incrementing by `step` at each iteration. If `step` is not provided, it defaults to 1.\n",
    "\n",
    "Here are some examples of how to use the `range()` function:\n",
    "\n",
    "```python\n",
    "# Example 1: Generating a sequence from 0 to 4\n",
    "for i in range(5):\n",
    "    print(i)\n",
    "\n",
    "# Output:\n",
    "# 0\n",
    "# 1\n",
    "# 2\n",
    "# 3\n",
    "# 4\n",
    "\n",
    "# Example 2: Generating a sequence from 2 to 6\n",
    "for i in range(2, 7):\n",
    "    print(i)\n",
    "\n",
    "# Output:\n",
    "# 2\n",
    "# 3\n",
    "# 4\n",
    "# 5\n",
    "# 6\n",
    "\n",
    "# Example 3: Generating a sequence of even numbers from 2 to 10\n",
    "for i in range(2, 11, 2):\n",
    "    print(i)\n",
    "\n",
    "# Output:\n",
    "# 2\n",
    "# 4\n",
    "# 6\n",
    "# 8\n",
    "# 10\n",
    "```\n",
    "\n",
    "In Python 2, the `range()` function returns a list, while in Python 3, it returns a special range object, which is more memory-efficient for large ranges. If you need a list, you can convert the range to a list using `list(range())`.\n",
    "\n",
    "Keep in mind that the `range()` function is exclusive on the upper bound, meaning it does not include the `stop` value in the generated sequence. If you want to include the `stop` value, you may need to add 1 to it or adjust your loop accordingly.\n",
    "\n",
    "# Practice"
   ]
  },
  {
   "cell_type": "code",
   "execution_count": 85,
   "id": "504eaa8b",
   "metadata": {},
   "outputs": [
    {
     "name": "stdout",
     "output_type": "stream",
     "text": [
      "22\n",
      "23\n",
      "24\n",
      "25\n",
      "26\n",
      "27\n",
      "28\n",
      "29\n"
     ]
    }
   ],
   "source": [
    "# range(start,stop,step)\n",
    "\n",
    "for i in range(22,30,1):\n",
    "    print(i)"
   ]
  },
  {
   "cell_type": "code",
   "execution_count": 86,
   "id": "66a0ec25",
   "metadata": {},
   "outputs": [
    {
     "name": "stdout",
     "output_type": "stream",
     "text": [
      "22\n",
      "24\n",
      "26\n",
      "28\n"
     ]
    }
   ],
   "source": [
    "# range(start,stop,step)\n",
    "\n",
    "for i in range(22,30,2):\n",
    "    print(i)"
   ]
  },
  {
   "cell_type": "code",
   "execution_count": 87,
   "id": "3108ae3f",
   "metadata": {},
   "outputs": [
    {
     "name": "stdout",
     "output_type": "stream",
     "text": [
      "22\n",
      "25\n",
      "28\n"
     ]
    }
   ],
   "source": [
    "# range(start,stop,step)\n",
    "\n",
    "for i in range(22,30,3):\n",
    "    print(i)"
   ]
  },
  {
   "cell_type": "markdown",
   "id": "e1b19208",
   "metadata": {},
   "source": [
    "# 7. For Loops\n",
    "\n",
    "Certainly! The `for` statement in Python is used for looping over a sequence (such as a list, tuple, string, or range) or any other iterable object. Here are some examples of how to use the `for` statement in Python:\n",
    "\n",
    "1. **Looping through a list:**\n",
    "\n",
    "```python\n",
    "fruits = [\"apple\", \"banana\", \"cherry\"]\n",
    "for fruit in fruits:\n",
    "    print(fruit)\n",
    "```\n",
    "\n",
    "2. **Looping through a string:**\n",
    "\n",
    "```python\n",
    "text = \"Hello, Python!\"\n",
    "for char in text:\n",
    "    print(char)\n",
    "```\n",
    "\n",
    "3. **Using `range()` to create a sequence and loop through it:**\n",
    "\n",
    "```python\n",
    "for number in range(1, 6):  # This will loop from 1 to 5 (inclusive)\n",
    "    print(number)\n",
    "```\n",
    "\n",
    "4. **Looping through a dictionary:**\n",
    "\n",
    "```python\n",
    "person = {\"name\": \"John\", \"age\": 30, \"city\": \"New York\"}\n",
    "for key, value in person.items():\n",
    "    print(key, \":\", value)\n",
    "```\n",
    "\n",
    "5. **Looping with a specified step in `range()`:**\n",
    "\n",
    "```python\n",
    "for i in range(0, 10, 2):  # This will loop through even numbers from 0 to 8\n",
    "    print(i)\n",
    "```\n",
    "\n",
    "6. **Nested `for` loops (loop within a loop):**\n",
    "\n",
    "```python\n",
    "for i in range(3):\n",
    "    for j in range(2):\n",
    "        print(f\"({i}, {j})\")\n",
    "```\n",
    "\n",
    "7. **Using the `enumerate()` function to loop with an index:**\n",
    "\n",
    "```python\n",
    "fruits = [\"apple\", \"banana\", \"cherry\"]\n",
    "for index, fruit in enumerate(fruits):\n",
    "    print(f\"Index {index}: {fruit}\")\n",
    "```\n",
    "\n",
    "These are some basic examples of how the `for` statement can be used in Python to iterate over different types of sequences and structures. You can customize it to suit your specific needs in various programming tasks.\n",
    "\n",
    "# Practice"
   ]
  },
  {
   "cell_type": "code",
   "execution_count": 91,
   "id": "2ed6a605",
   "metadata": {},
   "outputs": [
    {
     "name": "stdout",
     "output_type": "stream",
     "text": [
      "1\n",
      "3\n",
      "5\n",
      "7\n",
      "9\n",
      "11\n",
      "13\n",
      "15\n",
      "17\n",
      "19\n"
     ]
    }
   ],
   "source": [
    "for number in range(1,20,2):  # This will loop from 1 to 19 with step of 2\n",
    "    print(number)"
   ]
  },
  {
   "cell_type": "code",
   "execution_count": 92,
   "id": "bbf1a602",
   "metadata": {},
   "outputs": [
    {
     "name": "stdout",
     "output_type": "stream",
     "text": [
      "p\n",
      "w\n",
      "s\n",
      "k\n",
      "i\n",
      "l\n",
      "l\n",
      "s\n"
     ]
    }
   ],
   "source": [
    "for i in 'pwskills':\n",
    "    print(i)"
   ]
  },
  {
   "cell_type": "code",
   "execution_count": 93,
   "id": "63e58492",
   "metadata": {},
   "outputs": [
    {
     "ename": "TypeError",
     "evalue": "'int' object is not iterable",
     "output_type": "error",
     "traceback": [
      "\u001b[1;31m---------------------------------------------------------------------------\u001b[0m",
      "\u001b[1;31mTypeError\u001b[0m                                 Traceback (most recent call last)",
      "Cell \u001b[1;32mIn[93], line 1\u001b[0m\n\u001b[1;32m----> 1\u001b[0m \u001b[38;5;28;01mfor\u001b[39;00m i \u001b[38;5;129;01min\u001b[39;00m \u001b[38;5;241m2232323\u001b[39m:\n\u001b[0;32m      2\u001b[0m     \u001b[38;5;28mprint\u001b[39m(i)\n",
      "\u001b[1;31mTypeError\u001b[0m: 'int' object is not iterable"
     ]
    }
   ],
   "source": [
    "for i in 2232323:\n",
    "    print(i)"
   ]
  },
  {
   "cell_type": "code",
   "execution_count": 94,
   "id": "a1874506",
   "metadata": {},
   "outputs": [
    {
     "name": "stdout",
     "output_type": "stream",
     "text": [
      "1\n",
      "2\n",
      "3\n"
     ]
    }
   ],
   "source": [
    "for i in (1,2,3):\n",
    "    print(i)"
   ]
  },
  {
   "cell_type": "code",
   "execution_count": 95,
   "id": "cc752658",
   "metadata": {},
   "outputs": [
    {
     "name": "stdout",
     "output_type": "stream",
     "text": [
      "1\n",
      "2\n",
      "3\n"
     ]
    }
   ],
   "source": [
    "for i in [1,2,3]:\n",
    "    print(i)"
   ]
  },
  {
   "cell_type": "code",
   "execution_count": 96,
   "id": "27d41c77",
   "metadata": {},
   "outputs": [
    {
     "name": "stdout",
     "output_type": "stream",
     "text": [
      "1\n",
      "2\n",
      "3\n"
     ]
    }
   ],
   "source": [
    "for i in {1,2,3}:\n",
    "    print(i)"
   ]
  },
  {
   "cell_type": "code",
   "execution_count": 97,
   "id": "389e3740",
   "metadata": {},
   "outputs": [
    {
     "name": "stdout",
     "output_type": "stream",
     "text": [
      "1\n",
      "2\n",
      "3\n"
     ]
    }
   ],
   "source": [
    "for i in {1:'hi',2:'hello',3:'bye'}:\n",
    "    print(i)"
   ]
  },
  {
   "cell_type": "code",
   "execution_count": 99,
   "id": "e6513cf4",
   "metadata": {},
   "outputs": [
    {
     "name": "stdout",
     "output_type": "stream",
     "text": [
      "1\n",
      "2\n",
      "3\n"
     ]
    }
   ],
   "source": [
    "dict = {1:'hi',2:'hello',3:'bye'}\n",
    "for i in dict:\n",
    "    print(i)"
   ]
  },
  {
   "cell_type": "code",
   "execution_count": 100,
   "id": "81d4102a",
   "metadata": {},
   "outputs": [
    {
     "name": "stdout",
     "output_type": "stream",
     "text": [
      "hi\n",
      "hello\n",
      "bye\n"
     ]
    }
   ],
   "source": [
    "dict = {1:'hi',2:'hello',3:'bye'}\n",
    "for i in dict:\n",
    "    print(dict[i])"
   ]
  },
  {
   "cell_type": "code",
   "execution_count": 101,
   "id": "ce01d8c0",
   "metadata": {},
   "outputs": [
    {
     "name": "stdout",
     "output_type": "stream",
     "text": [
      "Key: is 1 and Value is: hi\n",
      "Key: is 2 and Value is: hello\n",
      "Key: is 3 and Value is: bye\n"
     ]
    }
   ],
   "source": [
    "dict = {1:'hi',2:'hello',3:'bye'}\n",
    "for i in dict:\n",
    "    print(f\"Key: is {i} and Value is: {dict[i]}\")"
   ]
  },
  {
   "cell_type": "code",
   "execution_count": 102,
   "id": "fe4b7964",
   "metadata": {},
   "outputs": [
    {
     "name": "stdout",
     "output_type": "stream",
     "text": [
      "1\n",
      "2\n",
      "3\n"
     ]
    }
   ],
   "source": [
    "for i in dict.keys():\n",
    "    print(i)"
   ]
  },
  {
   "cell_type": "code",
   "execution_count": 103,
   "id": "28406a62",
   "metadata": {},
   "outputs": [
    {
     "name": "stdout",
     "output_type": "stream",
     "text": [
      "hi\n",
      "hello\n",
      "bye\n"
     ]
    }
   ],
   "source": [
    "for i in dict.values():\n",
    "    print(i)"
   ]
  },
  {
   "cell_type": "code",
   "execution_count": 106,
   "id": "32b053eb",
   "metadata": {},
   "outputs": [
    {
     "name": "stdout",
     "output_type": "stream",
     "text": [
      "1 : hi\n",
      "2 : hello\n",
      "3 : bye\n"
     ]
    }
   ],
   "source": [
    "for i in dict.keys():\n",
    "    print(i,':', dict[i])"
   ]
  },
  {
   "cell_type": "markdown",
   "id": "ed7dfa2a",
   "metadata": {},
   "source": [
    "# 8. End Parameter (Print Statement)\n",
    "\n",
    "In Python, the `print()` function allows you to specify the `end` parameter, which determines what character or string is added at the end of the printed output. By default, the `end` parameter is set to `'\\n'`, which adds a newline character to the end of the printed text. However, you can change this behavior by providing your own value for the `end` parameter.\n",
    "\n",
    "Here's how you can use the `end` parameter with the `print()` function:\n",
    "\n",
    "```python\n",
    "print(\"Hello\", end=\" \")  # Using a space as the end character\n",
    "print(\"World\")\n",
    "\n",
    "# Output:\n",
    "# Hello World\n",
    "```\n",
    "\n",
    "In the example above, we set the `end` parameter to a space character `\" \"`, so the two `print()` statements are separated by a space instead of a newline.\n",
    "\n",
    "You can use any string as the value for the `end` parameter, and it will be added to the end of the printed text."
   ]
  },
  {
   "cell_type": "markdown",
   "id": "937ccae6",
   "metadata": {},
   "source": [
    "# 9. For Else Statement\n",
    "\n",
    "In Python, the `for...else` construct is used to add an `else` block to a `for` loop. It allows you to specify a block of code to execute if the `for` loop completes its iterations without encountering a `break` statement. In other words, the code in the `else` block will run if the loop exhausts its iterable without finding the condition you were searching for.\n",
    "\n",
    "Here's the basic syntax of a `for...else` loop in Python:\n",
    "\n",
    "```python\n",
    "for item in iterable:\n",
    "    # Loop body\n",
    "    if condition:\n",
    "        # Do something when the condition is met\n",
    "        break\n",
    "else:\n",
    "    # Code to execute when the loop completes without encountering a break\n",
    "```\n",
    "\n",
    "Let's break down how this works:\n",
    "\n",
    "1. The `for` loop iterates over an iterable (e.g., a list, tuple, or range).\n",
    "2. Inside the loop, you can include conditional statements (`if`) to check for a specific condition. If that condition is met, you can use the `break` statement to exit the loop early.\n",
    "3. If the loop completes all iterations without encountering a `break`, the code in the `else` block is executed.\n",
    "\n",
    "Here's an example to illustrate the use of `for...else`:\n",
    "\n",
    "```python\n",
    "numbers = [1, 2, 3, 4, 5]\n",
    "\n",
    "for num in numbers:\n",
    "    if num == 6:\n",
    "        print(\"Number 6 found!\")\n",
    "        break\n",
    "else:\n",
    "    print(\"Number 6 not found in the list.\")\n",
    "\n",
    "# Output:\n",
    "# Number 6 not found in the list.\n",
    "```\n",
    "\n",
    "In this example, the `for` loop iterates over the `numbers` list. Since the condition `num == 6` is never met, the loop completes all iterations without encountering a `break`. As a result, the code in the `else` block is executed, indicating that \"Number 6 not found in the list.\"\n",
    "\n",
    "If you had a `break` statement inside the loop that triggered when `num == 3`, for instance, the code in the `else` block would not execute because the loop would terminate prematurely when the condition is met."
   ]
  },
  {
   "cell_type": "markdown",
   "id": "066b96e1",
   "metadata": {},
   "source": [
    "# 10. Printing Patterns\n",
    "\n",
    "Printing patterns in Python is a common task for beginners to learn about loops and control structures. There are various types of patterns you can create, such as triangles, squares, or custom designs. Here, I'll show you some common examples of patterns using loops in Python.\n",
    "\n",
    "1. Printing a Right-Angled Triangle:\n",
    "```python\n",
    "n = 5  # Change this value to adjust the size of the triangle\n",
    "\n",
    "for i in range(1, n + 1):\n",
    "    print('*' * i)\n",
    "```\n",
    "\n",
    "2. Printing an Inverted Right-Angled Triangle:\n",
    "```python\n",
    "n = 5  # Change this value to adjust the size of the triangle\n",
    "\n",
    "for i in range(n, 0, -1):\n",
    "    print('*' * i)\n",
    "```\n",
    "\n",
    "3. Printing a Square:\n",
    "```python\n",
    "n = 5  # Change this value to adjust the size of the square\n",
    "\n",
    "for i in range(n):\n",
    "    print('*' * n)\n",
    "```\n",
    "\n",
    "4. Printing a Hollow Square:\n",
    "```python\n",
    "n = 5  # Change this value to adjust the size of the square\n",
    "\n",
    "for i in range(n):\n",
    "    if i == 0 or i == n - 1:\n",
    "        print('*' * n)\n",
    "    else:\n",
    "        print('*' + ' ' * (n - 2) + '*')\n",
    "```\n",
    "\n",
    "5. Printing a Diamond:\n",
    "```python\n",
    "n = 5  # Change this value to adjust the size of the diamond\n",
    "\n",
    "for i in range(1, n + 1):\n",
    "    print(' ' * (n - i) + '*' * (2 * i - 1))\n",
    "\n",
    "for i in range(n - 1, 0, -1):\n",
    "    print(' ' * (n - i) + '*' * (2 * i - 1))\n",
    "```\n",
    "\n",
    "6. Printing a Pyramid:\n",
    "```python\n",
    "n = 5  # Change this value to adjust the size of the pyramid\n",
    "\n",
    "for i in range(1, n + 1):\n",
    "    print(' ' * (n - i) + '*' * (2 * i - 1))\n",
    "```\n",
    "\n",
    "These are just a few examples of patterns you can create using loops and string manipulation in Python. You can modify the values of `n` to change the size of the patterns. Feel free to experiment and create your own patterns by combining different loop structures and characters.\n",
    "\n",
    "# Practice"
   ]
  },
  {
   "cell_type": "code",
   "execution_count": 109,
   "id": "e5c435b3",
   "metadata": {},
   "outputs": [
    {
     "name": "stdout",
     "output_type": "stream",
     "text": [
      "*\n",
      "**\n",
      "***\n",
      "****\n",
      "*****\n"
     ]
    }
   ],
   "source": [
    "n = 5  # Change this value to adjust the size of the triangle\n",
    "\n",
    "for i in range(1, n + 1):\n",
    "    print('*' * i)\n"
   ]
  },
  {
   "cell_type": "code",
   "execution_count": 108,
   "id": "d40feaf1",
   "metadata": {},
   "outputs": [
    {
     "name": "stdout",
     "output_type": "stream",
     "text": [
      "*****\n",
      "****\n",
      "***\n",
      "**\n",
      "*\n"
     ]
    }
   ],
   "source": [
    "n = 5  # Change this value to adjust the size of the triangle\n",
    "\n",
    "for i in range(n, 0, -1):\n",
    "    print('*' * i)"
   ]
  },
  {
   "cell_type": "code",
   "execution_count": 110,
   "id": "5ba67d99",
   "metadata": {},
   "outputs": [
    {
     "name": "stdout",
     "output_type": "stream",
     "text": [
      "*****\n",
      "*****\n",
      "*****\n",
      "*****\n",
      "*****\n"
     ]
    }
   ],
   "source": [
    "n = 5  # Change this value to adjust the size of the square\n",
    "\n",
    "for i in range(n):\n",
    "    print('*' * n)\n"
   ]
  },
  {
   "cell_type": "code",
   "execution_count": 111,
   "id": "75c9c79e",
   "metadata": {},
   "outputs": [
    {
     "name": "stdout",
     "output_type": "stream",
     "text": [
      "*****\n",
      "*   *\n",
      "*   *\n",
      "*   *\n",
      "*****\n"
     ]
    }
   ],
   "source": [
    "n = 5  # Change this value to adjust the size of the square\n",
    "\n",
    "for i in range(n):\n",
    "    if i == 0 or i == n - 1:\n",
    "        print('*' * n)\n",
    "    else:\n",
    "        print('*' + ' ' * (n - 2) + '*')\n"
   ]
  },
  {
   "cell_type": "code",
   "execution_count": 112,
   "id": "2cba8556",
   "metadata": {},
   "outputs": [
    {
     "name": "stdout",
     "output_type": "stream",
     "text": [
      "    *\n",
      "   ***\n",
      "  *****\n",
      " *******\n",
      "*********\n",
      " *******\n",
      "  *****\n",
      "   ***\n",
      "    *\n"
     ]
    }
   ],
   "source": [
    "n = 5  # Change this value to adjust the size of the diamond\n",
    "\n",
    "for i in range(1, n + 1):\n",
    "    print(' ' * (n - i) + '*' * (2 * i - 1))\n",
    "\n",
    "for i in range(n - 1, 0, -1):\n",
    "    print(' ' * (n - i) + '*' * (2 * i - 1))\n"
   ]
  },
  {
   "cell_type": "code",
   "execution_count": 113,
   "id": "7567661d",
   "metadata": {},
   "outputs": [
    {
     "name": "stdout",
     "output_type": "stream",
     "text": [
      "    *\n",
      "   ***\n",
      "  *****\n",
      " *******\n",
      "*********\n"
     ]
    }
   ],
   "source": [
    "n = 5  # Change this value to adjust the size of the pyramid\n",
    "\n",
    "for i in range(1, n + 1):\n",
    "    print(' ' * (n - i) + '*' * (2 * i - 1))\n"
   ]
  },
  {
   "cell_type": "code",
   "execution_count": 114,
   "id": "3f970734",
   "metadata": {},
   "outputs": [
    {
     "name": "stdout",
     "output_type": "stream",
     "text": [
      "*\n",
      "**\n",
      "***\n",
      "****\n",
      "*****\n"
     ]
    }
   ],
   "source": [
    "n = 5  # Change this value to adjust the size of the triangle\n",
    "\n",
    "i = 1\n",
    "while i <= n:\n",
    "    print('*' * i)\n",
    "    i += 1\n"
   ]
  },
  {
   "cell_type": "code",
   "execution_count": 115,
   "id": "5bbd8511",
   "metadata": {},
   "outputs": [
    {
     "name": "stdout",
     "output_type": "stream",
     "text": [
      "*\n",
      "**\n",
      "***\n",
      "****\n",
      "*****\n"
     ]
    },
    {
     "data": {
      "text/plain": [
       "[None, None, None, None, None]"
      ]
     },
     "execution_count": 115,
     "metadata": {},
     "output_type": "execute_result"
    }
   ],
   "source": [
    "n = 5  # Change this value to adjust the size of the triangle\n",
    "\n",
    "[print('*' * i) for i in range(1, n + 1)]\n"
   ]
  },
  {
   "cell_type": "code",
   "execution_count": 116,
   "id": "051c682e",
   "metadata": {},
   "outputs": [
    {
     "name": "stdout",
     "output_type": "stream",
     "text": [
      "*\n",
      "**\n",
      "***\n",
      "****\n",
      "*****\n"
     ]
    }
   ],
   "source": [
    "n = 5  # Change this value to adjust the size of the triangle\n",
    "\n",
    "for i in range(1, n + 1):\n",
    "    print('*' * i)\n"
   ]
  },
  {
   "cell_type": "markdown",
   "id": "0b9e6447",
   "metadata": {},
   "source": [
    "# 11. Nested For Loops\n",
    "\n",
    "Nested for loops in Python are used to iterate over multiple sequences or perform repetitive tasks within tasks. Here are some examples of nested for loops:"
   ]
  },
  {
   "cell_type": "code",
   "execution_count": 118,
   "id": "6ed28419",
   "metadata": {},
   "outputs": [
    {
     "name": "stdout",
     "output_type": "stream",
     "text": [
      "1 2 3 \n",
      "4 5 6 \n",
      "7 8 9 \n"
     ]
    }
   ],
   "source": [
    "matrix = [\n",
    "    [1, 2, 3],\n",
    "    [4, 5, 6],\n",
    "    [7, 8, 9]\n",
    "]\n",
    "\n",
    "for row in matrix:\n",
    "    for element in row:\n",
    "        print(element, end=' ')\n",
    "    print()  # Move to the next line after printing a row\n"
   ]
  },
  {
   "cell_type": "code",
   "execution_count": 119,
   "id": "7d09201d",
   "metadata": {},
   "outputs": [
    {
     "name": "stdout",
     "output_type": "stream",
     "text": [
      "* \n",
      "* * \n",
      "* * * \n",
      "* * * * \n",
      "* * * * * \n"
     ]
    }
   ],
   "source": [
    "for i in range(5):\n",
    "    for j in range(i + 1):\n",
    "        print(\"*\", end=' ')\n",
    "    print()  # Move to the next line after printing each row\n"
   ]
  },
  {
   "cell_type": "code",
   "execution_count": 120,
   "id": "40416943",
   "metadata": {},
   "outputs": [
    {
     "name": "stdout",
     "output_type": "stream",
     "text": [
      "1\t2\t3\t4\t5\t6\t7\t8\t9\t10\t\n",
      "2\t4\t6\t8\t10\t12\t14\t16\t18\t20\t\n",
      "3\t6\t9\t12\t15\t18\t21\t24\t27\t30\t\n",
      "4\t8\t12\t16\t20\t24\t28\t32\t36\t40\t\n",
      "5\t10\t15\t20\t25\t30\t35\t40\t45\t50\t\n",
      "6\t12\t18\t24\t30\t36\t42\t48\t54\t60\t\n",
      "7\t14\t21\t28\t35\t42\t49\t56\t63\t70\t\n",
      "8\t16\t24\t32\t40\t48\t56\t64\t72\t80\t\n",
      "9\t18\t27\t36\t45\t54\t63\t72\t81\t90\t\n",
      "10\t20\t30\t40\t50\t60\t70\t80\t90\t100\t\n"
     ]
    }
   ],
   "source": [
    "for i in range(1, 11):\n",
    "    for j in range(1, 11):\n",
    "        print(i * j, end='\\t')  # Use '\\t' for tab separation\n",
    "    print()  # Move to the next line after each row\n"
   ]
  },
  {
   "cell_type": "markdown",
   "id": "08443e83",
   "metadata": {},
   "source": [
    "# Practice"
   ]
  },
  {
   "cell_type": "code",
   "execution_count": 121,
   "id": "6044437f",
   "metadata": {},
   "outputs": [
    {
     "name": "stdout",
     "output_type": "stream",
     "text": [
      "5 found in the data.\n"
     ]
    }
   ],
   "source": [
    "# You can use nested loops to search for specific elements in a list of lists.\n",
    "\n",
    "data = [[1, 2, 3], [4, 5, 6], [7, 8, 9]]\n",
    "\n",
    "target = 5\n",
    "found = False\n",
    "\n",
    "for row in data:\n",
    "    if target in row:\n",
    "        found = True\n",
    "        break\n",
    "\n",
    "if found:\n",
    "    print(f\"{target} found in the data.\")\n",
    "else:\n",
    "    print(f\"{target} not found in the data.\")"
   ]
  },
  {
   "cell_type": "code",
   "execution_count": 130,
   "id": "b1faad49",
   "metadata": {},
   "outputs": [
    {
     "name": "stdout",
     "output_type": "stream",
     "text": [
      "*\n",
      "\n",
      "**\n",
      "\n",
      "***\n",
      "\n",
      "****\n",
      "\n",
      "*****\n",
      "\n"
     ]
    }
   ],
   "source": [
    "for i in range(5):\n",
    "    for j in range(i+1):\n",
    "        print(\"*\",end='')\n",
    "    print('\\n')"
   ]
  },
  {
   "cell_type": "code",
   "execution_count": 131,
   "id": "37763f04",
   "metadata": {},
   "outputs": [
    {
     "name": "stdout",
     "output_type": "stream",
     "text": [
      "* \n",
      "\n",
      "* * \n",
      "\n",
      "* * * \n",
      "\n",
      "* * * * \n",
      "\n",
      "* * * * * \n",
      "\n"
     ]
    }
   ],
   "source": [
    "for i in range(5):\n",
    "    for j in range(i+1):\n",
    "        print(\"*\",end=' ')\n",
    "    print('\\n')"
   ]
  },
  {
   "cell_type": "code",
   "execution_count": 132,
   "id": "91ebb45d",
   "metadata": {},
   "outputs": [
    {
     "name": "stdout",
     "output_type": "stream",
     "text": [
      "0 \n",
      "\n",
      "0 1 \n",
      "\n",
      "0 1 2 \n",
      "\n",
      "0 1 2 3 \n",
      "\n",
      "0 1 2 3 4 \n",
      "\n"
     ]
    }
   ],
   "source": [
    "for i in range(5):\n",
    "    for j in range(i+1):\n",
    "        print(j,end=' ')\n",
    "    print('\\n')"
   ]
  },
  {
   "cell_type": "code",
   "execution_count": 133,
   "id": "50cc01a9",
   "metadata": {},
   "outputs": [
    {
     "name": "stdout",
     "output_type": "stream",
     "text": [
      "@ \n",
      "\n",
      "@ @ \n",
      "\n",
      "@ @ @ \n",
      "\n",
      "@ @ @ @ \n",
      "\n",
      "@ @ @ @ @ \n",
      "\n"
     ]
    }
   ],
   "source": [
    "for i in range(5):\n",
    "    for j in range(i+1):\n",
    "        print(\"@\",end=' ')\n",
    "    print('\\n')"
   ]
  },
  {
   "cell_type": "markdown",
   "id": "8efeca55",
   "metadata": {},
   "source": [
    "# 12. While Loops\n",
    "\n",
    "In Python, a `while` loop is a control flow statement that allows you to repeatedly execute a block of code as long as a specified condition is `True`. The syntax for a `while` loop is as follows:\n",
    "\n",
    "```python\n",
    "while condition:\n",
    "    # Code to be executed while the condition is True\n",
    "```\n",
    "\n",
    "Here's how a `while` loop works:\n",
    "\n",
    "1. The condition is evaluated. If the condition is `True`, the code block inside the loop is executed.\n",
    "2. After executing the code block, the condition is checked again.\n",
    "3. If the condition is still `True`, the code block is executed again. This process continues until the condition becomes `False`.\n",
    "4. Once the condition is `False`, the `while` loop terminates, and the program continues with the code after the loop.\n",
    "\n",
    "Here's a simple example of a `while` loop that counts from 1 to 5:\n",
    "\n",
    "```python\n",
    "count = 1\n",
    "while count <= 5:\n",
    "    print(count)\n",
    "    count += 1\n",
    "```\n",
    "\n",
    "In this example:\n",
    "\n",
    "- `count` is initialized to 1.\n",
    "- The `while` loop continues as long as `count` is less than or equal to 5.\n",
    "- Inside the loop, the current value of `count` is printed, and then `count` is incremented by 1 with the `count += 1` statement.\n",
    "- The loop repeats until `count` reaches 6, at which point the condition becomes `False`, and the loop terminates.\n",
    "\n",
    "Be cautious when using `while` loops, as they can lead to infinite loops if the condition is never met or updated. Always ensure that your loop has a clear termination condition.\n",
    "\n",
    "# Practice"
   ]
  },
  {
   "cell_type": "code",
   "execution_count": 1,
   "id": "3d5542f9",
   "metadata": {},
   "outputs": [
    {
     "name": "stdout",
     "output_type": "stream",
     "text": [
      "0\n",
      "1\n",
      "2\n",
      "3\n",
      "4\n",
      "5\n",
      "6\n",
      "7\n",
      "8\n",
      "9\n"
     ]
    }
   ],
   "source": [
    "count = 0\n",
    "while count<10:\n",
    "    print(count)\n",
    "    count+=1"
   ]
  },
  {
   "cell_type": "markdown",
   "id": "826c35f0",
   "metadata": {},
   "source": [
    "# 13. Use Cases of For and While Loops\n",
    "\n",
    "Both `while` and `for` loops in Python are used for iteration, but they have different use cases and are suited for different scenarios.\n",
    "\n",
    "**1. `for` loops:**\n",
    "\n",
    "`for` loops are typically used when you know the number of iterations in advance, such as iterating over elements in a collection (e.g., a list, tuple, dictionary, or string) or when you want to perform a specific action a fixed number of times.\n",
    "\n",
    "Here's an example of a `for` loop that iterates over a list of numbers:\n",
    "\n",
    "```python\n",
    "numbers = [1, 2, 3, 4, 5]\n",
    "for num in numbers:\n",
    "    print(num)\n",
    "```\n",
    "\n",
    "In this case, the loop iterates over each element in the `numbers` list and prints it.\n",
    "\n",
    "**2. `while` loops:**\n",
    "\n",
    "`while` loops are used when you don't know in advance how many times the loop should run, and the loop continues to execute as long as a certain condition remains `True`. `while` loops are useful for situations where you want to repeat an action until a specific condition is met or until a user decides to exit the loop.\n",
    "\n",
    "Here's an example of a `while` loop that asks the user for input until they enter \"quit\":\n",
    "\n",
    "```python\n",
    "user_input = \"\"\n",
    "while user_input != \"quit\":\n",
    "    user_input = input(\"Enter something (type 'quit' to exit): \")\n",
    "    print(\"You entered:\", user_input)\n",
    "```\n",
    "\n",
    "In this case, the loop continues to ask for input until the user enters \"quit,\" at which point the condition becomes `False`, and the loop terminates.\n",
    "\n",
    "**Choosing between `for` and `while` loops:**\n",
    "\n",
    "- Use a `for` loop when you have a definite number of iterations or when you want to iterate over elements in a collection.\n",
    "- Use a `while` loop when you have an indefinite number of iterations or when you want to continue a task until a specific condition is met.\n",
    "\n",
    "It's essential to ensure that the loop you choose matches the requirements of your specific problem. Using the wrong type of loop can make your code less readable and more error-prone.\n",
    "\n",
    "# Practice"
   ]
  },
  {
   "cell_type": "code",
   "execution_count": 2,
   "id": "415487b4",
   "metadata": {},
   "outputs": [
    {
     "name": "stdout",
     "output_type": "stream",
     "text": [
      "1\n",
      "2\n",
      "3\n",
      "4\n",
      "5\n"
     ]
    }
   ],
   "source": [
    "numbers = [1, 2, 3, 4, 5]\n",
    "for num in numbers:\n",
    "    print(num)"
   ]
  },
  {
   "cell_type": "code",
   "execution_count": 3,
   "id": "7c715fb3",
   "metadata": {},
   "outputs": [
    {
     "name": "stdout",
     "output_type": "stream",
     "text": [
      "Enter something (type 'quit' to exit): sdsd\n",
      "You entered: sdsd\n",
      "Enter something (type 'quit' to exit): sfs\n",
      "You entered: sfs\n",
      "Enter something (type 'quit' to exit): fs\n",
      "You entered: fs\n",
      "Enter something (type 'quit' to exit): fsfsfs\n",
      "You entered: fsfsfs\n",
      "Enter something (type 'quit' to exit): f\n",
      "You entered: f\n",
      "Enter something (type 'quit' to exit): sf\n",
      "You entered: sf\n",
      "Enter something (type 'quit' to exit): sf\n",
      "You entered: sf\n",
      "Enter something (type 'quit' to exit): s\n",
      "You entered: s\n",
      "Enter something (type 'quit' to exit): fsf\n",
      "You entered: fsf\n",
      "Enter something (type 'quit' to exit): quit\n",
      "You entered: quit\n"
     ]
    }
   ],
   "source": [
    "user_input = \"\"\n",
    "while user_input != \"quit\":\n",
    "    user_input = input(\"Enter something (type 'quit' to exit): \")\n",
    "    print(\"You entered:\", user_input)\n"
   ]
  }
 ],
 "metadata": {
  "kernelspec": {
   "display_name": "Python 3 (ipykernel)",
   "language": "python",
   "name": "python3"
  },
  "language_info": {
   "codemirror_mode": {
    "name": "ipython",
    "version": 3
   },
   "file_extension": ".py",
   "mimetype": "text/x-python",
   "name": "python",
   "nbconvert_exporter": "python",
   "pygments_lexer": "ipython3",
   "version": "3.11.3"
  }
 },
 "nbformat": 4,
 "nbformat_minor": 5
}
