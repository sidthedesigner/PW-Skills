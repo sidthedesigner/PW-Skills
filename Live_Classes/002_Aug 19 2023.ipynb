{
 "cells": [
  {
   "cell_type": "code",
   "execution_count": 1,
   "id": "30748aa8",
   "metadata": {},
   "outputs": [
    {
     "data": {
      "text/plain": [
       "3"
      ]
     },
     "execution_count": 1,
     "metadata": {},
     "output_type": "execute_result"
    }
   ],
   "source": [
    "1+2"
   ]
  },
  {
   "cell_type": "code",
   "execution_count": 4,
   "id": "3e74a787",
   "metadata": {},
   "outputs": [
    {
     "data": {
      "text/plain": [
       "10"
      ]
     },
     "execution_count": 4,
     "metadata": {},
     "output_type": "execute_result"
    }
   ],
   "source": [
    "# Create Variable a using the Assignment Operator\n",
    "\n",
    "a = 10\n",
    "a"
   ]
  },
  {
   "cell_type": "markdown",
   "id": "49aae90d",
   "metadata": {},
   "source": [
    "**Note:** In Python, variables are used to store and manipulate data. They allow you to give a name to a value, making your code more readable and manageable. They increase reusability of code."
   ]
  },
  {
   "cell_type": "code",
   "execution_count": 5,
   "id": "e8aac0f3",
   "metadata": {},
   "outputs": [
    {
     "data": {
      "text/plain": [
       "324335235"
      ]
     },
     "execution_count": 5,
     "metadata": {},
     "output_type": "execute_result"
    }
   ],
   "source": [
    "sudh = 324335235\n",
    "sudh"
   ]
  },
  {
   "cell_type": "code",
   "execution_count": 10,
   "id": "978f7cc6",
   "metadata": {},
   "outputs": [
    {
     "name": "stdout",
     "output_type": "stream",
     "text": [
      "2185111693904 2185111693904\n"
     ]
    }
   ],
   "source": [
    "b = 10\n",
    "\n",
    "# Returning id of a and b\n",
    "\n",
    "print(id(a),id(b))"
   ]
  },
  {
   "cell_type": "code",
   "execution_count": 7,
   "id": "e182ea11",
   "metadata": {},
   "outputs": [
    {
     "data": {
      "text/plain": [
       "int"
      ]
     },
     "execution_count": 7,
     "metadata": {},
     "output_type": "execute_result"
    }
   ],
   "source": [
    "# Checking Variable Type\n",
    "\n",
    "type(a)"
   ]
  },
  {
   "cell_type": "code",
   "execution_count": 8,
   "id": "04f986b9",
   "metadata": {},
   "outputs": [
    {
     "data": {
      "text/plain": [
       "int"
      ]
     },
     "execution_count": 8,
     "metadata": {},
     "output_type": "execute_result"
    }
   ],
   "source": [
    "type(b)"
   ]
  },
  {
   "cell_type": "code",
   "execution_count": 9,
   "id": "13fa338c",
   "metadata": {},
   "outputs": [
    {
     "data": {
      "text/plain": [
       "int"
      ]
     },
     "execution_count": 9,
     "metadata": {},
     "output_type": "execute_result"
    }
   ],
   "source": [
    "type(sudh)"
   ]
  },
  {
   "cell_type": "code",
   "execution_count": 11,
   "id": "9fe4884d",
   "metadata": {},
   "outputs": [
    {
     "data": {
      "text/plain": [
       "float"
      ]
     },
     "execution_count": 11,
     "metadata": {},
     "output_type": "execute_result"
    }
   ],
   "source": [
    "# Creating Float Variable\n",
    "\n",
    "a = 10.4\n",
    "type(a)"
   ]
  },
  {
   "cell_type": "code",
   "execution_count": 12,
   "id": "1bd5135d",
   "metadata": {},
   "outputs": [
    {
     "data": {
      "text/plain": [
       "str"
      ]
     },
     "execution_count": 12,
     "metadata": {},
     "output_type": "execute_result"
    }
   ],
   "source": [
    "# Creating String Variable\n",
    "\n",
    "a = 'Siddharth'\n",
    "type(a)"
   ]
  },
  {
   "cell_type": "markdown",
   "id": "62117fb5",
   "metadata": {},
   "source": [
    "**Note:** In Python, the feature where the data type of a variable is automatically determined based on the value it is assigned is called \"dynamic typing.\" This means that you don't need to explicitly declare the data type of a variable; the Python interpreter will figure out the appropriate data type based on the context."
   ]
  },
  {
   "cell_type": "code",
   "execution_count": 13,
   "id": "eabfb9a3",
   "metadata": {},
   "outputs": [
    {
     "data": {
      "text/plain": [
       "complex"
      ]
     },
     "execution_count": 13,
     "metadata": {},
     "output_type": "execute_result"
    }
   ],
   "source": [
    "a = 1 +5j\n",
    "type(a)"
   ]
  },
  {
   "cell_type": "code",
   "execution_count": 14,
   "id": "8caa905a",
   "metadata": {},
   "outputs": [
    {
     "data": {
      "text/plain": [
       "str"
      ]
     },
     "execution_count": 14,
     "metadata": {},
     "output_type": "execute_result"
    }
   ],
   "source": [
    "s = \"pwskills\"\n",
    "type(s)"
   ]
  },
  {
   "cell_type": "code",
   "execution_count": 16,
   "id": "66f82760",
   "metadata": {},
   "outputs": [
    {
     "data": {
      "text/plain": [
       "str"
      ]
     },
     "execution_count": 16,
     "metadata": {},
     "output_type": "execute_result"
    }
   ],
   "source": [
    "s = 'pw'\n",
    "type(s)"
   ]
  },
  {
   "cell_type": "code",
   "execution_count": 17,
   "id": "cefd7d90",
   "metadata": {},
   "outputs": [
    {
     "data": {
      "text/plain": [
       "str"
      ]
     },
     "execution_count": 17,
     "metadata": {},
     "output_type": "execute_result"
    }
   ],
   "source": [
    "s = '''ssss'''\n",
    "type(s)"
   ]
  },
  {
   "cell_type": "code",
   "execution_count": 30,
   "id": "f19367f4",
   "metadata": {},
   "outputs": [
    {
     "data": {
      "text/plain": [
       "complex"
      ]
     },
     "execution_count": 30,
     "metadata": {},
     "output_type": "execute_result"
    }
   ],
   "source": [
    "# Creating Complex Variable\n",
    "\n",
    "c = 4 -4j\n",
    "type(c)"
   ]
  },
  {
   "cell_type": "code",
   "execution_count": 31,
   "id": "99979b5b",
   "metadata": {},
   "outputs": [
    {
     "data": {
      "text/plain": [
       "4.0"
      ]
     },
     "execution_count": 31,
     "metadata": {},
     "output_type": "execute_result"
    }
   ],
   "source": [
    "c.real"
   ]
  },
  {
   "cell_type": "code",
   "execution_count": 32,
   "id": "7d401874",
   "metadata": {},
   "outputs": [
    {
     "data": {
      "text/plain": [
       "float"
      ]
     },
     "execution_count": 32,
     "metadata": {},
     "output_type": "execute_result"
    }
   ],
   "source": [
    "type(c.real)"
   ]
  },
  {
   "cell_type": "code",
   "execution_count": 20,
   "id": "fb29ffcd",
   "metadata": {},
   "outputs": [
    {
     "data": {
      "text/plain": [
       "-4.0"
      ]
     },
     "execution_count": 20,
     "metadata": {},
     "output_type": "execute_result"
    }
   ],
   "source": [
    "c.imag"
   ]
  },
  {
   "cell_type": "code",
   "execution_count": 22,
   "id": "b8c0738b",
   "metadata": {},
   "outputs": [
    {
     "data": {
      "text/plain": [
       "bool"
      ]
     },
     "execution_count": 22,
     "metadata": {},
     "output_type": "execute_result"
    }
   ],
   "source": [
    "# Creating Boolean Variable\n",
    "\n",
    "b = True\n",
    "type(b)"
   ]
  },
  {
   "cell_type": "code",
   "execution_count": 24,
   "id": "72b8a852",
   "metadata": {},
   "outputs": [
    {
     "data": {
      "text/plain": [
       "bool"
      ]
     },
     "execution_count": 24,
     "metadata": {},
     "output_type": "execute_result"
    }
   ],
   "source": [
    "c = False\n",
    "type(c)"
   ]
  },
  {
   "cell_type": "code",
   "execution_count": 25,
   "id": "0525545f",
   "metadata": {},
   "outputs": [
    {
     "data": {
      "text/plain": [
       "1"
      ]
     },
     "execution_count": 25,
     "metadata": {},
     "output_type": "execute_result"
    }
   ],
   "source": [
    "# True represents 1 and False represents 0\n",
    "\n",
    "b + c"
   ]
  },
  {
   "cell_type": "code",
   "execution_count": 26,
   "id": "52c9f61c",
   "metadata": {},
   "outputs": [
    {
     "data": {
      "text/plain": [
       "1"
      ]
     },
     "execution_count": 26,
     "metadata": {},
     "output_type": "execute_result"
    }
   ],
   "source": [
    "b - c"
   ]
  },
  {
   "cell_type": "code",
   "execution_count": 27,
   "id": "7a82c363",
   "metadata": {},
   "outputs": [
    {
     "data": {
      "text/plain": [
       "0"
      ]
     },
     "execution_count": 27,
     "metadata": {},
     "output_type": "execute_result"
    }
   ],
   "source": [
    "b - b"
   ]
  },
  {
   "cell_type": "code",
   "execution_count": 28,
   "id": "88f12673",
   "metadata": {},
   "outputs": [
    {
     "data": {
      "text/plain": [
       "0"
      ]
     },
     "execution_count": 28,
     "metadata": {},
     "output_type": "execute_result"
    }
   ],
   "source": [
    "c + c"
   ]
  },
  {
   "cell_type": "code",
   "execution_count": 33,
   "id": "b5b2e4a9",
   "metadata": {},
   "outputs": [
    {
     "data": {
      "text/plain": [
       "79"
      ]
     },
     "execution_count": 33,
     "metadata": {},
     "output_type": "execute_result"
    }
   ],
   "source": [
    "# Addition Operation\n",
    "\n",
    "a1, a2 = 45, 34\n",
    "a1+a2"
   ]
  },
  {
   "cell_type": "code",
   "execution_count": 34,
   "id": "8020cfaa",
   "metadata": {},
   "outputs": [
    {
     "data": {
      "text/plain": [
       "1.3235294117647058"
      ]
     },
     "execution_count": 34,
     "metadata": {},
     "output_type": "execute_result"
    }
   ],
   "source": [
    "a1/a2"
   ]
  },
  {
   "cell_type": "code",
   "execution_count": 35,
   "id": "936e69e6",
   "metadata": {},
   "outputs": [
    {
     "data": {
      "text/plain": [
       "11"
      ]
     },
     "execution_count": 35,
     "metadata": {},
     "output_type": "execute_result"
    }
   ],
   "source": [
    "a1-a2"
   ]
  },
  {
   "cell_type": "code",
   "execution_count": 37,
   "id": "d4c15901",
   "metadata": {},
   "outputs": [
    {
     "data": {
      "text/plain": [
       "11"
      ]
     },
     "execution_count": 37,
     "metadata": {},
     "output_type": "execute_result"
    }
   ],
   "source": [
    "a1%a2"
   ]
  },
  {
   "cell_type": "markdown",
   "id": "0c52ffca",
   "metadata": {},
   "source": [
    "**Note:** A variable can have a short name (like x and y) or a more descriptive name (age, carname, total_volume). Rules for Python variables:\n",
    "\n",
    "- A variable name must start with a letter or the underscore character\n",
    "- A variable name cannot start with a number\n",
    "- A variable name can only contain alpha-numeric characters and underscores (A-z, 0-9, and _ )\n",
    "- Variable names are case-sensitive (age, Age and AGE are three different variables)\n",
    "- A variable name cannot be any of the Python keywords."
   ]
  },
  {
   "cell_type": "code",
   "execution_count": null,
   "id": "ce1556ae",
   "metadata": {},
   "outputs": [],
   "source": [
    "# Legal Variable Names\n",
    "\n",
    "myvar = \"John\"\n",
    "my_var = \"John\"\n",
    "_my_var = \"John\"\n",
    "myVar = \"John\"\n",
    "MYVAR = \"John\"\n",
    "myvar2 = \"John\""
   ]
  },
  {
   "cell_type": "code",
   "execution_count": null,
   "id": "9e1c4d47",
   "metadata": {},
   "outputs": [],
   "source": [
    "# Illegal Variable Names\n",
    "\n",
    "2myvar = \"John\"\n",
    "my-var = \"John\"\n",
    "my var = \"John\""
   ]
  },
  {
   "cell_type": "code",
   "execution_count": 40,
   "id": "20d0dc61",
   "metadata": {},
   "outputs": [
    {
     "ename": "ZeroDivisionError",
     "evalue": "division by zero",
     "output_type": "error",
     "traceback": [
      "\u001b[1;31m---------------------------------------------------------------------------\u001b[0m",
      "\u001b[1;31mZeroDivisionError\u001b[0m                         Traceback (most recent call last)",
      "\u001b[1;32m~\\AppData\\Local\\Temp\\ipykernel_14632\\4168691075.py\u001b[0m in \u001b[0;36m<module>\u001b[1;34m\u001b[0m\n\u001b[0;32m      3\u001b[0m \u001b[0ma\u001b[0m \u001b[1;33m=\u001b[0m \u001b[1;36m1\u001b[0m\u001b[1;33m\u001b[0m\u001b[1;33m\u001b[0m\u001b[0m\n\u001b[0;32m      4\u001b[0m \u001b[0mb\u001b[0m \u001b[1;33m=\u001b[0m \u001b[1;36m0\u001b[0m\u001b[1;33m\u001b[0m\u001b[1;33m\u001b[0m\u001b[0m\n\u001b[1;32m----> 5\u001b[1;33m \u001b[0ma\u001b[0m\u001b[1;33m/\u001b[0m\u001b[0mb\u001b[0m\u001b[1;33m\u001b[0m\u001b[1;33m\u001b[0m\u001b[0m\n\u001b[0m",
      "\u001b[1;31mZeroDivisionError\u001b[0m: division by zero"
     ]
    }
   ],
   "source": [
    "# Division by Zero\n",
    "\n",
    "a = 1\n",
    "b = 0\n",
    "a/b"
   ]
  },
  {
   "cell_type": "code",
   "execution_count": 41,
   "id": "96720bb8",
   "metadata": {},
   "outputs": [
    {
     "data": {
      "text/plain": [
       "'My name is Siddharth'"
      ]
     },
     "execution_count": 41,
     "metadata": {},
     "output_type": "execute_result"
    }
   ],
   "source": [
    "s1 = 'My name is Siddharth'\n",
    "s1"
   ]
  },
  {
   "cell_type": "markdown",
   "id": "8c7b1163",
   "metadata": {},
   "source": [
    "**Note:** In Python, the backslash (\\) is used as an escape character to indicate that the character following it has a special meaning. When you use a backslash followed by a specific character or sequence of characters, you create an escape sequence that represents a special character or behavior. One common use of the backslash is to create special characters within strings.\n",
    "\n",
    "Here are some commonly used escape sequences in Python:\n",
    "\n",
    "1. `\\'`: Represents a single quote character within a single-quoted string.\n",
    "2. `\\\"`: Represents a double quote character within a double-quoted string.\n",
    "3. `\\\\`: Represents a literal backslash character.\n",
    "4. `\\n`: Represents a newline character.\n",
    "5. `\\t`: Represents a tab character.\n",
    "6. `\\r`: Represents a carriage return character.\n",
    "7. `\\b`: Represents a backspace character.\n",
    "8. `\\f`: Represents a form feed character.\n",
    "9. `\\v`: Represents a vertical tab character.\n",
    "\n",
    "Here's an example of using the `\\'` escape sequence to include a single quote within a single-quoted string:\n",
    "\n",
    "```python\n",
    "single_quoted = 'She said, \\'Hello!\\''\n",
    "print(single_quoted)\n",
    "```\n",
    "\n",
    "Output:\n",
    "```\n",
    "She said, 'Hello!'\n",
    "```\n",
    "\n",
    "Alternatively, you can also use double-quoted strings to avoid the need for escaping single quotes within the string:\n",
    "\n",
    "```python\n",
    "double_quoted = \"She said, 'Hello!'\"\n",
    "print(double_quoted)\n",
    "```\n",
    "\n",
    "Output:\n",
    "```\n",
    "She said, 'Hello!'\n",
    "```\n",
    "\n",
    "Remember that using the appropriate escape sequences helps you work with special characters and create formatted output in your Python programs."
   ]
  },
  {
   "cell_type": "markdown",
   "id": "3f00027f",
   "metadata": {},
   "source": [
    "**Note:** In Python, you can use single quotes (`'`) and double quotes (`\"`) to define strings. If you need to include a single quote within a double-quoted string or a double quote within a single-quoted string, you can achieve that by using the opposite type of quotation mark inside the string. Here's how you can do it:\n",
    "\n",
    "1. Single quote within double quote:\n",
    "```python\n",
    "double_quoted_string = \"This is a string with a single quote: 'example'\"\n",
    "print(double_quoted_string)\n",
    "```\n",
    "\n",
    "2. Double quote within single quote:\n",
    "```python\n",
    "single_quoted_string = 'This is a string with a double quote: \"example\"'\n",
    "print(single_quoted_string)\n",
    "```\n",
    "\n",
    "In both examples, Python allows you to use one type of quote inside a string defined with the other type of quote without any issue. The key is to make sure you're consistent with starting and ending quotes for the string, and to use the opposite type of quote inside the string to avoid any conflicts."
   ]
  },
  {
   "cell_type": "code",
   "execution_count": 42,
   "id": "eb602706",
   "metadata": {},
   "outputs": [
    {
     "name": "stdout",
     "output_type": "stream",
     "text": [
      "This is a string with a single quote: 'example'\n"
     ]
    }
   ],
   "source": [
    "double_quoted_string = \"This is a string with a single quote: 'example'\"\n",
    "print(double_quoted_string)"
   ]
  },
  {
   "cell_type": "code",
   "execution_count": 43,
   "id": "765d9a95",
   "metadata": {},
   "outputs": [
    {
     "name": "stdout",
     "output_type": "stream",
     "text": [
      "This is a string with a double quote: \"example\"\n"
     ]
    }
   ],
   "source": [
    "single_quoted_string = 'This is a string with a double quote: \"example\"'\n",
    "print(single_quoted_string)"
   ]
  },
  {
   "cell_type": "markdown",
   "id": "3580fbe5",
   "metadata": {},
   "source": [
    "**Note:** In Python, comments are used to provide explanatory notes within your code that are not executed as part of the program. They are useful for documenting your code, explaining its logic, and making it more understandable to yourself and others who might read the code later. Python supports two types of comments: single-line comments and multi-line comments."
   ]
  },
  {
   "cell_type": "code",
   "execution_count": 45,
   "id": "f32f77dc",
   "metadata": {},
   "outputs": [
    {
     "data": {
      "text/plain": [
       "'\\nThis\\nis\\na\\nMultiline\\nComment\\n'"
      ]
     },
     "execution_count": 45,
     "metadata": {},
     "output_type": "execute_result"
    }
   ],
   "source": [
    "# Single Line Comment\n",
    "\n",
    "# Even This is a Single\n",
    "# Line Comment\n",
    "\n",
    "'''\n",
    "This\n",
    "is\n",
    "a\n",
    "Multiline\n",
    "Comment\n",
    "'''"
   ]
  },
  {
   "cell_type": "code",
   "execution_count": 46,
   "id": "7e4b6eea",
   "metadata": {},
   "outputs": [
    {
     "data": {
      "text/plain": [
       "'sidpwskills'"
      ]
     },
     "execution_count": 46,
     "metadata": {},
     "output_type": "execute_result"
    }
   ],
   "source": [
    "# Concatenation of Strings\n",
    "\n",
    "'sid' + 'pwskills'"
   ]
  },
  {
   "cell_type": "code",
   "execution_count": 47,
   "id": "27c7d607",
   "metadata": {},
   "outputs": [
    {
     "ename": "TypeError",
     "evalue": "can only concatenate str (not \"int\") to str",
     "output_type": "error",
     "traceback": [
      "\u001b[1;31m---------------------------------------------------------------------------\u001b[0m",
      "\u001b[1;31mTypeError\u001b[0m                                 Traceback (most recent call last)",
      "\u001b[1;32m~\\AppData\\Local\\Temp\\ipykernel_14632\\1050141995.py\u001b[0m in \u001b[0;36m<module>\u001b[1;34m\u001b[0m\n\u001b[0;32m      1\u001b[0m \u001b[1;31m# Concatenation of String and Integer\u001b[0m\u001b[1;33m\u001b[0m\u001b[1;33m\u001b[0m\u001b[0m\n\u001b[0;32m      2\u001b[0m \u001b[1;33m\u001b[0m\u001b[0m\n\u001b[1;32m----> 3\u001b[1;33m \u001b[1;34m'sid'\u001b[0m \u001b[1;33m+\u001b[0m \u001b[1;36m23\u001b[0m\u001b[1;33m\u001b[0m\u001b[1;33m\u001b[0m\u001b[0m\n\u001b[0m",
      "\u001b[1;31mTypeError\u001b[0m: can only concatenate str (not \"int\") to str"
     ]
    }
   ],
   "source": [
    "# Concatenation of String and Integer\n",
    "\n",
    "'sid' + 23"
   ]
  },
  {
   "cell_type": "code",
   "execution_count": 48,
   "id": "dbe7471b",
   "metadata": {},
   "outputs": [
    {
     "data": {
      "text/plain": [
       "'10'"
      ]
     },
     "execution_count": 48,
     "metadata": {},
     "output_type": "execute_result"
    }
   ],
   "source": [
    "# Type Casting\n",
    "\n",
    "a = 10\n",
    "str(a)"
   ]
  },
  {
   "cell_type": "code",
   "execution_count": 49,
   "id": "40b7b4c0",
   "metadata": {},
   "outputs": [
    {
     "data": {
      "text/plain": [
       "str"
      ]
     },
     "execution_count": 49,
     "metadata": {},
     "output_type": "execute_result"
    }
   ],
   "source": [
    "type(str(a))"
   ]
  },
  {
   "cell_type": "markdown",
   "id": "d78b1eb3",
   "metadata": {},
   "source": [
    "**Note:** Refer this article on [TypeError:'int' object is not callable in Python](https://bobbyhadz.com/blog/python-typeerror-int-object-is-not-callable#:~:text=The%20Python%20%22TypeError%3A%20'int,between%20function%20and%20variable%20names)."
   ]
  },
  {
   "cell_type": "code",
   "execution_count": 52,
   "id": "57d03b43",
   "metadata": {},
   "outputs": [
    {
     "ename": "ValueError",
     "evalue": "invalid literal for int() with base 10: 'sid'",
     "output_type": "error",
     "traceback": [
      "\u001b[1;31m---------------------------------------------------------------------------\u001b[0m",
      "\u001b[1;31mValueError\u001b[0m                                Traceback (most recent call last)",
      "\u001b[1;32m~\\AppData\\Local\\Temp\\ipykernel_14632\\3927672847.py\u001b[0m in \u001b[0;36m<module>\u001b[1;34m\u001b[0m\n\u001b[0;32m      2\u001b[0m \u001b[1;33m\u001b[0m\u001b[0m\n\u001b[0;32m      3\u001b[0m \u001b[0ms\u001b[0m \u001b[1;33m=\u001b[0m \u001b[1;34m'sid'\u001b[0m\u001b[1;33m\u001b[0m\u001b[1;33m\u001b[0m\u001b[0m\n\u001b[1;32m----> 4\u001b[1;33m \u001b[0mint\u001b[0m\u001b[1;33m(\u001b[0m\u001b[0ms\u001b[0m\u001b[1;33m)\u001b[0m\u001b[1;33m\u001b[0m\u001b[1;33m\u001b[0m\u001b[0m\n\u001b[0m",
      "\u001b[1;31mValueError\u001b[0m: invalid literal for int() with base 10: 'sid'"
     ]
    }
   ],
   "source": [
    "# Converting String to Integer\n",
    "\n",
    "s = 'sid'\n",
    "int(s)"
   ]
  },
  {
   "cell_type": "code",
   "execution_count": 55,
   "id": "7783fe35",
   "metadata": {},
   "outputs": [
    {
     "name": "stdout",
     "output_type": "stream",
     "text": [
      "Please enter your name: Siddharth\n",
      "Please enter your age: 27\n",
      "Hello, Siddharth! You are 27 years old.\n"
     ]
    }
   ],
   "source": [
    "# Taking User Input\n",
    "\n",
    "name = input(\"Please enter your name: \")\n",
    "age = input(\"Please enter your age: \")\n",
    "\n",
    "# Displaying the user input\n",
    "print(\"Hello, \" + name + \"! You are \" + age + \" years old.\")"
   ]
  },
  {
   "cell_type": "code",
   "execution_count": 56,
   "id": "5dab1f18",
   "metadata": {},
   "outputs": [
    {
     "name": "stdout",
     "output_type": "stream",
     "text": [
      "Enter Something:2\n"
     ]
    }
   ],
   "source": [
    "b = input('Enter Something:')"
   ]
  },
  {
   "cell_type": "code",
   "execution_count": 57,
   "id": "040f4881",
   "metadata": {},
   "outputs": [
    {
     "data": {
      "text/plain": [
       "str"
      ]
     },
     "execution_count": 57,
     "metadata": {},
     "output_type": "execute_result"
    }
   ],
   "source": [
    "type(b)"
   ]
  },
  {
   "cell_type": "code",
   "execution_count": 58,
   "id": "b6ad7d0c",
   "metadata": {},
   "outputs": [
    {
     "name": "stdout",
     "output_type": "stream",
     "text": [
      "Enter Number:3\n"
     ]
    }
   ],
   "source": [
    "b = input('Enter Number:')"
   ]
  },
  {
   "cell_type": "code",
   "execution_count": 61,
   "id": "ac0a52bd",
   "metadata": {},
   "outputs": [
    {
     "data": {
      "text/plain": [
       "str"
      ]
     },
     "execution_count": 61,
     "metadata": {},
     "output_type": "execute_result"
    }
   ],
   "source": [
    "type(b)"
   ]
  },
  {
   "cell_type": "markdown",
   "id": "b29a635f",
   "metadata": {},
   "source": [
    "**Note:** In Python, strings are sequences of characters, and you can access individual characters within a string using indexing. String indexing in Python is zero-based, meaning that the first character of a string is at index 0, the second character is at index 1, and so on. You can also use negative indices to count from the end of the string, where -1 represents the last character, -2 represents the second-to-last character, and so forth.\n",
    "\n",
    "Here's how you can use string indexing in Python:\n",
    "\n",
    "```python\n",
    "my_string = \"Hello, World!\"\n",
    "\n",
    "# Accessing individual characters using positive indexing\n",
    "first_character = my_string[0]  # 'H'\n",
    "second_character = my_string[1]  # 'e'\n",
    "third_character = my_string[2]   # 'l'\n",
    "\n",
    "# Accessing individual characters using negative indexing\n",
    "last_character = my_string[-1]   # '!'\n",
    "second_last_character = my_string[-2]  # 'd'\n",
    "\n",
    "print(first_character, second_character, third_character)\n",
    "print(last_character, second_last_character)\n",
    "```\n",
    "\n",
    "Keep in mind that attempting to access an index that is out of the range of the string will result in an \"IndexError\" exception. It's important to ensure that the index you use is within the valid range of the string's length."
   ]
  },
  {
   "cell_type": "code",
   "execution_count": 62,
   "id": "508b1c6c",
   "metadata": {},
   "outputs": [
    {
     "name": "stdout",
     "output_type": "stream",
     "text": [
      "H e l\n",
      "! d\n"
     ]
    }
   ],
   "source": [
    "my_string = \"Hello, World!\"\n",
    "\n",
    "# Accessing individual characters using positive indexing\n",
    "first_character = my_string[0]  # 'H'\n",
    "second_character = my_string[1]  # 'e'\n",
    "third_character = my_string[2]   # 'l'\n",
    "\n",
    "# Accessing individual characters using negative indexing\n",
    "last_character = my_string[-1]   # '!'\n",
    "second_last_character = my_string[-2]  # 'd'\n",
    "\n",
    "print(first_character, second_character, third_character)\n",
    "print(last_character, second_last_character)"
   ]
  },
  {
   "cell_type": "code",
   "execution_count": 63,
   "id": "ede3e0e9",
   "metadata": {},
   "outputs": [
    {
     "data": {
      "text/plain": [
       "'S'"
      ]
     },
     "execution_count": 63,
     "metadata": {},
     "output_type": "execute_result"
    }
   ],
   "source": [
    "s = 'Siddharth'\n",
    "s[0]"
   ]
  },
  {
   "cell_type": "code",
   "execution_count": 64,
   "id": "86262a40",
   "metadata": {},
   "outputs": [
    {
     "data": {
      "text/plain": [
       "'i'"
      ]
     },
     "execution_count": 64,
     "metadata": {},
     "output_type": "execute_result"
    }
   ],
   "source": [
    "s[1]"
   ]
  },
  {
   "cell_type": "code",
   "execution_count": 65,
   "id": "9ff1cd3e",
   "metadata": {},
   "outputs": [
    {
     "data": {
      "text/plain": [
       "'h'"
      ]
     },
     "execution_count": 65,
     "metadata": {},
     "output_type": "execute_result"
    }
   ],
   "source": [
    "s[-1]"
   ]
  },
  {
   "cell_type": "code",
   "execution_count": 66,
   "id": "f3a03081",
   "metadata": {},
   "outputs": [
    {
     "data": {
      "text/plain": [
       "'t'"
      ]
     },
     "execution_count": 66,
     "metadata": {},
     "output_type": "execute_result"
    }
   ],
   "source": [
    "s[-2]"
   ]
  },
  {
   "cell_type": "code",
   "execution_count": 67,
   "id": "91b0d57f",
   "metadata": {},
   "outputs": [
    {
     "data": {
      "text/plain": [
       "'Sid'"
      ]
     },
     "execution_count": 67,
     "metadata": {},
     "output_type": "execute_result"
    }
   ],
   "source": [
    "s[0:3]"
   ]
  },
  {
   "cell_type": "code",
   "execution_count": 68,
   "id": "35405a82",
   "metadata": {},
   "outputs": [
    {
     "ename": "IndexError",
     "evalue": "string index out of range",
     "output_type": "error",
     "traceback": [
      "\u001b[1;31m---------------------------------------------------------------------------\u001b[0m",
      "\u001b[1;31mIndexError\u001b[0m                                Traceback (most recent call last)",
      "\u001b[1;32m~\\AppData\\Local\\Temp\\ipykernel_14632\\2390001549.py\u001b[0m in \u001b[0;36m<module>\u001b[1;34m\u001b[0m\n\u001b[1;32m----> 1\u001b[1;33m \u001b[0ms\u001b[0m\u001b[1;33m[\u001b[0m\u001b[1;36m100\u001b[0m\u001b[1;33m]\u001b[0m\u001b[1;33m\u001b[0m\u001b[1;33m\u001b[0m\u001b[0m\n\u001b[0m",
      "\u001b[1;31mIndexError\u001b[0m: string index out of range"
     ]
    }
   ],
   "source": [
    "s[100]"
   ]
  },
  {
   "cell_type": "code",
   "execution_count": 69,
   "id": "0e72fe80",
   "metadata": {},
   "outputs": [
    {
     "data": {
      "text/plain": [
       "'Siddh'"
      ]
     },
     "execution_count": 69,
     "metadata": {},
     "output_type": "execute_result"
    }
   ],
   "source": [
    "s[0:5]"
   ]
  },
  {
   "cell_type": "code",
   "execution_count": 70,
   "id": "888d9929",
   "metadata": {},
   "outputs": [
    {
     "data": {
      "text/plain": [
       "'Siddh'"
      ]
     },
     "execution_count": 70,
     "metadata": {},
     "output_type": "execute_result"
    }
   ],
   "source": [
    "s[0:5:1]"
   ]
  },
  {
   "cell_type": "code",
   "execution_count": 71,
   "id": "73f815fa",
   "metadata": {},
   "outputs": [
    {
     "data": {
      "text/plain": [
       "'Sdh'"
      ]
     },
     "execution_count": 71,
     "metadata": {},
     "output_type": "execute_result"
    }
   ],
   "source": [
    "s[0:5:2]"
   ]
  },
  {
   "cell_type": "code",
   "execution_count": 72,
   "id": "d21d31c4",
   "metadata": {},
   "outputs": [
    {
     "data": {
      "text/plain": [
       "'htrahddiS'"
      ]
     },
     "execution_count": 72,
     "metadata": {},
     "output_type": "execute_result"
    }
   ],
   "source": [
    "s[-1:-10:-1]"
   ]
  },
  {
   "cell_type": "code",
   "execution_count": 73,
   "id": "7d7cbf46",
   "metadata": {},
   "outputs": [
    {
     "data": {
      "text/plain": [
       "'htrahddiS'"
      ]
     },
     "execution_count": 73,
     "metadata": {},
     "output_type": "execute_result"
    }
   ],
   "source": [
    "s[-1::-1]"
   ]
  },
  {
   "cell_type": "code",
   "execution_count": 74,
   "id": "8db141ee",
   "metadata": {},
   "outputs": [
    {
     "data": {
      "text/plain": [
       "'a'"
      ]
     },
     "execution_count": 74,
     "metadata": {},
     "output_type": "execute_result"
    }
   ],
   "source": [
    "s[-4]"
   ]
  },
  {
   "cell_type": "markdown",
   "id": "40fb7a3d",
   "metadata": {},
   "source": [
    "**Note:** Sure, here's a simple Python program that demonstrates indexing of a string:\n",
    "\n",
    "```python\n",
    "# Input string\n",
    "input_string = \"Hello, World!\"\n",
    "\n",
    "# Display the characters in the string along with their indexes\n",
    "for index, char in enumerate(input_string):\n",
    "    print(f\"Index {index}: '{char}'\")\n",
    "```\n",
    "\n",
    "When you run this program, it will output:\n",
    "\n",
    "```\n",
    "Index 0: 'H'\n",
    "Index 1: 'e'\n",
    "Index 2: 'l'\n",
    "Index 3: 'l'\n",
    "Index 4: 'o'\n",
    "Index 5: ','\n",
    "Index 6: ' '\n",
    "Index 7: 'W'\n",
    "Index 8: 'o'\n",
    "Index 9: 'r'\n",
    "Index 10: 'l'\n",
    "Index 11: 'd'\n",
    "Index 12: '!'\n",
    "```\n",
    "\n",
    "In this program, we use a `for` loop along with the `enumerate()` function to iterate through each character in the input string and display its index along with the character itself. Remember that indexing in Python is 0-based, meaning the first character has an index of 0, the second character has an index of 1, and so on."
   ]
  },
  {
   "cell_type": "code",
   "execution_count": 75,
   "id": "e68876bd",
   "metadata": {},
   "outputs": [
    {
     "name": "stdout",
     "output_type": "stream",
     "text": [
      "Index 0: 'H'\n",
      "Index 1: 'e'\n",
      "Index 2: 'l'\n",
      "Index 3: 'l'\n",
      "Index 4: 'o'\n",
      "Index 5: ','\n",
      "Index 6: ' '\n",
      "Index 7: 'W'\n",
      "Index 8: 'o'\n",
      "Index 9: 'r'\n",
      "Index 10: 'l'\n",
      "Index 11: 'd'\n",
      "Index 12: '!'\n"
     ]
    }
   ],
   "source": [
    "# Input string\n",
    "input_string = \"Hello, World!\"\n",
    "\n",
    "# Display the characters in the string along with their indexes\n",
    "for index, char in enumerate(input_string):\n",
    "    print(f\"Index {index}: '{char}'\")"
   ]
  },
  {
   "cell_type": "code",
   "execution_count": 76,
   "id": "edda6c0b",
   "metadata": {},
   "outputs": [
    {
     "ename": "IndexError",
     "evalue": "string index out of range",
     "output_type": "error",
     "traceback": [
      "\u001b[1;31m---------------------------------------------------------------------------\u001b[0m",
      "\u001b[1;31mIndexError\u001b[0m                                Traceback (most recent call last)",
      "\u001b[1;32m~\\AppData\\Local\\Temp\\ipykernel_14632\\2433391769.py\u001b[0m in \u001b[0;36m<module>\u001b[1;34m\u001b[0m\n\u001b[0;32m      1\u001b[0m \u001b[0ms\u001b[0m \u001b[1;33m=\u001b[0m \u001b[1;34m'Siddharth'\u001b[0m\u001b[1;33m\u001b[0m\u001b[1;33m\u001b[0m\u001b[0m\n\u001b[1;32m----> 2\u001b[1;33m \u001b[0ms\u001b[0m\u001b[1;33m[\u001b[0m\u001b[1;33m-\u001b[0m\u001b[1;36m55\u001b[0m\u001b[1;33m]\u001b[0m\u001b[1;33m\u001b[0m\u001b[1;33m\u001b[0m\u001b[0m\n\u001b[0m",
      "\u001b[1;31mIndexError\u001b[0m: string index out of range"
     ]
    }
   ],
   "source": [
    "s = 'Siddharth'\n",
    "s[-55]"
   ]
  },
  {
   "cell_type": "code",
   "execution_count": 77,
   "id": "2c08e2a1",
   "metadata": {},
   "outputs": [
    {
     "data": {
      "text/plain": [
       "9"
      ]
     },
     "execution_count": 77,
     "metadata": {},
     "output_type": "execute_result"
    }
   ],
   "source": [
    "len(s)"
   ]
  },
  {
   "cell_type": "code",
   "execution_count": 78,
   "id": "72a1a25f",
   "metadata": {},
   "outputs": [
    {
     "ename": "IndexError",
     "evalue": "string index out of range",
     "output_type": "error",
     "traceback": [
      "\u001b[1;31m---------------------------------------------------------------------------\u001b[0m",
      "\u001b[1;31mIndexError\u001b[0m                                Traceback (most recent call last)",
      "\u001b[1;32m~\\AppData\\Local\\Temp\\ipykernel_14632\\2303543060.py\u001b[0m in \u001b[0;36m<module>\u001b[1;34m\u001b[0m\n\u001b[1;32m----> 1\u001b[1;33m \u001b[0ms\u001b[0m\u001b[1;33m[\u001b[0m\u001b[1;36m9\u001b[0m\u001b[1;33m]\u001b[0m\u001b[1;33m\u001b[0m\u001b[1;33m\u001b[0m\u001b[0m\n\u001b[0m",
      "\u001b[1;31mIndexError\u001b[0m: string index out of range"
     ]
    }
   ],
   "source": [
    "s[9]"
   ]
  },
  {
   "cell_type": "code",
   "execution_count": 81,
   "id": "4a1acab0",
   "metadata": {},
   "outputs": [
    {
     "data": {
      "text/plain": [
       "'h'"
      ]
     },
     "execution_count": 81,
     "metadata": {},
     "output_type": "execute_result"
    }
   ],
   "source": [
    "s[8]"
   ]
  },
  {
   "cell_type": "code",
   "execution_count": 82,
   "id": "837fa92f",
   "metadata": {},
   "outputs": [
    {
     "data": {
      "text/plain": [
       "'Siddharth'"
      ]
     },
     "execution_count": 82,
     "metadata": {},
     "output_type": "execute_result"
    }
   ],
   "source": [
    "s"
   ]
  },
  {
   "cell_type": "code",
   "execution_count": 83,
   "id": "66fbeeb5",
   "metadata": {},
   "outputs": [
    {
     "data": {
      "text/plain": [
       "'Si'"
      ]
     },
     "execution_count": 83,
     "metadata": {},
     "output_type": "execute_result"
    }
   ],
   "source": [
    "s[0:2]"
   ]
  },
  {
   "cell_type": "code",
   "execution_count": 84,
   "id": "a4c4911e",
   "metadata": {},
   "outputs": [
    {
     "data": {
      "text/plain": [
       "'pw'"
      ]
     },
     "execution_count": 84,
     "metadata": {},
     "output_type": "execute_result"
    }
   ],
   "source": [
    "s1 = 'pwskills'\n",
    "s1[0:2]"
   ]
  },
  {
   "cell_type": "code",
   "execution_count": 85,
   "id": "4afb7747",
   "metadata": {},
   "outputs": [
    {
     "data": {
      "text/plain": [
       "'skills'"
      ]
     },
     "execution_count": 85,
     "metadata": {},
     "output_type": "execute_result"
    }
   ],
   "source": [
    "s1[2::]"
   ]
  },
  {
   "cell_type": "code",
   "execution_count": 87,
   "id": "9458ab7f",
   "metadata": {},
   "outputs": [
    {
     "data": {
      "text/plain": [
       "''"
      ]
     },
     "execution_count": 87,
     "metadata": {},
     "output_type": "execute_result"
    }
   ],
   "source": [
    "s1[7:4]"
   ]
  },
  {
   "cell_type": "code",
   "execution_count": 88,
   "id": "f5171d3c",
   "metadata": {},
   "outputs": [
    {
     "data": {
      "text/plain": [
       "'sll'"
      ]
     },
     "execution_count": 88,
     "metadata": {},
     "output_type": "execute_result"
    }
   ],
   "source": [
    "s1[7:4:-1]"
   ]
  },
  {
   "cell_type": "code",
   "execution_count": 89,
   "id": "a81c3720",
   "metadata": {},
   "outputs": [
    {
     "data": {
      "text/plain": [
       "'sllikswp'"
      ]
     },
     "execution_count": 89,
     "metadata": {},
     "output_type": "execute_result"
    }
   ],
   "source": [
    "s1[-1::-1]"
   ]
  },
  {
   "cell_type": "markdown",
   "id": "b3701c7e",
   "metadata": {},
   "source": [
    "**Note:** Strings in Python are immutable, which means you cannot directly change individual characters using indexing. "
   ]
  },
  {
   "cell_type": "code",
   "execution_count": 90,
   "id": "e1c3f4e3",
   "metadata": {},
   "outputs": [
    {
     "data": {
      "text/plain": [
       "'S'"
      ]
     },
     "execution_count": 90,
     "metadata": {},
     "output_type": "execute_result"
    }
   ],
   "source": [
    "# Strings in Python are immutable\n",
    "\n",
    "s = 'Sid'\n",
    "s[0]"
   ]
  },
  {
   "cell_type": "code",
   "execution_count": 91,
   "id": "54b88268",
   "metadata": {},
   "outputs": [
    {
     "ename": "TypeError",
     "evalue": "'str' object does not support item assignment",
     "output_type": "error",
     "traceback": [
      "\u001b[1;31m---------------------------------------------------------------------------\u001b[0m",
      "\u001b[1;31mTypeError\u001b[0m                                 Traceback (most recent call last)",
      "\u001b[1;32m~\\AppData\\Local\\Temp\\ipykernel_14632\\2235919030.py\u001b[0m in \u001b[0;36m<module>\u001b[1;34m\u001b[0m\n\u001b[1;32m----> 1\u001b[1;33m \u001b[0ms\u001b[0m\u001b[1;33m[\u001b[0m\u001b[1;36m0\u001b[0m\u001b[1;33m]\u001b[0m\u001b[1;33m=\u001b[0m\u001b[1;34m'D'\u001b[0m\u001b[1;33m\u001b[0m\u001b[1;33m\u001b[0m\u001b[0m\n\u001b[0m",
      "\u001b[1;31mTypeError\u001b[0m: 'str' object does not support item assignment"
     ]
    }
   ],
   "source": [
    "s[0]='D'"
   ]
  }
 ],
 "metadata": {
  "kernelspec": {
   "display_name": "Python 3 (ipykernel)",
   "language": "python",
   "name": "python3"
  },
  "language_info": {
   "codemirror_mode": {
    "name": "ipython",
    "version": 3
   },
   "file_extension": ".py",
   "mimetype": "text/x-python",
   "name": "python",
   "nbconvert_exporter": "python",
   "pygments_lexer": "ipython3",
   "version": "3.9.13"
  }
 },
 "nbformat": 4,
 "nbformat_minor": 5
}
