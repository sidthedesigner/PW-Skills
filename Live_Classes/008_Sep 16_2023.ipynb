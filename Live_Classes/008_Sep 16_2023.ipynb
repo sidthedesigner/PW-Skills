{
 "cells": [
  {
   "cell_type": "markdown",
   "id": "0ce3f44e",
   "metadata": {},
   "source": [
    "# 1. If Else Statement\n",
    "\n",
    "In Python, an `if-else` statement is used for conditional execution of code. It allows you to specify a block of code to be executed if a certain condition is true, and another block of code to be executed if the condition is false.\n",
    "\n",
    "Here's the basic syntax of an `if-else` statement in Python:\n",
    "\n",
    "```python\n",
    "if condition:\n",
    "    # Code to execute if the condition is true\n",
    "else:\n",
    "    # Code to execute if the condition is false\n",
    "```\n",
    "\n",
    "Here are some examples of how you can use `if-else` statements in Python:\n",
    "\n",
    "**Example 1: Checking if a number is even or odd**\n",
    "\n",
    "```python\n",
    "number = 10\n",
    "\n",
    "if number % 2 == 0:\n",
    "    print(\"The number is even.\")\n",
    "else:\n",
    "    print(\"The number is odd.\")\n",
    "```\n",
    "\n",
    "In this example, the condition `number % 2 == 0` checks if the remainder when `number` is divided by 2 is equal to 0. If it is, the code inside the first block is executed, indicating that the number is even. Otherwise, the code inside the `else` block is executed, indicating that the number is odd.\n",
    "\n",
    "**Example 2: Determining if a person is eligible to vote**\n",
    "\n",
    "```python\n",
    "age = 18\n",
    "\n",
    "if age >= 18:\n",
    "    print(\"You are eligible to vote.\")\n",
    "else:\n",
    "    print(\"You are not eligible to vote.\")\n",
    "```\n",
    "\n",
    "Here, the condition `age >= 18` checks if the age is greater than or equal to 18. If it is, the person is eligible to vote; otherwise, they are not eligible.\n",
    "\n",
    "**Example 3: Choosing the larger of two numbers**\n",
    "\n",
    "```python\n",
    "num1 = 25\n",
    "num2 = 30\n",
    "\n",
    "if num1 > num2:\n",
    "    print(\"num1 is larger.\")\n",
    "elif num2 > num1:\n",
    "    print(\"num2 is larger.\")\n",
    "else:\n",
    "    print(\"Both numbers are equal.\")\n",
    "```\n",
    "\n",
    "In this example, the code first checks if `num1` is greater than `num2`, then if `num2` is greater than `num1`, and finally, if neither condition is true (i.e., they are equal). Depending on the condition that is true, the corresponding message is printed.\n",
    "\n",
    "These are just a few examples of how `if-else` statements can be used in Python to make decisions and control the flow of your program based on conditions. You can have more complex conditions, use nested `if-else` statements, and combine them with other control structures to create powerful and flexible logic in your Python programs.\n",
    "\n",
    "# Practice"
   ]
  },
  {
   "cell_type": "code",
   "execution_count": 1,
   "id": "4ceb1c58",
   "metadata": {},
   "outputs": [
    {
     "name": "stdout",
     "output_type": "stream",
     "text": [
      "Yes, I will be able to buy.\n"
     ]
    }
   ],
   "source": [
    "a = 500\n",
    "price = 450\n",
    "\n",
    "if price <= 500:\n",
    "    print('Yes, I will be able to buy.')"
   ]
  },
  {
   "cell_type": "markdown",
   "id": "e47a595d",
   "metadata": {},
   "source": [
    "# 2. Pass Statement\n",
    "\n",
    "In Python, the `pass` statement is a placeholder statement that does nothing. It is used when you need a statement syntactically but don't want to execute any code. It is often used as a temporary placeholder for code that you intend to implement later, allowing you to create empty code blocks without causing syntax errors.\n",
    "\n",
    "Here's the basic syntax of the `pass` statement:\n",
    "\n",
    "```python\n",
    "pass\n",
    "```\n",
    "\n",
    "Here are some common use cases for the `pass` statement:\n",
    "\n",
    "1. **Empty Function or Class:**\n",
    "\n",
    "   You can use `pass` as a placeholder inside functions or classes when you're defining them but haven't implemented their functionality yet:\n",
    "\n",
    "   ```python\n",
    "   def my_function():\n",
    "       pass\n",
    "\n",
    "   class MyClass:\n",
    "       def my_method(self):\n",
    "           pass\n",
    "   ```\n",
    "\n",
    "   This allows you to create function and class skeletons and fill in the implementation later.\n",
    "\n",
    "2. **Infinite Loop:**\n",
    "\n",
    "   You can use `pass` in an infinite loop when you want to create a loop that does nothing:\n",
    "\n",
    "   ```python\n",
    "   while True:\n",
    "       pass\n",
    "   ```\n",
    "\n",
    "   This can be useful in cases where you're developing code incrementally and want to focus on other parts of your program first.\n",
    "\n",
    "3. **Conditional Statements:**\n",
    "\n",
    "   You can use `pass` as a placeholder inside conditional statements when you're working on a piece of code and want to temporarily skip it:\n",
    "\n",
    "   ```python\n",
    "   if some_condition:\n",
    "       pass  # To be implemented later\n",
    "   else:\n",
    "       # Other code here\n",
    "   ```\n",
    "\n",
    "   This can be helpful when you're building the structure of your program but haven't filled in the details for a particular branch of execution.\n",
    "\n",
    "Here's an example of using `pass` in a function definition:\n",
    "\n",
    "```python\n",
    "def process_data(data):\n",
    "    if len(data) > 0:\n",
    "        # Process the data here\n",
    "        pass\n",
    "    else:\n",
    "        # Handle the empty data case\n",
    "        pass\n",
    "```\n",
    "\n",
    "In this example, the `process_data` function has two branches, one for processing non-empty data and another for handling the case when the data is empty. The `pass` statements act as placeholders for the code that will be implemented later in each branch.\n",
    "\n",
    "In summary, the `pass` statement in Python is a convenient way to create empty code blocks or placeholders for code that you intend to implement in the future. It helps you maintain the syntactic structure of your program while deferring the actual implementation.\n",
    "\n",
    "# Practice"
   ]
  },
  {
   "cell_type": "code",
   "execution_count": 2,
   "id": "8145ae1d",
   "metadata": {},
   "outputs": [],
   "source": [
    "a = 100\n",
    "\n",
    "if a<200:\n",
    "    pass # Do Nothing"
   ]
  },
  {
   "cell_type": "code",
   "execution_count": 3,
   "id": "0bee6301",
   "metadata": {},
   "outputs": [
    {
     "name": "stdout",
     "output_type": "stream",
     "text": [
      "a is less than 200\n"
     ]
    }
   ],
   "source": [
    "if a<200:\n",
    "    print('a is less than 200')"
   ]
  },
  {
   "cell_type": "markdown",
   "id": "1841077c",
   "metadata": {},
   "source": [
    "# 3. Indentation \n",
    "\n",
    "Indentation in Python is crucial for defining the structure and scope of your code blocks. It is used to indicate which lines of code belong to a particular block, such as a loop, conditional statement, or function definition. Here are some common examples of Python indentation:\n",
    "\n",
    "1. **Indentation in Conditional Statements:**\n",
    "\n",
    "   ```python\n",
    "   if condition:\n",
    "       # Code block with an indentation level of 4 spaces\n",
    "       statement1\n",
    "       statement2\n",
    "   else:\n",
    "       # Another code block with the same level of indentation\n",
    "       statement3\n",
    "       statement4\n",
    "   ```\n",
    "\n",
    "2. **Indentation in Loops:**\n",
    "\n",
    "   ```python\n",
    "   for item in iterable:\n",
    "       # Code block with an indentation level of 4 spaces\n",
    "       statement1\n",
    "       statement2\n",
    "\n",
    "   while condition:\n",
    "       # Code block with an indentation level of 4 spaces\n",
    "       statement3\n",
    "       statement4\n",
    "   ```\n",
    "\n",
    "3. **Indentation in Function Definitions:**\n",
    "\n",
    "   ```python\n",
    "   def my_function(parameter1, parameter2):\n",
    "       # Code block with an indentation level of 4 spaces\n",
    "       statement1\n",
    "       statement2\n",
    "   ```\n",
    "\n",
    "4. **Indentation in Classes:**\n",
    "\n",
    "   ```python\n",
    "   class MyClass:\n",
    "       def __init__(self):\n",
    "           # Constructor code block with an indentation level of 4 spaces\n",
    "           statement1\n",
    "           statement2\n",
    "\n",
    "       def my_method(self):\n",
    "           # Method code block with an indentation level of 4 spaces\n",
    "           statement3\n",
    "           statement4\n",
    "   ```\n",
    "\n",
    "5. **Indentation in Nested Blocks:**\n",
    "\n",
    "   ```python\n",
    "   if condition1:\n",
    "       # Outer if block\n",
    "       statement1\n",
    "\n",
    "       if condition2:\n",
    "           # Inner if block with further indentation\n",
    "           statement2\n",
    "   ```\n",
    "\n",
    "6. **Indentation in List Comprehensions:**\n",
    "\n",
    "   ```python\n",
    "   # List comprehension with indentation\n",
    "   my_list = [x for x in range(10) if x % 2 == 0]\n",
    "   ```\n",
    "\n",
    "7. **Indentation in Try-Except Blocks:**\n",
    "\n",
    "   ```python\n",
    "   try:\n",
    "       # Try block\n",
    "       statement1\n",
    "   except ExceptionType:\n",
    "       # Except block with the same indentation\n",
    "       statement2\n",
    "   ```\n",
    "\n",
    "8. **Indentation in With Statements (Context Managers):**\n",
    "\n",
    "   ```python\n",
    "   with open(\"file.txt\", \"r\") as file:\n",
    "       # Code block with file handling\n",
    "       data = file.read()\n",
    "   # The code block is no longer indented, indicating it's outside the 'with' context.\n",
    "   ```\n",
    "\n",
    "Remember that in Python, indentation should be consistent within a block. Typically, 4 spaces are used for each level of indentation, but you can also use tabs or a different number of spaces, as long as you're consistent throughout your code. Mixing tabs and spaces for indentation is not recommended as it can lead to errors.\n",
    "\n",
    "# Practice"
   ]
  },
  {
   "cell_type": "code",
   "execution_count": 5,
   "id": "bd292fe2",
   "metadata": {},
   "outputs": [
    {
     "ename": "IndentationError",
     "evalue": "expected an indented block after 'if' statement on line 3 (448256135.py, line 4)",
     "output_type": "error",
     "traceback": [
      "\u001b[1;36m  Cell \u001b[1;32mIn[5], line 4\u001b[1;36m\u001b[0m\n\u001b[1;33m    print('Good') # Without Proper Indentation\u001b[0m\n\u001b[1;37m    ^\u001b[0m\n\u001b[1;31mIndentationError\u001b[0m\u001b[1;31m:\u001b[0m expected an indented block after 'if' statement on line 3\n"
     ]
    }
   ],
   "source": [
    "a = 100\n",
    "\n",
    "if a == 100:\n",
    "print('Good') # Without Proper Indentation"
   ]
  },
  {
   "cell_type": "code",
   "execution_count": 6,
   "id": "03a2cb87",
   "metadata": {},
   "outputs": [
    {
     "name": "stdout",
     "output_type": "stream",
     "text": [
      "Good\n"
     ]
    }
   ],
   "source": [
    "if a == 100:\n",
    "    print('Good') # With Proper Indentation"
   ]
  },
  {
   "cell_type": "code",
   "execution_count": 7,
   "id": "ae3f2113",
   "metadata": {},
   "outputs": [
    {
     "name": "stdout",
     "output_type": "stream",
     "text": [
      "Coming in\n",
      "0\n",
      "Coming in\n",
      "1\n",
      "Coming in\n",
      "2\n",
      "Coming in\n",
      "3\n",
      "Coming in\n",
      "4\n"
     ]
    }
   ],
   "source": [
    "count = 0\n",
    "\n",
    "while True:\n",
    "    print('Coming in')\n",
    "    print(count)\n",
    "    count = count + 1\n",
    "    if count==5:\n",
    "        break"
   ]
  },
  {
   "cell_type": "code",
   "execution_count": 8,
   "id": "8f1ee3fa",
   "metadata": {},
   "outputs": [
    {
     "name": "stdout",
     "output_type": "stream",
     "text": [
      "No, I won't buy it.\n"
     ]
    }
   ],
   "source": [
    "a = 500\n",
    "price = 850\n",
    "\n",
    "if price<=500:\n",
    "    print('Yes, I will buy it.')\n",
    "else:\n",
    "    print('No, I won\\'t buy it.')"
   ]
  },
  {
   "cell_type": "code",
   "execution_count": 9,
   "id": "72ea36cb",
   "metadata": {},
   "outputs": [
    {
     "name": "stdout",
     "output_type": "stream",
     "text": [
      "Yes, I will buy it.\n"
     ]
    }
   ],
   "source": [
    "a = 500\n",
    "price = 850\n",
    "\n",
    "if price>=500:\n",
    "    print('Yes, I will buy it.')\n",
    "else:\n",
    "    print('No, I won\\'t buy it.')"
   ]
  },
  {
   "cell_type": "markdown",
   "id": "980d4a14",
   "metadata": {},
   "source": [
    "# 4. Multiple If Statements\n",
    "\n",
    "In Python, you can use multiple `if` conditions to create complex conditional statements using the `if`, `elif` (short for \"else if\"), and `else` keywords. These constructs allow you to check different conditions and execute different blocks of code based on the evaluation of those conditions.\n",
    "\n",
    "Here's the basic structure of using multiple `if` conditions:\n",
    "\n",
    "```python\n",
    "if condition1:\n",
    "    # Code to execute if condition1 is True\n",
    "elif condition2:\n",
    "    # Code to execute if condition1 is False and condition2 is True\n",
    "elif condition3:\n",
    "    # Code to execute if condition1 and condition2 are False, and condition3 is True\n",
    "else:\n",
    "    # Code to execute if none of the above conditions are True\n",
    "```\n",
    "\n",
    "Here's an example:\n",
    "\n",
    "```python\n",
    "x = 10\n",
    "\n",
    "if x < 0:\n",
    "    print(\"x is negative\")\n",
    "elif x == 0:\n",
    "    print(\"x is zero\")\n",
    "else:\n",
    "    print(\"x is positive\")\n",
    "```\n",
    "\n",
    "In this example, Python will evaluate each condition in order. If `x` is less than 0, it will print \"x is negative.\" If `x` is not less than 0 but equal to 0, it will print \"x is zero.\" Otherwise, it will print \"x is positive.\"\n",
    "\n",
    "You can have as many `elif` conditions as needed to cover various cases, and you can also omit the `elif` or `else` part if they are not necessary for your specific logic.\n",
    "\n",
    "Here's an example with multiple `if` conditions and `elif` clauses:\n",
    "\n",
    "```python\n",
    "x = 10\n",
    "y = 5\n",
    "\n",
    "if x > y:\n",
    "    print(\"x is greater than y\")\n",
    "elif x < y:\n",
    "    print(\"x is less than y\")\n",
    "else:\n",
    "    print(\"x is equal to y\")\n",
    "```\n",
    "\n",
    "This code will print \"x is greater than y\" because the first condition (`x > y`) is true, and Python doesn't check the other conditions after it finds the first one that's true.\n",
    "\n",
    "# Practice"
   ]
  },
  {
   "cell_type": "code",
   "execution_count": 11,
   "id": "8aafb641",
   "metadata": {},
   "outputs": [
    {
     "name": "stdout",
     "output_type": "stream",
     "text": [
      "Yes, I will buy for sure.\n"
     ]
    }
   ],
   "source": [
    "price = 100\n",
    "\n",
    "if price>200:\n",
    "    print('I will not buy.')\n",
    "elif price >150:\n",
    "    print('Maybe, I will think of buying.')\n",
    "elif price>90:\n",
    "    print('Yes, I will buy for sure.')\n",
    "else:\n",
    "    print('Nah, I won\\'t buy it.')"
   ]
  },
  {
   "cell_type": "markdown",
   "id": "0c227f51",
   "metadata": {},
   "source": [
    "# 5. Nested If Statements\n",
    "\n",
    "In Python, you can use nested if statements to create conditional statements within other conditional statements. This allows you to check multiple conditions and execute different code blocks based on the combinations of these conditions. Here's the basic syntax for nested if statements in Python:\n",
    "\n",
    "```python\n",
    "if condition1:\n",
    "    # Code to be executed if condition1 is True\n",
    "    if condition2:\n",
    "        # Code to be executed if both condition1 and condition2 are True\n",
    "    else:\n",
    "        # Code to be executed if condition1 is True and condition2 is False\n",
    "else:\n",
    "    # Code to be executed if condition1 is False\n",
    "```\n",
    "\n",
    "Here's an example to illustrate how nested if statements work:\n",
    "\n",
    "```python\n",
    "x = 10\n",
    "y = 5\n",
    "\n",
    "if x > 5:\n",
    "    print(\"x is greater than 5\")\n",
    "    \n",
    "    if y > 2:\n",
    "        print(\"y is greater than 2\")\n",
    "    else:\n",
    "        print(\"y is not greater than 2\")\n",
    "else:\n",
    "    print(\"x is not greater than 5\")\n",
    "\n",
    "print(\"This is outside the nested if statements\")\n",
    "```\n",
    "\n",
    "In this example:\n",
    "\n",
    "1. We first check if `x` is greater than 5.\n",
    "2. If `x` is greater than 5, we enter the nested if statement and check if `y` is greater than 2.\n",
    "3. Depending on the values of `x` and `y`, different print statements are executed.\n",
    "\n",
    "Remember that the indentation is crucial in Python to determine the scope of each block of code. In nested if statements, the level of indentation indicates the level of nesting.\n",
    "\n",
    "# Practice"
   ]
  },
  {
   "cell_type": "code",
   "execution_count": 12,
   "id": "4714e730",
   "metadata": {},
   "outputs": [
    {
     "name": "stdout",
     "output_type": "stream",
     "text": [
      "I will the Medium Size.\n"
     ]
    }
   ],
   "source": [
    "price = 100\n",
    "available_shirt_sizes = ['Extra Small''Small','Medium','Large','Extra Large']\n",
    "\n",
    "if price>200:\n",
    "    print('I will not buy.')\n",
    "elif price >150:\n",
    "    print('Maybe, I will think of buying.')\n",
    "elif price>90:\n",
    "    if 'Medium' in available_shirt_sizes:\n",
    "        print('I will the Medium Size.')\n",
    "    else:\n",
    "        print('I will not buy since its not my right size.')\n",
    "else:\n",
    "    print('Nah, I won\\'t buy it.')"
   ]
  },
  {
   "cell_type": "code",
   "execution_count": 15,
   "id": "c5731311",
   "metadata": {},
   "outputs": [
    {
     "name": "stdout",
     "output_type": "stream",
     "text": [
      "I will not buy since Medium size is not in stock.\n"
     ]
    }
   ],
   "source": [
    "price = 100\n",
    "available_shirt_sizes = ['Extra Small''Small','Large','Extra Large']\n",
    "\n",
    "if price>200:\n",
    "    print('I will not buy.')\n",
    "elif price >150:\n",
    "    print('Maybe, I will think of buying.')\n",
    "elif price>90:\n",
    "    if 'Medium' in available_shirt_sizes: # Nested If Statement\n",
    "        print('I will the Medium Size.')\n",
    "    else:\n",
    "        print('I will not buy since Medium size is not in stock.')\n",
    "else:\n",
    "    print('Nah, I won\\'t buy it.')"
   ]
  },
  {
   "cell_type": "code",
   "execution_count": 20,
   "id": "885d118c",
   "metadata": {},
   "outputs": [
    {
     "name": "stdout",
     "output_type": "stream",
     "text": [
      "I will buy the Medium Size Red Shirt.\n"
     ]
    }
   ],
   "source": [
    "price = 100\n",
    "available_shirt_sizes = ['Extra Small''Small','Medium','Large','Extra Large']\n",
    "color = ['White','Red','Black']\n",
    "\n",
    "if price>200:\n",
    "    print('I will not buy.')\n",
    "elif price >150:\n",
    "    print('Maybe, I will think of buying.')\n",
    "elif price>90:\n",
    "    if 'Medium' in available_shirt_sizes:\n",
    "        if 'Red' in  color:\n",
    "            print('I will buy the Medium Size Red Shirt.')\n",
    "        else:\n",
    "            print('I have the correct size but I don\\'t like the color.')\n",
    "        \n",
    "    else:\n",
    "        print('I will not buy since Medium size is not in stock.')\n",
    "else:\n",
    "    print('Nah, I won\\'t buy it.')"
   ]
  },
  {
   "cell_type": "code",
   "execution_count": 21,
   "id": "6b2bf34a",
   "metadata": {},
   "outputs": [
    {
     "name": "stdout",
     "output_type": "stream",
     "text": [
      "I have the correct size but I don't like the color.\n"
     ]
    }
   ],
   "source": [
    "price = 100\n",
    "available_shirt_sizes = ['Extra Small''Small','Medium','Large','Extra Large']\n",
    "color = ['White','Black']\n",
    "\n",
    "if price>200:\n",
    "    print('I will not buy.')\n",
    "elif price >150:\n",
    "    print('Maybe, I will think of buying.')\n",
    "elif price>90:\n",
    "    if 'Medium' in available_shirt_sizes:\n",
    "        if 'Red' in  color:\n",
    "            print('I will buy the Medium Size Red Shirt.')\n",
    "        else:\n",
    "            print('I have the correct size but I don\\'t like the color.')\n",
    "        \n",
    "    else:\n",
    "        print('I will not buy since Medium size is not in stock.')\n",
    "else:\n",
    "    print('Nah, I won\\'t buy it.')"
   ]
  },
  {
   "cell_type": "code",
   "execution_count": 23,
   "id": "e0760408",
   "metadata": {},
   "outputs": [
    {
     "name": "stdout",
     "output_type": "stream",
     "text": [
      "Variables have the correct value\n"
     ]
    }
   ],
   "source": [
    "a = 10\n",
    "b = 20\n",
    "c = 30\n",
    "\n",
    "if a == 10 and b == 20 and c == 30:\n",
    "    print('Variables have the correct value')\n",
    "else:\n",
    "    print('Variables don\\'t have the correct value.')"
   ]
  },
  {
   "cell_type": "code",
   "execution_count": 24,
   "id": "332113c4",
   "metadata": {},
   "outputs": [
    {
     "name": "stdout",
     "output_type": "stream",
     "text": [
      "Variables don't have the correct value.\n"
     ]
    }
   ],
   "source": [
    "a = 10\n",
    "b = 22\n",
    "c = 30\n",
    "\n",
    "if a == 10 and b == 20 and c == 30:\n",
    "    print('Variables have the correct value')\n",
    "else:\n",
    "    print('Variables don\\'t have the correct value.')"
   ]
  },
  {
   "cell_type": "code",
   "execution_count": 25,
   "id": "c03f1be1",
   "metadata": {},
   "outputs": [
    {
     "name": "stdout",
     "output_type": "stream",
     "text": [
      "I will buy the course.\n"
     ]
    }
   ],
   "source": [
    "course = ['FSDS Pro','Tech Neuron']\n",
    "mentor = ['Sudhanshu','Krish']\n",
    "price = ['10000','20000']\n",
    "\n",
    "if 'FSDS Pro' in course and 'Sudhanshu' in mentor and '10000' in price:\n",
    "    print('I will buy the course.')\n",
    "else:\n",
    "    print('I won\\'t buy the course')"
   ]
  },
  {
   "cell_type": "code",
   "execution_count": 26,
   "id": "7292323e",
   "metadata": {},
   "outputs": [
    {
     "name": "stdout",
     "output_type": "stream",
     "text": [
      "I won't buy the course\n"
     ]
    }
   ],
   "source": [
    "course = ['FSDS Pro','Tech Neuron']\n",
    "mentor = ['Sudhanshu','Krish','Imran']\n",
    "price = ['10000','20000']\n",
    "\n",
    "if 'FSDS Pro' in course and 'Imran' not in mentor and '10000' in price:\n",
    "    print('I will buy the course.')\n",
    "else:\n",
    "    print('I won\\'t buy the course')"
   ]
  },
  {
   "cell_type": "code",
   "execution_count": 27,
   "id": "82fb8b58",
   "metadata": {},
   "outputs": [
    {
     "name": "stdout",
     "output_type": "stream",
     "text": [
      "Enter Username:sid\n",
      "Enter Password:12345\n",
      "Either username or password is incorrect. Enter details again.\n",
      "Enter Username:sid\n",
      "Enter Password:fsdspro@1234\n",
      "Either username or password is incorrect. Enter details again.\n",
      "Enter Username:sid\n",
      "Enter Password:fsdspro@12345\n",
      "Login Successful!\n"
     ]
    }
   ],
   "source": [
    "username = 'sid'\n",
    "password = 'fsdspro@12345'\n",
    "\n",
    "while True:\n",
    "    username = input('Enter Username:')\n",
    "    password = input('Enter Password:')\n",
    "    if username=='sid' and password=='fsdspro@12345':\n",
    "        print('Login Successful!')\n",
    "        break\n",
    "    else:\n",
    "        print('Either username or password is incorrect. Enter details again.')"
   ]
  },
  {
   "cell_type": "code",
   "execution_count": 28,
   "id": "6fc61c6c",
   "metadata": {},
   "outputs": [
    {
     "name": "stdout",
     "output_type": "stream",
     "text": [
      "Enter mobile no:1234\n",
      "Mobile number is not registered.\n"
     ]
    }
   ],
   "source": [
    "mobile = 100200300\n",
    "otp = 3456\n",
    "\n",
    "if mobile == int(input('Enter mobile no:')):\n",
    "    print('Yes your mobile number is registered.')\n",
    "    if otp == int(input('Enter otp:')):\n",
    "        print('Logged in successfully')\n",
    "    else:\n",
    "        print('OTP is not correct.')\n",
    "else:\n",
    "    print('Mobile number is not registered.')"
   ]
  },
  {
   "cell_type": "code",
   "execution_count": 29,
   "id": "ad06582b",
   "metadata": {},
   "outputs": [
    {
     "name": "stdout",
     "output_type": "stream",
     "text": [
      "Enter mobile no:100200300\n",
      "Yes your mobile number is registered.\n",
      "Enter otp:2222222\n",
      "OTP is not correct.\n"
     ]
    }
   ],
   "source": [
    "mobile = 100200300\n",
    "otp = 3456\n",
    "\n",
    "if mobile == int(input('Enter mobile no:')):\n",
    "    print('Yes your mobile number is registered.')\n",
    "    if otp == int(input('Enter otp:')):\n",
    "        print('Logged in successfully')\n",
    "    else:\n",
    "        print('OTP is not correct.')\n",
    "else:\n",
    "    print('Mobile number is not registered.')"
   ]
  },
  {
   "cell_type": "code",
   "execution_count": 30,
   "id": "05ae5883",
   "metadata": {},
   "outputs": [
    {
     "name": "stdout",
     "output_type": "stream",
     "text": [
      "Enter mobile no:100200300\n",
      "Yes your mobile number is registered.\n",
      "Enter otp:3456\n",
      "Logged in successfully\n"
     ]
    }
   ],
   "source": [
    "mobile = 100200300\n",
    "otp = 3456\n",
    "\n",
    "if mobile == int(input('Enter mobile no:')):\n",
    "    print('Yes your mobile number is registered.')\n",
    "    if otp == int(input('Enter otp:')):\n",
    "        print('Logged in successfully')\n",
    "    else:\n",
    "        print('OTP is not correct.')\n",
    "else:\n",
    "    print('Mobile number is not registered.')"
   ]
  },
  {
   "cell_type": "code",
   "execution_count": 1,
   "id": "cc9e4fd7",
   "metadata": {},
   "outputs": [
    {
     "name": "stdout",
     "output_type": "stream",
     "text": [
      "Enter mobile no:100200\n",
      "Mobile number is not registered.\n"
     ]
    }
   ],
   "source": [
    "mobile = 100200300\n",
    "otp = 3456\n",
    "\n",
    "if mobile == int(input('Enter mobile no:')):\n",
    "    print('Yes your mobile number is registered.')\n",
    "    if otp == int(input('Enter otp:')):\n",
    "        print('Logged in successfully')\n",
    "    else:\n",
    "        print('OTP is not correct.')\n",
    "else:\n",
    "    print('Mobile number is not registered.')"
   ]
  },
  {
   "cell_type": "code",
   "execution_count": 2,
   "id": "046977cb",
   "metadata": {},
   "outputs": [
    {
     "name": "stdout",
     "output_type": "stream",
     "text": [
      "Enter mobile no:300300\n",
      "Mobile number is not registered.\n"
     ]
    }
   ],
   "source": [
    "mobile = ['100200','200300']\n",
    "otp = 3456\n",
    "\n",
    "if int(input('Enter mobile no:')) in mobile:\n",
    "    print('Yes your mobile number is registered.')\n",
    "    if otp == int(input('Enter otp:')):\n",
    "        print('Logged in successfully')\n",
    "    else:\n",
    "        print('OTP is not correct.')\n",
    "else:\n",
    "    print('Mobile number is not registered.')"
   ]
  },
  {
   "cell_type": "code",
   "execution_count": 4,
   "id": "4584d09d",
   "metadata": {},
   "outputs": [
    {
     "name": "stdout",
     "output_type": "stream",
     "text": [
      "Enter mobile no:100200\n",
      "Yes your mobile number is registered.\n",
      "Enter otp:2233\n",
      "OTP is not correct.\n"
     ]
    }
   ],
   "source": [
    "mobile = [100200,200300]\n",
    "otp = 3456\n",
    "\n",
    "if int(input('Enter mobile no:')) in mobile:\n",
    "    print('Yes your mobile number is registered.')\n",
    "    if otp == int(input('Enter otp:')):\n",
    "        print('Logged in successfully')\n",
    "    else:\n",
    "        print('OTP is not correct.')\n",
    "else:\n",
    "    print('Mobile number is not registered.')"
   ]
  },
  {
   "cell_type": "code",
   "execution_count": 5,
   "id": "41c9ff27",
   "metadata": {},
   "outputs": [
    {
     "name": "stdout",
     "output_type": "stream",
     "text": [
      "Enter mobile no:200300\n",
      "Yes your mobile number is registered.\n",
      "Enter otp:3456\n",
      "Logged in successfully\n"
     ]
    }
   ],
   "source": [
    "mobile = [100200,200300]\n",
    "otp = 3456\n",
    "\n",
    "if int(input('Enter mobile no:')) in mobile:\n",
    "    print('Yes your mobile number is registered.')\n",
    "    if otp == int(input('Enter otp:')):\n",
    "        print('Logged in successfully')\n",
    "    else:\n",
    "        print('OTP is not correct.')\n",
    "else:\n",
    "    print('Mobile number is not registered.')"
   ]
  },
  {
   "cell_type": "markdown",
   "id": "a85b6a91",
   "metadata": {},
   "source": [
    "# 6. Loops\n",
    "\n",
    "Loops in Python are used to repeatedly execute a block of code. They allow you to automate repetitive tasks by specifying a set of instructions to be executed multiple times. Python provides two main types of loops: \"for\" loops and \"while\" loops.\n",
    "\n",
    "1. **For Loops**: For loops are used when you have a predefined sequence, such as a list, tuple, string, or range, and you want to iterate through each element in that sequence. Here's a basic syntax of a \"for\" loop:\n",
    "\n",
    "```python\n",
    "for element in sequence:\n",
    "    # code to be executed for each element\n",
    "```\n",
    "\n",
    "Example:\n",
    "\n",
    "```python\n",
    "fruits = [\"apple\", \"banana\", \"cherry\"]\n",
    "for fruit in fruits:\n",
    "    print(fruit)\n",
    "```\n",
    "\n",
    "In this example, the \"for\" loop iterates through the list of fruits and prints each fruit's name.\n",
    "\n",
    "2. **While Loops**: While loops are used when you want to execute a block of code as long as a certain condition is true. Here's the basic syntax of a \"while\" loop:\n",
    "\n",
    "```python\n",
    "while condition:\n",
    "    # code to be executed as long as the condition is true\n",
    "```\n",
    "\n",
    "Example:\n",
    "\n",
    "```python\n",
    "count = 0\n",
    "while count < 5:\n",
    "    print(count)\n",
    "    count += 1\n",
    "```\n",
    "\n",
    "In this example, the \"while\" loop continues to execute as long as the condition `count < 5` is true, incrementing the count by 1 in each iteration.\n",
    "\n",
    "# 7. Use Cases of Loops\n",
    "\n",
    "Loops are used for various tasks, including:\n",
    "\n",
    "- **Iterating Over Data**: You can use loops to iterate over elements in a collection (like lists, dictionaries, etc.) or characters in a string.\n",
    "\n",
    "- **Performing Repetitive Tasks**: You can use loops to perform a task multiple times, such as printing a message, calculating values, or processing data.\n",
    "\n",
    "- **Implementing Algorithms**: Many algorithms require repeated execution of steps, which can be achieved through loops.\n",
    "\n",
    "- **Interacting with User Input**: Loops are often used to repeatedly prompt users for input until a certain condition is met.\n",
    "\n",
    "- **Running Until a Condition Is Met**: While loops are particularly useful when you want to continue executing a block of code until a specific condition becomes false.\n",
    "\n",
    "- **Generating Patterns**: You can use loops to generate patterns, sequences, or tables of values.\n",
    "\n",
    "Loops are a fundamental part of programming and are essential for automating tasks and controlling the flow of a program. They allow you to write more efficient and concise code by eliminating the need to duplicate the same code multiple times.\n",
    "\n",
    "# Practice"
   ]
  },
  {
   "cell_type": "code",
   "execution_count": 8,
   "id": "2c9b7780",
   "metadata": {},
   "outputs": [
    {
     "name": "stdout",
     "output_type": "stream",
     "text": [
      "Sum of all numbers is: 10.\n"
     ]
    }
   ],
   "source": [
    "# Add numbers in a list using loop\n",
    "\n",
    "numbers, sum = [1,2,3,4], 0\n",
    "\n",
    "for i in numbers:\n",
    "    sum = sum + i\n",
    "\n",
    "print(f'Sum of all numbers is: {sum}.')"
   ]
  },
  {
   "cell_type": "code",
   "execution_count": 10,
   "id": "f206cac3",
   "metadata": {},
   "outputs": [
    {
     "name": "stdout",
     "output_type": "stream",
     "text": [
      "Sum of all numbers is: 1838.\n"
     ]
    }
   ],
   "source": [
    "# Add numbers in a list using loop\n",
    "\n",
    "numbers, sum = [1,2,3,4,999,343,4,33,35,3,53,5,353], 0\n",
    "\n",
    "for i in numbers:\n",
    "    sum = sum + i\n",
    "\n",
    "print(f'Sum of all numbers is: {sum}.')"
   ]
  },
  {
   "cell_type": "code",
   "execution_count": 12,
   "id": "95e16ac7",
   "metadata": {},
   "outputs": [
    {
     "name": "stdout",
     "output_type": "stream",
     "text": [
      "100\n",
      "200\n",
      "300\n",
      "400\n",
      "101\n",
      "202\n",
      "303\n",
      "404\n",
      "505\n"
     ]
    }
   ],
   "source": [
    "mobile_no = [100,200,300,400,101,202,303,404,505]\n",
    "\n",
    "for i in mobile_no:\n",
    "    print(i)"
   ]
  },
  {
   "cell_type": "code",
   "execution_count": 14,
   "id": "abaa61db",
   "metadata": {},
   "outputs": [
    {
     "name": "stdout",
     "output_type": "stream",
     "text": [
      "Enter Email Address:sid1001@gmail.com\n",
      "You are now registered.\n"
     ]
    }
   ],
   "source": [
    "registered_emails_for_access = ['sudh@gmail.com','sid@gmail.com','krish@gmail.com']\n",
    "\n",
    "check_email = input('Enter Email Address:') \n",
    "\n",
    "if check_email in registered_emails_for_access:\n",
    "    print('You already have access.')\n",
    "else:\n",
    "    registered_emails_for_access.append(check_email)\n",
    "    print('You are now registered.')"
   ]
  },
  {
   "cell_type": "code",
   "execution_count": 15,
   "id": "80d7b55b",
   "metadata": {},
   "outputs": [
    {
     "data": {
      "text/plain": [
       "['sudh@gmail.com', 'sid@gmail.com', 'krish@gmail.com', 'sid1001@gmail.com']"
      ]
     },
     "execution_count": 15,
     "metadata": {},
     "output_type": "execute_result"
    }
   ],
   "source": [
    "registered_emails_for_access"
   ]
  },
  {
   "cell_type": "code",
   "execution_count": 16,
   "id": "061dc880",
   "metadata": {},
   "outputs": [
    {
     "name": "stdout",
     "output_type": "stream",
     "text": [
      "Enter Email Address:sid@gmail.com\n",
      "You already have access.\n"
     ]
    }
   ],
   "source": [
    "registered_emails_for_access = ['sudh@gmail.com','sid@gmail.com','krish@gmail.com']\n",
    "\n",
    "check_email = input('Enter Email Address:') \n",
    "\n",
    "if check_email in registered_emails_for_access:\n",
    "    print('You already have access.')\n",
    "else:\n",
    "    registered_emails_for_access.append(check_email)\n",
    "    print('You are now registered.')"
   ]
  },
  {
   "cell_type": "code",
   "execution_count": 5,
   "id": "b5830a35",
   "metadata": {},
   "outputs": [
    {
     "name": "stdout",
     "output_type": "stream",
     "text": [
      "Enter Email:sid1001@gmail.com\n",
      "Email is not registered in our database.\n"
     ]
    }
   ],
   "source": [
    "user_database ={\n",
    "    'sid@gmail.com':   {'password':12345, 'courses':['FSDS Pro']},\n",
    "    'sudh@gmail.com':  {'password':555,   'courses':['Tech Neuron']},\n",
    "    'krish@gmail.com': {'password':1683,  'courses':['FSDS Pro','Tech Neuron']}\n",
    "}\n",
    "\n",
    "enter_email = input('Enter Email:')\n",
    "\n",
    "if enter_email in user_database.keys():\n",
    "    print(user_database[enter_email])\n",
    "else:\n",
    "    print('Email is not registered in our database.')"
   ]
  },
  {
   "cell_type": "code",
   "execution_count": 6,
   "id": "11bf3055",
   "metadata": {},
   "outputs": [
    {
     "name": "stdout",
     "output_type": "stream",
     "text": [
      "Enter Email:krish@gmail.com\n",
      "{'password': 1683, 'courses': ['FSDS Pro', 'Tech Neuron']}\n"
     ]
    }
   ],
   "source": [
    "user_database ={\n",
    "    'sid@gmail.com':   {'password':12345, 'courses':['FSDS Pro']},\n",
    "    'sudh@gmail.com':  {'password':555,   'courses':['Tech Neuron']},\n",
    "    'krish@gmail.com': {'password':1683,  'courses':['FSDS Pro','Tech Neuron']}\n",
    "}\n",
    "\n",
    "enter_email = input('Enter Email:')\n",
    "\n",
    "if enter_email in user_database.keys():\n",
    "    print(user_database[enter_email])\n",
    "else:\n",
    "    print('Email is not registered in our database.')"
   ]
  },
  {
   "cell_type": "code",
   "execution_count": 15,
   "id": "fbc6adfa",
   "metadata": {},
   "outputs": [
    {
     "name": "stdout",
     "output_type": "stream",
     "text": [
      "List of numbers is:  [12, 3, 4, 5, 56, 444]\n",
      "List of text is:  ['sudh', 'kumar']\n",
      "List of other data types is:  [True, (5+6j), 3.3]\n"
     ]
    }
   ],
   "source": [
    "t = (12,3,4,5,56,'sudh','kumar',True,5+6j, 3.3, 444)\n",
    "list_numbers, list_text, list_others = [],[],[]\n",
    "\n",
    "for index in t:\n",
    "    if type(index)==int:\n",
    "        list_numbers.append(index)\n",
    "    elif type(index)==str:\n",
    "        list_text.append(index)\n",
    "    else:\n",
    "        list_others.append(index)\n",
    "\n",
    "print('List of numbers is: ',list_numbers)\n",
    "print('List of text is: ',list_text)\n",
    "print('List of other data types is: ',list_others)"
   ]
  },
  {
   "cell_type": "code",
   "execution_count": 16,
   "id": "9a3ef525",
   "metadata": {},
   "outputs": [
    {
     "name": "stdout",
     "output_type": "stream",
     "text": [
      "3\n",
      "4\n",
      "5\n",
      "6\n",
      "7\n",
      "8\n",
      "9\n",
      "343434\n"
     ]
    }
   ],
   "source": [
    "s = {3,4,5,6,6,7,8,9,343434}\n",
    "\n",
    "for index in s:\n",
    "    print(index)"
   ]
  },
  {
   "cell_type": "code",
   "execution_count": 17,
   "id": "6ab8fcd3",
   "metadata": {},
   "outputs": [
    {
     "name": "stdout",
     "output_type": "stream",
     "text": [
      "3\n",
      "4\n",
      "5\n",
      "6\n",
      "6\n",
      "7\n",
      "8\n",
      "9\n",
      "343434\n"
     ]
    }
   ],
   "source": [
    "s = [3,4,5,6,6,7,8,9,343434]\n",
    "\n",
    "for index in s:\n",
    "    print(index)"
   ]
  },
  {
   "cell_type": "code",
   "execution_count": 18,
   "id": "127af665",
   "metadata": {},
   "outputs": [
    {
     "name": "stdout",
     "output_type": "stream",
     "text": [
      "name1\n",
      "name2\n",
      "name3\n"
     ]
    }
   ],
   "source": [
    "s = {'name1':'sid','name2':'sudh','name3':'krish'}\n",
    "\n",
    "for index in s:\n",
    "    print(index)"
   ]
  },
  {
   "cell_type": "code",
   "execution_count": 20,
   "id": "0e761af6",
   "metadata": {},
   "outputs": [
    {
     "name": "stdout",
     "output_type": "stream",
     "text": [
      "name1\n",
      "name2\n",
      "name3\n"
     ]
    }
   ],
   "source": [
    "s = {'name1':'sid','name2':'sudh','name3':'krish'}\n",
    "\n",
    "for index in s.keys():\n",
    "    print(index)"
   ]
  },
  {
   "cell_type": "code",
   "execution_count": 21,
   "id": "0a66fbb3",
   "metadata": {},
   "outputs": [
    {
     "name": "stdout",
     "output_type": "stream",
     "text": [
      "sid\n",
      "sudh\n",
      "krish\n"
     ]
    }
   ],
   "source": [
    "s = {'name1':'sid','name2':'sudh','name3':'krish'}\n",
    "\n",
    "for index in s.values():\n",
    "    print(index)"
   ]
  },
  {
   "cell_type": "code",
   "execution_count": 25,
   "id": "1a9d74d4",
   "metadata": {},
   "outputs": [
    {
     "name": "stdout",
     "output_type": "stream",
     "text": [
      "name1 : sid\n",
      "name2 : sudh\n",
      "name3 : krish\n"
     ]
    }
   ],
   "source": [
    "s = {'name1':'sid','name2':'sudh','name3':'krish'}\n",
    "\n",
    "for index in s:\n",
    "    print(index, ':', s[index])"
   ]
  },
  {
   "cell_type": "code",
   "execution_count": 26,
   "id": "177c9d4a",
   "metadata": {},
   "outputs": [
    {
     "name": "stdout",
     "output_type": "stream",
     "text": [
      "('name1', 'sid')\n",
      "('name2', 'sudh')\n",
      "('name3', 'krish')\n"
     ]
    }
   ],
   "source": [
    "s = {'name1':'sid','name2':'sudh','name3':'krish'}\n",
    "\n",
    "for index in s.items():\n",
    "    print(index)"
   ]
  },
  {
   "cell_type": "code",
   "execution_count": 27,
   "id": "ae4fcb85",
   "metadata": {},
   "outputs": [
    {
     "name": "stdout",
     "output_type": "stream",
     "text": [
      "name1 sid\n",
      "name2 sudh\n",
      "name3 krish\n"
     ]
    }
   ],
   "source": [
    "s = {'name1':'sid','name2':'sudh','name3':'krish'}\n",
    "\n",
    "for index in s.items():\n",
    "    print(index[0],index[1])"
   ]
  },
  {
   "cell_type": "code",
   "execution_count": 28,
   "id": "e8ea0a0a",
   "metadata": {},
   "outputs": [
    {
     "name": "stdout",
     "output_type": "stream",
     "text": [
      "name1 : sid\n",
      "name2 : sudh\n",
      "name3 : krish\n"
     ]
    }
   ],
   "source": [
    "s = {'name1':'sid','name2':'sudh','name3':'krish'}\n",
    "\n",
    "for index in s.items():\n",
    "    print(index[0],':',index[1])"
   ]
  },
  {
   "cell_type": "code",
   "execution_count": 31,
   "id": "dbe29f20",
   "metadata": {},
   "outputs": [
    {
     "name": "stdout",
     "output_type": "stream",
     "text": [
      "['name1', 'name2', 'name3']\n"
     ]
    }
   ],
   "source": [
    "s = {'name1':'sid','name2':'sudh','name3':'krish','names':['name1','name2','name3']}\n",
    "\n",
    "for i in s:\n",
    "    if type(s[i])==list:\n",
    "        print(s[i])"
   ]
  }
 ],
 "metadata": {
  "kernelspec": {
   "display_name": "Python 3 (ipykernel)",
   "language": "python",
   "name": "python3"
  },
  "language_info": {
   "codemirror_mode": {
    "name": "ipython",
    "version": 3
   },
   "file_extension": ".py",
   "mimetype": "text/x-python",
   "name": "python",
   "nbconvert_exporter": "python",
   "pygments_lexer": "ipython3",
   "version": "3.11.3"
  }
 },
 "nbformat": 4,
 "nbformat_minor": 5
}
