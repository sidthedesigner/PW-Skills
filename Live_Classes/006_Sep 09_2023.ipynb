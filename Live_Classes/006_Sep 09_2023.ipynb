{
 "cells": [
  {
   "cell_type": "markdown",
   "id": "65a94540",
   "metadata": {},
   "source": [
    "# 1. String Split Method\n",
    "\n",
    "In Python, the `str.split()` method is used to split a string into a list of substrings based on a specified delimiter. Here are some examples of how to use the `str.split()` method:\n",
    "\n",
    "1. **Basic Usage:**\n",
    "   ```python\n",
    "   text = \"Hello, World!\"\n",
    "   words = text.split()  # Split by whitespace\n",
    "   print(words)  # Output: ['Hello,', 'World!']\n",
    "   ```\n",
    "\n",
    "2. **Splitting by a Specific Character:**\n",
    "   ```python\n",
    "   text = \"apple,banana,kiwi\"\n",
    "   fruits = text.split(',')  # Split by comma\n",
    "   print(fruits)  # Output: ['apple', 'banana', 'kiwi']\n",
    "   ```\n",
    "\n",
    "3. **Splitting by Multiple Characters:**\n",
    "   ```python\n",
    "   text = \"apple and banana & kiwi\"\n",
    "   items = text.split(' and ')  # Split by ' and '\n",
    "   print(items)  # Output: ['apple', 'banana & kiwi']\n",
    "   ```\n",
    "\n",
    "4. **Splitting into a Limited Number of Parts:**\n",
    "   ```python\n",
    "   text = \"one,two,three,four,five\"\n",
    "   parts = text.split(',', 2)  # Split into at most 2 parts\n",
    "   print(parts)  # Output: ['one', 'two', 'three,four,five']\n",
    "   ```\n",
    "\n",
    "5. **Handling Whitespace:**\n",
    "   ```python\n",
    "   text = \"  This is  a   sentence  \"\n",
    "   words = text.split()  # Split by whitespace, handles multiple spaces\n",
    "   print(words)  # Output: ['This', 'is', 'a', 'sentence']\n",
    "   ```\n",
    "\n",
    "6. **Splitting Lines in a Text File:**\n",
    "   ```python\n",
    "   with open(\"example.txt\", \"r\") as file:\n",
    "       lines = file.read().splitlines()\n",
    "   print(lines)  # Reads lines from a text file and splits them\n",
    "   ```\n",
    "\n",
    "7. **Splitting with Regular Expressions:**\n",
    "   ```python\n",
    "   import re\n",
    "   text = \"apple,banana;kiwi\"\n",
    "   items = re.split(r'[;,]', text)  # Split by comma or semicolon\n",
    "   print(items)  # Output: ['apple', 'banana', 'kiwi']\n",
    "   ```\n",
    "\n",
    "8. **Removing Empty Strings:**\n",
    "   ```python\n",
    "   text = \"apple,,banana,,kiwi\"\n",
    "   fruits = [fruit for fruit in text.split(',') if fruit]  # Removes empty strings\n",
    "   print(fruits)  # Output: ['apple', 'banana', 'kiwi']\n",
    "   ```\n",
    "\n",
    "9. **Splitting and Unpacking:**\n",
    "   ```python\n",
    "   text = \"John,Doe,30\"\n",
    "   first_name, last_name, age = text.split(',')\n",
    "   print(first_name, last_name, age)  # Output: John Doe 30\n",
    "   ```\n",
    "\n",
    "These are some common use cases for the `str.split()` method in Python. It's a versatile method that allows you to split strings into substrings based on various criteria.\n",
    "\n",
    "# Practice"
   ]
  },
  {
   "cell_type": "code",
   "execution_count": 1,
   "id": "8b047b2b",
   "metadata": {},
   "outputs": [
    {
     "name": "stdout",
     "output_type": "stream",
     "text": [
      "Enter your name:Siddharth Swain Siddharth Swain\n",
      "['Siddharth', 'Swain', 'Siddharth', 'Swain']\n",
      "Siddharth\n",
      "Swain\n",
      "Siddharth\n",
      "Swain\n"
     ]
    }
   ],
   "source": [
    "x = input('Enter your name:')\n",
    "print(x.split())\n",
    "\n",
    "for i in x.split():\n",
    "    print(i)"
   ]
  },
  {
   "cell_type": "code",
   "execution_count": 4,
   "id": "c1492ed1",
   "metadata": {},
   "outputs": [
    {
     "name": "stdout",
     "output_type": "stream",
     "text": [
      "Enter a and b:99,1\n",
      "Sum of a and b is: 100\n"
     ]
    }
   ],
   "source": [
    "single_input = input('Enter a and b:')\n",
    "a,b = single_input.split(',')\n",
    "print(f'Sum of a and b is: {int(a)+int(b)}')"
   ]
  },
  {
   "cell_type": "markdown",
   "id": "7775646d",
   "metadata": {},
   "source": [
    "# 2. Break & Continue Statements\n",
    "\n",
    "In Python, the `break` and `continue` statements are used to control the flow of loops. Here are examples of how they work:\n",
    "\n",
    "1. **`break` statement:**\n",
    "\n",
    "The `break` statement is used to exit the current loop prematurely, regardless of whether the loop's condition has been met. Here's an example using a `while` loop:\n",
    "\n",
    "```python\n",
    "count = 0\n",
    "\n",
    "while count < 5:\n",
    "    if count == 3:\n",
    "        break  # Exit the loop when count is 3\n",
    "    print(\"Count:\", count)\n",
    "    count += 1\n",
    "\n",
    "print(\"Loop finished\")\n",
    "```\n",
    "\n",
    "Output:\n",
    "```\n",
    "Count: 0\n",
    "Count: 1\n",
    "Count: 2\n",
    "Loop finished\n",
    "```\n",
    "\n",
    "In this example, the `break` statement is triggered when `count` is equal to 3, causing the loop to exit immediately.\n",
    "\n",
    "2. **`continue` statement:**\n",
    "\n",
    "The `continue` statement is used to skip the current iteration of a loop and proceed to the next iteration. Here's an example using a `for` loop:\n",
    "\n",
    "```python\n",
    "for i in range(5):\n",
    "    if i == 2:\n",
    "        continue  # Skip the iteration when i is 2\n",
    "    print(\"Value of i:\", i)\n",
    "\n",
    "print(\"Loop finished\")\n",
    "```\n",
    "\n",
    "Output:\n",
    "```\n",
    "Value of i: 0\n",
    "Value of i: 1\n",
    "Value of i: 3\n",
    "Value of i: 4\n",
    "Loop finished\n",
    "```\n",
    "\n",
    "In this example, when `i` is equal to 2, the `continue` statement is executed, which skips the rest of the loop's body for that iteration. The loop then proceeds to the next value of `i`.\n",
    "\n",
    "# Practice"
   ]
  },
  {
   "cell_type": "code",
   "execution_count": 5,
   "id": "9fc3fdef",
   "metadata": {},
   "outputs": [
    {
     "name": "stdout",
     "output_type": "stream",
     "text": [
      "0\n",
      "1\n",
      "2\n",
      "3\n",
      "4\n",
      "5\n",
      "6\n",
      "7\n"
     ]
    }
   ],
   "source": [
    "count = 0\n",
    "while count<=10:\n",
    "    print(count)\n",
    "    count = count + 1\n",
    "    if count == 8:\n",
    "        break"
   ]
  },
  {
   "cell_type": "code",
   "execution_count": 6,
   "id": "a7a188b0",
   "metadata": {},
   "outputs": [
    {
     "name": "stdout",
     "output_type": "stream",
     "text": [
      "0\n",
      "1\n",
      "2\n",
      "3\n",
      "4\n",
      "5\n",
      "6\n",
      "7\n",
      "8\n",
      "9\n",
      "10\n"
     ]
    }
   ],
   "source": [
    "count = 0\n",
    "while count<=10:\n",
    "    print(count)\n",
    "    count = count + 1\n",
    "    if count == 8:\n",
    "        continue"
   ]
  },
  {
   "cell_type": "code",
   "execution_count": null,
   "id": "53a6a9dc",
   "metadata": {},
   "outputs": [],
   "source": [
    "count = 0\n",
    "while count<=10:\n",
    "    print(count)\n",
    "    if count == 8:\n",
    "        continue\n",
    "    count = count + 1\n",
    "# Endless Loop"
   ]
  },
  {
   "cell_type": "markdown",
   "id": "9cff2c0e",
   "metadata": {},
   "source": [
    "# 3. Functions\n",
    "\n",
    "In Python, a function is a block of reusable code that performs a specific task or set of tasks. Functions are an essential concept in programming as they allow you to break down your code into smaller, more manageable pieces. Functions help make your code more organized, modular, and easier to maintain. In this explanation, I'll cover the following aspects of Python functions:\n",
    "\n",
    "1. Function Definition\n",
    "2. Function Arguments\n",
    "3. Return Statement\n",
    "4. Function Examples\n",
    "\n",
    "## 3.1 Definition\n",
    "\n",
    "In Python, you define a function using the `def` keyword followed by the function name, a pair of parentheses `()`, and a colon `:` to indicate the beginning of the function block. The general syntax is:\n",
    "\n",
    "```python\n",
    "def function_name(parameters):\n",
    "    # Function body\n",
    "    # ...\n",
    "    # Optional return statement\n",
    "    # ...\n",
    "```\n",
    "\n",
    "- `function_name`: This is the name of the function and should follow Python's variable naming conventions (usually lowercase with words separated by underscores).\n",
    "- `parameters`: These are optional input values that you can pass to the function. Parameters are enclosed in parentheses. You can have zero or more parameters.\n",
    "\n",
    "## 3.2 Arguments\n",
    "\n",
    "Function arguments are the values passed to a function when it's called. They are specified within the parentheses in the function definition and can be used within the function's body. There are two types of function arguments:\n",
    "\n",
    "- **Positional arguments:** These arguments are passed in the order defined in the function's parameter list.\n",
    "\n",
    "- **Keyword arguments:** These arguments are specified with a keyword (parameter name) and a value. They allow you to pass arguments in any order, as long as you specify the parameter name.\n",
    "\n",
    "## 3.3 Return Statement\n",
    "\n",
    "A function can return a value using the `return` statement. When a function encounters a `return` statement, it immediately exits, and the specified value is sent back to the caller. If there's no `return` statement or if it doesn't specify a value, the function returns `None` by default.\n",
    "\n",
    "## 3.4 Examples\n",
    "\n",
    "**Example 1: Simple Function**\n",
    "\n",
    "```python\n",
    "def greet(name):\n",
    "    return f\"Hello, {name}!\"\n",
    "\n",
    "result = greet(\"Alice\")\n",
    "print(result)  # Output: Hello, Alice!\n",
    "```\n",
    "\n",
    "**Example 2: Function with Multiple Parameters**\n",
    "\n",
    "```python\n",
    "def add(a, b):\n",
    "    return a + b\n",
    "\n",
    "result = add(3, 5)\n",
    "print(result)  # Output: 8\n",
    "```\n",
    "\n",
    "**Example 3: Default Argument Value**\n",
    "\n",
    "```python\n",
    "def greet(name, greeting=\"Hello\"):\n",
    "    return f\"{greeting}, {name}!\"\n",
    "\n",
    "result1 = greet(\"Alice\")           # Uses the default greeting\n",
    "result2 = greet(\"Bob\", \"Hi\")       # Uses the specified greeting\n",
    "\n",
    "print(result1)  # Output: Hello, Alice!\n",
    "print(result2)  # Output: Hi, Bob!\n",
    "```\n",
    "\n",
    "**Example 4: Function with Multiple Return Statements**\n",
    "\n",
    "```python\n",
    "def is_even(number):\n",
    "    if number % 2 == 0:\n",
    "        return True\n",
    "    else:\n",
    "        return False\n",
    "\n",
    "result = is_even(4)\n",
    "print(result)  # Output: True\n",
    "```\n",
    "\n",
    "**Example 5: Function with No Return Statement**\n",
    "\n",
    "```python\n",
    "def say_hello():\n",
    "    print(\"Hello!\")\n",
    "\n",
    "result = say_hello()\n",
    "print(result)  # Output: Hello!\n",
    "               #        None  (since there's no return value)\n",
    "```\n",
    "\n",
    "These are basic examples of Python functions. Functions can be more complex, with conditional statements, loops, and other logic to perform various tasks. Understanding how to define and use functions is crucial for writing organized and maintainable Python code.\n",
    "\n",
    "# Practice"
   ]
  },
  {
   "cell_type": "code",
   "execution_count": 13,
   "id": "0846a4f8",
   "metadata": {},
   "outputs": [],
   "source": [
    "def calculator(a,b,operation):\n",
    "    if operation=='add':\n",
    "        print('Sum of a and b is:', a+b)\n",
    "    elif operation=='subtract':\n",
    "        print('Difference between a and b is:', a-b)\n",
    "    elif operation=='multiply':\n",
    "        print('Product of a and b is:', a*b)\n",
    "    else:\n",
    "        print('Division of a by b is:', a/b)"
   ]
  },
  {
   "cell_type": "code",
   "execution_count": 14,
   "id": "10ef2b4e",
   "metadata": {},
   "outputs": [
    {
     "name": "stdout",
     "output_type": "stream",
     "text": [
      "Division of a by b is: 2.0\n"
     ]
    }
   ],
   "source": [
    "calculator(10,5,'')"
   ]
  },
  {
   "cell_type": "code",
   "execution_count": 15,
   "id": "81c5424b",
   "metadata": {},
   "outputs": [
    {
     "name": "stdout",
     "output_type": "stream",
     "text": [
      "Sum of a and b is: 100\n"
     ]
    }
   ],
   "source": [
    "calculator(99,1,'add')"
   ]
  },
  {
   "cell_type": "code",
   "execution_count": 16,
   "id": "9ce27940",
   "metadata": {},
   "outputs": [
    {
     "name": "stdout",
     "output_type": "stream",
     "text": [
      "Difference between a and b is: 999\n"
     ]
    }
   ],
   "source": [
    "calculator(1000,1,'subtract')"
   ]
  },
  {
   "cell_type": "code",
   "execution_count": 18,
   "id": "b7d5b238",
   "metadata": {},
   "outputs": [
    {
     "name": "stdout",
     "output_type": "stream",
     "text": [
      "Product of a and b is: 999\n"
     ]
    }
   ],
   "source": [
    "calculator(111,9,'multiply')"
   ]
  },
  {
   "cell_type": "markdown",
   "id": "33781801",
   "metadata": {},
   "source": [
    "# 4. Function Argument Types\n",
    "\n",
    "In Python, functions can accept different types of arguments, which allow you to pass data into the function for processing. There are four main types of arguments in Python functions:\n",
    "\n",
    "**1. Positional Arguments:**\n",
    "   - These are the most common type of arguments.\n",
    "   - They are passed to a function in the order they are defined in the function's parameter list.\n",
    "   - The number and order of positional arguments must match the function's parameter list.\n",
    "   - Example:\n",
    "     ```python\n",
    "     def add(x, y):\n",
    "         return x + y\n",
    "\n",
    "     result = add(3, 5)  # Here, 3 and 5 are positional arguments.\n",
    "     ```\n",
    "\n",
    "**2. Keyword Arguments:**\n",
    "   - When you call a function, you can specify the parameter names along with their values.\n",
    "   - This allows you to pass arguments out of order or to skip some arguments.\n",
    "   - Example:\n",
    "     ```python\n",
    "     def greet(name, message):\n",
    "         print(f\"Hello, {name}! {message}\")\n",
    "\n",
    "     greet(message=\"How are you?\", name=\"Alice\")  # Keyword arguments can be in any order.\n",
    "     ```\n",
    "\n",
    "**3. Default Arguments:**\n",
    "   - You can assign default values to function parameters.\n",
    "   - If an argument is not provided when calling the function, it will use the default value.\n",
    "   - Example:\n",
    "     ```python\n",
    "     def greet(name, message=\"Hello\"):\n",
    "         print(f\"{message}, {name}!\")\n",
    "\n",
    "     greet(\"Bob\")  # No message provided, so it uses the default message.\n",
    "     ```\n",
    "\n",
    "**4. Variable-Length Argument Lists:**\n",
    "   - You can define functions that accept a variable number of arguments.\n",
    "   - There are two types: *args and **kwargs.\n",
    "   \n",
    "     - *args (Arbitrary Positional Arguments):\n",
    "       - Allows you to pass a variable number of positional arguments to a function.\n",
    "       - These arguments are collected into a tuple.\n",
    "       - Example:\n",
    "         ```python\n",
    "         def sum_numbers(*args):\n",
    "             result = 0\n",
    "             for num in args:\n",
    "                 result += num\n",
    "             return result\n",
    "\n",
    "         total = sum_numbers(1, 2, 3, 4, 5)  # You can pass any number of arguments.\n",
    "         ```\n",
    "\n",
    "     - **kwargs (Arbitrary Keyword Arguments):\n",
    "       - Allows you to pass a variable number of keyword arguments to a function.\n",
    "       - These arguments are collected into a dictionary.\n",
    "       - Example:\n",
    "         ```python\n",
    "         def print_info(**kwargs):\n",
    "             for key, value in kwargs.items():\n",
    "                 print(f\"{key}: {value}\")\n",
    "\n",
    "         print_info(name=\"Alice\", age=30, city=\"New York\")  # You can pass any number of keyword arguments.\n",
    "         ```\n",
    "\n",
    "These different types of arguments give you flexibility in how you call and use functions in Python, making your code more versatile and readable.\n",
    "\n",
    "# Practice"
   ]
  },
  {
   "cell_type": "markdown",
   "id": "38cec3de",
   "metadata": {},
   "source": [
    "You can calculate the areas of a circle, rectangle, square, and triangle in Python using functions. Here's how you can do it:\n",
    "\n",
    "- Circle:\n",
    "\n",
    "   To calculate the area of a circle, you need the radius. You can use the formula: `Area = π * r^2`.\n",
    "\n",
    "   ```python\n",
    "   import math\n",
    "\n",
    "   def circle_area(radius):\n",
    "       return math.pi * radius**2\n",
    "\n",
    "   radius = float(input(\"Enter the radius of the circle: \"))\n",
    "   print(\"Area of the circle:\", circle_area(radius))\n",
    "   ```\n",
    "\n",
    "- Rectangle:\n",
    "\n",
    "   To calculate the area of a rectangle, you need the length and width. You can use the formula: `Area = length * width`.\n",
    "\n",
    "   ```python\n",
    "   def rectangle_area(length, width):\n",
    "       return length * width\n",
    "\n",
    "   length = float(input(\"Enter the length of the rectangle: \"))\n",
    "   width = float(input(\"Enter the width of the rectangle: \"))\n",
    "   print(\"Area of the rectangle:\", rectangle_area(length, width))\n",
    "   ```\n",
    "\n",
    "- Square:\n",
    "\n",
    "   To calculate the area of a square, you only need the length of one side. You can use the formula: `Area = side_length^2`.\n",
    "\n",
    "   ```python\n",
    "   def square_area(side_length):\n",
    "       return side_length**2\n",
    "\n",
    "   side_length = float(input(\"Enter the side length of the square: \"))\n",
    "   print(\"Area of the square:\", square_area(side_length))\n",
    "   ```\n",
    "\n",
    "- Triangle:\n",
    "\n",
    "   To calculate the area of a triangle, you need the base and height. You can use the formula: `Area = 0.5 * base * height`.\n",
    "\n",
    "   ```python\n",
    "   def triangle_area(base, height):\n",
    "       return 0.5 * base * height\n",
    "\n",
    "   base = float(input(\"Enter the base length of the triangle: \"))\n",
    "   height = float(input(\"Enter the height of the triangle: \"))\n",
    "   print(\"Area of the triangle:\", triangle_area(base, height))\n",
    "   ```\n",
    "\n",
    "You can run each of these functions by providing the required input, and they will calculate and display the area of the respective shape."
   ]
  },
  {
   "cell_type": "markdown",
   "id": "feb00ac0",
   "metadata": {},
   "source": [
    "# Practice\n",
    "\n",
    "You can create a Python function called `print_even_numbers` to achieve this task. Here's a sample implementation using a `while` loop to prompt the user for a range limit and print all even numbers up to that limit:\n",
    "\n",
    "```python\n",
    "def print_even_numbers():\n",
    "    try:\n",
    "        limit = int(input(\"Enter a range limit: \"))\n",
    "        if limit < 0:\n",
    "            print(\"Please enter a positive number.\")\n",
    "        else:\n",
    "            print(\"Even numbers within the range:\")\n",
    "            num = 0\n",
    "            while num <= limit:\n",
    "                if num % 2 == 0:\n",
    "                    print(num)\n",
    "                num += 1\n",
    "    except ValueError:\n",
    "        print(\"Invalid input. Please enter a valid number.\")\n",
    "\n",
    "# Call the function to test it\n",
    "print_even_numbers()\n",
    "```\n",
    "\n",
    "Here's how the function works:\n",
    "1. It prompts the user to enter a range limit.\n",
    "2. It checks if the input is a positive integer.\n",
    "3. If the input is valid, it uses a `while` loop to iterate through numbers from 0 to the specified limit.\n",
    "4. For each number, it checks if it's even (i.e., divisible by 2) and prints it if it is even.\n",
    "5. If the input is invalid (not a positive integer), it handles the exception accordingly.\n",
    "\n",
    "You can call this function in your Python script to use it."
   ]
  },
  {
   "cell_type": "code",
   "execution_count": 24,
   "id": "9fb26824",
   "metadata": {},
   "outputs": [
    {
     "name": "stdout",
     "output_type": "stream",
     "text": [
      "Enter a range limit: 21\n",
      "Even numbers within the range:\n",
      "0\n",
      "2\n",
      "4\n",
      "6\n",
      "8\n",
      "10\n",
      "12\n",
      "14\n",
      "16\n",
      "18\n",
      "20\n"
     ]
    }
   ],
   "source": [
    "def print_even_numbers():\n",
    "    try:\n",
    "        limit = int(input(\"Enter a range limit: \"))\n",
    "        if limit < 0:\n",
    "            print(\"Please enter a positive number.\")\n",
    "        else:\n",
    "            print(\"Even numbers within the range:\")\n",
    "            num = 0\n",
    "            while num <= limit:\n",
    "                if num % 2 == 0:\n",
    "                    print(num)\n",
    "                num += 1\n",
    "    except ValueError:\n",
    "        print(\"Invalid input. Please enter a valid number.\")\n",
    "\n",
    "# Call the function to test it\n",
    "print_even_numbers()"
   ]
  },
  {
   "cell_type": "code",
   "execution_count": 25,
   "id": "cb15769d",
   "metadata": {},
   "outputs": [
    {
     "name": "stdout",
     "output_type": "stream",
     "text": [
      "Enter a range limit: 4\n",
      "Even numbers within the range:\n",
      "0\n",
      "2\n",
      "4\n"
     ]
    }
   ],
   "source": [
    "def print_even_numbers():\n",
    "    try:\n",
    "        limit = int(input(\"Enter a range limit: \"))\n",
    "        if limit < 0:\n",
    "            print(\"Please enter a positive number.\")\n",
    "        else:\n",
    "            print(\"Even numbers within the range:\")\n",
    "            num = 0\n",
    "            while num <= limit:\n",
    "                if num % 2 == 0:\n",
    "                    print(num)\n",
    "                num += 1\n",
    "    except ValueError:\n",
    "        print(\"Invalid input. Please enter a valid number.\")\n",
    "\n",
    "# Call the function to test it\n",
    "print_even_numbers()"
   ]
  },
  {
   "cell_type": "markdown",
   "id": "7370e136",
   "metadata": {},
   "source": [
    "# Practice\n",
    "\n",
    "Write a program to check whether the sides of a triangle form a right triangle."
   ]
  },
  {
   "cell_type": "code",
   "execution_count": 26,
   "id": "5213fbcd",
   "metadata": {},
   "outputs": [
    {
     "name": "stdout",
     "output_type": "stream",
     "text": [
      "Enter the length of side a: 5\n",
      "Enter the length of side b: 3\n",
      "Enter the length of side c: 4\n",
      "It is a right triangle.\n"
     ]
    }
   ],
   "source": [
    "def is_right_triangle(a, b, c):\n",
    "    # Sort the sides in ascending order\n",
    "    sides = sorted([a, b, c])\n",
    "\n",
    "    # Check if the square of the longest side is equal to the sum of the squares of the other two sides\n",
    "    if sides[2] ** 2 == sides[0] ** 2 + sides[1] ** 2:\n",
    "        return True\n",
    "    else:\n",
    "        return False\n",
    "\n",
    "# Input the sides of the triangle\n",
    "a = float(input(\"Enter the length of side a: \"))\n",
    "b = float(input(\"Enter the length of side b: \"))\n",
    "c = float(input(\"Enter the length of side c: \"))\n",
    "\n",
    "# Check if it's a right triangle\n",
    "if is_right_triangle(a, b, c):\n",
    "    print(\"It is a right triangle.\")\n",
    "else:\n",
    "    print(\"It is not a right triangle.\")"
   ]
  },
  {
   "cell_type": "code",
   "execution_count": 27,
   "id": "94d3fde7",
   "metadata": {},
   "outputs": [
    {
     "name": "stdout",
     "output_type": "stream",
     "text": [
      "Enter the length of side a: 5\n",
      "Enter the length of side b: 4\n",
      "Enter the length of side c: 2\n",
      "It is not a right triangle.\n"
     ]
    }
   ],
   "source": [
    "def is_right_triangle(a, b, c):\n",
    "    # Sort the sides in ascending order\n",
    "    sides = sorted([a, b, c])\n",
    "\n",
    "    # Check if the square of the longest side is equal to the sum of the squares of the other two sides\n",
    "    if sides[2] ** 2 == sides[0] ** 2 + sides[1] ** 2:\n",
    "        return True\n",
    "    else:\n",
    "        return False\n",
    "\n",
    "# Input the sides of the triangle\n",
    "a = float(input(\"Enter the length of side a: \"))\n",
    "b = float(input(\"Enter the length of side b: \"))\n",
    "c = float(input(\"Enter the length of side c: \"))\n",
    "\n",
    "# Check if it's a right triangle\n",
    "if is_right_triangle(a, b, c):\n",
    "    print(\"It is a right triangle.\")\n",
    "else:\n",
    "    print(\"It is not a right triangle.\")"
   ]
  }
 ],
 "metadata": {
  "kernelspec": {
   "display_name": "Python 3 (ipykernel)",
   "language": "python",
   "name": "python3"
  },
  "language_info": {
   "codemirror_mode": {
    "name": "ipython",
    "version": 3
   },
   "file_extension": ".py",
   "mimetype": "text/x-python",
   "name": "python",
   "nbconvert_exporter": "python",
   "pygments_lexer": "ipython3",
   "version": "3.11.3"
  }
 },
 "nbformat": 4,
 "nbformat_minor": 5
}
