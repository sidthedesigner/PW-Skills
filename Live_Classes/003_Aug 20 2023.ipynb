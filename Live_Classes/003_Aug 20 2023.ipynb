{
 "cells": [
  {
   "cell_type": "markdown",
   "id": "936e6148",
   "metadata": {},
   "source": [
    "# 1. Lists\n",
    "\n",
    "In Python, a list is a versatile and commonly used data structure that allows you to store and manipulate a collection of items. It's a type of container that can hold elements of various types, including numbers, strings, other lists, and more. Lists are mutable, which means you can change their contents after they're created.\n",
    "\n",
    "Lists are defined using square brackets `[]`, and the individual elements within the list are separated by commas. Here's a basic example of how to create a list:\n",
    "\n",
    "```python\n",
    "my_list = [1, 2, 3, 4, 5]\n",
    "```\n",
    "\n",
    "Lists are zero-indexed, which means the first element is accessed using index 0, the second with index 1, and so on. You can access elements in a list using indexing:\n",
    "\n",
    "```python\n",
    "print(my_list[0])  # Outputs: 1\n",
    "print(my_list[2])  # Outputs: 3\n",
    "```\n",
    "\n",
    "Lists also support negative indexing, where `-1` refers to the last element, `-2` to the second-to-last, and so on:\n",
    "\n",
    "```python\n",
    "print(my_list[-1])  # Outputs: 5 (last element)\n",
    "print(my_list[-2])  # Outputs: 4 (second-to-last element)\n",
    "```\n",
    "\n",
    "You can perform various operations on lists, such as adding elements, removing elements, modifying elements, and more. Here are a few examples:\n",
    "\n",
    "```python\n",
    "my_list.append(6)  # Adds 6 to the end of the list\n",
    "my_list.insert(2, 7)  # Inserts 7 at index 2\n",
    "my_list.pop(3)  # Removes and returns the element at index 3\n",
    "my_list[1] = 8  # Modifies the element at index 1\n",
    "```\n",
    "\n",
    "Lists also support slicing, which allows you to extract a portion of the list:\n",
    "\n",
    "```python\n",
    "subset = my_list[1:4]  # Creates a new list with elements from index 1 to 3\n",
    "```\n",
    "\n",
    "You can even have nested lists, creating lists within lists:\n",
    "\n",
    "```python\n",
    "nested_list = [[1, 2, 3], [4, 5, 6], [7, 8, 9]]\n",
    "print(nested_list[1][2])  # Outputs: 6 (element at row 1, column 2)\n",
    "```\n",
    "\n",
    "Lists in Python provide a flexible way to store and manipulate data, making them a fundamental part of the language for various programming tasks.\n",
    "\n",
    "# 2. List Operations\n",
    "\n",
    "In Python, lists are a versatile and commonly used data structure for storing collections of items. Here are some common operations you can perform on lists in Python:\n",
    "\n",
    "1. **Creating a List**:\n",
    "   ```python\n",
    "   my_list = [1, 2, 3, 4, 5]\n",
    "   ```\n",
    "\n",
    "2. **Accessing Elements**:\n",
    "   - Accessing a single element by index:\n",
    "     ```python\n",
    "     first_element = my_list[0]  # Returns 1\n",
    "     ```\n",
    "\n",
    "   - Slicing to access multiple elements:\n",
    "     ```python\n",
    "     sub_list = my_list[1:4]  # Returns [2, 3, 4]\n",
    "     ```\n",
    "\n",
    "3. **Modifying Elements**:\n",
    "   - Changing an element at a specific index:\n",
    "     ```python\n",
    "     my_list[2] = 100\n",
    "     ```\n",
    "\n",
    "   - Appending an element to the end of the list:\n",
    "     ```python\n",
    "     my_list.append(6)\n",
    "     ```\n",
    "\n",
    "   - Extending a list with another list:\n",
    "     ```python\n",
    "     my_list.extend([7, 8, 9])\n",
    "     ```\n",
    "\n",
    "4. **Inserting Elements**:\n",
    "   - Inserting an element at a specific index:\n",
    "     ```python\n",
    "     my_list.insert(2, 50)  # Inserts 50 at index 2\n",
    "     ```\n",
    "\n",
    "5. **Removing Elements**:\n",
    "   - Removing the last element:\n",
    "     ```python\n",
    "     my_list.pop()\n",
    "     ```\n",
    "\n",
    "   - Removing an element by index:\n",
    "     ```python\n",
    "     my_list.pop(2)  # Removes the element at index 2\n",
    "     ```\n",
    "\n",
    "   - Removing the first occurrence of a value:\n",
    "     ```python\n",
    "     my_list.remove(4)  # Removes the first occurrence of 4\n",
    "     ```\n",
    "\n",
    "6. **Searching for Elements**:\n",
    "   - Finding the index of an element:\n",
    "     ```python\n",
    "     index = my_list.index(3)  # Returns the index of the first occurrence of 3\n",
    "     ```\n",
    "\n",
    "   - Checking if an element is in the list:\n",
    "     ```python\n",
    "     is_present = 5 in my_list  # Returns True if 5 is in the list, False otherwise\n",
    "     ```\n",
    "\n",
    "7. **Sorting and Reversing**:\n",
    "   - Sorting the list in ascending order:\n",
    "     ```python\n",
    "     my_list.sort()\n",
    "     ```\n",
    "\n",
    "   - Sorting the list in descending order:\n",
    "     ```python\n",
    "     my_list.sort(reverse=True)\n",
    "     ```\n",
    "\n",
    "   - Reversing the list in place:\n",
    "     ```python\n",
    "     my_list.reverse()\n",
    "     ```\n",
    "\n",
    "8. **Getting List Length**:\n",
    "   ```python\n",
    "   length = len(my_list)\n",
    "   ```\n",
    "\n",
    "9. **Copying Lists**:\n",
    "   - Shallow copy (new reference, but still references the same objects):\n",
    "     ```python\n",
    "     new_list = my_list.copy()\n",
    "     ```\n",
    "\n",
    "   - Deep copy (creates a new list with new copies of the elements):\n",
    "     ```python\n",
    "     import copy\n",
    "     deep_copy = copy.deepcopy(my_list)\n",
    "     ```\n",
    "\n",
    "These are some of the fundamental operations you can perform with Python lists. Lists are very flexible and can be used in a wide range of applications.\n",
    "\n",
    "# Practice"
   ]
  },
  {
   "cell_type": "code",
   "execution_count": 1,
   "id": "6fbe092f",
   "metadata": {},
   "outputs": [
    {
     "data": {
      "text/plain": [
       "list"
      ]
     },
     "execution_count": 1,
     "metadata": {},
     "output_type": "execute_result"
    }
   ],
   "source": [
    "l = []\n",
    "type(l)"
   ]
  },
  {
   "cell_type": "code",
   "execution_count": 4,
   "id": "b0b05a8b",
   "metadata": {},
   "outputs": [
    {
     "data": {
      "text/plain": [
       "[1, 2, 3, 4, 5, 'sid', 'swain', (3+5j), 345.445, True, [3, 4, 5, 6]]"
      ]
     },
     "execution_count": 4,
     "metadata": {},
     "output_type": "execute_result"
    }
   ],
   "source": [
    "l1 = [1,2,3,4,5,'sid','swain',3+5j,345.445,True,[3,4,5,6]]\n",
    "l1"
   ]
  },
  {
   "cell_type": "code",
   "execution_count": 5,
   "id": "225458cc",
   "metadata": {},
   "outputs": [
    {
     "data": {
      "text/plain": [
       "1"
      ]
     },
     "execution_count": 5,
     "metadata": {},
     "output_type": "execute_result"
    }
   ],
   "source": [
    "l1[0]"
   ]
  },
  {
   "cell_type": "code",
   "execution_count": 6,
   "id": "8678fec0",
   "metadata": {},
   "outputs": [
    {
     "data": {
      "text/plain": [
       "[3, 4, 5, 6]"
      ]
     },
     "execution_count": 6,
     "metadata": {},
     "output_type": "execute_result"
    }
   ],
   "source": [
    "l1[-1]"
   ]
  },
  {
   "cell_type": "code",
   "execution_count": 7,
   "id": "51452f3f",
   "metadata": {},
   "outputs": [
    {
     "data": {
      "text/plain": [
       "11"
      ]
     },
     "execution_count": 7,
     "metadata": {},
     "output_type": "execute_result"
    }
   ],
   "source": [
    "len(l1)"
   ]
  },
  {
   "cell_type": "code",
   "execution_count": 8,
   "id": "aa288121",
   "metadata": {},
   "outputs": [
    {
     "data": {
      "text/plain": [
       "list"
      ]
     },
     "execution_count": 8,
     "metadata": {},
     "output_type": "execute_result"
    }
   ],
   "source": [
    "type(l1)"
   ]
  },
  {
   "cell_type": "code",
   "execution_count": 9,
   "id": "eec2793a",
   "metadata": {},
   "outputs": [
    {
     "data": {
      "text/plain": [
       "3"
      ]
     },
     "execution_count": 9,
     "metadata": {},
     "output_type": "execute_result"
    }
   ],
   "source": [
    "l1[-1][0]"
   ]
  },
  {
   "cell_type": "code",
   "execution_count": 10,
   "id": "6e04ec6d",
   "metadata": {},
   "outputs": [
    {
     "data": {
      "text/plain": [
       "6"
      ]
     },
     "execution_count": 10,
     "metadata": {},
     "output_type": "execute_result"
    }
   ],
   "source": [
    "l1[-1][3]"
   ]
  },
  {
   "cell_type": "code",
   "execution_count": 11,
   "id": "c72dc422",
   "metadata": {},
   "outputs": [
    {
     "ename": "IndexError",
     "evalue": "list index out of range",
     "output_type": "error",
     "traceback": [
      "\u001b[1;31m---------------------------------------------------------------------------\u001b[0m",
      "\u001b[1;31mIndexError\u001b[0m                                Traceback (most recent call last)",
      "\u001b[1;32m~\\AppData\\Local\\Temp\\ipykernel_17272\\1277344219.py\u001b[0m in \u001b[0;36m<module>\u001b[1;34m\u001b[0m\n\u001b[1;32m----> 1\u001b[1;33m \u001b[0ml1\u001b[0m\u001b[1;33m[\u001b[0m\u001b[1;33m-\u001b[0m\u001b[1;36m1\u001b[0m\u001b[1;33m]\u001b[0m\u001b[1;33m[\u001b[0m\u001b[1;36m4\u001b[0m\u001b[1;33m]\u001b[0m\u001b[1;33m\u001b[0m\u001b[1;33m\u001b[0m\u001b[0m\n\u001b[0m",
      "\u001b[1;31mIndexError\u001b[0m: list index out of range"
     ]
    }
   ],
   "source": [
    "l1[-1][4]"
   ]
  },
  {
   "cell_type": "code",
   "execution_count": 13,
   "id": "3b60b50c",
   "metadata": {},
   "outputs": [
    {
     "data": {
      "text/plain": [
       "[1, 2, 3, 4, 5]"
      ]
     },
     "execution_count": 13,
     "metadata": {},
     "output_type": "execute_result"
    }
   ],
   "source": [
    "l1[0:5]"
   ]
  },
  {
   "cell_type": "code",
   "execution_count": 14,
   "id": "c53bb90c",
   "metadata": {},
   "outputs": [
    {
     "data": {
      "text/plain": [
       "[3, 4, 5, 'pwskills', 'sid']"
      ]
     },
     "execution_count": 14,
     "metadata": {},
     "output_type": "execute_result"
    }
   ],
   "source": [
    "l2 = [3,4,5,'pwskills','sid']\n",
    "l2"
   ]
  },
  {
   "cell_type": "code",
   "execution_count": 15,
   "id": "ef683d58",
   "metadata": {},
   "outputs": [
    {
     "data": {
      "text/plain": [
       "[1, 2, 3, 4, 5, 'sid', 'swain', (3+5j), 345.445, True, [3, 4, 5, 6]]"
      ]
     },
     "execution_count": 15,
     "metadata": {},
     "output_type": "execute_result"
    }
   ],
   "source": [
    "l1"
   ]
  },
  {
   "cell_type": "code",
   "execution_count": 16,
   "id": "04128be4",
   "metadata": {},
   "outputs": [
    {
     "data": {
      "text/plain": [
       "[3, 4, 5, 'pwskills', 'sid']"
      ]
     },
     "execution_count": 16,
     "metadata": {},
     "output_type": "execute_result"
    }
   ],
   "source": [
    "l2"
   ]
  },
  {
   "cell_type": "code",
   "execution_count": 17,
   "id": "18f30851",
   "metadata": {},
   "outputs": [
    {
     "data": {
      "text/plain": [
       "[1,\n",
       " 2,\n",
       " 3,\n",
       " 4,\n",
       " 5,\n",
       " 'sid',\n",
       " 'swain',\n",
       " (3+5j),\n",
       " 345.445,\n",
       " True,\n",
       " [3, 4, 5, 6],\n",
       " 3,\n",
       " 4,\n",
       " 5,\n",
       " 'pwskills',\n",
       " 'sid']"
      ]
     },
     "execution_count": 17,
     "metadata": {},
     "output_type": "execute_result"
    }
   ],
   "source": [
    "l1+l2"
   ]
  },
  {
   "cell_type": "code",
   "execution_count": 18,
   "id": "acfdb75f",
   "metadata": {},
   "outputs": [
    {
     "data": {
      "text/plain": [
       "[1,\n",
       " 2,\n",
       " 3,\n",
       " 4,\n",
       " 5,\n",
       " 'sid',\n",
       " 'swain',\n",
       " (3+5j),\n",
       " 345.445,\n",
       " True,\n",
       " [3, 4, 5, 6],\n",
       " 3,\n",
       " 4,\n",
       " 5,\n",
       " 'pwskills',\n",
       " 'sid']"
      ]
     },
     "execution_count": 18,
     "metadata": {},
     "output_type": "execute_result"
    }
   ],
   "source": [
    "l3 = l1 + l2\n",
    "l3"
   ]
  },
  {
   "cell_type": "code",
   "execution_count": 20,
   "id": "dd2e993c",
   "metadata": {},
   "outputs": [
    {
     "data": {
      "text/plain": [
       "list"
      ]
     },
     "execution_count": 20,
     "metadata": {},
     "output_type": "execute_result"
    }
   ],
   "source": [
    "type(l3)"
   ]
  },
  {
   "cell_type": "code",
   "execution_count": 21,
   "id": "86e73fe1",
   "metadata": {},
   "outputs": [
    {
     "data": {
      "text/plain": [
       "[1,\n",
       " 2,\n",
       " 3,\n",
       " 4,\n",
       " 5,\n",
       " 'sid',\n",
       " 'swain',\n",
       " (3+5j),\n",
       " 345.445,\n",
       " True,\n",
       " [3, 4, 5, 6],\n",
       " 3,\n",
       " 4,\n",
       " 5,\n",
       " 'pwskills',\n",
       " 'sid',\n",
       " 1]"
      ]
     },
     "execution_count": 21,
     "metadata": {},
     "output_type": "execute_result"
    }
   ],
   "source": [
    "l3 + [1]"
   ]
  },
  {
   "cell_type": "code",
   "execution_count": 22,
   "id": "f2c67cb9",
   "metadata": {},
   "outputs": [
    {
     "ename": "TypeError",
     "evalue": "can only concatenate list (not \"str\") to list",
     "output_type": "error",
     "traceback": [
      "\u001b[1;31m---------------------------------------------------------------------------\u001b[0m",
      "\u001b[1;31mTypeError\u001b[0m                                 Traceback (most recent call last)",
      "\u001b[1;32m~\\AppData\\Local\\Temp\\ipykernel_17272\\1694212154.py\u001b[0m in \u001b[0;36m<module>\u001b[1;34m\u001b[0m\n\u001b[1;32m----> 1\u001b[1;33m \u001b[0ml3\u001b[0m \u001b[1;33m+\u001b[0m \u001b[1;34m'sid'\u001b[0m\u001b[1;33m\u001b[0m\u001b[1;33m\u001b[0m\u001b[0m\n\u001b[0m",
      "\u001b[1;31mTypeError\u001b[0m: can only concatenate list (not \"str\") to list"
     ]
    }
   ],
   "source": [
    "l3 + 'sid'"
   ]
  },
  {
   "cell_type": "code",
   "execution_count": 23,
   "id": "217e514d",
   "metadata": {},
   "outputs": [
    {
     "data": {
      "text/plain": [
       "['s', 'i', 'd', 'd', 'h', 'a', 'r', 't', 'h', ' ', 's', 'w', 'a', 'i', 'n']"
      ]
     },
     "execution_count": 23,
     "metadata": {},
     "output_type": "execute_result"
    }
   ],
   "source": [
    "list('siddharth swain')"
   ]
  },
  {
   "cell_type": "code",
   "execution_count": 24,
   "id": "779fd624",
   "metadata": {},
   "outputs": [
    {
     "ename": "TypeError",
     "evalue": "'int' object is not iterable",
     "output_type": "error",
     "traceback": [
      "\u001b[1;31m---------------------------------------------------------------------------\u001b[0m",
      "\u001b[1;31mTypeError\u001b[0m                                 Traceback (most recent call last)",
      "\u001b[1;32m~\\AppData\\Local\\Temp\\ipykernel_17272\\1063445933.py\u001b[0m in \u001b[0;36m<module>\u001b[1;34m\u001b[0m\n\u001b[1;32m----> 1\u001b[1;33m \u001b[0mlist\u001b[0m\u001b[1;33m(\u001b[0m\u001b[1;36m343434\u001b[0m\u001b[1;33m)\u001b[0m\u001b[1;33m\u001b[0m\u001b[1;33m\u001b[0m\u001b[0m\n\u001b[0m",
      "\u001b[1;31mTypeError\u001b[0m: 'int' object is not iterable"
     ]
    }
   ],
   "source": [
    "list(343434)"
   ]
  },
  {
   "cell_type": "code",
   "execution_count": 25,
   "id": "a540d36d",
   "metadata": {},
   "outputs": [
    {
     "data": {
      "text/plain": [
       "[1,\n",
       " 2,\n",
       " 3,\n",
       " 4,\n",
       " 5,\n",
       " 'sid',\n",
       " 'swain',\n",
       " (3+5j),\n",
       " 345.445,\n",
       " True,\n",
       " [3, 4, 5, 6],\n",
       " 3,\n",
       " 4,\n",
       " 5,\n",
       " 'pwskills',\n",
       " 'sid']"
      ]
     },
     "execution_count": 25,
     "metadata": {},
     "output_type": "execute_result"
    }
   ],
   "source": [
    "l3"
   ]
  },
  {
   "cell_type": "code",
   "execution_count": 26,
   "id": "784589dd",
   "metadata": {},
   "outputs": [
    {
     "data": {
      "text/plain": [
       "[1,\n",
       " 2,\n",
       " 3,\n",
       " 4,\n",
       " 5,\n",
       " 'sid',\n",
       " 'swain',\n",
       " (3+5j),\n",
       " 345.445,\n",
       " True,\n",
       " [3, 4, 5, 6],\n",
       " 3,\n",
       " 4,\n",
       " 5,\n",
       " 'pwskills',\n",
       " 'sid',\n",
       " 1,\n",
       " 2,\n",
       " 3,\n",
       " 4,\n",
       " 5,\n",
       " 'sid',\n",
       " 'swain',\n",
       " (3+5j),\n",
       " 345.445,\n",
       " True,\n",
       " [3, 4, 5, 6],\n",
       " 3,\n",
       " 4,\n",
       " 5,\n",
       " 'pwskills',\n",
       " 'sid',\n",
       " 1,\n",
       " 2,\n",
       " 3,\n",
       " 4,\n",
       " 5,\n",
       " 'sid',\n",
       " 'swain',\n",
       " (3+5j),\n",
       " 345.445,\n",
       " True,\n",
       " [3, 4, 5, 6],\n",
       " 3,\n",
       " 4,\n",
       " 5,\n",
       " 'pwskills',\n",
       " 'sid',\n",
       " 1,\n",
       " 2,\n",
       " 3,\n",
       " 4,\n",
       " 5,\n",
       " 'sid',\n",
       " 'swain',\n",
       " (3+5j),\n",
       " 345.445,\n",
       " True,\n",
       " [3, 4, 5, 6],\n",
       " 3,\n",
       " 4,\n",
       " 5,\n",
       " 'pwskills',\n",
       " 'sid']"
      ]
     },
     "execution_count": 26,
     "metadata": {},
     "output_type": "execute_result"
    }
   ],
   "source": [
    "l3*4"
   ]
  },
  {
   "cell_type": "code",
   "execution_count": 27,
   "id": "b74de5e3",
   "metadata": {},
   "outputs": [
    {
     "data": {
      "text/plain": [
       "[3, 4, 5, 'pwskills', 'sid', 3, 4, 5, 'pwskills', 'sid']"
      ]
     },
     "execution_count": 27,
     "metadata": {},
     "output_type": "execute_result"
    }
   ],
   "source": [
    "l2*2"
   ]
  },
  {
   "cell_type": "code",
   "execution_count": 28,
   "id": "342963fe",
   "metadata": {},
   "outputs": [
    {
     "data": {
      "text/plain": [
       "[3, 4, 5, 'pwskills', 'sid']"
      ]
     },
     "execution_count": 28,
     "metadata": {},
     "output_type": "execute_result"
    }
   ],
   "source": [
    "l2"
   ]
  },
  {
   "cell_type": "code",
   "execution_count": 29,
   "id": "f7dc5fbf",
   "metadata": {},
   "outputs": [
    {
     "data": {
      "text/plain": [
       "3"
      ]
     },
     "execution_count": 29,
     "metadata": {},
     "output_type": "execute_result"
    }
   ],
   "source": [
    "l2[0]"
   ]
  },
  {
   "cell_type": "code",
   "execution_count": 31,
   "id": "18d89cfe",
   "metadata": {},
   "outputs": [
    {
     "data": {
      "text/plain": [
       "[300, 4, 5, 'pwskills', 'sid']"
      ]
     },
     "execution_count": 31,
     "metadata": {},
     "output_type": "execute_result"
    }
   ],
   "source": [
    "# List Supports Item Assignment and is a Mutable Entity\n",
    "\n",
    "l2[0] = 300\n",
    "l2"
   ]
  },
  {
   "cell_type": "code",
   "execution_count": 32,
   "id": "75b391db",
   "metadata": {},
   "outputs": [
    {
     "data": {
      "text/plain": [
       "tuple"
      ]
     },
     "execution_count": 32,
     "metadata": {},
     "output_type": "execute_result"
    }
   ],
   "source": [
    "t = ()\n",
    "type(t)"
   ]
  },
  {
   "cell_type": "markdown",
   "id": "06f17642",
   "metadata": {},
   "source": [
    "# 3. Tuples\n",
    "\n",
    "A tuple in Python is an ordered, immutable collection of elements. Tuples are similar to lists, but they have a few key differences:\n",
    "\n",
    "1. **Immutability:** Once a tuple is created, its elements cannot be modified, added, or removed. This makes tuples suitable for storing data that shouldn't change.\n",
    "\n",
    "2. **Syntax:** Tuples are defined by enclosing a comma-separated sequence of values within parentheses. For example: `(1, 2, 3)`.\n",
    "\n",
    "3. **Heterogeneity:** Tuples can contain elements of different types, just like lists.\n",
    "\n",
    "4. **Indexing:** Elements in a tuple are accessed using zero-based indexing, similar to lists.\n",
    "\n",
    "Here's an example of creating and using a tuple in Python:\n",
    "\n",
    "```python\n",
    "# Creating a tuple\n",
    "my_tuple = (1, 'hello', 3.14, (4, 5))\n",
    "\n",
    "# Accessing elements\n",
    "print(my_tuple[0])    # Output: 1\n",
    "print(my_tuple[1])    # Output: hello\n",
    "print(my_tuple[3])    # Output: (4, 5)\n",
    "\n",
    "# Nested tuple\n",
    "nested_tuple = my_tuple[3]\n",
    "print(nested_tuple[0])  # Output: 4\n",
    "\n",
    "# Tuple unpacking\n",
    "a, b, c, d = my_tuple\n",
    "print(a, b, c, d)      # Output: 1 hello 3.14 (4, 5)\n",
    "```\n",
    "\n",
    "Tuples are often used when you want to group related pieces of data together, and you want to ensure that the data remains unchanged throughout the program's execution. They are commonly used as keys in dictionaries because of their immutability.\n",
    "\n",
    "# 4. Tuple Operations\n",
    "\n",
    "Tuples in Python are immutable sequences, meaning once you create a tuple, you cannot modify its elements. However, there are several operations you can perform on tuples:\n",
    "\n",
    "1. **Creating a Tuple:**\n",
    "   ```python\n",
    "   my_tuple = (1, 2, 3)\n",
    "   ```\n",
    "\n",
    "2. **Accessing Elements:**\n",
    "   You can access elements using indexing, similar to lists.\n",
    "   ```python\n",
    "   first_element = my_tuple[0]  # Returns 1\n",
    "   ```\n",
    "\n",
    "3. **Slicing:**\n",
    "   You can extract a subset of elements using slicing.\n",
    "   ```python\n",
    "   subset = my_tuple[1:3]  # Returns (2, 3)\n",
    "   ```\n",
    "\n",
    "4. **Concatenation:**\n",
    "   Tuples can be concatenated to create a new tuple.\n",
    "   ```python\n",
    "   combined_tuple = my_tuple + (4, 5)\n",
    "   ```\n",
    "\n",
    "5. **Repetition:**\n",
    "   You can repeat a tuple to create a new tuple with repeated elements.\n",
    "   ```python\n",
    "   repeated_tuple = my_tuple * 3  # Returns (1, 2, 3, 1, 2, 3, 1, 2, 3)\n",
    "   ```\n",
    "\n",
    "6. **Length:**\n",
    "   You can find the length of a tuple using the `len()` function.\n",
    "   ```python\n",
    "   tuple_length = len(my_tuple)\n",
    "   ```\n",
    "\n",
    "7. **Membership Testing:**\n",
    "   You can check if an element is present in a tuple using the `in` keyword.\n",
    "   ```python\n",
    "   is_present = 2 in my_tuple  # Returns True\n",
    "   ```\n",
    "\n",
    "8. **Iterating Through a Tuple:**\n",
    "   You can use loops to iterate through the elements of a tuple.\n",
    "   ```python\n",
    "   for item in my_tuple:\n",
    "       print(item)\n",
    "   ```\n",
    "\n",
    "9. **Unpacking:**\n",
    "   You can unpack the elements of a tuple into separate variables.\n",
    "   ```python\n",
    "   a, b, c = my_tuple  # a = 1, b = 2, c = 3\n",
    "   ```\n",
    "\n",
    "10. **Tuple Methods:**\n",
    "    Tuples have a few methods, including `count()` and `index()`:\n",
    "    ```python\n",
    "    count_2 = my_tuple.count(2)  # Returns the count of occurrences of 2 (e.g., 1)\n",
    "    index_2 = my_tuple.index(2)  # Returns the index of the first occurrence of 2 (e.g., 1)\n",
    "    ```\n",
    "\n",
    "Remember that tuples are immutable, so you cannot change their elements after creation. If you need to modify elements, consider using lists instead.\n",
    "\n",
    "# Practice"
   ]
  },
  {
   "cell_type": "code",
   "execution_count": 33,
   "id": "1bb91644",
   "metadata": {},
   "outputs": [
    {
     "data": {
      "text/plain": [
       "(1, 2, 3, 4, 'sid', 'pwkills', (4+5j), True)"
      ]
     },
     "execution_count": 33,
     "metadata": {},
     "output_type": "execute_result"
    }
   ],
   "source": [
    "t = (1,2,3,4,'sid','pwkills',4+5j,True)\n",
    "t"
   ]
  },
  {
   "cell_type": "code",
   "execution_count": 34,
   "id": "70d7b323",
   "metadata": {},
   "outputs": [
    {
     "data": {
      "text/plain": [
       "1"
      ]
     },
     "execution_count": 34,
     "metadata": {},
     "output_type": "execute_result"
    }
   ],
   "source": [
    "t[0]"
   ]
  },
  {
   "cell_type": "code",
   "execution_count": 35,
   "id": "00ba3eb1",
   "metadata": {},
   "outputs": [
    {
     "data": {
      "text/plain": [
       "8"
      ]
     },
     "execution_count": 35,
     "metadata": {},
     "output_type": "execute_result"
    }
   ],
   "source": [
    "len(t)"
   ]
  },
  {
   "cell_type": "code",
   "execution_count": 36,
   "id": "18b68d76",
   "metadata": {},
   "outputs": [
    {
     "data": {
      "text/plain": [
       "True"
      ]
     },
     "execution_count": 36,
     "metadata": {},
     "output_type": "execute_result"
    }
   ],
   "source": [
    "t[7]"
   ]
  },
  {
   "cell_type": "code",
   "execution_count": 37,
   "id": "c774aff2",
   "metadata": {},
   "outputs": [
    {
     "data": {
      "text/plain": [
       "(True, (4+5j), 'pwkills', 'sid', 4, 3, 2, 1)"
      ]
     },
     "execution_count": 37,
     "metadata": {},
     "output_type": "execute_result"
    }
   ],
   "source": [
    "t[::-1]"
   ]
  },
  {
   "cell_type": "code",
   "execution_count": 38,
   "id": "72d29c77",
   "metadata": {},
   "outputs": [
    {
     "ename": "TypeError",
     "evalue": "'tuple' object does not support item assignment",
     "output_type": "error",
     "traceback": [
      "\u001b[1;31m---------------------------------------------------------------------------\u001b[0m",
      "\u001b[1;31mTypeError\u001b[0m                                 Traceback (most recent call last)",
      "\u001b[1;32m~\\AppData\\Local\\Temp\\ipykernel_17272\\2817715017.py\u001b[0m in \u001b[0;36m<module>\u001b[1;34m\u001b[0m\n\u001b[1;32m----> 1\u001b[1;33m \u001b[0mt\u001b[0m\u001b[1;33m[\u001b[0m\u001b[1;36m0\u001b[0m\u001b[1;33m]\u001b[0m \u001b[1;33m=\u001b[0m \u001b[1;34m'sid'\u001b[0m\u001b[1;33m\u001b[0m\u001b[1;33m\u001b[0m\u001b[0m\n\u001b[0m\u001b[0;32m      2\u001b[0m \u001b[0mt\u001b[0m\u001b[1;33m\u001b[0m\u001b[1;33m\u001b[0m\u001b[0m\n",
      "\u001b[1;31mTypeError\u001b[0m: 'tuple' object does not support item assignment"
     ]
    }
   ],
   "source": [
    "t[0] = 'sid'\n",
    "t"
   ]
  },
  {
   "cell_type": "code",
   "execution_count": 39,
   "id": "1143e83c",
   "metadata": {},
   "outputs": [
    {
     "data": {
      "text/plain": [
       "(1, 2, 3, 4, 'sid', 'pwkills', (4+5j), True)"
      ]
     },
     "execution_count": 39,
     "metadata": {},
     "output_type": "execute_result"
    }
   ],
   "source": [
    "t"
   ]
  },
  {
   "cell_type": "code",
   "execution_count": 40,
   "id": "991754d0",
   "metadata": {},
   "outputs": [],
   "source": [
    "t1 = (95,6,7,80)"
   ]
  },
  {
   "cell_type": "code",
   "execution_count": 41,
   "id": "712bc040",
   "metadata": {},
   "outputs": [
    {
     "data": {
      "text/plain": [
       "(1, 2, 3, 4, 'sid', 'pwkills', (4+5j), True, 95, 6, 7, 80)"
      ]
     },
     "execution_count": 41,
     "metadata": {},
     "output_type": "execute_result"
    }
   ],
   "source": [
    "t+t1"
   ]
  },
  {
   "cell_type": "code",
   "execution_count": 42,
   "id": "61fc0e32",
   "metadata": {},
   "outputs": [
    {
     "data": {
      "text/plain": [
       "[1, 2, 3, 4, 'sid', 'pwkills', (4+5j), True]"
      ]
     },
     "execution_count": 42,
     "metadata": {},
     "output_type": "execute_result"
    }
   ],
   "source": [
    "list(t)"
   ]
  },
  {
   "cell_type": "code",
   "execution_count": 43,
   "id": "14f95e16",
   "metadata": {},
   "outputs": [
    {
     "data": {
      "text/plain": [
       "[95, 6, 7, 80]"
      ]
     },
     "execution_count": 43,
     "metadata": {},
     "output_type": "execute_result"
    }
   ],
   "source": [
    "list(t1)"
   ]
  },
  {
   "cell_type": "code",
   "execution_count": 44,
   "id": "f458f03b",
   "metadata": {},
   "outputs": [
    {
     "data": {
      "text/plain": [
       "12"
      ]
     },
     "execution_count": 44,
     "metadata": {},
     "output_type": "execute_result"
    }
   ],
   "source": [
    "len(t+t1)"
   ]
  },
  {
   "cell_type": "code",
   "execution_count": 45,
   "id": "e6596c29",
   "metadata": {},
   "outputs": [
    {
     "data": {
      "text/plain": [
       "4"
      ]
     },
     "execution_count": 45,
     "metadata": {},
     "output_type": "execute_result"
    }
   ],
   "source": [
    "len(t1)"
   ]
  },
  {
   "cell_type": "code",
   "execution_count": 46,
   "id": "024b69fb",
   "metadata": {},
   "outputs": [
    {
     "data": {
      "text/plain": [
       "(95, 6, 7, 80)"
      ]
     },
     "execution_count": 46,
     "metadata": {},
     "output_type": "execute_result"
    }
   ],
   "source": [
    "t1"
   ]
  },
  {
   "cell_type": "markdown",
   "id": "30c4f6d0",
   "metadata": {},
   "source": [
    "# 5. Sets\n",
    "\n",
    "Python sets are a fundamental data structure used to store collections of unique elements. Unlike lists or tuples, sets do not allow duplicate values. They are defined using curly braces or the `set()` constructor and can contain various data types, including numbers, strings, and more. \n",
    "\n",
    "Sets offer several built-in operations for common set operations, such as union, intersection, difference, and symmetric difference. Sets are unordered, which means they do not maintain the order of elements, and they are mutable, allowing elements to be added or removed.\n",
    "\n",
    "Sets are commonly used in situations where you need to work with unique elements or perform set-based operations efficiently, like removing duplicates from a list or testing membership of an element in a collection without duplicates.\n",
    "\n",
    "# 6. Set Operations\n",
    "\n",
    "In Python, a set is an unordered collection of unique elements. It is a built-in data type that is used to store a collection of distinct values. Sets are mutable, which means you can add or remove elements from them after creation. Sets are often used when you need to work with a collection of items where the order doesn't matter, and duplicates are not allowed.\n",
    "\n",
    "Here's how you can create and work with sets in Python:\n",
    "\n",
    "1. **Creating a Set:**\n",
    "   You can create a set by enclosing a comma-separated list of elements within curly braces `{}`.\n",
    "   ```python\n",
    "   my_set = {1, 2, 3, 4}\n",
    "   ```\n",
    "\n",
    "2. **Adding Elements:**\n",
    "   You can add elements to a set using the `add()` method.\n",
    "   ```python\n",
    "   my_set.add(5)\n",
    "   ```\n",
    "\n",
    "3. **Removing Elements:**\n",
    "   You can remove elements from a set using methods like `remove()` or `discard()`.\n",
    "   ```python\n",
    "   my_set.remove(2)   # Raises an error if the element doesn't exist\n",
    "   my_set.discard(3)  # Doesn't raise an error if the element doesn't exist\n",
    "   ```\n",
    "\n",
    "4. **Set Operations:**\n",
    "   Sets support various operations such as union, intersection, difference, and more.\n",
    "   ```python\n",
    "   set1 = {1, 2, 3}\n",
    "   set2 = {3, 4, 5}\n",
    "   \n",
    "   union_set = set1.union(set2)             # Elements present in either set (1, 2, 3, 4, 5)\n",
    "   intersection_set = set1.intersection(set2)  # Elements present in both sets (3)\n",
    "   difference_set = set1.difference(set2)    # Elements in set1 but not in set2 (1, 2)\n",
    "   ```\n",
    "\n",
    "5. **Membership Testing:**\n",
    "   You can check if an element is present in a set using the `in` keyword.\n",
    "   ```python\n",
    "   is_present = 2 in my_set  # Returns False if 2 is not in the set\n",
    "   ```\n",
    "\n",
    "6. **Iterating Through a Set:**\n",
    "   You can use loops to iterate through the elements of a set.\n",
    "   ```python\n",
    "   for item in my_set:\n",
    "       print(item)\n",
    "   ```\n",
    "\n",
    "7. **Set Methods:**\n",
    "   Sets have various methods for performing different operations, such as `pop()`, `clear()`, and `copy()`.\n",
    "\n",
    "8. **Converting Lists to Sets and Vice Versa:**\n",
    "   You can convert a list to a set and vice versa using the `set()` and `list()` functions.\n",
    "   ```python\n",
    "   my_list = [1, 2, 3, 2, 4]\n",
    "   my_set = set(my_list)   # Converts the list to a set, removing duplicates\n",
    "   new_list = list(my_set)  # Converts the set back to a list\n",
    "   ```\n",
    "\n",
    "Keep in mind that since sets are unordered, you cannot access their elements using indexing like you can with lists or tuples.\n",
    "\n",
    "# Practice"
   ]
  },
  {
   "cell_type": "code",
   "execution_count": 47,
   "id": "5c5189ff",
   "metadata": {},
   "outputs": [
    {
     "data": {
      "text/plain": [
       "dict"
      ]
     },
     "execution_count": 47,
     "metadata": {},
     "output_type": "execute_result"
    }
   ],
   "source": [
    "s = {}\n",
    "type(s)"
   ]
  },
  {
   "cell_type": "code",
   "execution_count": 48,
   "id": "a5d9726f",
   "metadata": {},
   "outputs": [
    {
     "data": {
      "text/plain": [
       "set"
      ]
     },
     "execution_count": 48,
     "metadata": {},
     "output_type": "execute_result"
    }
   ],
   "source": [
    "s = {1,2,3}\n",
    "type(s)"
   ]
  },
  {
   "cell_type": "code",
   "execution_count": 49,
   "id": "f5844166",
   "metadata": {},
   "outputs": [
    {
     "data": {
      "text/plain": [
       "{1, 33, 2222}"
      ]
     },
     "execution_count": 49,
     "metadata": {},
     "output_type": "execute_result"
    }
   ],
   "source": [
    "s = {1,2222,2222,33,33,33}\n",
    "s"
   ]
  },
  {
   "cell_type": "markdown",
   "id": "a67d4e6c",
   "metadata": {},
   "source": []
  },
  {
   "cell_type": "code",
   "execution_count": 50,
   "id": "b876ee8b",
   "metadata": {},
   "outputs": [
    {
     "data": {
      "text/plain": [
       "{1, 33, 2222}"
      ]
     },
     "execution_count": 50,
     "metadata": {},
     "output_type": "execute_result"
    }
   ],
   "source": [
    "s"
   ]
  },
  {
   "cell_type": "code",
   "execution_count": 51,
   "id": "f92d8755",
   "metadata": {},
   "outputs": [
    {
     "data": {
      "text/plain": [
       "set"
      ]
     },
     "execution_count": 51,
     "metadata": {},
     "output_type": "execute_result"
    }
   ],
   "source": [
    "type(s)"
   ]
  },
  {
   "cell_type": "code",
   "execution_count": 52,
   "id": "07edee64",
   "metadata": {},
   "outputs": [
    {
     "data": {
      "text/plain": [
       "[1, 2222, 33]"
      ]
     },
     "execution_count": 52,
     "metadata": {},
     "output_type": "execute_result"
    }
   ],
   "source": [
    "list(s)"
   ]
  },
  {
   "cell_type": "code",
   "execution_count": 54,
   "id": "b5b7ace4",
   "metadata": {},
   "outputs": [
    {
     "data": {
      "text/plain": [
       "{1, 2, 4, 5, 6, 7, 8, 33}"
      ]
     },
     "execution_count": 54,
     "metadata": {},
     "output_type": "execute_result"
    }
   ],
   "source": [
    "l1 = [1,2,2,2,2,33,33,4,5,6,7,8]\n",
    "set(l1)"
   ]
  },
  {
   "cell_type": "code",
   "execution_count": 55,
   "id": "a4794d70",
   "metadata": {},
   "outputs": [
    {
     "data": {
      "text/plain": [
       "[1, 2, 3, 4, [4, 5]]"
      ]
     },
     "execution_count": 55,
     "metadata": {},
     "output_type": "execute_result"
    }
   ],
   "source": [
    "l1 = [1,2,3,4,[4,5]]\n",
    "l1"
   ]
  },
  {
   "cell_type": "code",
   "execution_count": 56,
   "id": "4c514971",
   "metadata": {},
   "outputs": [
    {
     "ename": "TypeError",
     "evalue": "unhashable type: 'list'",
     "output_type": "error",
     "traceback": [
      "\u001b[1;31m---------------------------------------------------------------------------\u001b[0m",
      "\u001b[1;31mTypeError\u001b[0m                                 Traceback (most recent call last)",
      "\u001b[1;32m~\\AppData\\Local\\Temp\\ipykernel_17272\\2762397700.py\u001b[0m in \u001b[0;36m<module>\u001b[1;34m\u001b[0m\n\u001b[1;32m----> 1\u001b[1;33m \u001b[0mset\u001b[0m\u001b[1;33m(\u001b[0m\u001b[0ml1\u001b[0m\u001b[1;33m)\u001b[0m\u001b[1;33m\u001b[0m\u001b[1;33m\u001b[0m\u001b[0m\n\u001b[0m",
      "\u001b[1;31mTypeError\u001b[0m: unhashable type: 'list'"
     ]
    }
   ],
   "source": [
    "set(l1)"
   ]
  },
  {
   "cell_type": "code",
   "execution_count": 57,
   "id": "a7fe7f0e",
   "metadata": {},
   "outputs": [
    {
     "data": {
      "text/plain": [
       "{1, 33, 2222}"
      ]
     },
     "execution_count": 57,
     "metadata": {},
     "output_type": "execute_result"
    }
   ],
   "source": [
    "s"
   ]
  },
  {
   "cell_type": "code",
   "execution_count": 58,
   "id": "46cb6a57",
   "metadata": {},
   "outputs": [
    {
     "ename": "TypeError",
     "evalue": "'set' object is not subscriptable",
     "output_type": "error",
     "traceback": [
      "\u001b[1;31m---------------------------------------------------------------------------\u001b[0m",
      "\u001b[1;31mTypeError\u001b[0m                                 Traceback (most recent call last)",
      "\u001b[1;32m~\\AppData\\Local\\Temp\\ipykernel_17272\\243613605.py\u001b[0m in \u001b[0;36m<module>\u001b[1;34m\u001b[0m\n\u001b[1;32m----> 1\u001b[1;33m \u001b[0ms\u001b[0m\u001b[1;33m[\u001b[0m\u001b[1;36m0\u001b[0m\u001b[1;33m]\u001b[0m\u001b[1;33m\u001b[0m\u001b[1;33m\u001b[0m\u001b[0m\n\u001b[0m",
      "\u001b[1;31mTypeError\u001b[0m: 'set' object is not subscriptable"
     ]
    }
   ],
   "source": [
    "s[0]"
   ]
  },
  {
   "cell_type": "code",
   "execution_count": 60,
   "id": "fab9d368",
   "metadata": {},
   "outputs": [
    {
     "data": {
      "text/plain": [
       "{1, 2, 3, 4, 5, 6, 100}"
      ]
     },
     "execution_count": 60,
     "metadata": {},
     "output_type": "execute_result"
    }
   ],
   "source": [
    "s = {6,5,4,3,2,1,100}\n",
    "s"
   ]
  },
  {
   "cell_type": "code",
   "execution_count": 61,
   "id": "f1186583",
   "metadata": {},
   "outputs": [
    {
     "ename": "TypeError",
     "evalue": "'set' object is not subscriptable",
     "output_type": "error",
     "traceback": [
      "\u001b[1;31m---------------------------------------------------------------------------\u001b[0m",
      "\u001b[1;31mTypeError\u001b[0m                                 Traceback (most recent call last)",
      "\u001b[1;32m~\\AppData\\Local\\Temp\\ipykernel_17272\\2713154622.py\u001b[0m in \u001b[0;36m<module>\u001b[1;34m\u001b[0m\n\u001b[1;32m----> 1\u001b[1;33m \u001b[0ms\u001b[0m\u001b[1;33m[\u001b[0m\u001b[1;33m-\u001b[0m\u001b[1;36m1\u001b[0m\u001b[1;33m]\u001b[0m\u001b[1;33m\u001b[0m\u001b[1;33m\u001b[0m\u001b[0m\n\u001b[0m",
      "\u001b[1;31mTypeError\u001b[0m: 'set' object is not subscriptable"
     ]
    }
   ],
   "source": [
    "s[-1]"
   ]
  },
  {
   "cell_type": "code",
   "execution_count": 62,
   "id": "ec23b717",
   "metadata": {},
   "outputs": [
    {
     "data": {
      "text/plain": [
       "dict"
      ]
     },
     "execution_count": 62,
     "metadata": {},
     "output_type": "execute_result"
    }
   ],
   "source": [
    "d = {}\n",
    "type(d)"
   ]
  },
  {
   "cell_type": "markdown",
   "id": "1060fe6a",
   "metadata": {},
   "source": [
    "# 7. Dictionaries\n",
    "\n",
    "In Python, a dictionary is a built-in data type that stores an unordered collection of key-value pairs. \n",
    "\n",
    "It is also sometimes referred to as an associative array or a hash map in other programming languages. \n",
    "\n",
    "Dictionaries are used to store and retrieve data using a unique key for each value, providing fast access to values based on their associated keys.\n",
    "\n",
    "# 8. Dictionary Operations\n",
    "\n",
    "Here's a basic overview of how dictionaries work in Python:\n",
    "\n",
    "1. **Creating a Dictionary:**\n",
    "   You can create a dictionary by enclosing comma-separated key-value pairs within curly braces `{}`. Keys must be unique and immutable (usually strings or numbers), and values can be of any data type.\n",
    "\n",
    "   ```python\n",
    "   my_dict = {\n",
    "       \"name\": \"John\",\n",
    "       \"age\": 30,\n",
    "       \"city\": \"New York\"\n",
    "   }\n",
    "   ```\n",
    "\n",
    "2. **Accessing Values:**\n",
    "   You can access values in a dictionary by providing the corresponding key in square brackets `[]`.\n",
    "\n",
    "   ```python\n",
    "   print(my_dict[\"name\"])  # Output: \"John\"\n",
    "   print(my_dict[\"age\"])   # Output: 30\n",
    "   ```\n",
    "\n",
    "3. **Adding and Modifying Entries:**\n",
    "   You can add new key-value pairs to a dictionary or modify existing ones.\n",
    "\n",
    "   ```python\n",
    "   my_dict[\"occupation\"] = \"Engineer\"  # Adding a new key-value pair\n",
    "   my_dict[\"age\"] = 31  # Modifying an existing value\n",
    "   ```\n",
    "\n",
    "4. **Removing Entries:**\n",
    "   You can remove key-value pairs using the `del` keyword or the `pop()` method.\n",
    "\n",
    "   ```python\n",
    "   del my_dict[\"city\"]  # Removing a specific entry\n",
    "   age = my_dict.pop(\"age\")  # Removing and retrieving the value of \"age\"\n",
    "   ```\n",
    "\n",
    "5. **Dictionary Methods:**\n",
    "   Python provides several useful methods for working with dictionaries, such as `keys()`, `values()`, `items()`, `get()`, `update()`, and more.\n",
    "\n",
    "   ```python\n",
    "   keys = my_dict.keys()       # Returns a list of keys\n",
    "   values = my_dict.values()   # Returns a list of values\n",
    "   items = my_dict.items()     # Returns a list of key-value tuples\n",
    "   ```\n",
    "\n",
    "6. **Iterating Through a Dictionary:**\n",
    "   You can iterate over the keys, values, or key-value pairs in a dictionary using loops.\n",
    "\n",
    "   ```python\n",
    "   for key in my_dict:\n",
    "       print(key, my_dict[key])\n",
    "\n",
    "   for value in my_dict.values():\n",
    "       print(value)\n",
    "\n",
    "   for key, value in my_dict.items():\n",
    "       print(key, value)\n",
    "   ```\n",
    "\n",
    "Dictionaries are commonly used for various purposes, such as storing configurations, mapping unique identifiers to data, and more. They provide efficient and convenient access to data using meaningful keys.\n",
    "\n",
    "# Practice"
   ]
  },
  {
   "cell_type": "code",
   "execution_count": 66,
   "id": "7a065d11",
   "metadata": {},
   "outputs": [
    {
     "data": {
      "text/plain": [
       "{'name': 'siddharth', 'subject': ['maths', 'physics'], 'number': 12345}"
      ]
     },
     "execution_count": 66,
     "metadata": {},
     "output_type": "execute_result"
    }
   ],
   "source": [
    "d1 = {'name':'siddharth', 'subject':['maths','physics'], 'number':12345}\n",
    "d1"
   ]
  },
  {
   "cell_type": "code",
   "execution_count": 67,
   "id": "dd374be6",
   "metadata": {},
   "outputs": [
    {
     "data": {
      "text/plain": [
       "{'name': 'siddharth'}"
      ]
     },
     "execution_count": 67,
     "metadata": {},
     "output_type": "execute_result"
    }
   ],
   "source": [
    "d2 = {'name':'sonu','name':'siddharth'}\n",
    "d2"
   ]
  },
  {
   "cell_type": "code",
   "execution_count": 69,
   "id": "e0887ebd",
   "metadata": {},
   "outputs": [
    {
     "data": {
      "text/plain": [
       "{123: 'bha'}"
      ]
     },
     "execution_count": 69,
     "metadata": {},
     "output_type": "execute_result"
    }
   ],
   "source": [
    "d3 = {123:'bha'}\n",
    "d3"
   ]
  },
  {
   "cell_type": "code",
   "execution_count": 70,
   "id": "c7119faa",
   "metadata": {},
   "outputs": [
    {
     "ename": "TypeError",
     "evalue": "unhashable type: 'list'",
     "output_type": "error",
     "traceback": [
      "\u001b[1;31m---------------------------------------------------------------------------\u001b[0m",
      "\u001b[1;31mTypeError\u001b[0m                                 Traceback (most recent call last)",
      "\u001b[1;32m~\\AppData\\Local\\Temp\\ipykernel_17272\\3586130983.py\u001b[0m in \u001b[0;36m<module>\u001b[1;34m\u001b[0m\n\u001b[1;32m----> 1\u001b[1;33m \u001b[0md4\u001b[0m \u001b[1;33m=\u001b[0m \u001b[1;33m{\u001b[0m\u001b[1;33m[\u001b[0m\u001b[1;36m1\u001b[0m\u001b[1;33m,\u001b[0m\u001b[1;36m2\u001b[0m\u001b[1;33m,\u001b[0m\u001b[1;36m3\u001b[0m\u001b[1;33m]\u001b[0m\u001b[1;33m:\u001b[0m\u001b[1;36m33\u001b[0m\u001b[1;33m}\u001b[0m\u001b[1;33m\u001b[0m\u001b[1;33m\u001b[0m\u001b[0m\n\u001b[0m",
      "\u001b[1;31mTypeError\u001b[0m: unhashable type: 'list'"
     ]
    }
   ],
   "source": [
    "d4 = {[1,2,3]:33}"
   ]
  },
  {
   "cell_type": "code",
   "execution_count": 71,
   "id": "e88ae359",
   "metadata": {},
   "outputs": [
    {
     "data": {
      "text/plain": [
       "{(2, 3, 4): 'hi'}"
      ]
     },
     "execution_count": 71,
     "metadata": {},
     "output_type": "execute_result"
    }
   ],
   "source": [
    "d4 = {(2,3,4):'hi'}\n",
    "d4"
   ]
  },
  {
   "cell_type": "code",
   "execution_count": 72,
   "id": "46ed27a8",
   "metadata": {},
   "outputs": [
    {
     "ename": "TypeError",
     "evalue": "unhashable type: 'set'",
     "output_type": "error",
     "traceback": [
      "\u001b[1;31m---------------------------------------------------------------------------\u001b[0m",
      "\u001b[1;31mTypeError\u001b[0m                                 Traceback (most recent call last)",
      "\u001b[1;32m~\\AppData\\Local\\Temp\\ipykernel_17272\\653086508.py\u001b[0m in \u001b[0;36m<module>\u001b[1;34m\u001b[0m\n\u001b[1;32m----> 1\u001b[1;33m \u001b[0md4\u001b[0m \u001b[1;33m=\u001b[0m \u001b[1;33m{\u001b[0m\u001b[1;33m{\u001b[0m\u001b[1;36m1\u001b[0m\u001b[1;33m,\u001b[0m\u001b[1;36m2\u001b[0m\u001b[1;33m}\u001b[0m\u001b[1;33m:\u001b[0m\u001b[1;36m333\u001b[0m\u001b[1;33m}\u001b[0m\u001b[1;33m\u001b[0m\u001b[1;33m\u001b[0m\u001b[0m\n\u001b[0m",
      "\u001b[1;31mTypeError\u001b[0m: unhashable type: 'set'"
     ]
    }
   ],
   "source": [
    "d4 = {{1,2}:333}"
   ]
  },
  {
   "cell_type": "code",
   "execution_count": 73,
   "id": "ac392e2f",
   "metadata": {},
   "outputs": [
    {
     "data": {
      "text/plain": [
       "{'course': ['dsa', 'python'],\n",
       " 'mentor': ['sid', 'sudhanshu', 'sunny'],\n",
       " 'price': [3500, 15000, 20000],\n",
       " 'duration': 1}"
      ]
     },
     "execution_count": 73,
     "metadata": {},
     "output_type": "execute_result"
    }
   ],
   "source": [
    "d5 = {'course':['dsa','python'],'mentor':['sid','sudhanshu','sunny'],'price': [3500,15000,20000],'duration':1}\n",
    "d5"
   ]
  },
  {
   "cell_type": "code",
   "execution_count": 74,
   "id": "b82e9bc9",
   "metadata": {},
   "outputs": [
    {
     "data": {
      "text/plain": [
       "{'course': ['dsa', 'python'],\n",
       " 'mentor': ['sid', 'sudhanshu', 'sunny'],\n",
       " 'price': [3500, 15000, 20000],\n",
       " 'duration': '12 Months'}"
      ]
     },
     "execution_count": 74,
     "metadata": {},
     "output_type": "execute_result"
    }
   ],
   "source": [
    "d5['duration'] = '12 Months'\n",
    "d5"
   ]
  },
  {
   "cell_type": "code",
   "execution_count": 75,
   "id": "60a28e38",
   "metadata": {},
   "outputs": [
    {
     "data": {
      "text/plain": [
       "{'course': ['dsa', 'python'],\n",
       " 'mentor': ['sid', 'sudhanshu', 'sunny'],\n",
       " 'price': [3500, 15000, 20000],\n",
       " 'duration': '12 Months',\n",
       " 'syllabus': {'python': ['oops', 'logging'],\n",
       "  'ml': ['supervised', 'unsupervised']}}"
      ]
     },
     "execution_count": 75,
     "metadata": {},
     "output_type": "execute_result"
    }
   ],
   "source": [
    "d5['syllabus']={'python':['oops','logging'],'ml':['supervised','unsupervised']}\n",
    "d5"
   ]
  },
  {
   "cell_type": "code",
   "execution_count": 76,
   "id": "e2160338",
   "metadata": {},
   "outputs": [
    {
     "data": {
      "text/plain": [
       "['supervised', 'unsupervised']"
      ]
     },
     "execution_count": 76,
     "metadata": {},
     "output_type": "execute_result"
    }
   ],
   "source": [
    "d5['syllabus']['ml']"
   ]
  },
  {
   "cell_type": "markdown",
   "id": "9f063f45",
   "metadata": {},
   "source": [
    "# 9. Strings\n",
    "\n",
    "In Python, strings are sequences of characters, typically used to represent and manipulate textual data. Strings are enclosed in either single (' ') or double (\" \") quotes and can contain letters, digits, symbols, and spaces. \n",
    "\n",
    "They are immutable, meaning their contents cannot be changed after creation, but various string operations and methods allow for manipulation, such as concatenation, slicing, and formatting. \n",
    "\n",
    "Python strings support Unicode, making them versatile for handling text in different languages and character encodings. They also offer a wide range of built-in methods for tasks like searching, replacing, and transforming text, making them an essential data type for text processing and manipulation in Python programs.\n",
    "\n",
    "# 10. String Operations\n",
    "\n",
    "Python provides a variety of string operations that allow you to manipulate and work with strings effectively. Here are some common string operations in Python:\n",
    "\n",
    "1. **Concatenation:**\n",
    "   You can concatenate (combine) strings using the `+` operator or by using the `.join()` method.\n",
    "\n",
    "   ```python\n",
    "   str1 = \"Hello\"\n",
    "   str2 = \"World\"\n",
    "   result = str1 + \", \" + str2  # Concatenation using the + operator\n",
    "   ```\n",
    "\n",
    "   Using `.join()`:\n",
    "\n",
    "   ```python\n",
    "   str_list = [\"Hello\", \"World\"]\n",
    "   result = \", \".join(str_list)  # Concatenates list elements with a comma and space\n",
    "   ```\n",
    "\n",
    "2. **String Length:**\n",
    "   To get the length of a string, you can use the `len()` function.\n",
    "\n",
    "   ```python\n",
    "   my_string = \"Hello, World!\"\n",
    "   length = len(my_string)  # Returns the length of the string\n",
    "   ```\n",
    "\n",
    "3. **Accessing Characters:**\n",
    "   You can access individual characters in a string using indexing, where the first character is at index 0.\n",
    "\n",
    "   ```python\n",
    "   my_string = \"Hello\"\n",
    "   first_char = my_string[0]  # Access the first character ('H')\n",
    "   ```\n",
    "\n",
    "4. **Slicing:**\n",
    "   Slicing allows you to extract substrings from a string. You can specify a start and end index to define the substring.\n",
    "\n",
    "   ```python\n",
    "   my_string = \"Hello, World!\"\n",
    "   substring = my_string[0:5]  # Extracts \"Hello\"\n",
    "   ```\n",
    "\n",
    "5. **String Methods:**\n",
    "   Python provides numerous built-in string methods for various operations, including:\n",
    "   - `split()`: Splits a string into a list based on a specified delimiter.\n",
    "   - `strip()`: Removes leading and trailing whitespace characters.\n",
    "   - `lower()`, `upper()`: Converts the string to lowercase or uppercase.\n",
    "   - `replace()`: Replaces occurrences of a substring with another substring.\n",
    "   - `find()`, `index()`: Searches for a substring and returns its position/index.\n",
    "   - `count()`: Counts the occurrences of a substring in the string.\n",
    "\n",
    "   ```python\n",
    "   my_string = \"Hello, World!\"\n",
    "   words = my_string.split(\", \")  # Splits into a list [\"Hello\", \"World!\"]\n",
    "   ```\n",
    "\n",
    "6. **String Formatting:**\n",
    "   Python provides multiple ways to format strings, including:\n",
    "   - F-strings (formatted string literals).\n",
    "   - `.format()` method.\n",
    "   - `%` operator (older formatting style).\n",
    "\n",
    "   ```python\n",
    "   name = \"Alice\"\n",
    "   age = 30\n",
    "   formatted_string = f\"My name is {name} and I am {age} years old.\"\n",
    "   ```\n",
    "\n",
    "7. **Checking for Substrings:**\n",
    "   You can check if a string contains a substring using the `in` keyword or by using methods like `startswith()` and `endswith()`.\n",
    "\n",
    "   ```python\n",
    "   my_string = \"Hello, World!\"\n",
    "   contains_hello = \"Hello\" in my_string  # True\n",
    "   ```\n",
    "\n",
    "These are just some of the basic string operations in Python. Python's string manipulation capabilities are quite extensive, and you can perform many more advanced operations with strings based on your specific needs.\n",
    "\n",
    "# 11. String Methods\n",
    "\n",
    "Here are some examples of common string methods in Python:\n",
    "\n",
    "1. **len()**: Returns the length of a string.\n",
    "```python\n",
    "text = \"Hello, world!\"\n",
    "length = len(text)\n",
    "print(length)  # Output: 13\n",
    "```\n",
    "\n",
    "2. **lower()**: Converts the string to lowercase.\n",
    "```python\n",
    "text = \"Hello, World!\"\n",
    "lower_text = text.lower()\n",
    "print(lower_text)  # Output: hello, world!\n",
    "```\n",
    "\n",
    "3. **upper()**: Converts the string to uppercase.\n",
    "```python\n",
    "text = \"Hello, World!\"\n",
    "upper_text = text.upper()\n",
    "print(upper_text)  # Output: HELLO, WORLD!\n",
    "```\n",
    "\n",
    "4. **capitalize()**: Converts the first character of the string to uppercase and the rest to lowercase.\n",
    "```python\n",
    "text = \"hello, world!\"\n",
    "capitalized_text = text.capitalize()\n",
    "print(capitalized_text)  # Output: Hello, world!\n",
    "```\n",
    "\n",
    "5. **title()**: Converts each word's first character to uppercase and the rest to lowercase.\n",
    "```python\n",
    "text = \"hello, world!\"\n",
    "title_text = text.title()\n",
    "print(title_text)  # Output: Hello, World!\n",
    "```\n",
    "\n",
    "6. **strip()**: Removes leading and trailing whitespace characters.\n",
    "```python\n",
    "text = \"    Hello, world!    \"\n",
    "stripped_text = text.strip()\n",
    "print(stripped_text)  # Output: Hello, world!\n",
    "```\n",
    "\n",
    "7. **replace()**: Replaces a substring with another substring.\n",
    "```python\n",
    "text = \"Hello, world!\"\n",
    "new_text = text.replace(\"world\", \"Python\")\n",
    "print(new_text)  # Output: Hello, Python!\n",
    "```\n",
    "\n",
    "8. **find()**: Returns the index of the first occurrence of a substring. Returns -1 if not found.\n",
    "```python\n",
    "text = \"Hello, world!\"\n",
    "index = text.find(\"world\")\n",
    "print(index)  # Output: 7\n",
    "```\n",
    "\n",
    "9. **count()**: Returns the number of occurrences of a substring in the string.\n",
    "```python\n",
    "text = \"Hello, world! Hello!\"\n",
    "count = text.count(\"Hello\")\n",
    "print(count)  # Output: 2\n",
    "```\n",
    "\n",
    "10. **startswith()** and **endswith()**: Checks if a string starts or ends with a specific substring.\n",
    "```python\n",
    "text = \"Hello, world!\"\n",
    "start = text.startswith(\"Hello\")\n",
    "end = text.endswith(\"world!\")\n",
    "print(start)  # Output: True\n",
    "print(end)    # Output: True\n",
    "```\n",
    "\n",
    "11. **split()**: Splits a string into a list of substrings based on a delimiter.\n",
    "```python\n",
    "text = \"apple,banana,orange\"\n",
    "fruits = text.split(\",\")\n",
    "print(fruits)  # Output: ['apple', 'banana', 'orange']\n",
    "```\n",
    "\n",
    "12. **join()**: Joins a list of strings into a single string using a specified delimiter.\n",
    "```python\n",
    "fruits = ['apple', 'banana', 'orange']\n",
    "text = \",\".join(fruits)\n",
    "print(text)  # Output: apple,banana,orange\n",
    "```\n",
    "\n",
    "These are just a few examples of the many string functions available in Python. They can be very useful for manipulating and processing textual data.\n",
    "\n",
    "# Practice"
   ]
  },
  {
   "cell_type": "code",
   "execution_count": 77,
   "id": "df301f4e",
   "metadata": {},
   "outputs": [
    {
     "data": {
      "text/plain": [
       "'Pwskills'"
      ]
     },
     "execution_count": 77,
     "metadata": {},
     "output_type": "execute_result"
    }
   ],
   "source": [
    "s1 = 'Pwskills'\n",
    "s1"
   ]
  },
  {
   "cell_type": "code",
   "execution_count": 78,
   "id": "a702358f",
   "metadata": {},
   "outputs": [
    {
     "data": {
      "text/plain": [
       "2"
      ]
     },
     "execution_count": 78,
     "metadata": {},
     "output_type": "execute_result"
    }
   ],
   "source": [
    "s1.count('l')"
   ]
  },
  {
   "cell_type": "code",
   "execution_count": 79,
   "id": "1792622b",
   "metadata": {},
   "outputs": [
    {
     "data": {
      "text/plain": [
       "4"
      ]
     },
     "execution_count": 79,
     "metadata": {},
     "output_type": "execute_result"
    }
   ],
   "source": [
    "s1.find('il')"
   ]
  },
  {
   "cell_type": "code",
   "execution_count": 80,
   "id": "698db9c7",
   "metadata": {},
   "outputs": [
    {
     "ename": "ValueError",
     "evalue": "substring not found",
     "output_type": "error",
     "traceback": [
      "\u001b[1;31m---------------------------------------------------------------------------\u001b[0m",
      "\u001b[1;31mValueError\u001b[0m                                Traceback (most recent call last)",
      "\u001b[1;32m~\\AppData\\Local\\Temp\\ipykernel_17272\\757536014.py\u001b[0m in \u001b[0;36m<module>\u001b[1;34m\u001b[0m\n\u001b[1;32m----> 1\u001b[1;33m \u001b[0ms1\u001b[0m\u001b[1;33m.\u001b[0m\u001b[0mindex\u001b[0m\u001b[1;33m(\u001b[0m\u001b[1;34m'z'\u001b[0m\u001b[1;33m)\u001b[0m\u001b[1;33m\u001b[0m\u001b[1;33m\u001b[0m\u001b[0m\n\u001b[0m",
      "\u001b[1;31mValueError\u001b[0m: substring not found"
     ]
    }
   ],
   "source": [
    "s1.index('z')"
   ]
  },
  {
   "cell_type": "code",
   "execution_count": 81,
   "id": "794df334",
   "metadata": {},
   "outputs": [
    {
     "data": {
      "text/plain": [
       "-1"
      ]
     },
     "execution_count": 81,
     "metadata": {},
     "output_type": "execute_result"
    }
   ],
   "source": [
    "s1.find('z')"
   ]
  },
  {
   "cell_type": "code",
   "execution_count": 82,
   "id": "96109a05",
   "metadata": {},
   "outputs": [
    {
     "data": {
      "text/plain": [
       "'PWSKILLS'"
      ]
     },
     "execution_count": 82,
     "metadata": {},
     "output_type": "execute_result"
    }
   ],
   "source": [
    "s1.upper()"
   ]
  },
  {
   "cell_type": "code",
   "execution_count": 83,
   "id": "6486017b",
   "metadata": {},
   "outputs": [
    {
     "data": {
      "text/plain": [
       "'pwskills'"
      ]
     },
     "execution_count": 83,
     "metadata": {},
     "output_type": "execute_result"
    }
   ],
   "source": [
    "s1.lower()"
   ]
  },
  {
   "cell_type": "code",
   "execution_count": 84,
   "id": "6c9b8501",
   "metadata": {},
   "outputs": [],
   "source": [
    "s2 = 'my name is sid'"
   ]
  },
  {
   "cell_type": "code",
   "execution_count": 85,
   "id": "702fb3f1",
   "metadata": {},
   "outputs": [
    {
     "data": {
      "text/plain": [
       "'My Name Is Sid'"
      ]
     },
     "execution_count": 85,
     "metadata": {},
     "output_type": "execute_result"
    }
   ],
   "source": [
    "s2.title()"
   ]
  },
  {
   "cell_type": "code",
   "execution_count": 86,
   "id": "8ee151c2",
   "metadata": {},
   "outputs": [
    {
     "data": {
      "text/plain": [
       "['my', 'name', 'is', 'sid']"
      ]
     },
     "execution_count": 86,
     "metadata": {},
     "output_type": "execute_result"
    }
   ],
   "source": [
    "s2.split()"
   ]
  },
  {
   "cell_type": "code",
   "execution_count": 87,
   "id": "920dce0a",
   "metadata": {},
   "outputs": [],
   "source": [
    "s3 = 'my name,is,sid'"
   ]
  },
  {
   "cell_type": "code",
   "execution_count": 88,
   "id": "3181af55",
   "metadata": {},
   "outputs": [
    {
     "data": {
      "text/plain": [
       "['my', 'name,is,sid']"
      ]
     },
     "execution_count": 88,
     "metadata": {},
     "output_type": "execute_result"
    }
   ],
   "source": [
    "s3.split()"
   ]
  },
  {
   "cell_type": "code",
   "execution_count": 89,
   "id": "42e2bf68",
   "metadata": {},
   "outputs": [
    {
     "data": {
      "text/plain": [
       "['my ', ',is,sid']"
      ]
     },
     "execution_count": 89,
     "metadata": {},
     "output_type": "execute_result"
    }
   ],
   "source": [
    "s3.split('name')"
   ]
  },
  {
   "cell_type": "code",
   "execution_count": 90,
   "id": "2ccbd0e2",
   "metadata": {},
   "outputs": [
    {
     "data": {
      "text/plain": [
       "['this is first sentence', ' this is second sentence', '']"
      ]
     },
     "execution_count": 90,
     "metadata": {},
     "output_type": "execute_result"
    }
   ],
   "source": [
    "s4 = 'this is first sentence. this is second sentence.'\n",
    "s4.split('.')"
   ]
  },
  {
   "cell_type": "code",
   "execution_count": 91,
   "id": "49f5d4ba",
   "metadata": {},
   "outputs": [
    {
     "data": {
      "text/plain": [
       "'This is first sentence. this is second sentence.'"
      ]
     },
     "execution_count": 91,
     "metadata": {},
     "output_type": "execute_result"
    }
   ],
   "source": [
    "s4.capitalize()"
   ]
  },
  {
   "cell_type": "code",
   "execution_count": 92,
   "id": "f6387ead",
   "metadata": {},
   "outputs": [
    {
     "data": {
      "text/plain": [
       "'This Is First Sentence. This Is Second Sentence.'"
      ]
     },
     "execution_count": 92,
     "metadata": {},
     "output_type": "execute_result"
    }
   ],
   "source": [
    "s4.title()"
   ]
  },
  {
   "cell_type": "code",
   "execution_count": 93,
   "id": "fedab075",
   "metadata": {},
   "outputs": [
    {
     "data": {
      "text/plain": [
       "'this is first sentence. this is second sentence.'"
      ]
     },
     "execution_count": 93,
     "metadata": {},
     "output_type": "execute_result"
    }
   ],
   "source": [
    "s4.strip()"
   ]
  },
  {
   "cell_type": "code",
   "execution_count": 94,
   "id": "440bb968",
   "metadata": {},
   "outputs": [
    {
     "data": {
      "text/plain": [
       "'this is wow sentence. this is second sentence.'"
      ]
     },
     "execution_count": 94,
     "metadata": {},
     "output_type": "execute_result"
    }
   ],
   "source": [
    "s4.replace('first','wow')"
   ]
  },
  {
   "cell_type": "code",
   "execution_count": 95,
   "id": "758a93be",
   "metadata": {},
   "outputs": [
    {
     "data": {
      "text/plain": [
       "'this is first sentence. this is second sentence.'"
      ]
     },
     "execution_count": 95,
     "metadata": {},
     "output_type": "execute_result"
    }
   ],
   "source": [
    "s4"
   ]
  },
  {
   "cell_type": "code",
   "execution_count": 96,
   "id": "07a0c2c5",
   "metadata": {},
   "outputs": [
    {
     "data": {
      "text/plain": [
       "'Pwskills'"
      ]
     },
     "execution_count": 96,
     "metadata": {},
     "output_type": "execute_result"
    }
   ],
   "source": [
    "s1"
   ]
  },
  {
   "cell_type": "code",
   "execution_count": 97,
   "id": "3b6b371e",
   "metadata": {},
   "outputs": [
    {
     "data": {
      "text/plain": [
       "'@@@@@@Pwskills@@@@@@'"
      ]
     },
     "execution_count": 97,
     "metadata": {},
     "output_type": "execute_result"
    }
   ],
   "source": [
    "s1.center(20,'@')"
   ]
  },
  {
   "cell_type": "code",
   "execution_count": 98,
   "id": "ccc1ed4c",
   "metadata": {},
   "outputs": [
    {
     "data": {
      "text/plain": [
       "'  sid   '"
      ]
     },
     "execution_count": 98,
     "metadata": {},
     "output_type": "execute_result"
    }
   ],
   "source": [
    "s6 = '  sid   '\n",
    "s6"
   ]
  },
  {
   "cell_type": "code",
   "execution_count": 99,
   "id": "4425bfa0",
   "metadata": {},
   "outputs": [
    {
     "data": {
      "text/plain": [
       "'  sid'"
      ]
     },
     "execution_count": 99,
     "metadata": {},
     "output_type": "execute_result"
    }
   ],
   "source": [
    "s6.rstrip()"
   ]
  },
  {
   "cell_type": "code",
   "execution_count": 100,
   "id": "49b05f28",
   "metadata": {},
   "outputs": [
    {
     "data": {
      "text/plain": [
       "'sid   '"
      ]
     },
     "execution_count": 100,
     "metadata": {},
     "output_type": "execute_result"
    }
   ],
   "source": [
    "s6.lstrip()"
   ]
  },
  {
   "cell_type": "code",
   "execution_count": 101,
   "id": "497bb824",
   "metadata": {},
   "outputs": [
    {
     "data": {
      "text/plain": [
       "'sid'"
      ]
     },
     "execution_count": 101,
     "metadata": {},
     "output_type": "execute_result"
    }
   ],
   "source": [
    "s6.strip()"
   ]
  },
  {
   "cell_type": "code",
   "execution_count": 102,
   "id": "84794e31",
   "metadata": {},
   "outputs": [
    {
     "data": {
      "text/plain": [
       "False"
      ]
     },
     "execution_count": 102,
     "metadata": {},
     "output_type": "execute_result"
    }
   ],
   "source": [
    "s6.isalnum()"
   ]
  },
  {
   "cell_type": "code",
   "execution_count": 104,
   "id": "9f9b8962",
   "metadata": {},
   "outputs": [
    {
     "data": {
      "text/plain": [
       "False"
      ]
     },
     "execution_count": 104,
     "metadata": {},
     "output_type": "execute_result"
    }
   ],
   "source": [
    "s6.isnumeric()"
   ]
  },
  {
   "cell_type": "code",
   "execution_count": 105,
   "id": "3f3dfa20",
   "metadata": {},
   "outputs": [
    {
     "data": {
      "text/plain": [
       "False"
      ]
     },
     "execution_count": 105,
     "metadata": {},
     "output_type": "execute_result"
    }
   ],
   "source": [
    "s6.isalpha()"
   ]
  },
  {
   "cell_type": "code",
   "execution_count": 106,
   "id": "1fc01988",
   "metadata": {},
   "outputs": [],
   "source": [
    "s7 = '123'"
   ]
  },
  {
   "cell_type": "code",
   "execution_count": 107,
   "id": "886da82d",
   "metadata": {},
   "outputs": [
    {
     "data": {
      "text/plain": [
       "True"
      ]
     },
     "execution_count": 107,
     "metadata": {},
     "output_type": "execute_result"
    }
   ],
   "source": [
    "s7.isnumeric()"
   ]
  },
  {
   "cell_type": "code",
   "execution_count": 108,
   "id": "1306c88f",
   "metadata": {},
   "outputs": [],
   "source": [
    "s7 = 'text'"
   ]
  },
  {
   "cell_type": "code",
   "execution_count": 109,
   "id": "d6c833ef",
   "metadata": {},
   "outputs": [
    {
     "data": {
      "text/plain": [
       "True"
      ]
     },
     "execution_count": 109,
     "metadata": {},
     "output_type": "execute_result"
    }
   ],
   "source": [
    "s7.isalpha()"
   ]
  },
  {
   "cell_type": "code",
   "execution_count": 110,
   "id": "e82175f7",
   "metadata": {},
   "outputs": [
    {
     "data": {
      "text/plain": [
       "[1, 2, 3, 4, [4, 5]]"
      ]
     },
     "execution_count": 110,
     "metadata": {},
     "output_type": "execute_result"
    }
   ],
   "source": [
    "l1"
   ]
  },
  {
   "cell_type": "code",
   "execution_count": 111,
   "id": "f5c49557",
   "metadata": {},
   "outputs": [
    {
     "data": {
      "text/plain": [
       "[300, 4, 5, 'pwskills', 'sid']"
      ]
     },
     "execution_count": 111,
     "metadata": {},
     "output_type": "execute_result"
    }
   ],
   "source": [
    "l2"
   ]
  },
  {
   "cell_type": "code",
   "execution_count": 112,
   "id": "6f05914b",
   "metadata": {},
   "outputs": [
    {
     "data": {
      "text/plain": [
       "[1, 2, 3, 4, [4, 5], 'sid']"
      ]
     },
     "execution_count": 112,
     "metadata": {},
     "output_type": "execute_result"
    }
   ],
   "source": [
    "l1.append('sid')\n",
    "l1"
   ]
  },
  {
   "cell_type": "code",
   "execution_count": 113,
   "id": "17447d1a",
   "metadata": {},
   "outputs": [
    {
     "data": {
      "text/plain": [
       "[1, 2, 3, 4, [4, 5], 'sid', 1, 2, 3]"
      ]
     },
     "execution_count": 113,
     "metadata": {},
     "output_type": "execute_result"
    }
   ],
   "source": [
    "l1.extend([1,2,3])\n",
    "l1"
   ]
  },
  {
   "cell_type": "code",
   "execution_count": 114,
   "id": "d17ddc5c",
   "metadata": {},
   "outputs": [
    {
     "data": {
      "text/plain": [
       "[1, 'something', 2, 3, 4, [4, 5], 'sid', 1, 2, 3]"
      ]
     },
     "execution_count": 114,
     "metadata": {},
     "output_type": "execute_result"
    }
   ],
   "source": [
    "l1.insert(1,'something')\n",
    "l1"
   ]
  },
  {
   "cell_type": "code",
   "execution_count": 115,
   "id": "6af3b14b",
   "metadata": {},
   "outputs": [
    {
     "data": {
      "text/plain": [
       "[1, 'something', 2, 3, 4, [4, 5], 'sid', 1, 2]"
      ]
     },
     "execution_count": 115,
     "metadata": {},
     "output_type": "execute_result"
    }
   ],
   "source": [
    "l1.pop()\n",
    "l1"
   ]
  },
  {
   "cell_type": "code",
   "execution_count": 116,
   "id": "acd66224",
   "metadata": {},
   "outputs": [
    {
     "data": {
      "text/plain": [
       "[1, 2, 3, 4, [4, 5], 'sid', 1, 2]"
      ]
     },
     "execution_count": 116,
     "metadata": {},
     "output_type": "execute_result"
    }
   ],
   "source": [
    "l1.remove('something')\n",
    "l1"
   ]
  },
  {
   "cell_type": "code",
   "execution_count": 117,
   "id": "4e96a02d",
   "metadata": {},
   "outputs": [
    {
     "data": {
      "text/plain": [
       "[1, 2, 3, 4, [4, 5], 'sid', 1, 2, 1]"
      ]
     },
     "execution_count": 117,
     "metadata": {},
     "output_type": "execute_result"
    }
   ],
   "source": [
    "l1.append(1)\n",
    "l1"
   ]
  },
  {
   "cell_type": "code",
   "execution_count": 118,
   "id": "1ba6474f",
   "metadata": {},
   "outputs": [
    {
     "data": {
      "text/plain": [
       "[2, 3, 4, [4, 5], 'sid', 2, 1]"
      ]
     },
     "execution_count": 118,
     "metadata": {},
     "output_type": "execute_result"
    }
   ],
   "source": [
    "l1.remove(1)\n",
    "l1.remove(1)\n",
    "l1"
   ]
  },
  {
   "cell_type": "code",
   "execution_count": 119,
   "id": "ed4eebc3",
   "metadata": {},
   "outputs": [
    {
     "ename": "NameError",
     "evalue": "name 'l1' is not defined",
     "output_type": "error",
     "traceback": [
      "\u001b[1;31m---------------------------------------------------------------------------\u001b[0m",
      "\u001b[1;31mNameError\u001b[0m                                 Traceback (most recent call last)",
      "\u001b[1;32m~\\AppData\\Local\\Temp\\ipykernel_17272\\771902963.py\u001b[0m in \u001b[0;36m<module>\u001b[1;34m\u001b[0m\n\u001b[0;32m      1\u001b[0m \u001b[1;32mdel\u001b[0m \u001b[0ml1\u001b[0m\u001b[1;33m\u001b[0m\u001b[1;33m\u001b[0m\u001b[0m\n\u001b[1;32m----> 2\u001b[1;33m \u001b[0ml1\u001b[0m\u001b[1;33m\u001b[0m\u001b[1;33m\u001b[0m\u001b[0m\n\u001b[0m",
      "\u001b[1;31mNameError\u001b[0m: name 'l1' is not defined"
     ]
    }
   ],
   "source": [
    "del l1\n",
    "l1"
   ]
  },
  {
   "cell_type": "code",
   "execution_count": 120,
   "id": "bc94a84c",
   "metadata": {},
   "outputs": [
    {
     "data": {
      "text/plain": [
       "[300, 4, 5, 'pwskills', 'sid']"
      ]
     },
     "execution_count": 120,
     "metadata": {},
     "output_type": "execute_result"
    }
   ],
   "source": [
    "l2"
   ]
  },
  {
   "cell_type": "code",
   "execution_count": 121,
   "id": "f63e3fb5",
   "metadata": {},
   "outputs": [
    {
     "data": {
      "text/plain": [
       "[4, 5, 'pwskills', 'sid']"
      ]
     },
     "execution_count": 121,
     "metadata": {},
     "output_type": "execute_result"
    }
   ],
   "source": [
    "l2.pop(0)\n",
    "l2"
   ]
  },
  {
   "cell_type": "code",
   "execution_count": 122,
   "id": "acca5bb1",
   "metadata": {},
   "outputs": [
    {
     "data": {
      "text/plain": [
       "4"
      ]
     },
     "execution_count": 122,
     "metadata": {},
     "output_type": "execute_result"
    }
   ],
   "source": [
    "len(l2)"
   ]
  },
  {
   "cell_type": "code",
   "execution_count": 123,
   "id": "7b762822",
   "metadata": {},
   "outputs": [
    {
     "data": {
      "text/plain": [
       "[4, 5, 'pwskills']"
      ]
     },
     "execution_count": 123,
     "metadata": {},
     "output_type": "execute_result"
    }
   ],
   "source": [
    "l2.pop(3)\n",
    "l2"
   ]
  },
  {
   "cell_type": "code",
   "execution_count": 124,
   "id": "18887e8b",
   "metadata": {},
   "outputs": [
    {
     "data": {
      "text/plain": [
       "[]"
      ]
     },
     "execution_count": 124,
     "metadata": {},
     "output_type": "execute_result"
    }
   ],
   "source": [
    "l2.clear()\n",
    "l2"
   ]
  },
  {
   "cell_type": "code",
   "execution_count": 125,
   "id": "8146a126",
   "metadata": {},
   "outputs": [
    {
     "data": {
      "text/plain": [
       "[1,\n",
       " 2,\n",
       " 3,\n",
       " 4,\n",
       " 5,\n",
       " 'sid',\n",
       " 'swain',\n",
       " (3+5j),\n",
       " 345.445,\n",
       " True,\n",
       " [3, 4, 5, 6],\n",
       " 3,\n",
       " 4,\n",
       " 5,\n",
       " 'pwskills',\n",
       " 'sid']"
      ]
     },
     "execution_count": 125,
     "metadata": {},
     "output_type": "execute_result"
    }
   ],
   "source": [
    "l3"
   ]
  },
  {
   "cell_type": "code",
   "execution_count": 126,
   "id": "e65e862b",
   "metadata": {},
   "outputs": [],
   "source": [
    "l4 = l3.copy()"
   ]
  },
  {
   "cell_type": "code",
   "execution_count": 127,
   "id": "e9e3e20c",
   "metadata": {},
   "outputs": [
    {
     "data": {
      "text/plain": [
       "[1,\n",
       " 2,\n",
       " 3,\n",
       " 4,\n",
       " 5,\n",
       " 'sid',\n",
       " 'swain',\n",
       " (3+5j),\n",
       " 345.445,\n",
       " True,\n",
       " [3, 4, 5, 6],\n",
       " 3,\n",
       " 4,\n",
       " 5,\n",
       " 'pwskills',\n",
       " 'sid',\n",
       " 101]"
      ]
     },
     "execution_count": 127,
     "metadata": {},
     "output_type": "execute_result"
    }
   ],
   "source": [
    "l4.append(101)\n",
    "l4"
   ]
  },
  {
   "cell_type": "code",
   "execution_count": 128,
   "id": "a723b787",
   "metadata": {},
   "outputs": [
    {
     "data": {
      "text/plain": [
       "[1,\n",
       " 2,\n",
       " 3,\n",
       " 4,\n",
       " 5,\n",
       " 'sid',\n",
       " 'swain',\n",
       " (3+5j),\n",
       " 345.445,\n",
       " True,\n",
       " [3, 4, 5, 6],\n",
       " 3,\n",
       " 4,\n",
       " 5,\n",
       " 'pwskills',\n",
       " 'sid']"
      ]
     },
     "execution_count": 128,
     "metadata": {},
     "output_type": "execute_result"
    }
   ],
   "source": [
    "l3"
   ]
  },
  {
   "cell_type": "code",
   "execution_count": 129,
   "id": "8156418a",
   "metadata": {},
   "outputs": [
    {
     "data": {
      "text/plain": [
       "5"
      ]
     },
     "execution_count": 129,
     "metadata": {},
     "output_type": "execute_result"
    }
   ],
   "source": [
    "l3.index('sid')"
   ]
  },
  {
   "cell_type": "code",
   "execution_count": 133,
   "id": "21ee307d",
   "metadata": {},
   "outputs": [
    {
     "data": {
      "text/plain": [
       "['sid',\n",
       " 'pwskills',\n",
       " 5,\n",
       " 4,\n",
       " 3,\n",
       " [3, 4, 5, 6],\n",
       " True,\n",
       " 345.445,\n",
       " (3+5j),\n",
       " 'swain',\n",
       " 'sid',\n",
       " 5,\n",
       " 4,\n",
       " 3,\n",
       " 2,\n",
       " 1]"
      ]
     },
     "execution_count": 133,
     "metadata": {},
     "output_type": "execute_result"
    }
   ],
   "source": [
    "l3"
   ]
  },
  {
   "cell_type": "code",
   "execution_count": 134,
   "id": "3352e5de",
   "metadata": {},
   "outputs": [
    {
     "ename": "TypeError",
     "evalue": "'<' not supported between instances of 'int' and 'str'",
     "output_type": "error",
     "traceback": [
      "\u001b[1;31m---------------------------------------------------------------------------\u001b[0m",
      "\u001b[1;31mTypeError\u001b[0m                                 Traceback (most recent call last)",
      "\u001b[1;32m~\\AppData\\Local\\Temp\\ipykernel_17272\\805862314.py\u001b[0m in \u001b[0;36m<module>\u001b[1;34m\u001b[0m\n\u001b[1;32m----> 1\u001b[1;33m \u001b[0ml3\u001b[0m\u001b[1;33m.\u001b[0m\u001b[0msort\u001b[0m\u001b[1;33m(\u001b[0m\u001b[1;33m)\u001b[0m\u001b[1;33m\u001b[0m\u001b[1;33m\u001b[0m\u001b[0m\n\u001b[0m",
      "\u001b[1;31mTypeError\u001b[0m: '<' not supported between instances of 'int' and 'str'"
     ]
    }
   ],
   "source": [
    "l3.sort()"
   ]
  },
  {
   "cell_type": "code",
   "execution_count": 139,
   "id": "7905b89b",
   "metadata": {},
   "outputs": [
    {
     "data": {
      "text/plain": [
       "['sid',\n",
       " 'pwskills',\n",
       " 5,\n",
       " 4,\n",
       " 3,\n",
       " [3, 4, 5, 6],\n",
       " True,\n",
       " 345.445,\n",
       " (3+5j),\n",
       " 'swain',\n",
       " 'sid',\n",
       " 5,\n",
       " 4,\n",
       " 3,\n",
       " 2,\n",
       " 1]"
      ]
     },
     "execution_count": 139,
     "metadata": {},
     "output_type": "execute_result"
    }
   ],
   "source": [
    "l3.reverse()\n",
    "l3"
   ]
  },
  {
   "cell_type": "code",
   "execution_count": 140,
   "id": "a42f6b0e",
   "metadata": {},
   "outputs": [
    {
     "data": {
      "text/plain": [
       "[1,\n",
       " 2,\n",
       " 3,\n",
       " 4,\n",
       " 5,\n",
       " 'sid',\n",
       " 'swain',\n",
       " (3+5j),\n",
       " 345.445,\n",
       " True,\n",
       " [3, 4, 5, 6],\n",
       " 3,\n",
       " 4,\n",
       " 5,\n",
       " 'pwskills',\n",
       " 'sid']"
      ]
     },
     "execution_count": 140,
     "metadata": {},
     "output_type": "execute_result"
    }
   ],
   "source": [
    "l3.reverse()\n",
    "l3"
   ]
  },
  {
   "cell_type": "code",
   "execution_count": 141,
   "id": "856a2eb3",
   "metadata": {},
   "outputs": [
    {
     "data": {
      "text/plain": [
       "[2, 34, 99, 100]"
      ]
     },
     "execution_count": 141,
     "metadata": {},
     "output_type": "execute_result"
    }
   ],
   "source": [
    "l4 = [100,99,34,2]\n",
    "l4.sort()\n",
    "l4"
   ]
  },
  {
   "cell_type": "markdown",
   "id": "61a5912e",
   "metadata": {},
   "source": [
    "# 12. Shallow & Deep Copy\n",
    "\n",
    "In Python, the concepts of deep copy and shallow copy are used when dealing with complex objects like lists, dictionaries, or custom objects. These concepts relate to how the data is duplicated or referenced when creating a copy of the object. Here's a comparison of deep copy and shallow copy:\n",
    "\n",
    "**Shallow Copy:**\n",
    "\n",
    "A shallow copy creates a new object, but doesn't create copies of nested objects within the original object. Instead, it references the same nested objects in both the original and the copied object. In other words, changes made to nested objects will be reflected in both the original and the copied object.\n",
    "\n",
    "You can create a shallow copy using the `copy()` method or the `copy.copy()` function from the `copy` module.\n",
    "\n",
    "Example:\n",
    "```python\n",
    "import copy\n",
    "\n",
    "original_list = [1, [2, 3]]\n",
    "shallow_copied_list = copy.copy(original_list)\n",
    "\n",
    "shallow_copied_list[1][0] = 99\n",
    "\n",
    "print(original_list)         # Output: [1, [99, 3]]\n",
    "print(shallow_copied_list)   # Output: [1, [99, 3]]\n",
    "```\n",
    "\n",
    "**Deep Copy:**\n",
    "\n",
    "A deep copy creates a new object and also recursively creates copies of all nested objects within the original object. This ensures that changes made to nested objects within the copied object do not affect the original object, and vice versa.\n",
    "\n",
    "You can create a deep copy using the `copy.deepcopy()` function from the `copy` module.\n",
    "\n",
    "Example:\n",
    "```python\n",
    "import copy\n",
    "\n",
    "original_list = [1, [2, 3]]\n",
    "deep_copied_list = copy.deepcopy(original_list)\n",
    "\n",
    "deep_copied_list[1][0] = 99\n",
    "\n",
    "print(original_list)       # Output: [1, [2, 3]]\n",
    "print(deep_copied_list)    # Output: [1, [99, 3]]\n",
    "```\n",
    "\n",
    "In summary, a shallow copy creates a new object with references to the same nested objects, while a deep copy creates a new object with completely independent copies of all nested objects. The choice between deep and shallow copy depends on your specific use case and whether you want to maintain isolation between the original and copied objects.\n",
    "\n",
    "# Practice"
   ]
  },
  {
   "cell_type": "code",
   "execution_count": 144,
   "id": "7cde87ef",
   "metadata": {},
   "outputs": [
    {
     "name": "stdout",
     "output_type": "stream",
     "text": [
      "[1, [99, 3]]\n",
      "[1, [99, 3]]\n"
     ]
    }
   ],
   "source": [
    "# Shallow Copy\n",
    "\n",
    "import copy\n",
    "\n",
    "original_list = [1, [2, 3]]\n",
    "shallow_copied_list = copy.copy(original_list)\n",
    "\n",
    "shallow_copied_list[1][0] = 99\n",
    "\n",
    "print(original_list)         # Output: [1, [99, 3]]\n",
    "print(shallow_copied_list)   # Output: [1, [99, 3]]"
   ]
  },
  {
   "cell_type": "code",
   "execution_count": 145,
   "id": "af2c6a6f",
   "metadata": {},
   "outputs": [
    {
     "name": "stdout",
     "output_type": "stream",
     "text": [
      "[1, [2, 3]]\n",
      "[1, [99, 3]]\n"
     ]
    }
   ],
   "source": [
    "# Deep Copy\n",
    "\n",
    "import copy\n",
    "\n",
    "original_list = [1, [2, 3]]\n",
    "deep_copied_list = copy.deepcopy(original_list)\n",
    "\n",
    "deep_copied_list[1][0] = 99\n",
    "\n",
    "print(original_list)       # Output: [1, [2, 3]]\n",
    "print(deep_copied_list)    # Output: [1, [99, 3]]"
   ]
  },
  {
   "cell_type": "code",
   "execution_count": 146,
   "id": "250e66e7",
   "metadata": {},
   "outputs": [
    {
     "data": {
      "text/plain": [
       "(1, 2, 3, 4, 'sid', 'pwkills', (4+5j), True)"
      ]
     },
     "execution_count": 146,
     "metadata": {},
     "output_type": "execute_result"
    }
   ],
   "source": [
    "t"
   ]
  },
  {
   "cell_type": "code",
   "execution_count": 147,
   "id": "cd325683",
   "metadata": {},
   "outputs": [
    {
     "data": {
      "text/plain": [
       "2"
      ]
     },
     "execution_count": 147,
     "metadata": {},
     "output_type": "execute_result"
    }
   ],
   "source": [
    "t.count(1)"
   ]
  },
  {
   "cell_type": "code",
   "execution_count": 148,
   "id": "98969eb3",
   "metadata": {},
   "outputs": [
    {
     "data": {
      "text/plain": [
       "4"
      ]
     },
     "execution_count": 148,
     "metadata": {},
     "output_type": "execute_result"
    }
   ],
   "source": [
    "t.index('sid')"
   ]
  },
  {
   "cell_type": "code",
   "execution_count": 149,
   "id": "730cbfc2",
   "metadata": {},
   "outputs": [
    {
     "data": {
      "text/plain": [
       "{1, 2, 3, 4, 5, 8}"
      ]
     },
     "execution_count": 149,
     "metadata": {},
     "output_type": "execute_result"
    }
   ],
   "source": [
    "s = {1,2,2,3,4,5,5,5,5,8}\n",
    "s"
   ]
  },
  {
   "cell_type": "code",
   "execution_count": 150,
   "id": "04e75168",
   "metadata": {},
   "outputs": [
    {
     "data": {
      "text/plain": [
       "{1, 2, 3, 4, 5, 8, 101}"
      ]
     },
     "execution_count": 150,
     "metadata": {},
     "output_type": "execute_result"
    }
   ],
   "source": [
    "s.add(101)\n",
    "s"
   ]
  },
  {
   "cell_type": "code",
   "execution_count": 151,
   "id": "38cfc65f",
   "metadata": {},
   "outputs": [
    {
     "data": {
      "text/plain": [
       "{1, 2, 3, 4, 5, 8, 101}"
      ]
     },
     "execution_count": 151,
     "metadata": {},
     "output_type": "execute_result"
    }
   ],
   "source": [
    "s.add(101)\n",
    "s"
   ]
  },
  {
   "cell_type": "code",
   "execution_count": 152,
   "id": "9c165e71",
   "metadata": {},
   "outputs": [
    {
     "data": {
      "text/plain": [
       "{4, 5}"
      ]
     },
     "execution_count": 152,
     "metadata": {},
     "output_type": "execute_result"
    }
   ],
   "source": [
    "s1 = {1,2,3,4,5}\n",
    "s2 = {1,2,3}\n",
    "s1.symmetric_difference(s2)"
   ]
  },
  {
   "cell_type": "code",
   "execution_count": 153,
   "id": "4cfd4fb9",
   "metadata": {},
   "outputs": [
    {
     "data": {
      "text/plain": [
       "{1, 2, 3, 4, 5}"
      ]
     },
     "execution_count": 153,
     "metadata": {},
     "output_type": "execute_result"
    }
   ],
   "source": [
    "s1"
   ]
  },
  {
   "cell_type": "code",
   "execution_count": 154,
   "id": "b7e1fcf1",
   "metadata": {},
   "outputs": [
    {
     "data": {
      "text/plain": [
       "{1, 2, 3}"
      ]
     },
     "execution_count": 154,
     "metadata": {},
     "output_type": "execute_result"
    }
   ],
   "source": [
    "s2"
   ]
  },
  {
   "cell_type": "code",
   "execution_count": 155,
   "id": "e4c593a9",
   "metadata": {},
   "outputs": [],
   "source": [
    "s1.symmetric_difference_update(s2)"
   ]
  },
  {
   "cell_type": "code",
   "execution_count": 156,
   "id": "f733bc5c",
   "metadata": {},
   "outputs": [
    {
     "data": {
      "text/plain": [
       "{4, 5}"
      ]
     },
     "execution_count": 156,
     "metadata": {},
     "output_type": "execute_result"
    }
   ],
   "source": [
    "s1"
   ]
  },
  {
   "cell_type": "code",
   "execution_count": 157,
   "id": "234d6fb7",
   "metadata": {},
   "outputs": [
    {
     "data": {
      "text/plain": [
       "{1, 2, 3}"
      ]
     },
     "execution_count": 157,
     "metadata": {},
     "output_type": "execute_result"
    }
   ],
   "source": [
    "s2"
   ]
  },
  {
   "cell_type": "code",
   "execution_count": 158,
   "id": "bf1338e6",
   "metadata": {},
   "outputs": [
    {
     "data": {
      "text/plain": [
       "{4, 5}"
      ]
     },
     "execution_count": 158,
     "metadata": {},
     "output_type": "execute_result"
    }
   ],
   "source": [
    "s1"
   ]
  },
  {
   "cell_type": "code",
   "execution_count": 159,
   "id": "b91bd702",
   "metadata": {},
   "outputs": [
    {
     "data": {
      "text/plain": [
       "1"
      ]
     },
     "execution_count": 159,
     "metadata": {},
     "output_type": "execute_result"
    }
   ],
   "source": [
    "s2.pop()"
   ]
  },
  {
   "cell_type": "code",
   "execution_count": 160,
   "id": "b9a8c2e0",
   "metadata": {},
   "outputs": [
    {
     "data": {
      "text/plain": [
       "{2, 3}"
      ]
     },
     "execution_count": 160,
     "metadata": {},
     "output_type": "execute_result"
    }
   ],
   "source": [
    "s2"
   ]
  },
  {
   "cell_type": "code",
   "execution_count": 163,
   "id": "2d5796ae",
   "metadata": {},
   "outputs": [
    {
     "data": {
      "text/plain": [
       "{2, 3, 23}"
      ]
     },
     "execution_count": 163,
     "metadata": {},
     "output_type": "execute_result"
    }
   ],
   "source": [
    "s2.add(23)\n",
    "s2"
   ]
  },
  {
   "cell_type": "code",
   "execution_count": 164,
   "id": "0dd49a37",
   "metadata": {},
   "outputs": [
    {
     "data": {
      "text/plain": [
       "{3, 23}"
      ]
     },
     "execution_count": 164,
     "metadata": {},
     "output_type": "execute_result"
    }
   ],
   "source": [
    "s2.remove(2)\n",
    "s2"
   ]
  },
  {
   "cell_type": "code",
   "execution_count": 166,
   "id": "b04fdd70",
   "metadata": {},
   "outputs": [
    {
     "data": {
      "text/plain": [
       "{1, 2, 3, 23}"
      ]
     },
     "execution_count": 166,
     "metadata": {},
     "output_type": "execute_result"
    }
   ],
   "source": [
    "s2.update({1,2,3})\n",
    "s2"
   ]
  },
  {
   "cell_type": "code",
   "execution_count": 167,
   "id": "ce581500",
   "metadata": {},
   "outputs": [
    {
     "data": {
      "text/plain": [
       "{'name': 'siddharth', 'subject': ['maths', 'physics'], 'number': 12345}"
      ]
     },
     "execution_count": 167,
     "metadata": {},
     "output_type": "execute_result"
    }
   ],
   "source": [
    "d1"
   ]
  },
  {
   "cell_type": "code",
   "execution_count": 168,
   "id": "a4ab01e7",
   "metadata": {},
   "outputs": [
    {
     "data": {
      "text/plain": [
       "dict_keys(['name', 'subject', 'number'])"
      ]
     },
     "execution_count": 168,
     "metadata": {},
     "output_type": "execute_result"
    }
   ],
   "source": [
    "d1.keys()"
   ]
  },
  {
   "cell_type": "code",
   "execution_count": 169,
   "id": "14275a49",
   "metadata": {},
   "outputs": [
    {
     "data": {
      "text/plain": [
       "dict_values(['siddharth', ['maths', 'physics'], 12345])"
      ]
     },
     "execution_count": 169,
     "metadata": {},
     "output_type": "execute_result"
    }
   ],
   "source": [
    "d1.values()"
   ]
  },
  {
   "cell_type": "code",
   "execution_count": 170,
   "id": "2bd98684",
   "metadata": {},
   "outputs": [
    {
     "data": {
      "text/plain": [
       "['name', 'subject', 'number']"
      ]
     },
     "execution_count": 170,
     "metadata": {},
     "output_type": "execute_result"
    }
   ],
   "source": [
    "list(d1.keys())"
   ]
  },
  {
   "cell_type": "code",
   "execution_count": 171,
   "id": "47485d78",
   "metadata": {},
   "outputs": [
    {
     "data": {
      "text/plain": [
       "['siddharth', ['maths', 'physics'], 12345]"
      ]
     },
     "execution_count": 171,
     "metadata": {},
     "output_type": "execute_result"
    }
   ],
   "source": [
    "list(d1.values())"
   ]
  },
  {
   "cell_type": "code",
   "execution_count": 172,
   "id": "ec003f7f",
   "metadata": {},
   "outputs": [
    {
     "data": {
      "text/plain": [
       "dict_items([('name', 'siddharth'), ('subject', ['maths', 'physics']), ('number', 12345)])"
      ]
     },
     "execution_count": 172,
     "metadata": {},
     "output_type": "execute_result"
    }
   ],
   "source": [
    "d1.items()"
   ]
  },
  {
   "cell_type": "code",
   "execution_count": 173,
   "id": "6532229d",
   "metadata": {},
   "outputs": [
    {
     "data": {
      "text/plain": [
       "[('name', 'siddharth'), ('subject', ['maths', 'physics']), ('number', 12345)]"
      ]
     },
     "execution_count": 173,
     "metadata": {},
     "output_type": "execute_result"
    }
   ],
   "source": [
    "list(d1.items())"
   ]
  },
  {
   "cell_type": "code",
   "execution_count": 174,
   "id": "d03ae0fb",
   "metadata": {},
   "outputs": [
    {
     "data": {
      "text/plain": [
       "'siddharth'"
      ]
     },
     "execution_count": 174,
     "metadata": {},
     "output_type": "execute_result"
    }
   ],
   "source": [
    "d1.get('name')"
   ]
  },
  {
   "cell_type": "code",
   "execution_count": 175,
   "id": "b67566ac",
   "metadata": {},
   "outputs": [
    {
     "data": {
      "text/plain": [
       "['maths', 'physics']"
      ]
     },
     "execution_count": 175,
     "metadata": {},
     "output_type": "execute_result"
    }
   ],
   "source": [
    "d1.get('subject')"
   ]
  },
  {
   "cell_type": "code",
   "execution_count": 176,
   "id": "3f18b8cd",
   "metadata": {},
   "outputs": [
    {
     "data": {
      "text/plain": [
       "{'name': 'siddharth', 'subject': ['maths', 'physics']}"
      ]
     },
     "execution_count": 176,
     "metadata": {},
     "output_type": "execute_result"
    }
   ],
   "source": [
    "d1.pop('number')\n",
    "d1"
   ]
  },
  {
   "cell_type": "code",
   "execution_count": 177,
   "id": "adf265bf",
   "metadata": {},
   "outputs": [
    {
     "data": {
      "text/plain": [
       "{'name': 'siddharth', 'subject': ['maths', 'physics'], 'new': 'new'}"
      ]
     },
     "execution_count": 177,
     "metadata": {},
     "output_type": "execute_result"
    }
   ],
   "source": [
    "d1['new']='new'\n",
    "d1"
   ]
  }
 ],
 "metadata": {
  "kernelspec": {
   "display_name": "Python 3 (ipykernel)",
   "language": "python",
   "name": "python3"
  },
  "language_info": {
   "codemirror_mode": {
    "name": "ipython",
    "version": 3
   },
   "file_extension": ".py",
   "mimetype": "text/x-python",
   "name": "python",
   "nbconvert_exporter": "python",
   "pygments_lexer": "ipython3",
   "version": "3.11.3"
  }
 },
 "nbformat": 4,
 "nbformat_minor": 5
}
