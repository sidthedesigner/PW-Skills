{
 "cells": [
  {
   "cell_type": "markdown",
   "id": "7b9468ca",
   "metadata": {},
   "source": [
    "# 1. Functions\n",
    "\n",
    "In Python, a function is a reusable block of code that performs a specific task or set of tasks. Functions are defined using the `def` keyword, and they can accept input parameters (arguments) and return a result using the `return` statement. Here's the basic syntax for defining a function:\n",
    "\n",
    "```python\n",
    "def function_name(parameters):\n",
    "    # Function code here\n",
    "    # ...\n",
    "    return result\n",
    "```\n",
    "\n",
    "Here are some examples of Python functions:\n",
    "\n",
    "1. **Simple Function** - A function that takes no arguments and returns a greeting message.\n",
    "\n",
    "```python\n",
    "def greet():\n",
    "    return \"Hello, World!\"\n",
    "\n",
    "# Call the function\n",
    "message = greet()\n",
    "print(message)\n",
    "```\n",
    "\n",
    "2. **Function with Parameters** - A function that takes two numbers as arguments and returns their sum.\n",
    "\n",
    "```python\n",
    "def add(a, b):\n",
    "    return a + b\n",
    "\n",
    "# Call the function\n",
    "result = add(3, 5)\n",
    "print(result)\n",
    "```\n",
    "\n",
    "3. **Function with Default Parameters** - A function that takes an optional parameter with a default value.\n",
    "\n",
    "```python\n",
    "def greet(name=\"User\"):\n",
    "    return f\"Hello, {name}!\"\n",
    "\n",
    "# Call the function with and without a name\n",
    "print(greet())  # Output: Hello, User!\n",
    "print(greet(\"Alice\"))  # Output: Hello, Alice!\n",
    "```\n",
    "\n",
    "4. **Function with Multiple Returns** - A function that returns multiple values using tuple unpacking.\n",
    "\n",
    "```python\n",
    "def rectangle_info(length, width):\n",
    "    area = length * width\n",
    "    perimeter = 2 * (length + width)\n",
    "    return area, perimeter\n",
    "\n",
    "# Call the function and unpack the results\n",
    "area, perimeter = rectangle_info(4, 6)\n",
    "print(f\"Area: {area}, Perimeter: {perimeter}\")\n",
    "```\n",
    "\n",
    "5. **Recursive Function** - A function that calls itself to compute the factorial of a number.\n",
    "\n",
    "```python\n",
    "def factorial(n):\n",
    "    if n == 0:\n",
    "        return 1\n",
    "    else:\n",
    "        return n * factorial(n - 1)\n",
    "\n",
    "result = factorial(5)  # Calculates 5!\n",
    "print(result)\n",
    "```\n",
    "\n",
    "6. **Lambda Function** - A small anonymous function defined using the `lambda` keyword.\n",
    "\n",
    "```python\n",
    "square = lambda x: x ** 2\n",
    "print(square(4))  # Output: 16\n",
    "```\n",
    "\n",
    "7. **Function with Variable-Length Arguments** - A function that accepts a variable number of arguments using `*args` and calculates their sum.\n",
    "\n",
    "```python\n",
    "def sum_all(*args):\n",
    "    total = 0\n",
    "    for num in args:\n",
    "        total += num\n",
    "    return total\n",
    "\n",
    "result = sum_all(1, 2, 3, 4, 5)\n",
    "print(result)  # Output: 15\n",
    "```\n",
    "\n",
    "These are just some basic examples of Python functions. Functions are a fundamental concept in programming and can be used to encapsulate logic, promote code reusability, and improve the organization of your code."
   ]
  },
  {
   "cell_type": "markdown",
   "id": "557484aa",
   "metadata": {},
   "source": [
    "# 2. Print vs Return in Functions\n",
    "\n",
    "In Python, both `print` and `return` are used in functions, but they serve different purposes.\n",
    "\n",
    "1. `print` in a Python function:\n",
    "   - `print` is a built-in function in Python that is used to display information on the console or terminal.\n",
    "   - When you use `print` within a function, it will output the specified text or variables to the console, but it won't affect the value returned by the function itself.\n",
    "   - `print` is typically used for debugging or displaying information to the user but doesn't impact the program's logic or data flow.\n",
    "   - Example:\n",
    "\n",
    "    ```python\n",
    "    def say_hello(name):\n",
    "        print(\"Hello, \" + name)\n",
    "    \n",
    "    say_hello(\"Alice\")  # This will print \"Hello, Alice\" to the console but won't return a value.\n",
    "    ```\n",
    "\n",
    "2. `return` in a Python function:\n",
    "   - `return` is used to specify the value that a function should produce as its result.\n",
    "   - When a function encounters a `return` statement, it immediately exits the function and returns the specified value to the caller.\n",
    "   - The value returned by a function can be stored in a variable or used in further computations.\n",
    "   - Example:\n",
    "\n",
    "    ```python\n",
    "    def add(a, b):\n",
    "        return a + b\n",
    "    \n",
    "    result = add(3, 5)  # The result variable will store the value 8.\n",
    "    ```\n",
    "\n",
    "In summary, `print` is used for displaying information on the console, while `return` is used to provide a result or value that can be used by the calling code. It's important to differentiate between these two when writing functions in Python, as they serve distinct purposes.\n",
    "\n",
    "# Practice"
   ]
  },
  {
   "cell_type": "code",
   "execution_count": 1,
   "id": "e024b438",
   "metadata": {},
   "outputs": [
    {
     "name": "stdout",
     "output_type": "stream",
     "text": [
      "Hello World\n"
     ]
    },
    {
     "data": {
      "text/plain": [
       "NoneType"
      ]
     },
     "execution_count": 1,
     "metadata": {},
     "output_type": "execute_result"
    }
   ],
   "source": [
    "def helloworld():\n",
    "    print('Hello World') \n",
    "    \n",
    "var = helloworld() # With None Type, you cannot perform any primitive operations.\n",
    "type(var)"
   ]
  },
  {
   "cell_type": "code",
   "execution_count": 2,
   "id": "044d97bc",
   "metadata": {},
   "outputs": [
    {
     "data": {
      "text/plain": [
       "str"
      ]
     },
     "execution_count": 2,
     "metadata": {},
     "output_type": "execute_result"
    }
   ],
   "source": [
    "def helloworld():\n",
    "    return 'Hello World'\n",
    "    \n",
    "var = helloworld()\n",
    "type(var)"
   ]
  },
  {
   "cell_type": "code",
   "execution_count": 3,
   "id": "8429367d",
   "metadata": {},
   "outputs": [
    {
     "data": {
      "text/plain": [
       "tuple"
      ]
     },
     "execution_count": 3,
     "metadata": {},
     "output_type": "execute_result"
    }
   ],
   "source": [
    "def helloworld():\n",
    "    return 'Hello World', 100, 5.5, True, 3+6j\n",
    "    \n",
    "var = helloworld()\n",
    "type(var)"
   ]
  },
  {
   "cell_type": "code",
   "execution_count": 4,
   "id": "ff22fccc",
   "metadata": {},
   "outputs": [
    {
     "name": "stdout",
     "output_type": "stream",
     "text": [
      "<class 'str'>\n",
      "<class 'int'>\n",
      "<class 'float'>\n",
      "<class 'bool'>\n",
      "<class 'complex'>\n"
     ]
    }
   ],
   "source": [
    "for i in var:\n",
    "    print(type(i))"
   ]
  },
  {
   "cell_type": "code",
   "execution_count": 5,
   "id": "e04714fe",
   "metadata": {},
   "outputs": [
    {
     "name": "stdout",
     "output_type": "stream",
     "text": [
      "True False False True\n"
     ]
    }
   ],
   "source": [
    "def some_function():\n",
    "    return True, False, False, True\n",
    "\n",
    "a,b,c,d = some_function()\n",
    "\n",
    "print(a,b,c,d)"
   ]
  },
  {
   "cell_type": "code",
   "execution_count": 1,
   "id": "949321c7",
   "metadata": {},
   "outputs": [],
   "source": [
    "database = {\n",
    "    'siddharth@gmail.com':'pwskills@12345',\n",
    "    'sudhanshu@gmail.com':'ineuron@12345'\n",
    "}\n",
    "\n",
    "def login(email,password):\n",
    "\n",
    "    if email in database.keys():\n",
    "        if password == database[email]:\n",
    "            print('Login Successful.')\n",
    "        else:\n",
    "            print('Wrong Password. Login Failed!')\n",
    "    else:\n",
    "        print('Email address is not registered.')"
   ]
  },
  {
   "cell_type": "code",
   "execution_count": 2,
   "id": "98bc588a",
   "metadata": {},
   "outputs": [
    {
     "name": "stdout",
     "output_type": "stream",
     "text": [
      "Email address is not registered.\n"
     ]
    }
   ],
   "source": [
    "login('siddharth1001@gmail.com','random')"
   ]
  },
  {
   "cell_type": "code",
   "execution_count": 3,
   "id": "a8591d08",
   "metadata": {},
   "outputs": [
    {
     "name": "stdout",
     "output_type": "stream",
     "text": [
      "Wrong Password. Login Failed!\n"
     ]
    }
   ],
   "source": [
    "login('siddharth@gmail.com','wrongpassword')"
   ]
  },
  {
   "cell_type": "code",
   "execution_count": 4,
   "id": "0facfae3",
   "metadata": {},
   "outputs": [
    {
     "name": "stdout",
     "output_type": "stream",
     "text": [
      "Login Successful.\n"
     ]
    }
   ],
   "source": [
    "login('siddharth@gmail.com','pwskills@12345')"
   ]
  },
  {
   "cell_type": "markdown",
   "id": "659112a4",
   "metadata": {},
   "source": [
    "# 3. Type Hinting\n",
    "\n",
    "In Python, you do not explicitly specify the data type of function parameters. Python is a dynamically typed language, which means that the data type of a variable is determined at runtime, and you do not need to declare the data type of a parameter when defining a function.\n",
    "\n",
    "Here's an example of a Python function without explicitly specifying data types for its parameters:\n",
    "\n",
    "```python\n",
    "def add_numbers(a, b):\n",
    "    return a + b\n",
    "\n",
    "result = add_numbers(5, 3)\n",
    "print(result)  # Output: 8\n",
    "```\n",
    "\n",
    "In the `add_numbers` function, `a` and `b` are parameters, and you can pass any type of data to them (e.g., integers, floats, strings). Python will perform type inference based on the actual arguments passed to the function.\n",
    "\n",
    "However, if you want to add type hints for function parameters to improve code readability and provide hints to developers and tools like linters and type checkers, you can use the \"Type Hinting\" feature introduced in Python 3.5 and later. Type hints do not enforce data types at runtime but provide information about the expected types:\n",
    "\n",
    "```python\n",
    "def add_numbers(a: int, b: int) -> int:\n",
    "    return a + b\n",
    "\n",
    "result = add_numbers(5, 3)\n",
    "print(result)  # Output: 8\n",
    "```\n",
    "\n",
    "In the modified example above, we've added type hints using the `:` syntax to indicate that `a` and `b` are expected to be of type `int`, and the `-> int` annotation specifies that the function will return an `int`. These hints are for documentation and can be used by tools like `mypy` for static type checking. They do not enforce types at runtime; Python remains dynamically typed."
   ]
  },
  {
   "cell_type": "code",
   "execution_count": 5,
   "id": "107b4f65",
   "metadata": {},
   "outputs": [
    {
     "name": "stdout",
     "output_type": "stream",
     "text": [
      "8\n"
     ]
    }
   ],
   "source": [
    "def add_numbers(a, b):\n",
    "    return a + b\n",
    "\n",
    "result = add_numbers(5, 3)\n",
    "print(result)  # Output: 8"
   ]
  },
  {
   "cell_type": "code",
   "execution_count": 6,
   "id": "2bbe9e38",
   "metadata": {},
   "outputs": [],
   "source": [
    "def add_numbers(a: int, b: int) -> int:\n",
    "    return a + b"
   ]
  },
  {
   "cell_type": "code",
   "execution_count": 7,
   "id": "91881b6c",
   "metadata": {},
   "outputs": [
    {
     "name": "stdout",
     "output_type": "stream",
     "text": [
      "Help on function add_numbers in module __main__:\n",
      "\n",
      "add_numbers(a: int, b: int) -> int\n",
      "\n"
     ]
    }
   ],
   "source": [
    "help(add_numbers)"
   ]
  },
  {
   "cell_type": "code",
   "execution_count": 8,
   "id": "f533673b",
   "metadata": {},
   "outputs": [
    {
     "name": "stdout",
     "output_type": "stream",
     "text": [
      "10\n"
     ]
    }
   ],
   "source": [
    "result = add_numbers(5, 5)\n",
    "print(result)  # Output: 8"
   ]
  },
  {
   "cell_type": "code",
   "execution_count": 9,
   "id": "7908d674",
   "metadata": {},
   "outputs": [
    {
     "name": "stdout",
     "output_type": "stream",
     "text": [
      "AddThis\n"
     ]
    }
   ],
   "source": [
    "result = add_numbers('Add','This')\n",
    "print(result)  # Output: AddThis"
   ]
  },
  {
   "cell_type": "markdown",
   "id": "ab95bc0c",
   "metadata": {},
   "source": [
    "# 4. Docstring\n",
    "\n",
    "A docstring in Python is a special type of string that is used to provide documentation for functions, classes, modules, or methods. Docstrings are typically placed at the beginning of these code elements and are enclosed in triple quotes (either single or double). They serve as a way to describe what the code does, provide information about its usage, and offer insights into its purpose.\n",
    "\n",
    "Here's a basic example of a Python function with a docstring:\n",
    "\n",
    "```python\n",
    "def greet(name):\n",
    "    \"\"\"\n",
    "    This function takes a name as an argument and returns a greeting message.\n",
    "    \n",
    "    Parameters:\n",
    "    name (str): The name of the person to greet.\n",
    "    \n",
    "    Returns:\n",
    "    str: A greeting message that includes the name.\n",
    "    \"\"\"\n",
    "    return f\"Hello, {name}!\"\n",
    "```\n",
    "\n",
    "In this example:\n",
    "\n",
    "- The docstring is enclosed in triple double quotes (`\"\"\"`) and is placed immediately below the function definition.\n",
    "- It provides a brief description of what the function does.\n",
    "- It documents the parameters the function accepts, their types, and their meanings.\n",
    "- It specifies the type of the return value and provides a description of what the function returns.\n",
    "\n",
    "Docstrings are not just comments; they are accessible programmatically and can be accessed using the `help()` function or through tools like Sphinx for generating documentation.\n",
    "\n",
    "Here's how you can access the docstring of the `greet` function:\n",
    "\n",
    "```python\n",
    "help(greet)\n",
    "```\n",
    "\n",
    "This will display the docstring, including the description, parameter details, and return value information.\n",
    "\n",
    "Using meaningful and descriptive docstrings is considered good practice in Python as it makes code more understandable and helps other developers (and your future self) when using or maintaining the code."
   ]
  },
  {
   "cell_type": "code",
   "execution_count": 10,
   "id": "0a76cbc5",
   "metadata": {},
   "outputs": [],
   "source": [
    "def greet(name):\n",
    "    \"\"\"\n",
    "    This function takes a name as an argument and returns a greeting message.\n",
    "    \n",
    "    Parameters:\n",
    "    name (str): The name of the person to greet.\n",
    "    \n",
    "    Returns:\n",
    "    str: A greeting message that includes the name.\n",
    "    \"\"\"\n",
    "    return f\"Hello, {name}!\""
   ]
  },
  {
   "cell_type": "code",
   "execution_count": 11,
   "id": "d7908c4e",
   "metadata": {},
   "outputs": [
    {
     "name": "stdout",
     "output_type": "stream",
     "text": [
      "Help on function greet in module __main__:\n",
      "\n",
      "greet(name)\n",
      "    This function takes a name as an argument and returns a greeting message.\n",
      "    \n",
      "    Parameters:\n",
      "    name (str): The name of the person to greet.\n",
      "    \n",
      "    Returns:\n",
      "    str: A greeting message that includes the name.\n",
      "\n"
     ]
    }
   ],
   "source": [
    "help(greet)"
   ]
  },
  {
   "cell_type": "markdown",
   "id": "fb0ecd0e",
   "metadata": {},
   "source": [
    "# 5. Docstring Examples"
   ]
  },
  {
   "cell_type": "code",
   "execution_count": 12,
   "id": "f4cf1db6",
   "metadata": {},
   "outputs": [
    {
     "name": "stdout",
     "output_type": "stream",
     "text": [
      "Help on built-in function print in module builtins:\n",
      "\n",
      "print(*args, sep=' ', end='\\n', file=None, flush=False)\n",
      "    Prints the values to a stream, or to sys.stdout by default.\n",
      "    \n",
      "    sep\n",
      "      string inserted between values, default a space.\n",
      "    end\n",
      "      string appended after the last value, default a newline.\n",
      "    file\n",
      "      a file-like object (stream); defaults to the current sys.stdout.\n",
      "    flush\n",
      "      whether to forcibly flush the stream.\n",
      "\n"
     ]
    }
   ],
   "source": [
    "help(print)"
   ]
  },
  {
   "cell_type": "code",
   "execution_count": 13,
   "id": "154eb903",
   "metadata": {},
   "outputs": [
    {
     "name": "stdout",
     "output_type": "stream",
     "text": [
      "Help on class type in module builtins:\n",
      "\n",
      "class type(object)\n",
      " |  type(object) -> the object's type\n",
      " |  type(name, bases, dict, **kwds) -> a new type\n",
      " |  \n",
      " |  Methods defined here:\n",
      " |  \n",
      " |  __call__(self, /, *args, **kwargs)\n",
      " |      Call self as a function.\n",
      " |  \n",
      " |  __delattr__(self, name, /)\n",
      " |      Implement delattr(self, name).\n",
      " |  \n",
      " |  __dir__(self, /)\n",
      " |      Specialized __dir__ implementation for types.\n",
      " |  \n",
      " |  __getattribute__(self, name, /)\n",
      " |      Return getattr(self, name).\n",
      " |  \n",
      " |  __init__(self, /, *args, **kwargs)\n",
      " |      Initialize self.  See help(type(self)) for accurate signature.\n",
      " |  \n",
      " |  __instancecheck__(self, instance, /)\n",
      " |      Check if an object is an instance.\n",
      " |  \n",
      " |  __or__(self, value, /)\n",
      " |      Return self|value.\n",
      " |  \n",
      " |  __repr__(self, /)\n",
      " |      Return repr(self).\n",
      " |  \n",
      " |  __ror__(self, value, /)\n",
      " |      Return value|self.\n",
      " |  \n",
      " |  __setattr__(self, name, value, /)\n",
      " |      Implement setattr(self, name, value).\n",
      " |  \n",
      " |  __sizeof__(self, /)\n",
      " |      Return memory consumption of the type object.\n",
      " |  \n",
      " |  __subclasscheck__(self, subclass, /)\n",
      " |      Check if a class is a subclass.\n",
      " |  \n",
      " |  __subclasses__(self, /)\n",
      " |      Return a list of immediate subclasses.\n",
      " |  \n",
      " |  mro(self, /)\n",
      " |      Return a type's method resolution order.\n",
      " |  \n",
      " |  ----------------------------------------------------------------------\n",
      " |  Class methods defined here:\n",
      " |  \n",
      " |  __prepare__(...)\n",
      " |      __prepare__() -> dict\n",
      " |      used to create the namespace for the class statement\n",
      " |  \n",
      " |  ----------------------------------------------------------------------\n",
      " |  Static methods defined here:\n",
      " |  \n",
      " |  __new__(*args, **kwargs)\n",
      " |      Create and return a new object.  See help(type) for accurate signature.\n",
      " |  \n",
      " |  ----------------------------------------------------------------------\n",
      " |  Data descriptors defined here:\n",
      " |  \n",
      " |  __abstractmethods__\n",
      " |  \n",
      " |  __annotations__\n",
      " |  \n",
      " |  __dict__\n",
      " |  \n",
      " |  __text_signature__\n",
      " |  \n",
      " |  ----------------------------------------------------------------------\n",
      " |  Data and other attributes defined here:\n",
      " |  \n",
      " |  __base__ = <class 'object'>\n",
      " |      The base class of the class hierarchy.\n",
      " |      \n",
      " |      When called, it accepts no arguments and returns a new featureless\n",
      " |      instance that has no instance attributes and cannot be given any.\n",
      " |  \n",
      " |  \n",
      " |  __bases__ = (<class 'object'>,)\n",
      " |  \n",
      " |  __basicsize__ = 904\n",
      " |  \n",
      " |  __dictoffset__ = 264\n",
      " |  \n",
      " |  __flags__ = 2148031744\n",
      " |  \n",
      " |  __itemsize__ = 40\n",
      " |  \n",
      " |  __mro__ = (<class 'type'>, <class 'object'>)\n",
      " |  \n",
      " |  __weakrefoffset__ = 368\n",
      "\n"
     ]
    }
   ],
   "source": [
    "help(type)"
   ]
  },
  {
   "cell_type": "code",
   "execution_count": 15,
   "id": "2ddd36f9",
   "metadata": {},
   "outputs": [
    {
     "name": "stdout",
     "output_type": "stream",
     "text": [
      "Help on class bool in module builtins:\n",
      "\n",
      "class bool(int)\n",
      " |  bool(x) -> bool\n",
      " |  \n",
      " |  Returns True when the argument x is true, False otherwise.\n",
      " |  The builtins True and False are the only two instances of the class bool.\n",
      " |  The class bool is a subclass of the class int, and cannot be subclassed.\n",
      " |  \n",
      " |  Method resolution order:\n",
      " |      bool\n",
      " |      int\n",
      " |      object\n",
      " |  \n",
      " |  Methods defined here:\n",
      " |  \n",
      " |  __and__(self, value, /)\n",
      " |      Return self&value.\n",
      " |  \n",
      " |  __or__(self, value, /)\n",
      " |      Return self|value.\n",
      " |  \n",
      " |  __rand__(self, value, /)\n",
      " |      Return value&self.\n",
      " |  \n",
      " |  __repr__(self, /)\n",
      " |      Return repr(self).\n",
      " |  \n",
      " |  __ror__(self, value, /)\n",
      " |      Return value|self.\n",
      " |  \n",
      " |  __rxor__(self, value, /)\n",
      " |      Return value^self.\n",
      " |  \n",
      " |  __xor__(self, value, /)\n",
      " |      Return self^value.\n",
      " |  \n",
      " |  ----------------------------------------------------------------------\n",
      " |  Static methods defined here:\n",
      " |  \n",
      " |  __new__(*args, **kwargs) from builtins.type\n",
      " |      Create and return a new object.  See help(type) for accurate signature.\n",
      " |  \n",
      " |  ----------------------------------------------------------------------\n",
      " |  Methods inherited from int:\n",
      " |  \n",
      " |  __abs__(self, /)\n",
      " |      abs(self)\n",
      " |  \n",
      " |  __add__(self, value, /)\n",
      " |      Return self+value.\n",
      " |  \n",
      " |  __bool__(self, /)\n",
      " |      True if self else False\n",
      " |  \n",
      " |  __ceil__(...)\n",
      " |      Ceiling of an Integral returns itself.\n",
      " |  \n",
      " |  __divmod__(self, value, /)\n",
      " |      Return divmod(self, value).\n",
      " |  \n",
      " |  __eq__(self, value, /)\n",
      " |      Return self==value.\n",
      " |  \n",
      " |  __float__(self, /)\n",
      " |      float(self)\n",
      " |  \n",
      " |  __floor__(...)\n",
      " |      Flooring an Integral returns itself.\n",
      " |  \n",
      " |  __floordiv__(self, value, /)\n",
      " |      Return self//value.\n",
      " |  \n",
      " |  __format__(self, format_spec, /)\n",
      " |      Default object formatter.\n",
      " |  \n",
      " |  __ge__(self, value, /)\n",
      " |      Return self>=value.\n",
      " |  \n",
      " |  __getattribute__(self, name, /)\n",
      " |      Return getattr(self, name).\n",
      " |  \n",
      " |  __getnewargs__(self, /)\n",
      " |  \n",
      " |  __gt__(self, value, /)\n",
      " |      Return self>value.\n",
      " |  \n",
      " |  __hash__(self, /)\n",
      " |      Return hash(self).\n",
      " |  \n",
      " |  __index__(self, /)\n",
      " |      Return self converted to an integer, if self is suitable for use as an index into a list.\n",
      " |  \n",
      " |  __int__(self, /)\n",
      " |      int(self)\n",
      " |  \n",
      " |  __invert__(self, /)\n",
      " |      ~self\n",
      " |  \n",
      " |  __le__(self, value, /)\n",
      " |      Return self<=value.\n",
      " |  \n",
      " |  __lshift__(self, value, /)\n",
      " |      Return self<<value.\n",
      " |  \n",
      " |  __lt__(self, value, /)\n",
      " |      Return self<value.\n",
      " |  \n",
      " |  __mod__(self, value, /)\n",
      " |      Return self%value.\n",
      " |  \n",
      " |  __mul__(self, value, /)\n",
      " |      Return self*value.\n",
      " |  \n",
      " |  __ne__(self, value, /)\n",
      " |      Return self!=value.\n",
      " |  \n",
      " |  __neg__(self, /)\n",
      " |      -self\n",
      " |  \n",
      " |  __pos__(self, /)\n",
      " |      +self\n",
      " |  \n",
      " |  __pow__(self, value, mod=None, /)\n",
      " |      Return pow(self, value, mod).\n",
      " |  \n",
      " |  __radd__(self, value, /)\n",
      " |      Return value+self.\n",
      " |  \n",
      " |  __rdivmod__(self, value, /)\n",
      " |      Return divmod(value, self).\n",
      " |  \n",
      " |  __rfloordiv__(self, value, /)\n",
      " |      Return value//self.\n",
      " |  \n",
      " |  __rlshift__(self, value, /)\n",
      " |      Return value<<self.\n",
      " |  \n",
      " |  __rmod__(self, value, /)\n",
      " |      Return value%self.\n",
      " |  \n",
      " |  __rmul__(self, value, /)\n",
      " |      Return value*self.\n",
      " |  \n",
      " |  __round__(...)\n",
      " |      Rounding an Integral returns itself.\n",
      " |      \n",
      " |      Rounding with an ndigits argument also returns an integer.\n",
      " |  \n",
      " |  __rpow__(self, value, mod=None, /)\n",
      " |      Return pow(value, self, mod).\n",
      " |  \n",
      " |  __rrshift__(self, value, /)\n",
      " |      Return value>>self.\n",
      " |  \n",
      " |  __rshift__(self, value, /)\n",
      " |      Return self>>value.\n",
      " |  \n",
      " |  __rsub__(self, value, /)\n",
      " |      Return value-self.\n",
      " |  \n",
      " |  __rtruediv__(self, value, /)\n",
      " |      Return value/self.\n",
      " |  \n",
      " |  __sizeof__(self, /)\n",
      " |      Returns size in memory, in bytes.\n",
      " |  \n",
      " |  __sub__(self, value, /)\n",
      " |      Return self-value.\n",
      " |  \n",
      " |  __truediv__(self, value, /)\n",
      " |      Return self/value.\n",
      " |  \n",
      " |  __trunc__(...)\n",
      " |      Truncating an Integral returns itself.\n",
      " |  \n",
      " |  as_integer_ratio(self, /)\n",
      " |      Return integer ratio.\n",
      " |      \n",
      " |      Return a pair of integers, whose ratio is exactly equal to the original int\n",
      " |      and with a positive denominator.\n",
      " |      \n",
      " |      >>> (10).as_integer_ratio()\n",
      " |      (10, 1)\n",
      " |      >>> (-10).as_integer_ratio()\n",
      " |      (-10, 1)\n",
      " |      >>> (0).as_integer_ratio()\n",
      " |      (0, 1)\n",
      " |  \n",
      " |  bit_count(self, /)\n",
      " |      Number of ones in the binary representation of the absolute value of self.\n",
      " |      \n",
      " |      Also known as the population count.\n",
      " |      \n",
      " |      >>> bin(13)\n",
      " |      '0b1101'\n",
      " |      >>> (13).bit_count()\n",
      " |      3\n",
      " |  \n",
      " |  bit_length(self, /)\n",
      " |      Number of bits necessary to represent self in binary.\n",
      " |      \n",
      " |      >>> bin(37)\n",
      " |      '0b100101'\n",
      " |      >>> (37).bit_length()\n",
      " |      6\n",
      " |  \n",
      " |  conjugate(...)\n",
      " |      Returns self, the complex conjugate of any int.\n",
      " |  \n",
      " |  to_bytes(self, /, length=1, byteorder='big', *, signed=False)\n",
      " |      Return an array of bytes representing an integer.\n",
      " |      \n",
      " |      length\n",
      " |        Length of bytes object to use.  An OverflowError is raised if the\n",
      " |        integer is not representable with the given number of bytes.  Default\n",
      " |        is length 1.\n",
      " |      byteorder\n",
      " |        The byte order used to represent the integer.  If byteorder is 'big',\n",
      " |        the most significant byte is at the beginning of the byte array.  If\n",
      " |        byteorder is 'little', the most significant byte is at the end of the\n",
      " |        byte array.  To request the native byte order of the host system, use\n",
      " |        `sys.byteorder' as the byte order value.  Default is to use 'big'.\n",
      " |      signed\n",
      " |        Determines whether two's complement is used to represent the integer.\n",
      " |        If signed is False and a negative integer is given, an OverflowError\n",
      " |        is raised.\n",
      " |  \n",
      " |  ----------------------------------------------------------------------\n",
      " |  Class methods inherited from int:\n",
      " |  \n",
      " |  from_bytes(bytes, byteorder='big', *, signed=False) from builtins.type\n",
      " |      Return the integer represented by the given array of bytes.\n",
      " |      \n",
      " |      bytes\n",
      " |        Holds the array of bytes to convert.  The argument must either\n",
      " |        support the buffer protocol or be an iterable object producing bytes.\n",
      " |        Bytes and bytearray are examples of built-in objects that support the\n",
      " |        buffer protocol.\n",
      " |      byteorder\n",
      " |        The byte order used to represent the integer.  If byteorder is 'big',\n",
      " |        the most significant byte is at the beginning of the byte array.  If\n",
      " |        byteorder is 'little', the most significant byte is at the end of the\n",
      " |        byte array.  To request the native byte order of the host system, use\n",
      " |        `sys.byteorder' as the byte order value.  Default is to use 'big'.\n",
      " |      signed\n",
      " |        Indicates whether two's complement is used to represent the integer.\n",
      " |  \n",
      " |  ----------------------------------------------------------------------\n",
      " |  Data descriptors inherited from int:\n",
      " |  \n",
      " |  denominator\n",
      " |      the denominator of a rational number in lowest terms\n",
      " |  \n",
      " |  imag\n",
      " |      the imaginary part of a complex number\n",
      " |  \n",
      " |  numerator\n",
      " |      the numerator of a rational number in lowest terms\n",
      " |  \n",
      " |  real\n",
      " |      the real part of a complex number\n",
      "\n"
     ]
    }
   ],
   "source": [
    "help(bool)"
   ]
  },
  {
   "cell_type": "code",
   "execution_count": 16,
   "id": "854b286d",
   "metadata": {},
   "outputs": [
    {
     "name": "stdout",
     "output_type": "stream",
     "text": [
      "Help on built-in function min in module builtins:\n",
      "\n",
      "min(...)\n",
      "    min(iterable, *[, default=obj, key=func]) -> value\n",
      "    min(arg1, arg2, *args, *[, key=func]) -> value\n",
      "    \n",
      "    With a single iterable argument, return its smallest item. The\n",
      "    default keyword-only argument specifies an object to return if\n",
      "    the provided iterable is empty.\n",
      "    With two or more arguments, return the smallest argument.\n",
      "\n"
     ]
    }
   ],
   "source": [
    "help(min)"
   ]
  },
  {
   "cell_type": "code",
   "execution_count": 17,
   "id": "1ca8d3df",
   "metadata": {},
   "outputs": [
    {
     "name": "stdout",
     "output_type": "stream",
     "text": [
      "Help on built-in function max in module builtins:\n",
      "\n",
      "max(...)\n",
      "    max(iterable, *[, default=obj, key=func]) -> value\n",
      "    max(arg1, arg2, *args, *[, key=func]) -> value\n",
      "    \n",
      "    With a single iterable argument, return its biggest item. The\n",
      "    default keyword-only argument specifies an object to return if\n",
      "    the provided iterable is empty.\n",
      "    With two or more arguments, return the largest argument.\n",
      "\n"
     ]
    }
   ],
   "source": [
    "help(max)"
   ]
  },
  {
   "cell_type": "code",
   "execution_count": 18,
   "id": "0dd38ba0",
   "metadata": {},
   "outputs": [
    {
     "name": "stdout",
     "output_type": "stream",
     "text": [
      "Help on built-in function len in module builtins:\n",
      "\n",
      "len(obj, /)\n",
      "    Return the number of items in a container.\n",
      "\n"
     ]
    }
   ],
   "source": [
    "help(len)"
   ]
  },
  {
   "cell_type": "code",
   "execution_count": 19,
   "id": "89446dc4",
   "metadata": {},
   "outputs": [
    {
     "name": "stdout",
     "output_type": "stream",
     "text": [
      "Help on class range in module builtins:\n",
      "\n",
      "class range(object)\n",
      " |  range(stop) -> range object\n",
      " |  range(start, stop[, step]) -> range object\n",
      " |  \n",
      " |  Return an object that produces a sequence of integers from start (inclusive)\n",
      " |  to stop (exclusive) by step.  range(i, j) produces i, i+1, i+2, ..., j-1.\n",
      " |  start defaults to 0, and stop is omitted!  range(4) produces 0, 1, 2, 3.\n",
      " |  These are exactly the valid indices for a list of 4 elements.\n",
      " |  When step is given, it specifies the increment (or decrement).\n",
      " |  \n",
      " |  Methods defined here:\n",
      " |  \n",
      " |  __bool__(self, /)\n",
      " |      True if self else False\n",
      " |  \n",
      " |  __contains__(self, key, /)\n",
      " |      Return key in self.\n",
      " |  \n",
      " |  __eq__(self, value, /)\n",
      " |      Return self==value.\n",
      " |  \n",
      " |  __ge__(self, value, /)\n",
      " |      Return self>=value.\n",
      " |  \n",
      " |  __getattribute__(self, name, /)\n",
      " |      Return getattr(self, name).\n",
      " |  \n",
      " |  __getitem__(self, key, /)\n",
      " |      Return self[key].\n",
      " |  \n",
      " |  __gt__(self, value, /)\n",
      " |      Return self>value.\n",
      " |  \n",
      " |  __hash__(self, /)\n",
      " |      Return hash(self).\n",
      " |  \n",
      " |  __iter__(self, /)\n",
      " |      Implement iter(self).\n",
      " |  \n",
      " |  __le__(self, value, /)\n",
      " |      Return self<=value.\n",
      " |  \n",
      " |  __len__(self, /)\n",
      " |      Return len(self).\n",
      " |  \n",
      " |  __lt__(self, value, /)\n",
      " |      Return self<value.\n",
      " |  \n",
      " |  __ne__(self, value, /)\n",
      " |      Return self!=value.\n",
      " |  \n",
      " |  __reduce__(...)\n",
      " |      Helper for pickle.\n",
      " |  \n",
      " |  __repr__(self, /)\n",
      " |      Return repr(self).\n",
      " |  \n",
      " |  __reversed__(...)\n",
      " |      Return a reverse iterator.\n",
      " |  \n",
      " |  count(...)\n",
      " |      rangeobject.count(value) -> integer -- return number of occurrences of value\n",
      " |  \n",
      " |  index(...)\n",
      " |      rangeobject.index(value) -> integer -- return index of value.\n",
      " |      Raise ValueError if the value is not present.\n",
      " |  \n",
      " |  ----------------------------------------------------------------------\n",
      " |  Static methods defined here:\n",
      " |  \n",
      " |  __new__(*args, **kwargs) from builtins.type\n",
      " |      Create and return a new object.  See help(type) for accurate signature.\n",
      " |  \n",
      " |  ----------------------------------------------------------------------\n",
      " |  Data descriptors defined here:\n",
      " |  \n",
      " |  start\n",
      " |  \n",
      " |  step\n",
      " |  \n",
      " |  stop\n",
      "\n"
     ]
    }
   ],
   "source": [
    "help(range)"
   ]
  },
  {
   "cell_type": "code",
   "execution_count": 20,
   "id": "45ee591e",
   "metadata": {},
   "outputs": [
    {
     "name": "stdout",
     "output_type": "stream",
     "text": [
      "Help on built-in function sorted in module builtins:\n",
      "\n",
      "sorted(iterable, /, *, key=None, reverse=False)\n",
      "    Return a new list containing all items from the iterable in ascending order.\n",
      "    \n",
      "    A custom key function can be supplied to customize the sort order, and the\n",
      "    reverse flag can be set to request the result in descending order.\n",
      "\n"
     ]
    }
   ],
   "source": [
    "help(sorted)"
   ]
  },
  {
   "cell_type": "code",
   "execution_count": 21,
   "id": "fad394ba",
   "metadata": {},
   "outputs": [
    {
     "name": "stdout",
     "output_type": "stream",
     "text": [
      "Help on method raw_input in module ipykernel.kernelbase:\n",
      "\n",
      "raw_input(prompt='') method of ipykernel.ipkernel.IPythonKernel instance\n",
      "    Forward raw_input to frontends\n",
      "    \n",
      "    Raises\n",
      "    ------\n",
      "    StdinNotImplementedError if active frontend doesn't support stdin.\n",
      "\n"
     ]
    }
   ],
   "source": [
    "help(input)"
   ]
  },
  {
   "cell_type": "code",
   "execution_count": 22,
   "id": "e0e9790f",
   "metadata": {},
   "outputs": [
    {
     "name": "stdout",
     "output_type": "stream",
     "text": [
      "Help on built-in function sum in module builtins:\n",
      "\n",
      "sum(iterable, /, start=0)\n",
      "    Return the sum of a 'start' value (default: 0) plus an iterable of numbers\n",
      "    \n",
      "    When the iterable is empty, return the start value.\n",
      "    This function is intended specifically for use with numeric values and may\n",
      "    reject non-numeric types.\n",
      "\n"
     ]
    }
   ],
   "source": [
    "help(sum)"
   ]
  },
  {
   "cell_type": "code",
   "execution_count": 23,
   "id": "c6a8de30",
   "metadata": {},
   "outputs": [
    {
     "name": "stdout",
     "output_type": "stream",
     "text": [
      "Help on class str in module builtins:\n",
      "\n",
      "class str(object)\n",
      " |  str(object='') -> str\n",
      " |  str(bytes_or_buffer[, encoding[, errors]]) -> str\n",
      " |  \n",
      " |  Create a new string object from the given object. If encoding or\n",
      " |  errors is specified, then the object must expose a data buffer\n",
      " |  that will be decoded using the given encoding and error handler.\n",
      " |  Otherwise, returns the result of object.__str__() (if defined)\n",
      " |  or repr(object).\n",
      " |  encoding defaults to sys.getdefaultencoding().\n",
      " |  errors defaults to 'strict'.\n",
      " |  \n",
      " |  Methods defined here:\n",
      " |  \n",
      " |  __add__(self, value, /)\n",
      " |      Return self+value.\n",
      " |  \n",
      " |  __contains__(self, key, /)\n",
      " |      Return key in self.\n",
      " |  \n",
      " |  __eq__(self, value, /)\n",
      " |      Return self==value.\n",
      " |  \n",
      " |  __format__(self, format_spec, /)\n",
      " |      Return a formatted version of the string as described by format_spec.\n",
      " |  \n",
      " |  __ge__(self, value, /)\n",
      " |      Return self>=value.\n",
      " |  \n",
      " |  __getattribute__(self, name, /)\n",
      " |      Return getattr(self, name).\n",
      " |  \n",
      " |  __getitem__(self, key, /)\n",
      " |      Return self[key].\n",
      " |  \n",
      " |  __getnewargs__(...)\n",
      " |  \n",
      " |  __gt__(self, value, /)\n",
      " |      Return self>value.\n",
      " |  \n",
      " |  __hash__(self, /)\n",
      " |      Return hash(self).\n",
      " |  \n",
      " |  __iter__(self, /)\n",
      " |      Implement iter(self).\n",
      " |  \n",
      " |  __le__(self, value, /)\n",
      " |      Return self<=value.\n",
      " |  \n",
      " |  __len__(self, /)\n",
      " |      Return len(self).\n",
      " |  \n",
      " |  __lt__(self, value, /)\n",
      " |      Return self<value.\n",
      " |  \n",
      " |  __mod__(self, value, /)\n",
      " |      Return self%value.\n",
      " |  \n",
      " |  __mul__(self, value, /)\n",
      " |      Return self*value.\n",
      " |  \n",
      " |  __ne__(self, value, /)\n",
      " |      Return self!=value.\n",
      " |  \n",
      " |  __repr__(self, /)\n",
      " |      Return repr(self).\n",
      " |  \n",
      " |  __rmod__(self, value, /)\n",
      " |      Return value%self.\n",
      " |  \n",
      " |  __rmul__(self, value, /)\n",
      " |      Return value*self.\n",
      " |  \n",
      " |  __sizeof__(self, /)\n",
      " |      Return the size of the string in memory, in bytes.\n",
      " |  \n",
      " |  __str__(self, /)\n",
      " |      Return str(self).\n",
      " |  \n",
      " |  capitalize(self, /)\n",
      " |      Return a capitalized version of the string.\n",
      " |      \n",
      " |      More specifically, make the first character have upper case and the rest lower\n",
      " |      case.\n",
      " |  \n",
      " |  casefold(self, /)\n",
      " |      Return a version of the string suitable for caseless comparisons.\n",
      " |  \n",
      " |  center(self, width, fillchar=' ', /)\n",
      " |      Return a centered string of length width.\n",
      " |      \n",
      " |      Padding is done using the specified fill character (default is a space).\n",
      " |  \n",
      " |  count(...)\n",
      " |      S.count(sub[, start[, end]]) -> int\n",
      " |      \n",
      " |      Return the number of non-overlapping occurrences of substring sub in\n",
      " |      string S[start:end].  Optional arguments start and end are\n",
      " |      interpreted as in slice notation.\n",
      " |  \n",
      " |  encode(self, /, encoding='utf-8', errors='strict')\n",
      " |      Encode the string using the codec registered for encoding.\n",
      " |      \n",
      " |      encoding\n",
      " |        The encoding in which to encode the string.\n",
      " |      errors\n",
      " |        The error handling scheme to use for encoding errors.\n",
      " |        The default is 'strict' meaning that encoding errors raise a\n",
      " |        UnicodeEncodeError.  Other possible values are 'ignore', 'replace' and\n",
      " |        'xmlcharrefreplace' as well as any other name registered with\n",
      " |        codecs.register_error that can handle UnicodeEncodeErrors.\n",
      " |  \n",
      " |  endswith(...)\n",
      " |      S.endswith(suffix[, start[, end]]) -> bool\n",
      " |      \n",
      " |      Return True if S ends with the specified suffix, False otherwise.\n",
      " |      With optional start, test S beginning at that position.\n",
      " |      With optional end, stop comparing S at that position.\n",
      " |      suffix can also be a tuple of strings to try.\n",
      " |  \n",
      " |  expandtabs(self, /, tabsize=8)\n",
      " |      Return a copy where all tab characters are expanded using spaces.\n",
      " |      \n",
      " |      If tabsize is not given, a tab size of 8 characters is assumed.\n",
      " |  \n",
      " |  find(...)\n",
      " |      S.find(sub[, start[, end]]) -> int\n",
      " |      \n",
      " |      Return the lowest index in S where substring sub is found,\n",
      " |      such that sub is contained within S[start:end].  Optional\n",
      " |      arguments start and end are interpreted as in slice notation.\n",
      " |      \n",
      " |      Return -1 on failure.\n",
      " |  \n",
      " |  format(...)\n",
      " |      S.format(*args, **kwargs) -> str\n",
      " |      \n",
      " |      Return a formatted version of S, using substitutions from args and kwargs.\n",
      " |      The substitutions are identified by braces ('{' and '}').\n",
      " |  \n",
      " |  format_map(...)\n",
      " |      S.format_map(mapping) -> str\n",
      " |      \n",
      " |      Return a formatted version of S, using substitutions from mapping.\n",
      " |      The substitutions are identified by braces ('{' and '}').\n",
      " |  \n",
      " |  index(...)\n",
      " |      S.index(sub[, start[, end]]) -> int\n",
      " |      \n",
      " |      Return the lowest index in S where substring sub is found,\n",
      " |      such that sub is contained within S[start:end].  Optional\n",
      " |      arguments start and end are interpreted as in slice notation.\n",
      " |      \n",
      " |      Raises ValueError when the substring is not found.\n",
      " |  \n",
      " |  isalnum(self, /)\n",
      " |      Return True if the string is an alpha-numeric string, False otherwise.\n",
      " |      \n",
      " |      A string is alpha-numeric if all characters in the string are alpha-numeric and\n",
      " |      there is at least one character in the string.\n",
      " |  \n",
      " |  isalpha(self, /)\n",
      " |      Return True if the string is an alphabetic string, False otherwise.\n",
      " |      \n",
      " |      A string is alphabetic if all characters in the string are alphabetic and there\n",
      " |      is at least one character in the string.\n",
      " |  \n",
      " |  isascii(self, /)\n",
      " |      Return True if all characters in the string are ASCII, False otherwise.\n",
      " |      \n",
      " |      ASCII characters have code points in the range U+0000-U+007F.\n",
      " |      Empty string is ASCII too.\n",
      " |  \n",
      " |  isdecimal(self, /)\n",
      " |      Return True if the string is a decimal string, False otherwise.\n",
      " |      \n",
      " |      A string is a decimal string if all characters in the string are decimal and\n",
      " |      there is at least one character in the string.\n",
      " |  \n",
      " |  isdigit(self, /)\n",
      " |      Return True if the string is a digit string, False otherwise.\n",
      " |      \n",
      " |      A string is a digit string if all characters in the string are digits and there\n",
      " |      is at least one character in the string.\n",
      " |  \n",
      " |  isidentifier(self, /)\n",
      " |      Return True if the string is a valid Python identifier, False otherwise.\n",
      " |      \n",
      " |      Call keyword.iskeyword(s) to test whether string s is a reserved identifier,\n",
      " |      such as \"def\" or \"class\".\n",
      " |  \n",
      " |  islower(self, /)\n",
      " |      Return True if the string is a lowercase string, False otherwise.\n",
      " |      \n",
      " |      A string is lowercase if all cased characters in the string are lowercase and\n",
      " |      there is at least one cased character in the string.\n",
      " |  \n",
      " |  isnumeric(self, /)\n",
      " |      Return True if the string is a numeric string, False otherwise.\n",
      " |      \n",
      " |      A string is numeric if all characters in the string are numeric and there is at\n",
      " |      least one character in the string.\n",
      " |  \n",
      " |  isprintable(self, /)\n",
      " |      Return True if the string is printable, False otherwise.\n",
      " |      \n",
      " |      A string is printable if all of its characters are considered printable in\n",
      " |      repr() or if it is empty.\n",
      " |  \n",
      " |  isspace(self, /)\n",
      " |      Return True if the string is a whitespace string, False otherwise.\n",
      " |      \n",
      " |      A string is whitespace if all characters in the string are whitespace and there\n",
      " |      is at least one character in the string.\n",
      " |  \n",
      " |  istitle(self, /)\n",
      " |      Return True if the string is a title-cased string, False otherwise.\n",
      " |      \n",
      " |      In a title-cased string, upper- and title-case characters may only\n",
      " |      follow uncased characters and lowercase characters only cased ones.\n",
      " |  \n",
      " |  isupper(self, /)\n",
      " |      Return True if the string is an uppercase string, False otherwise.\n",
      " |      \n",
      " |      A string is uppercase if all cased characters in the string are uppercase and\n",
      " |      there is at least one cased character in the string.\n",
      " |  \n",
      " |  join(self, iterable, /)\n",
      " |      Concatenate any number of strings.\n",
      " |      \n",
      " |      The string whose method is called is inserted in between each given string.\n",
      " |      The result is returned as a new string.\n",
      " |      \n",
      " |      Example: '.'.join(['ab', 'pq', 'rs']) -> 'ab.pq.rs'\n",
      " |  \n",
      " |  ljust(self, width, fillchar=' ', /)\n",
      " |      Return a left-justified string of length width.\n",
      " |      \n",
      " |      Padding is done using the specified fill character (default is a space).\n",
      " |  \n",
      " |  lower(self, /)\n",
      " |      Return a copy of the string converted to lowercase.\n",
      " |  \n",
      " |  lstrip(self, chars=None, /)\n",
      " |      Return a copy of the string with leading whitespace removed.\n",
      " |      \n",
      " |      If chars is given and not None, remove characters in chars instead.\n",
      " |  \n",
      " |  partition(self, sep, /)\n",
      " |      Partition the string into three parts using the given separator.\n",
      " |      \n",
      " |      This will search for the separator in the string.  If the separator is found,\n",
      " |      returns a 3-tuple containing the part before the separator, the separator\n",
      " |      itself, and the part after it.\n",
      " |      \n",
      " |      If the separator is not found, returns a 3-tuple containing the original string\n",
      " |      and two empty strings.\n",
      " |  \n",
      " |  removeprefix(self, prefix, /)\n",
      " |      Return a str with the given prefix string removed if present.\n",
      " |      \n",
      " |      If the string starts with the prefix string, return string[len(prefix):].\n",
      " |      Otherwise, return a copy of the original string.\n",
      " |  \n",
      " |  removesuffix(self, suffix, /)\n",
      " |      Return a str with the given suffix string removed if present.\n",
      " |      \n",
      " |      If the string ends with the suffix string and that suffix is not empty,\n",
      " |      return string[:-len(suffix)]. Otherwise, return a copy of the original\n",
      " |      string.\n",
      " |  \n",
      " |  replace(self, old, new, count=-1, /)\n",
      " |      Return a copy with all occurrences of substring old replaced by new.\n",
      " |      \n",
      " |        count\n",
      " |          Maximum number of occurrences to replace.\n",
      " |          -1 (the default value) means replace all occurrences.\n",
      " |      \n",
      " |      If the optional argument count is given, only the first count occurrences are\n",
      " |      replaced.\n",
      " |  \n",
      " |  rfind(...)\n",
      " |      S.rfind(sub[, start[, end]]) -> int\n",
      " |      \n",
      " |      Return the highest index in S where substring sub is found,\n",
      " |      such that sub is contained within S[start:end].  Optional\n",
      " |      arguments start and end are interpreted as in slice notation.\n",
      " |      \n",
      " |      Return -1 on failure.\n",
      " |  \n",
      " |  rindex(...)\n",
      " |      S.rindex(sub[, start[, end]]) -> int\n",
      " |      \n",
      " |      Return the highest index in S where substring sub is found,\n",
      " |      such that sub is contained within S[start:end].  Optional\n",
      " |      arguments start and end are interpreted as in slice notation.\n",
      " |      \n",
      " |      Raises ValueError when the substring is not found.\n",
      " |  \n",
      " |  rjust(self, width, fillchar=' ', /)\n",
      " |      Return a right-justified string of length width.\n",
      " |      \n",
      " |      Padding is done using the specified fill character (default is a space).\n",
      " |  \n",
      " |  rpartition(self, sep, /)\n",
      " |      Partition the string into three parts using the given separator.\n",
      " |      \n",
      " |      This will search for the separator in the string, starting at the end. If\n",
      " |      the separator is found, returns a 3-tuple containing the part before the\n",
      " |      separator, the separator itself, and the part after it.\n",
      " |      \n",
      " |      If the separator is not found, returns a 3-tuple containing two empty strings\n",
      " |      and the original string.\n",
      " |  \n",
      " |  rsplit(self, /, sep=None, maxsplit=-1)\n",
      " |      Return a list of the substrings in the string, using sep as the separator string.\n",
      " |      \n",
      " |        sep\n",
      " |          The separator used to split the string.\n",
      " |      \n",
      " |          When set to None (the default value), will split on any whitespace\n",
      " |          character (including \\\\n \\\\r \\\\t \\\\f and spaces) and will discard\n",
      " |          empty strings from the result.\n",
      " |        maxsplit\n",
      " |          Maximum number of splits (starting from the left).\n",
      " |          -1 (the default value) means no limit.\n",
      " |      \n",
      " |      Splitting starts at the end of the string and works to the front.\n",
      " |  \n",
      " |  rstrip(self, chars=None, /)\n",
      " |      Return a copy of the string with trailing whitespace removed.\n",
      " |      \n",
      " |      If chars is given and not None, remove characters in chars instead.\n",
      " |  \n",
      " |  split(self, /, sep=None, maxsplit=-1)\n",
      " |      Return a list of the substrings in the string, using sep as the separator string.\n",
      " |      \n",
      " |        sep\n",
      " |          The separator used to split the string.\n",
      " |      \n",
      " |          When set to None (the default value), will split on any whitespace\n",
      " |          character (including \\\\n \\\\r \\\\t \\\\f and spaces) and will discard\n",
      " |          empty strings from the result.\n",
      " |        maxsplit\n",
      " |          Maximum number of splits (starting from the left).\n",
      " |          -1 (the default value) means no limit.\n",
      " |      \n",
      " |      Note, str.split() is mainly useful for data that has been intentionally\n",
      " |      delimited.  With natural text that includes punctuation, consider using\n",
      " |      the regular expression module.\n",
      " |  \n",
      " |  splitlines(self, /, keepends=False)\n",
      " |      Return a list of the lines in the string, breaking at line boundaries.\n",
      " |      \n",
      " |      Line breaks are not included in the resulting list unless keepends is given and\n",
      " |      true.\n",
      " |  \n",
      " |  startswith(...)\n",
      " |      S.startswith(prefix[, start[, end]]) -> bool\n",
      " |      \n",
      " |      Return True if S starts with the specified prefix, False otherwise.\n",
      " |      With optional start, test S beginning at that position.\n",
      " |      With optional end, stop comparing S at that position.\n",
      " |      prefix can also be a tuple of strings to try.\n",
      " |  \n",
      " |  strip(self, chars=None, /)\n",
      " |      Return a copy of the string with leading and trailing whitespace removed.\n",
      " |      \n",
      " |      If chars is given and not None, remove characters in chars instead.\n",
      " |  \n",
      " |  swapcase(self, /)\n",
      " |      Convert uppercase characters to lowercase and lowercase characters to uppercase.\n",
      " |  \n",
      " |  title(self, /)\n",
      " |      Return a version of the string where each word is titlecased.\n",
      " |      \n",
      " |      More specifically, words start with uppercased characters and all remaining\n",
      " |      cased characters have lower case.\n",
      " |  \n",
      " |  translate(self, table, /)\n",
      " |      Replace each character in the string using the given translation table.\n",
      " |      \n",
      " |        table\n",
      " |          Translation table, which must be a mapping of Unicode ordinals to\n",
      " |          Unicode ordinals, strings, or None.\n",
      " |      \n",
      " |      The table must implement lookup/indexing via __getitem__, for instance a\n",
      " |      dictionary or list.  If this operation raises LookupError, the character is\n",
      " |      left untouched.  Characters mapped to None are deleted.\n",
      " |  \n",
      " |  upper(self, /)\n",
      " |      Return a copy of the string converted to uppercase.\n",
      " |  \n",
      " |  zfill(self, width, /)\n",
      " |      Pad a numeric string with zeros on the left, to fill a field of the given width.\n",
      " |      \n",
      " |      The string is never truncated.\n",
      " |  \n",
      " |  ----------------------------------------------------------------------\n",
      " |  Static methods defined here:\n",
      " |  \n",
      " |  __new__(*args, **kwargs) from builtins.type\n",
      " |      Create and return a new object.  See help(type) for accurate signature.\n",
      " |  \n",
      " |  maketrans(...)\n",
      " |      Return a translation table usable for str.translate().\n",
      " |      \n",
      " |      If there is only one argument, it must be a dictionary mapping Unicode\n",
      " |      ordinals (integers) or characters to Unicode ordinals, strings or None.\n",
      " |      Character keys will be then converted to ordinals.\n",
      " |      If there are two arguments, they must be strings of equal length, and\n",
      " |      in the resulting dictionary, each character in x will be mapped to the\n",
      " |      character at the same position in y. If there is a third argument, it\n",
      " |      must be a string, whose characters will be mapped to None in the result.\n",
      "\n"
     ]
    }
   ],
   "source": [
    "help(str)"
   ]
  },
  {
   "cell_type": "code",
   "execution_count": 24,
   "id": "bd8d85a5",
   "metadata": {},
   "outputs": [
    {
     "name": "stdout",
     "output_type": "stream",
     "text": [
      "Help on built-in function round in module builtins:\n",
      "\n",
      "round(number, ndigits=None)\n",
      "    Round a number to a given precision in decimal digits.\n",
      "    \n",
      "    The return value is an integer if ndigits is omitted or None.  Otherwise\n",
      "    the return value has the same type as the number.  ndigits may be negative.\n",
      "\n"
     ]
    }
   ],
   "source": [
    "help(round)"
   ]
  },
  {
   "cell_type": "markdown",
   "id": "2295cf4a",
   "metadata": {},
   "source": [
    "# 6. Function Parameter Types\n",
    "\n",
    "In Python, function parameters can have different types, and you can specify the type of a parameter using type hints. Type hints are a way to indicate the expected types of function arguments and return values. While Python is a dynamically typed language, type hints provide documentation and can be used by tools like linters and type checkers to catch type-related errors.\n",
    "\n",
    "Here's how you can specify different types of function parameters using type hints:\n",
    "\n",
    "1. **Positional Parameters:**\n",
    "\n",
    "   Positional parameters are the most common type of parameters in Python functions. You can specify their types using the `:` syntax in the function definition.\n",
    "\n",
    "   ```python\n",
    "   def add(x: int, y: int) -> int:\n",
    "       return x + y\n",
    "   ```\n",
    "\n",
    "   In this example, `x` and `y` are positional parameters with type hints. They are expected to be integers, and the function is expected to return an integer.\n",
    "\n",
    "2. **Default Parameters:**\n",
    "\n",
    "   Default parameters have default values assigned to them, and you can also specify their types.\n",
    "\n",
    "   ```python\n",
    "   def greet(name: str, greeting: str = \"Hello\") -> str:\n",
    "       return f\"{greeting}, {name}!\"\n",
    "   ```\n",
    "\n",
    "   In this case, `name` is a positional parameter with the type hint `str`, and `greeting` is a default parameter with a default value of `\"Hello\"` and the type hint `str`.\n",
    "\n",
    "3. **Keyword Parameters:**\n",
    "\n",
    "   Keyword parameters are also known as named parameters. They are used when you want to specify the argument's name explicitly when calling the function.\n",
    "\n",
    "   ```python\n",
    "   def divide(dividend: float, divisor: float) -> float:\n",
    "       return dividend / divisor\n",
    "   ```\n",
    "\n",
    "   Here, `dividend` and `divisor` are keyword parameters with type hints.\n",
    "\n",
    "4. **Variable-Length Positional Parameters:**\n",
    "\n",
    "   You can use the `*args` syntax to create functions that accept a variable number of positional arguments.\n",
    "\n",
    "   ```python\n",
    "   def sum_numbers(*args: int) -> int:\n",
    "       return sum(args)\n",
    "   ```\n",
    "\n",
    "   In this case, `*args` is a special syntax that allows you to pass any number of integer arguments.\n",
    "\n",
    "5. **Variable-Length Keyword Parameters:**\n",
    "\n",
    "   You can use the `**kwargs` syntax to create functions that accept a variable number of keyword arguments.\n",
    "\n",
    "   ```python\n",
    "   def print_info(**kwargs: str) -> None:\n",
    "       for key, value in kwargs.items():\n",
    "           print(f\"{key}: {value}\")\n",
    "   ```\n",
    "\n",
    "   Here, `**kwargs` allows you to pass any number of keyword arguments with string keys and string values.\n",
    "\n",
    "6. **Type Annotations for Variables:**\n",
    "\n",
    "   You can also use type hints for variables within a function:\n",
    "\n",
    "   ```python\n",
    "   def double_and_sum(x: int, y: int) -> int:\n",
    "       result: int = x * 2 + y\n",
    "       return result\n",
    "   ```\n",
    "\n",
    "   In this example, the `result` variable has a type hint of `int`.\n",
    "\n",
    "7. **Type Hints for Return Values:**\n",
    "\n",
    "   You can specify the expected return type of a function using the `->` syntax, as shown in previous examples.\n",
    "\n",
    "Remember that type hints are not enforced at runtime, but they provide valuable information for code readability, documentation, and static analysis tools like MyPy. Python's \"duck typing\" philosophy still allows you to pass values of different types to functions, but it's good practice to follow type hints whenever possible to improve code quality and maintainability.\n",
    "\n",
    "# Practice"
   ]
  },
  {
   "cell_type": "code",
   "execution_count": 33,
   "id": "38cf5d00",
   "metadata": {},
   "outputs": [],
   "source": [
    "# Variable-Length Positional Parameters\n",
    "\n",
    "def sumofnumbers(*data):\n",
    "    \n",
    "    sum = 0\n",
    "    for i in data:\n",
    "        sum = sum +i\n",
    "    return sum"
   ]
  },
  {
   "cell_type": "code",
   "execution_count": 34,
   "id": "af815ae5",
   "metadata": {},
   "outputs": [
    {
     "data": {
      "text/plain": [
       "10"
      ]
     },
     "execution_count": 34,
     "metadata": {},
     "output_type": "execute_result"
    }
   ],
   "source": [
    "sumofnumbers(1,2,3,4)"
   ]
  },
  {
   "cell_type": "code",
   "execution_count": 35,
   "id": "fb227df7",
   "metadata": {},
   "outputs": [
    {
     "data": {
      "text/plain": [
       "55"
      ]
     },
     "execution_count": 35,
     "metadata": {},
     "output_type": "execute_result"
    }
   ],
   "source": [
    "sumofnumbers(1,2,3,4,5,6,7,8,9,10) # Give Any Number of Input"
   ]
  },
  {
   "cell_type": "code",
   "execution_count": 36,
   "id": "64ddb62a",
   "metadata": {},
   "outputs": [],
   "source": [
    "# Variable-Length Keyword Parameters\n",
    "\n",
    "def sumofnumbers(**kwargs):\n",
    "    \n",
    "    print(kwargs,type(kwargs))"
   ]
  },
  {
   "cell_type": "code",
   "execution_count": 38,
   "id": "896c0b5c",
   "metadata": {},
   "outputs": [
    {
     "name": "stdout",
     "output_type": "stream",
     "text": [
      "{'a': 1, 'b': 2, 'c': 3, 'd': 4} <class 'dict'>\n"
     ]
    }
   ],
   "source": [
    "sumofnumbers(a=1,b=2,c=3,d=4)"
   ]
  },
  {
   "cell_type": "code",
   "execution_count": 42,
   "id": "8606937c",
   "metadata": {},
   "outputs": [],
   "source": [
    "# Variable-Length Keyword Parameters\n",
    "\n",
    "def sumofnumbers(**kwargs):\n",
    "    \n",
    "    sum = 0\n",
    "    for i in kwargs.values():\n",
    "        sum = sum + i\n",
    "    return sum"
   ]
  },
  {
   "cell_type": "code",
   "execution_count": 43,
   "id": "0e61567e",
   "metadata": {},
   "outputs": [
    {
     "data": {
      "text/plain": [
       "10"
      ]
     },
     "execution_count": 43,
     "metadata": {},
     "output_type": "execute_result"
    }
   ],
   "source": [
    "sumofnumbers(a=1,b=2,c=3,d=4)"
   ]
  },
  {
   "cell_type": "code",
   "execution_count": 44,
   "id": "f94a25a5",
   "metadata": {},
   "outputs": [
    {
     "data": {
      "text/plain": [
       "232438"
      ]
     },
     "execution_count": 44,
     "metadata": {},
     "output_type": "execute_result"
    }
   ],
   "source": [
    "sumofnumbers(a=1,b=2,c=3,d=4,e=5,f=100,g=232323)"
   ]
  },
  {
   "cell_type": "code",
   "execution_count": 45,
   "id": "6dbf625d",
   "metadata": {},
   "outputs": [
    {
     "ename": "TypeError",
     "evalue": "unsupported operand type(s) for +: 'int' and 'str'",
     "output_type": "error",
     "traceback": [
      "\u001b[1;31m---------------------------------------------------------------------------\u001b[0m",
      "\u001b[1;31mTypeError\u001b[0m                                 Traceback (most recent call last)",
      "Cell \u001b[1;32mIn[45], line 1\u001b[0m\n\u001b[1;32m----> 1\u001b[0m sumofnumbers(a\u001b[38;5;241m=\u001b[39m\u001b[38;5;124m'\u001b[39m\u001b[38;5;124mstr\u001b[39m\u001b[38;5;124m'\u001b[39m,b\u001b[38;5;241m=\u001b[39m\u001b[38;5;241m2\u001b[39m,c\u001b[38;5;241m=\u001b[39m\u001b[38;5;241m3\u001b[39m,d\u001b[38;5;241m=\u001b[39m\u001b[38;5;241m4\u001b[39m)\n",
      "Cell \u001b[1;32mIn[42], line 7\u001b[0m, in \u001b[0;36msumofnumbers\u001b[1;34m(**kwargs)\u001b[0m\n\u001b[0;32m      5\u001b[0m \u001b[38;5;28msum\u001b[39m \u001b[38;5;241m=\u001b[39m \u001b[38;5;241m0\u001b[39m\n\u001b[0;32m      6\u001b[0m \u001b[38;5;28;01mfor\u001b[39;00m i \u001b[38;5;129;01min\u001b[39;00m kwargs\u001b[38;5;241m.\u001b[39mvalues():\n\u001b[1;32m----> 7\u001b[0m     \u001b[38;5;28msum\u001b[39m \u001b[38;5;241m=\u001b[39m \u001b[38;5;28msum\u001b[39m \u001b[38;5;241m+\u001b[39m i\n\u001b[0;32m      8\u001b[0m \u001b[38;5;28;01mreturn\u001b[39;00m \u001b[38;5;28msum\u001b[39m\n",
      "\u001b[1;31mTypeError\u001b[0m: unsupported operand type(s) for +: 'int' and 'str'"
     ]
    }
   ],
   "source": [
    "sumofnumbers(a='str',b=2,c=3,d=4) # Gives Error"
   ]
  },
  {
   "cell_type": "code",
   "execution_count": 46,
   "id": "2f283977",
   "metadata": {},
   "outputs": [
    {
     "ename": "SyntaxError",
     "evalue": "non-default argument follows default argument (1590229232.py, line 3)",
     "output_type": "error",
     "traceback": [
      "\u001b[1;36m  Cell \u001b[1;32mIn[46], line 3\u001b[1;36m\u001b[0m\n\u001b[1;33m    def some_function(a = 10, b, c = 30):\u001b[0m\n\u001b[1;37m                              ^\u001b[0m\n\u001b[1;31mSyntaxError\u001b[0m\u001b[1;31m:\u001b[0m non-default argument follows default argument\n"
     ]
    }
   ],
   "source": [
    "# Default Parameters\n",
    "\n",
    "def some_function(a = 10, b, c = 30): # Gives Error\n",
    "    return a+b+c"
   ]
  },
  {
   "cell_type": "code",
   "execution_count": 47,
   "id": "94cfcd98",
   "metadata": {},
   "outputs": [
    {
     "ename": "SyntaxError",
     "evalue": "non-default argument follows default argument (3034974467.py, line 3)",
     "output_type": "error",
     "traceback": [
      "\u001b[1;36m  Cell \u001b[1;32mIn[47], line 3\u001b[1;36m\u001b[0m\n\u001b[1;33m    def some_function(a = 10, c = 30, b): # Correct Method\u001b[0m\n\u001b[1;37m                                      ^\u001b[0m\n\u001b[1;31mSyntaxError\u001b[0m\u001b[1;31m:\u001b[0m non-default argument follows default argument\n"
     ]
    }
   ],
   "source": [
    "# Default Parameters\n",
    "\n",
    "def some_function(a = 10, c = 30, b): # Gives Error\n",
    "    return a+b+c"
   ]
  },
  {
   "cell_type": "code",
   "execution_count": 48,
   "id": "ae34b322",
   "metadata": {},
   "outputs": [],
   "source": [
    "# Default Parameters\n",
    "\n",
    "def some_function(b, a = 10, c = 30): # Correct Method\n",
    "    return a+b+c"
   ]
  },
  {
   "cell_type": "code",
   "execution_count": 49,
   "id": "e1fdc521",
   "metadata": {},
   "outputs": [
    {
     "data": {
      "text/plain": [
       "50"
      ]
     },
     "execution_count": 49,
     "metadata": {},
     "output_type": "execute_result"
    }
   ],
   "source": [
    "some_function(10)"
   ]
  },
  {
   "cell_type": "code",
   "execution_count": 50,
   "id": "87f5b0d4",
   "metadata": {},
   "outputs": [
    {
     "data": {
      "text/plain": [
       "30"
      ]
     },
     "execution_count": 50,
     "metadata": {},
     "output_type": "execute_result"
    }
   ],
   "source": [
    "some_function(10,10,10)"
   ]
  },
  {
   "cell_type": "code",
   "execution_count": 51,
   "id": "180c9af9",
   "metadata": {},
   "outputs": [
    {
     "data": {
      "text/plain": [
       "100"
      ]
     },
     "execution_count": 51,
     "metadata": {},
     "output_type": "execute_result"
    }
   ],
   "source": [
    "some_function(90,9,1)"
   ]
  },
  {
   "cell_type": "code",
   "execution_count": 52,
   "id": "768f3626",
   "metadata": {},
   "outputs": [
    {
     "data": {
      "text/plain": [
       "111"
      ]
     },
     "execution_count": 52,
     "metadata": {},
     "output_type": "execute_result"
    }
   ],
   "source": [
    "some_function(100, c = 1)"
   ]
  },
  {
   "cell_type": "code",
   "execution_count": 53,
   "id": "dac75461",
   "metadata": {},
   "outputs": [
    {
     "data": {
      "text/plain": [
       "131"
      ]
     },
     "execution_count": 53,
     "metadata": {},
     "output_type": "execute_result"
    }
   ],
   "source": [
    "some_function(100, a = 1)"
   ]
  },
  {
   "cell_type": "code",
   "execution_count": 54,
   "id": "6337572d",
   "metadata": {},
   "outputs": [
    {
     "data": {
      "text/plain": [
       "0"
      ]
     },
     "execution_count": 54,
     "metadata": {},
     "output_type": "execute_result"
    }
   ],
   "source": [
    "some_function(100, a = 0, c = -100)"
   ]
  },
  {
   "cell_type": "markdown",
   "id": "2761bb40",
   "metadata": {},
   "source": [
    "# 7. Default Parameters vs Default Arguments\n",
    "\n",
    "In Python, \"default parameters\" and \"default arguments\" are often used interchangeably, but they refer to slightly different concepts. Let's clarify these terms:\n",
    "\n",
    "1. **Default Parameters:**\n",
    "   Default parameters are used in function definitions. When you define a function, you can assign default values to some or all of its parameters. These default values are used when the function is called without providing a value for the corresponding parameter. Default parameters are primarily used to make a function more flexible and to provide sensible or commonly used values when no specific argument is passed.\n",
    "\n",
    "   Here's an example:\n",
    "\n",
    "   ```python\n",
    "   def greet(name, greeting=\"Hello\"):\n",
    "       print(f\"{greeting}, {name}!\")\n",
    "\n",
    "   greet(\"Alice\")  # Uses the default value for greeting\n",
    "   greet(\"Bob\", \"Hi\")  # Overrides the default value for greeting\n",
    "   ```\n",
    "\n",
    "   In this example, the `greeting` parameter has a default value of \"Hello,\" but you can override it when calling the function.\n",
    "   \n",
    "\n",
    "2. **Default Arguments:**\n",
    "\n",
    "   Default arguments are used when you define a function or method in a more general sense. They refer to arguments that have default values associated with them, which can be overridden when calling the function or method. Default arguments are not limited to just function parameters; they can be used in methods, class constructors, and other contexts where arguments are involved.\n",
    "\n",
    "   Here's an example using a class method:\n",
    "\n",
    "   ```python\n",
    "   class MyClass:\n",
    "       def __init__(self, value=42):\n",
    "           self.value = value\n",
    "\n",
    "   obj1 = MyClass()  # Uses the default value for 'value'\n",
    "   obj2 = MyClass(10)  # Overrides the default value for 'value'\n",
    "   ```\n",
    "\n",
    "   In this example, the `__init__` method of the `MyClass` class takes a default argument `value`, which is set to 42. You can provide a different value when creating an instance of the class.\n",
    "\n",
    "In summary, default parameters are a specific concept related to function parameters, whereas default arguments are a broader concept that can apply to function parameters, method arguments, and other similar contexts where values can be provided with defaults. The distinction is somewhat subtle, and in practice, the terms are often used interchangeably."
   ]
  },
  {
   "cell_type": "markdown",
   "id": "79315a02",
   "metadata": {},
   "source": [
    "# 8. Lambda Functions\n",
    "\n",
    "A lambda function in Python is a small, anonymous function defined using the `lambda` keyword. It is often referred to as a \"lambda expression\" or \"lambda function.\" Lambda functions are typically used for simple operations where you don't want to define a full named function using the `def` keyword. They are especially useful when you need to pass a function as an argument to another function or use it in a functional programming context like `map`, `filter`, or `reduce`.\n",
    "\n",
    "The basic syntax of a lambda function is as follows:\n",
    "\n",
    "```python\n",
    "lambda arguments: expression\n",
    "```\n",
    "\n",
    "Here are some detailed examples of how to use lambda functions:\n",
    "\n",
    "**Example 1: Simple lambda function**\n",
    "\n",
    "```python\n",
    "# Define a lambda function to square a number\n",
    "square = lambda x: x * x\n",
    "\n",
    "# Use the lambda function\n",
    "result = square(5)\n",
    "print(result)  # Output: 25\n",
    "```\n",
    "\n",
    "In this example, we define a lambda function that takes one argument (`x`) and returns its square.\n",
    "\n",
    "**Example 2: Using lambda with `map`**\n",
    "\n",
    "```python\n",
    "# Create a list of numbers\n",
    "numbers = [1, 2, 3, 4, 5]\n",
    "\n",
    "# Use lambda with map to square each number\n",
    "squared_numbers = list(map(lambda x: x * x, numbers))\n",
    "\n",
    "print(squared_numbers)  # Output: [1, 4, 9, 16, 25]\n",
    "```\n",
    "\n",
    "Here, we use `map` along with a lambda function to apply the squaring operation to each element in the `numbers` list.\n",
    "\n",
    "**Example 3: Using lambda with `filter`**\n",
    "\n",
    "```python\n",
    "# Create a list of numbers\n",
    "numbers = [1, 2, 3, 4, 5, 6, 7, 8, 9, 10]\n",
    "\n",
    "# Use lambda with filter to get even numbers\n",
    "even_numbers = list(filter(lambda x: x % 2 == 0, numbers))\n",
    "\n",
    "print(even_numbers)  # Output: [2, 4, 6, 8, 10]\n",
    "```\n",
    "\n",
    "In this example, we use `filter` along with a lambda function to filter out only the even numbers from the `numbers` list.\n",
    "\n",
    "**Example 4: Using lambda for sorting**\n",
    "\n",
    "```python\n",
    "# Create a list of tuples with names and ages\n",
    "people = [(\"Alice\", 30), (\"Bob\", 25), (\"Charlie\", 35), (\"David\", 28)]\n",
    "\n",
    "# Sort the list by age using lambda\n",
    "sorted_people = sorted(people, key=lambda x: x[1])\n",
    "\n",
    "print(sorted_people)\n",
    "# Output: [('Bob', 25), ('David', 28), ('Alice', 30), ('Charlie', 35)]\n",
    "```\n",
    "\n",
    "Here, we use a lambda function as the `key` argument in the `sorted` function to sort the list of people by their ages.\n",
    "\n",
    "Lambda functions are concise and handy for simple operations, but they should be used judiciously. For more complex operations or functions that need to be reused, it's better to define a regular named function using `def`.\n",
    "\n",
    "# Practice"
   ]
  },
  {
   "cell_type": "code",
   "execution_count": 55,
   "id": "3c68f103",
   "metadata": {},
   "outputs": [
    {
     "name": "stdout",
     "output_type": "stream",
     "text": [
      "500\n"
     ]
    }
   ],
   "source": [
    "# Define a lambda function to multiply a number by 100\n",
    "multiplyby100 = lambda x: x * 100\n",
    "\n",
    "# Use the lambda function\n",
    "result = multiplyby100(5)\n",
    "print(result)  # Output: 50"
   ]
  },
  {
   "cell_type": "code",
   "execution_count": 56,
   "id": "31780d96",
   "metadata": {},
   "outputs": [
    {
     "name": "stdout",
     "output_type": "stream",
     "text": [
      "olleh\n"
     ]
    }
   ],
   "source": [
    "# Define a lambda function to reverse a string\n",
    "reverse_string = lambda s: s[::-1]\n",
    "\n",
    "result = reverse_string(\"hello\")\n",
    "print(result)  # Output: \"olleh\""
   ]
  },
  {
   "cell_type": "code",
   "execution_count": 57,
   "id": "8f82ab82",
   "metadata": {},
   "outputs": [
    {
     "name": "stdout",
     "output_type": "stream",
     "text": [
      "Even\n",
      "Odd\n"
     ]
    }
   ],
   "source": [
    "# Define a lambda function to check if a number is even or odd\n",
    "is_even = lambda x: \"Even\" if x % 2 == 0 else \"Odd\"\n",
    "\n",
    "print(is_even(6))  # Output: \"Even\"\n",
    "print(is_even(7))  # Output: \"Odd\""
   ]
  },
  {
   "cell_type": "code",
   "execution_count": 58,
   "id": "81f9347c",
   "metadata": {},
   "outputs": [
    {
     "name": "stdout",
     "output_type": "stream",
     "text": [
      "20\n"
     ]
    }
   ],
   "source": [
    "# Define a lambda function to calculate the area of a rectangle\n",
    "rectangle_area = lambda length, width: length * width\n",
    "\n",
    "area = rectangle_area(5, 4)\n",
    "print(area)  # Output: 20"
   ]
  },
  {
   "cell_type": "code",
   "execution_count": 59,
   "id": "a4d96f58",
   "metadata": {},
   "outputs": [
    {
     "name": "stdout",
     "output_type": "stream",
     "text": [
      "[1, 4, 9, 16, 25]\n"
     ]
    }
   ],
   "source": [
    "# Use lambda within a list comprehension to get the squares of numbers\n",
    "numbers = [1, 2, 3, 4, 5]\n",
    "squared_numbers = [(lambda x: x * x)(num) for num in numbers]\n",
    "\n",
    "print(squared_numbers)  # Output: [1, 4, 9, 16, 25]"
   ]
  },
  {
   "cell_type": "code",
   "execution_count": 60,
   "id": "6d8fe4fa",
   "metadata": {},
   "outputs": [
    {
     "name": "stdout",
     "output_type": "stream",
     "text": [
      "{'Charlie': 95, 'Alice': 90, 'Bob': 80, 'David': 75}\n"
     ]
    }
   ],
   "source": [
    "# Sort a dictionary by values using lambda\n",
    "scores = {\"Alice\": 90, \"Bob\": 80, \"Charlie\": 95, \"David\": 75}\n",
    "sorted_scores = dict(sorted(scores.items(), key=lambda item: item[1], reverse=True))\n",
    "\n",
    "print(sorted_scores)\n",
    "# Output: {'Charlie': 95, 'Alice': 90, 'Bob': 80, 'David': 75}"
   ]
  },
  {
   "cell_type": "markdown",
   "id": "91fe210a",
   "metadata": {},
   "source": [
    "In this example, we use a lambda function as the key argument in the sorted function to sort a dictionary by its values in descending order.\n",
    "\n",
    "These examples illustrate how lambda functions can be used for a variety of tasks, from simple calculations to more complex operations, and even in conjunction with built-in Python functions like sorted, map, and filter."
   ]
  },
  {
   "cell_type": "code",
   "execution_count": 61,
   "id": "c25ea2bb",
   "metadata": {},
   "outputs": [
    {
     "name": "stdout",
     "output_type": "stream",
     "text": [
      "25\n"
     ]
    }
   ],
   "source": [
    "'''You can create a lambda function in Python to sum the odd numbers in a given list\n",
    "using the filter() and sum() functions. Here's how you can do it'''\n",
    "\n",
    "# Sample input list\n",
    "input_list = [1, 2, 3, 4, 5, 6, 7, 8, 9]\n",
    "\n",
    "# Lambda function to sum odd numbers\n",
    "sum_odd = lambda lst: sum(filter(lambda x: x % 2 != 0, lst))\n",
    "\n",
    "# Call the lambda function\n",
    "result = sum_odd(input_list)\n",
    "\n",
    "# Print the result\n",
    "print(result)"
   ]
  },
  {
   "cell_type": "markdown",
   "id": "ad17461b",
   "metadata": {},
   "source": [
    "In this code:\n",
    "\n",
    "- filter(lambda x: x % 2 != 0, lst) filters the odd numbers from the input list.\n",
    "- sum() is used to calculate the sum of the filtered odd numbers.\n",
    "\n",
    "You can replace input_list with your own list when you want to find the sum of odd numbers in a different list."
   ]
  },
  {
   "cell_type": "code",
   "execution_count": 69,
   "id": "0d1385e1",
   "metadata": {},
   "outputs": [],
   "source": [
    "l = [2,4,3,5]\n",
    "\n",
    "def sum_odd(l):\n",
    "    l1 = []\n",
    "    for i in l:\n",
    "        if i%2!=0:\n",
    "            l1.append(i)\n",
    "    return sum(l1)    "
   ]
  },
  {
   "cell_type": "code",
   "execution_count": 70,
   "id": "34482a33",
   "metadata": {},
   "outputs": [
    {
     "data": {
      "text/plain": [
       "8"
      ]
     },
     "execution_count": 70,
     "metadata": {},
     "output_type": "execute_result"
    }
   ],
   "source": [
    "sum_odd(l)"
   ]
  },
  {
   "cell_type": "code",
   "execution_count": 71,
   "id": "6245d416",
   "metadata": {},
   "outputs": [
    {
     "data": {
      "text/plain": [
       "[3, 5]"
      ]
     },
     "execution_count": 71,
     "metadata": {},
     "output_type": "execute_result"
    }
   ],
   "source": [
    "[i for i in l if i%2!=0]"
   ]
  },
  {
   "cell_type": "code",
   "execution_count": 72,
   "id": "e720c996",
   "metadata": {},
   "outputs": [
    {
     "data": {
      "text/plain": [
       "8"
      ]
     },
     "execution_count": 72,
     "metadata": {},
     "output_type": "execute_result"
    }
   ],
   "source": [
    "sum([i for i in l if i%2!=0])"
   ]
  },
  {
   "cell_type": "code",
   "execution_count": 73,
   "id": "dbcfea4c",
   "metadata": {},
   "outputs": [
    {
     "data": {
      "text/plain": [
       "16"
      ]
     },
     "execution_count": 73,
     "metadata": {},
     "output_type": "execute_result"
    }
   ],
   "source": [
    "sum_of_lambda = lambda l: sum([i for i in l if i%2!=0])\n",
    "sum_of_lambda([2,4,6,3,5,3,5])"
   ]
  },
  {
   "cell_type": "code",
   "execution_count": 80,
   "id": "9b1b4cfc",
   "metadata": {},
   "outputs": [
    {
     "name": "stdout",
     "output_type": "stream",
     "text": [
      "Enter a number: 5\n",
      "The factorial of 5 is 120\n"
     ]
    }
   ],
   "source": [
    "# Define a lambda function to calculate factorial\n",
    "\n",
    "factorial = lambda n: 1 if n == 0 else n * factorial(n - 1)\n",
    "\n",
    "# Input the number for which you want to calculate the factorial\n",
    "\n",
    "num = int(input(\"Enter a number: \"))\n",
    "\n",
    "# Calculate and print the factorial\n",
    "\n",
    "if num < 0:\n",
    "    print(\"Factorial is not defined for negative numbers.\")\n",
    "elif num == 0:\n",
    "    print(\"The factorial of 0 is 1\")\n",
    "else:\n",
    "    print(f\"The factorial of {num} is {factorial(num)}\")"
   ]
  },
  {
   "cell_type": "code",
   "execution_count": 81,
   "id": "45e5fd79",
   "metadata": {},
   "outputs": [
    {
     "data": {
      "text/plain": [
       "120"
      ]
     },
     "execution_count": 81,
     "metadata": {},
     "output_type": "execute_result"
    }
   ],
   "source": [
    "# Factorial Without Lambda Function\n",
    "\n",
    "def factorial(number):\n",
    "    \n",
    "    if number < 0:\n",
    "        print('Invalid input.')\n",
    "    elif number == 0:\n",
    "        return 1\n",
    "    else:\n",
    "        return number * factorial(number-1)\n",
    "    \n",
    "factorial(5)"
   ]
  },
  {
   "cell_type": "code",
   "execution_count": 82,
   "id": "d2fa6693",
   "metadata": {},
   "outputs": [
    {
     "name": "stdout",
     "output_type": "stream",
     "text": [
      "Invalid input.\n"
     ]
    }
   ],
   "source": [
    "factorial(-2)"
   ]
  },
  {
   "cell_type": "code",
   "execution_count": 83,
   "id": "9184462d",
   "metadata": {},
   "outputs": [
    {
     "data": {
      "text/plain": [
       "1"
      ]
     },
     "execution_count": 83,
     "metadata": {},
     "output_type": "execute_result"
    }
   ],
   "source": [
    "factorial(1)"
   ]
  },
  {
   "cell_type": "code",
   "execution_count": 84,
   "id": "d06ebe7a",
   "metadata": {},
   "outputs": [
    {
     "data": {
      "text/plain": [
       "24"
      ]
     },
     "execution_count": 84,
     "metadata": {},
     "output_type": "execute_result"
    }
   ],
   "source": [
    "factorial(4)"
   ]
  },
  {
   "cell_type": "code",
   "execution_count": 90,
   "id": "77d16891",
   "metadata": {},
   "outputs": [
    {
     "name": "stdout",
     "output_type": "stream",
     "text": [
      "Factorial of 5 is: 120.\n"
     ]
    }
   ],
   "source": [
    "# Factorial Without Recursion\n",
    "\n",
    "number, factorial = 5, 1\n",
    "\n",
    "for index in range(1,number+1):\n",
    "    factorial = factorial * index\n",
    "    \n",
    "print(f'Factorial of {number} is: {factorial}.')"
   ]
  },
  {
   "cell_type": "code",
   "execution_count": 119,
   "id": "833ac682",
   "metadata": {},
   "outputs": [
    {
     "data": {
      "text/plain": [
       "['k', 'i', 'l', 'l', 's']"
      ]
     },
     "execution_count": 119,
     "metadata": {},
     "output_type": "execute_result"
    }
   ],
   "source": [
    "# Get Letters in Lower Case Using Filter Function\n",
    "\n",
    "s = 'PW Skills'\n",
    "    \n",
    "list(filter(lambda a: a.islower(), s))"
   ]
  },
  {
   "cell_type": "code",
   "execution_count": 124,
   "id": "4acf4065",
   "metadata": {},
   "outputs": [
    {
     "data": {
      "text/plain": [
       "['pw', 'sdh', 'kris']"
      ]
     },
     "execution_count": 124,
     "metadata": {},
     "output_type": "execute_result"
    }
   ],
   "source": [
    "# Get List Elements with Length Less Than Four\n",
    "\n",
    "l = ['pw', 'pwskills', 'sdh', 'kris']\n",
    "\n",
    "list(filter(lambda a: len(a)<=4, l))"
   ]
  },
  {
   "cell_type": "code",
   "execution_count": 128,
   "id": "e2aebff4",
   "metadata": {},
   "outputs": [
    {
     "data": {
      "text/plain": [
       "['pw', 'pwskills', 'PWSKILLS']"
      ]
     },
     "execution_count": 128,
     "metadata": {},
     "output_type": "execute_result"
    }
   ],
   "source": [
    "# Get List Elements starting with P or p\n",
    "\n",
    "l = ['pw', 'pwskills', 'sdh', 'kris', 'PWSKILLS']\n",
    "\n",
    "list(filter(lambda a: a.startswith('p') or a.startswith('P'), l))"
   ]
  },
  {
   "cell_type": "markdown",
   "id": "b379afe2",
   "metadata": {},
   "source": [
    "# 9. Recursive Functions\n",
    "\n",
    "A recursive function in Python is a function that calls itself in order to solve a problem. This approach is often used for solving problems that can be broken down into smaller, similar subproblems. Recursive functions consist of two main parts: the base case(s) and the recursive case.\n",
    "\n",
    "Here's how a recursive function works in Python:\n",
    "\n",
    "**1. Base Case(s):**\n",
    "   - The base case(s) are the conditions under which the function stops calling itself and returns a result. These conditions are necessary to prevent infinite recursion and ensure that the function terminates.\n",
    "   - When the function reaches a base case, it returns a result without making any further recursive calls.\n",
    "\n",
    "**2. Recursive Case:**\n",
    "   - In the recursive case, the function calls itself with modified arguments to break down the problem into smaller, more manageable subproblems.\n",
    "   - Each recursive call should move closer to one or more base cases, ensuring that the function eventually reaches the base case(s).\n",
    "\n",
    "Here's a simple example of a recursive function in Python that calculates the factorial of a non-negative integer:\n",
    "\n",
    "```python\n",
    "def factorial(n):\n",
    "    # Base case: If n is 0 or 1, return 1\n",
    "    if n == 0 or n == 1:\n",
    "        return 1\n",
    "    # Recursive case: n! = n * (n-1)!\n",
    "    else:\n",
    "        return n * factorial(n - 1)\n",
    "```\n",
    "\n",
    "In this example:\n",
    "\n",
    "- The base case is when `n` is 0 or 1, where the function returns 1.\n",
    "- In the recursive case, the function calculates `n!` by multiplying `n` with `factorial(n - 1)`. This is a recursive call that computes the factorial of `(n-1)`, and so on, until it reaches the base case.\n",
    "\n",
    "When you call `factorial(5)`, for example, it works like this:\n",
    "\n",
    "1. `factorial(5)` calls `factorial(4)`\n",
    "2. `factorial(4)` calls `factorial(3)`\n",
    "3. `factorial(3)` calls `factorial(2)`\n",
    "4. `factorial(2)` calls `factorial(1)`\n",
    "5. `factorial(1)` returns 1 (base case)\n",
    "6. `factorial(2)` returns `2 * 1 = 2`\n",
    "7. `factorial(3)` returns `3 * 2 = 6`\n",
    "8. `factorial(4)` returns `4 * 6 = 24`\n",
    "9. `factorial(5)` returns `5 * 24 = 120`\n",
    "\n",
    "The key to writing a successful recursive function is to ensure that it converges to the base case(s) and that it breaks down the problem into smaller, more manageable subproblems with each recursive call. Failure to do so may result in infinite recursion and a \"RecursionError\" in Python.\n",
    "\n",
    "# Practice"
   ]
  },
  {
   "cell_type": "markdown",
   "id": "5469d43f",
   "metadata": {},
   "source": [
    "You can calculate Fibonacci numbers using a recursive function in Python. The Fibonacci sequence starts with 0 and 1, and each subsequent number in the sequence is the sum of the two preceding ones. Here's a Python function that calculates Fibonacci numbers recursively:"
   ]
  },
  {
   "cell_type": "code",
   "execution_count": 131,
   "id": "5bb37718",
   "metadata": {},
   "outputs": [
    {
     "name": "stdout",
     "output_type": "stream",
     "text": [
      "The 5th Fibonacci number is: 5\n"
     ]
    }
   ],
   "source": [
    "def fibonacci(n):\n",
    "    if n <= 0:\n",
    "        return 0\n",
    "    elif n == 1:\n",
    "        return 1\n",
    "    else:\n",
    "        return fibonacci(n-1) + fibonacci(n-2)\n",
    "\n",
    "# Example usage:\n",
    "n = 5  # Change this to the desired Fibonacci number you want to calculate\n",
    "result = fibonacci(n)\n",
    "print(f\"The {n}th Fibonacci number is: {result}\")"
   ]
  },
  {
   "cell_type": "markdown",
   "id": "baa30d5c",
   "metadata": {},
   "source": [
    "This fibonacci function takes an integer n as input and returns the n-th Fibonacci number. Note that this implementation uses recursion, which can be inefficient for large values of n due to repeated calculations. You can optimize it using techniques like memoization or using an iterative approach if you need to calculate Fibonacci numbers for large values of n."
   ]
  },
  {
   "cell_type": "code",
   "execution_count": 133,
   "id": "7270f07d",
   "metadata": {},
   "outputs": [
    {
     "data": {
      "text/plain": [
       "15"
      ]
     },
     "execution_count": 133,
     "metadata": {},
     "output_type": "execute_result"
    }
   ],
   "source": [
    "# Sum Till Some Number\n",
    "\n",
    "def sum_till_n (n):\n",
    "    if n==1:\n",
    "        return 1\n",
    "    else:\n",
    "        return n+ sum_till_n(n-1)\n",
    "sum_till_n(5)"
   ]
  },
  {
   "cell_type": "markdown",
   "id": "97412a86",
   "metadata": {},
   "source": [
    "# 10. Map, Reduce and Filter Functions\n",
    "\n",
    "In Python, you can use the `map`, `reduce`, and `filter` functions to perform common operations on lists or other iterable data structures. These functions are part of Python's functional programming capabilities and can be quite powerful when used correctly. Below, I'll explain each of these functions and provide examples:\n",
    "\n",
    "1. `map`:\n",
    "   - The `map` function applies a given function to each element in an iterable (e.g., a list) and returns an iterable containing the results.\n",
    "\n",
    "   Syntax:\n",
    "   ```python\n",
    "   map(function, iterable)\n",
    "   ```\n",
    "\n",
    "   Example:\n",
    "   ```python\n",
    "   numbers = [1, 2, 3, 4, 5]\n",
    "\n",
    "   # Double each element in the list\n",
    "   doubled_numbers = list(map(lambda x: x * 2, numbers))\n",
    "   print(doubled_numbers)  # Output: [2, 4, 6, 8, 10]\n",
    "   ```\n",
    "\n",
    "2. `filter`:\n",
    "   - The `filter` function filters elements from an iterable based on a provided function's condition and returns an iterable containing the filtered elements.\n",
    "\n",
    "   Syntax:\n",
    "   ```python\n",
    "   filter(function, iterable)\n",
    "   ```\n",
    "\n",
    "   Example:\n",
    "   ```python\n",
    "   numbers = [1, 2, 3, 4, 5]\n",
    "\n",
    "   # Filter even numbers from the list\n",
    "   even_numbers = list(filter(lambda x: x % 2 == 0, numbers))\n",
    "   print(even_numbers)  # Output: [2, 4]\n",
    "   ```\n",
    "\n",
    "3. `reduce` (requires `functools` module in Python 3):\n",
    "   - The `reduce` function applies a given function cumulatively to the elements of an iterable, reducing it to a single value. This function is not available directly in Python 3 and requires importing from the `functools` module.\n",
    "\n",
    "   Syntax:\n",
    "   ```python\n",
    "   from functools import reduce\n",
    "\n",
    "   reduce(function, iterable[, initial])\n",
    "   ```\n",
    "\n",
    "   Example:\n",
    "   ```python\n",
    "   from functools import reduce\n",
    "\n",
    "   numbers = [1, 2, 3, 4, 5]\n",
    "\n",
    "   # Calculate the sum of all elements in the list\n",
    "   sum_of_numbers = reduce(lambda x, y: x + y, numbers)\n",
    "   print(sum_of_numbers)  # Output: 15\n",
    "   ```\n",
    "\n",
    "Note: In Python 3, you need to convert the result of `map` and `filter` to a list explicitly if you want to see the result as a list, as shown in the examples. Python 2 behaves slightly differently, as `map` and `filter` return a list by default in Python 2.\n",
    "\n",
    "Keep in mind that in modern Python development, list comprehensions and generator expressions are often preferred over `map`, `filter`, and `reduce` for their readability and performance benefits.\n",
    "\n",
    "# Practice"
   ]
  },
  {
   "cell_type": "code",
   "execution_count": 94,
   "id": "5eb5fb25",
   "metadata": {},
   "outputs": [
    {
     "name": "stdout",
     "output_type": "stream",
     "text": [
      "[102, 4, 5, 6, 7]\n"
     ]
    }
   ],
   "source": [
    "numbers = [100, 2, 3, 4, 5]\n",
    "\n",
    "# Add 2 to each element in the list\n",
    "\n",
    "addtwo_numbers = list(map(lambda x: x + 2, numbers))\n",
    "print(addtwo_numbers)"
   ]
  },
  {
   "cell_type": "code",
   "execution_count": 95,
   "id": "718437e9",
   "metadata": {},
   "outputs": [
    {
     "name": "stdout",
     "output_type": "stream",
     "text": [
      "[1, 3, 5]\n"
     ]
    }
   ],
   "source": [
    "numbers = [1, 2, 3, 4, 5]\n",
    "\n",
    "# Filter odd numbers from the list\n",
    "\n",
    "odd_numbers = list(filter(lambda x: x % 2 != 0, numbers))\n",
    "print(odd_numbers)"
   ]
  },
  {
   "cell_type": "code",
   "execution_count": 96,
   "id": "855061de",
   "metadata": {},
   "outputs": [
    {
     "name": "stdout",
     "output_type": "stream",
     "text": [
      "120\n"
     ]
    }
   ],
   "source": [
    "from functools import reduce\n",
    "\n",
    "numbers = [1, 2, 3, 4, 5]\n",
    "\n",
    "# Calculate the product of all elements in the list\n",
    "\n",
    "product_of_numbers = reduce(lambda x, y: x * y, numbers)\n",
    "print(product_of_numbers)"
   ]
  },
  {
   "cell_type": "code",
   "execution_count": 102,
   "id": "07247e36",
   "metadata": {},
   "outputs": [
    {
     "name": "stdout",
     "output_type": "stream",
     "text": [
      "['hdus', 'ramuk', 'slliks']\n"
     ]
    }
   ],
   "source": [
    "l = ['sudh', 'kumar', 'skills']\n",
    "\n",
    "# Use the map function to reverse each element\n",
    "\n",
    "reversed_list = list(map(lambda x: x[::-1], l))\n",
    "\n",
    "# Print the reversed list\n",
    "\n",
    "print(reversed_list)"
   ]
  },
  {
   "cell_type": "code",
   "execution_count": null,
   "id": "fdced35e",
   "metadata": {},
   "outputs": [],
   "source": [
    "from functools import reduce\n",
    "\n",
    "numbers = [1, 2, 3, 4, 5]\n",
    "\n",
    "# Calculate the product of all elements in the list\n",
    "\n",
    "product_of_numbers = reduce(lambda x, y: x * y, numbers)\n",
    "print(product_of_numbers)"
   ]
  },
  {
   "cell_type": "code",
   "execution_count": 103,
   "id": "f4805446",
   "metadata": {},
   "outputs": [
    {
     "data": {
      "text/plain": [
       "1"
      ]
     },
     "execution_count": 103,
     "metadata": {},
     "output_type": "execute_result"
    }
   ],
   "source": [
    "my_list = [4, 2, 9, 7, 1, 12, 6]\n",
    "\n",
    "from functools import reduce\n",
    "\n",
    "def find_min(lst):\n",
    "    if len(lst) == 0:\n",
    "        return None  # Handle empty list case\n",
    "\n",
    "    return reduce(lambda x, y: x if x < y else y, lst)\n",
    "\n",
    "find_min(my_list)"
   ]
  },
  {
   "cell_type": "code",
   "execution_count": 105,
   "id": "4c71f3c3",
   "metadata": {},
   "outputs": [
    {
     "data": {
      "text/plain": [
       "12"
      ]
     },
     "execution_count": 105,
     "metadata": {},
     "output_type": "execute_result"
    }
   ],
   "source": [
    "from functools import reduce\n",
    "\n",
    "def find_max(lst):\n",
    "    if len(lst) == 0:\n",
    "        return None  # Handle empty list case\n",
    "\n",
    "    return reduce(lambda x, y: x if x > y else y, lst)\n",
    "\n",
    "find_max(my_list)"
   ]
  },
  {
   "cell_type": "code",
   "execution_count": 109,
   "id": "889c6a99",
   "metadata": {},
   "outputs": [
    {
     "name": "stdout",
     "output_type": "stream",
     "text": [
      "Enter a number: 6\n",
      "The factorial of 6 is 720\n"
     ]
    }
   ],
   "source": [
    "# Factorial Using Reduce Function\n",
    "\n",
    "from functools import reduce\n",
    "\n",
    "# Define a function to calculate the factorial of a number\n",
    "def factorial(n):\n",
    "    if n == 0:\n",
    "        return 1\n",
    "    else:\n",
    "        # Use reduce to multiply all numbers from 1 to n\n",
    "        return reduce(lambda x, y: x * y, range(1, n + 1))\n",
    "\n",
    "# Input the number for which you want to calculate the factorial\n",
    "num = int(input(\"Enter a number: \"))\n",
    "\n",
    "# Calculate and print the factorial\n",
    "result = factorial(num)\n",
    "print(f\"The factorial of {num} is {result}\")"
   ]
  },
  {
   "cell_type": "code",
   "execution_count": 115,
   "id": "43a9078c",
   "metadata": {},
   "outputs": [
    {
     "data": {
      "text/plain": [
       "48"
      ]
     },
     "execution_count": 115,
     "metadata": {},
     "output_type": "execute_result"
    }
   ],
   "source": [
    "numbers = [2,3,4,5,6]\n",
    "\n",
    "def multiply_two_numbers(x, y):\n",
    "    return x * y\n",
    "\n",
    "# Use reduce to find the product of even numbers in a list\n",
    "product = reduce(multiply_two_numbers, filter(lambda x: x % 2 == 0, numbers))\n",
    "product"
   ]
  },
  {
   "cell_type": "code",
   "execution_count": 117,
   "id": "4212d74c",
   "metadata": {},
   "outputs": [
    {
     "data": {
      "text/plain": [
       "48"
      ]
     },
     "execution_count": 117,
     "metadata": {},
     "output_type": "execute_result"
    }
   ],
   "source": [
    "reduce(lambda a,b: a*b , [i for i in numbers if i%2==0])"
   ]
  },
  {
   "cell_type": "markdown",
   "id": "29903c5a",
   "metadata": {},
   "source": [
    "# 11. Map Function & For Loop\n",
    "\n",
    "A `map` function and a `for` loop are both used for iterating over elements in a collection, but they serve slightly different purposes and have distinct characteristics:\n",
    "\n",
    "1. **Purpose:**\n",
    "\n",
    "   - **`map`**: The `map` function is typically used to apply a given function to each element of a collection (e.g., a list or an array) and create a new collection with the results. It's used for transforming the elements of a collection without changing the original collection.\n",
    "\n",
    "   - **`for` loop**: A `for` loop is a general-purpose looping construct that allows you to iterate over a collection of elements or execute a block of code a specific number of times. It can be used for various tasks beyond just transforming elements; you can use it for filtering, summing, searching, and more.\n",
    "\n",
    "2. **Immutability:**\n",
    "\n",
    "   - **`map`**: It is generally used in functional programming and often produces a new collection with the transformed elements while leaving the original collection unchanged. This is because it emphasizes immutability, where the original data remains unaltered.\n",
    "\n",
    "   - **`for` loop**: A `for` loop can be used to modify elements in place within the original collection, which means it can change the original data.\n",
    "\n",
    "3. **Syntax:**\n",
    "\n",
    "   - **`map`**: It is a higher-order function that takes a function and a collection as arguments. The function specifies how to transform each element in the collection. The result is a new collection.\n",
    "\n",
    "   - **`for` loop**: It typically involves writing explicit looping constructs, including initialization, condition, and increment statements. The logic inside the loop determines what happens with each element.\n",
    "\n",
    "Here's a simple example in Python to illustrate the difference:\n",
    "\n",
    "Using `map`:\n",
    "```python\n",
    "original_list = [1, 2, 3, 4]\n",
    "transformed_list = list(map(lambda x: x * 2, original_list))\n",
    "# transformed_list contains [2, 4, 6, 8], and original_list remains [1, 2, 3, 4]\n",
    "```\n",
    "\n",
    "Using a `for` loop:\n",
    "```python\n",
    "original_list = [1, 2, 3, 4]\n",
    "for i in range(len(original_list)):\n",
    "    original_list[i] = original_list[i] * 2\n",
    "# original_list is now [2, 4, 6, 8]\n",
    "```\n",
    "\n",
    "In summary, while both `map` and `for` loops are used for iterating over collections, `map` is more specialized for transforming elements in an immutable way, whereas a `for` loop is a general-purpose construct for various types of iterations and operations. The choice between them depends on the specific task and programming paradigm you're using."
   ]
  }
 ],
 "metadata": {
  "kernelspec": {
   "display_name": "Python 3 (ipykernel)",
   "language": "python",
   "name": "python3"
  },
  "language_info": {
   "codemirror_mode": {
    "name": "ipython",
    "version": 3
   },
   "file_extension": ".py",
   "mimetype": "text/x-python",
   "name": "python",
   "nbconvert_exporter": "python",
   "pygments_lexer": "ipython3",
   "version": "3.11.3"
  }
 },
 "nbformat": 4,
 "nbformat_minor": 5
}
