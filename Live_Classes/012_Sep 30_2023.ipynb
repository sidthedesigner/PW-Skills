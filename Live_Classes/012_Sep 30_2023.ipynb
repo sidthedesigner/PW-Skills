{
 "cells": [
  {
   "cell_type": "markdown",
   "id": "ac2f4509",
   "metadata": {},
   "source": [
    "# 1. Exception Handling\n",
    "\n",
    "Exception handling in Python is a mechanism that allows you to gracefully handle errors and unexpected situations that may occur during the execution of your code. Python provides a built-in system for handling exceptions using the `try`, `except`, `else`, and `finally` blocks. Here's an explanation of these blocks with examples:\n",
    "\n",
    "1. **`try` block**: This is where you place the code that you want to monitor for exceptions.\n",
    "\n",
    "2. **`except` block**: This block is executed when an exception is raised in the `try` block. You can specify which type(s) of exceptions you want to handle, and you can have multiple `except` blocks to handle different exceptions differently.\n",
    "\n",
    "3. **`else` block (optional)**: This block is executed if no exceptions are raised in the `try` block. It is useful for code that should run only when no exceptions occur.\n",
    "\n",
    "4. **`finally` block (optional)**: This block is executed regardless of whether an exception occurred or not. It is often used for cleanup operations, such as closing files or releasing resources.\n",
    "\n",
    "Here's an example that demonstrates exception handling in Python:\n",
    "\n",
    "```python\n",
    "try:\n",
    "    # Code that may raise an exception\n",
    "    x = 10 / 0  # This will raise a ZeroDivisionError\n",
    "except ZeroDivisionError:\n",
    "    # Handle the ZeroDivisionError\n",
    "    print(\"Division by zero is not allowed.\")\n",
    "except ArithmeticError:\n",
    "    # Handle other arithmetic errors\n",
    "    print(\"An arithmetic error occurred.\")\n",
    "else:\n",
    "    # This block is executed if no exceptions occur\n",
    "    print(\"No exceptions occurred.\")\n",
    "finally:\n",
    "    # This block is always executed\n",
    "    print(\"Finally block executed.\")\n",
    "\n",
    "# Output:\n",
    "# Division by zero is not allowed.\n",
    "# Finally block executed.\n",
    "```\n",
    "\n",
    "In this example, a `ZeroDivisionError` is raised in the `try` block, so the first `except` block is executed. If there were other types of arithmetic errors, the second `except` block would handle them. Since an exception occurred, the `else` block is skipped, but the `finally` block is always executed.\n",
    "\n",
    "You can also use a single `except` block to catch multiple exception types:\n",
    "\n",
    "```python\n",
    "try:\n",
    "    x = int(\"abc\")  # This will raise a ValueError\n",
    "except (ValueError, TypeError):\n",
    "    print(\"ValueError or TypeError occurred.\")\n",
    "```\n",
    "\n",
    "Additionally, you can capture the exception object and its message for further analysis:\n",
    "\n",
    "```python\n",
    "try:\n",
    "    x = 10 / 0\n",
    "except ZeroDivisionError as e:\n",
    "    print(f\"An exception occurred: {e}\")\n",
    "```\n",
    "\n",
    "This code will print the specific error message associated with the `ZeroDivisionError`.\n",
    "\n",
    "Exception handling in Python is a powerful tool to ensure that your code can gracefully recover from errors and continue executing without abrupt termination.\n",
    "\n",
    "# Practice"
   ]
  },
  {
   "cell_type": "code",
   "execution_count": 1,
   "id": "8c63865a",
   "metadata": {},
   "outputs": [
    {
     "ename": "ZeroDivisionError",
     "evalue": "division by zero",
     "output_type": "error",
     "traceback": [
      "\u001b[1;31m---------------------------------------------------------------------------\u001b[0m",
      "\u001b[1;31mZeroDivisionError\u001b[0m                         Traceback (most recent call last)",
      "Cell \u001b[1;32mIn[1], line 4\u001b[0m\n\u001b[0;32m      1\u001b[0m a \u001b[38;5;241m=\u001b[39m \u001b[38;5;241m10\u001b[39m\n\u001b[0;32m      2\u001b[0m b \u001b[38;5;241m=\u001b[39m \u001b[38;5;241m0\u001b[39m\n\u001b[1;32m----> 4\u001b[0m a\u001b[38;5;241m/\u001b[39mb\n",
      "\u001b[1;31mZeroDivisionError\u001b[0m: division by zero"
     ]
    }
   ],
   "source": [
    "a = 10\n",
    "b = 0\n",
    "\n",
    "a/b"
   ]
  },
  {
   "cell_type": "code",
   "execution_count": 2,
   "id": "5822af00",
   "metadata": {},
   "outputs": [
    {
     "name": "stdout",
     "output_type": "stream",
     "text": [
      "division by zero\n"
     ]
    }
   ],
   "source": [
    "a, b = 10, 0\n",
    "\n",
    "try:\n",
    "    div = a/b\n",
    "except Exception as e:\n",
    "    print(e)    "
   ]
  },
  {
   "cell_type": "code",
   "execution_count": 6,
   "id": "c1e31c4f",
   "metadata": {},
   "outputs": [
    {
     "name": "stdout",
     "output_type": "stream",
     "text": [
      "Enter a: 10\n",
      "Enter b: 5\n",
      "Result of division: 2.0 .\n"
     ]
    }
   ],
   "source": [
    "try:\n",
    "    a = int(input('Enter a: '))\n",
    "    b = int(input('Enter b: '))\n",
    "    div = a/b\n",
    "    print('Result of division:',div,'.')\n",
    "except Exception as e:\n",
    "    print('Error: ',e)"
   ]
  },
  {
   "cell_type": "code",
   "execution_count": 7,
   "id": "51f47408",
   "metadata": {},
   "outputs": [
    {
     "name": "stdout",
     "output_type": "stream",
     "text": [
      "Enter a: 10\n",
      "Enter b: 0\n",
      "Error:  division by zero\n"
     ]
    }
   ],
   "source": [
    "try:\n",
    "    a = int(input('Enter a: '))\n",
    "    b = int(input('Enter b: '))\n",
    "    div = a/b\n",
    "    print('Result of division:',div,'.')\n",
    "except Exception as e:\n",
    "    print('Error: ',e)"
   ]
  },
  {
   "cell_type": "code",
   "execution_count": 8,
   "id": "0bd004a4",
   "metadata": {},
   "outputs": [
    {
     "name": "stdout",
     "output_type": "stream",
     "text": [
      "Enter a: 10\n",
      "Enter b: 5\n",
      "Result of division: 2.0 .\n",
      "No errors!\n"
     ]
    }
   ],
   "source": [
    "try:\n",
    "    a = int(input('Enter a: '))\n",
    "    b = int(input('Enter b: '))\n",
    "    div = a/b\n",
    "    print('Result of division:',div,'.')\n",
    "except Exception as e:\n",
    "    print('Error: ',e)\n",
    "else:\n",
    "    print('No errors!')"
   ]
  },
  {
   "cell_type": "code",
   "execution_count": 10,
   "id": "ca91271b",
   "metadata": {},
   "outputs": [
    {
     "name": "stdout",
     "output_type": "stream",
     "text": [
      "Enter a: 10\n",
      "Enter b: 0\n",
      "Zero Division Error!\n"
     ]
    }
   ],
   "source": [
    "try:\n",
    "    a = int(input('Enter a: '))\n",
    "    b = int(input('Enter b: '))\n",
    "    div = a/b\n",
    "    print('Result of division:',div,'.')\n",
    "except ZeroDivisionError:\n",
    "    print('Zero Division Error!')\n",
    "else:\n",
    "    print('No errors!')"
   ]
  },
  {
   "cell_type": "code",
   "execution_count": 17,
   "id": "cfab41bb",
   "metadata": {},
   "outputs": [
    {
     "name": "stdout",
     "output_type": "stream",
     "text": [
      "Value Error!\n"
     ]
    }
   ],
   "source": [
    "try:\n",
    "    a = int(\"abc\")\n",
    "    b = int('10')\n",
    "    div = a/b\n",
    "    print('Result of division:',div,'.')\n",
    "except ZeroDivisionError:\n",
    "    print('Zero Division Error!')\n",
    "except ValueError:\n",
    "    print('Value Error!')\n",
    "else:\n",
    "    print('No errors!')"
   ]
  },
  {
   "cell_type": "code",
   "execution_count": 2,
   "id": "ebb95007",
   "metadata": {},
   "outputs": [
    {
     "name": "stdout",
     "output_type": "stream",
     "text": [
      "Enter a:10\n",
      "Enter b:s\n",
      "Error:  invalid literal for int() with base 10: 's' . Please enter a valid integers for a and b. \n",
      "Enter a:e\n",
      "Error:  invalid literal for int() with base 10: 'e' . Please enter a valid integers for a and b. \n",
      "Enter a:10\n",
      "Enter b:23w\n",
      "Error:  invalid literal for int() with base 10: '23w' . Please enter a valid integers for a and b. \n",
      "Enter a:10\n",
      "Enter b:5\n"
     ]
    }
   ],
   "source": [
    "a = None\n",
    "\n",
    "while True:\n",
    "    try:\n",
    "        a = int(input('Enter a:'))\n",
    "        b = int(input('Enter b:'))\n",
    "        break\n",
    "    except Exception as e:\n",
    "        print('Error: ',e, '. Please enter a valid integers for a and b. ')"
   ]
  },
  {
   "cell_type": "code",
   "execution_count": 2,
   "id": "a9ffcf44",
   "metadata": {},
   "outputs": [
    {
     "name": "stdout",
     "output_type": "stream",
     "text": [
      "Enter a: 10\n",
      "Enter b: sid\n",
      "Error:  invalid literal for int() with base 10: 'sid'\n",
      "Enter a: s\n",
      "Error:  invalid literal for int() with base 10: 's'\n",
      "Enter a: 10\n",
      "Enter b: 0\n",
      "Error:  division by zero\n",
      "Enter a: 0\n",
      "Enter b: 0\n",
      "Error:  division by zero\n",
      "Enter a: 10\n",
      "Enter b: 2\n",
      "Division Result is:  5.0\n"
     ]
    }
   ],
   "source": [
    "a, b, div = None, None, None\n",
    "\n",
    "while True:\n",
    "    try:\n",
    "        a = int(input('Enter a: '))\n",
    "        b = int(input('Enter b: '))\n",
    "        div = a/b\n",
    "        print('Division Result is: ',div)\n",
    "        break\n",
    "    except Exception as e:\n",
    "        print('Error: ',e)"
   ]
  },
  {
   "cell_type": "code",
   "execution_count": 5,
   "id": "b68d180a",
   "metadata": {},
   "outputs": [
    {
     "name": "stdout",
     "output_type": "stream",
     "text": [
      "Enter a:10\n",
      "unsupported operand type(s) for @: 'str' and 'int'\n"
     ]
    }
   ],
   "source": [
    "b, div = 10, None\n",
    "\n",
    "try:\n",
    "    a = input('Enter a:')\n",
    "except Exception as e:\n",
    "    print(e)\n",
    "else:\n",
    "    try:\n",
    "        div = a@b\n",
    "    except Exception as e:\n",
    "        print(e) "
   ]
  },
  {
   "cell_type": "code",
   "execution_count": 19,
   "id": "c7938c68",
   "metadata": {},
   "outputs": [
    {
     "name": "stdout",
     "output_type": "stream",
     "text": [
      "Enter height:-10\n",
      "Height cannot be negative.\n"
     ]
    }
   ],
   "source": [
    "# Raise Custom Error\n",
    "\n",
    "try:\n",
    "    a = int(input('Enter height:'))\n",
    "    if a <= 0:\n",
    "        raise ValueError('Height cannot be negative.')\n",
    "except ValueError as v:\n",
    "    print(v)"
   ]
  },
  {
   "cell_type": "code",
   "execution_count": 20,
   "id": "40de3af4",
   "metadata": {},
   "outputs": [
    {
     "name": "stdout",
     "output_type": "stream",
     "text": [
      "Enter age:-12\n",
      "Person is under-age.\n"
     ]
    }
   ],
   "source": [
    "# Raise Custom Error\n",
    "\n",
    "try:\n",
    "    a = int(input('Enter age:'))\n",
    "    if a <= 18:\n",
    "        raise ValueError('Person is under-age.')\n",
    "    else:\n",
    "        print('Valid Age.')\n",
    "except ValueError as v:\n",
    "    print(v)"
   ]
  },
  {
   "cell_type": "code",
   "execution_count": 21,
   "id": "a573c3c4",
   "metadata": {},
   "outputs": [
    {
     "name": "stdout",
     "output_type": "stream",
     "text": [
      "Enter age:0\n",
      "Person is under-age.\n"
     ]
    }
   ],
   "source": [
    "# Raise Custom Error\n",
    "\n",
    "try:\n",
    "    a = int(input('Enter age:'))\n",
    "    if a <= 18:\n",
    "        raise ValueError('Person is under-age.')\n",
    "    else:\n",
    "        print('Valid Age.')\n",
    "except ValueError as v:\n",
    "    print(v)"
   ]
  },
  {
   "cell_type": "code",
   "execution_count": 22,
   "id": "ec6dd4fb",
   "metadata": {},
   "outputs": [
    {
     "name": "stdout",
     "output_type": "stream",
     "text": [
      "Enter age:20\n",
      "Valid Age.\n"
     ]
    }
   ],
   "source": [
    "# Raise Custom Error\n",
    "\n",
    "try:\n",
    "    a = int(input('Enter age:'))\n",
    "    if a <= 18:\n",
    "        raise ValueError('Person is under-age.')\n",
    "    else:\n",
    "        print('Valid Age.')\n",
    "except ValueError as v:\n",
    "    print(v)"
   ]
  },
  {
   "cell_type": "markdown",
   "id": "f74d73f7",
   "metadata": {},
   "source": [
    "# 2. File Handling\n",
    "\n",
    "File handling in Python allows you to perform various operations on files, such as reading from them, writing to them, and manipulating their contents. Python provides built-in functions and modules to work with files. Here are some common file handling operations in Python:\n",
    "\n",
    "1. **Opening a File:**\n",
    "\n",
    "   To work with a file, you first need to open it using the `open()` function. It takes two arguments: the file path and the mode in which you want to open the file (read, write, append, etc.).\n",
    "\n",
    "   ```python\n",
    "   # Opening a file for reading\n",
    "   file = open('example.txt', 'r')\n",
    "\n",
    "   # Opening a file for writing (creates a new file or overwrites existing content)\n",
    "   file = open('example.txt', 'w')\n",
    "\n",
    "   # Opening a file for appending (adds content to the end of the file)\n",
    "   file = open('example.txt', 'a')\n",
    "   ```\n",
    "\n",
    "2. **Reading from a File:**\n",
    "\n",
    "   You can read the contents of a file using methods like `read()`, `readline()`, or `readlines()`.\n",
    "\n",
    "   ```python\n",
    "   # Read the entire file content\n",
    "   content = file.read()\n",
    "\n",
    "   # Read one line at a time\n",
    "   line = file.readline()\n",
    "\n",
    "   # Read all lines into a list\n",
    "   lines = file.readlines()\n",
    "   ```\n",
    "\n",
    "3. **Writing to a File:**\n",
    "\n",
    "   To write data to a file, use the `write()` method.\n",
    "\n",
    "   ```python\n",
    "   # Write data to a file\n",
    "   file.write(\"Hello, World!\")\n",
    "\n",
    "   # You need to close the file after writing\n",
    "   file.close()\n",
    "   ```\n",
    "\n",
    "4. **Appending to a File:**\n",
    "\n",
    "   To append data to the end of a file, open it in append mode and use the `write()` method.\n",
    "\n",
    "   ```python\n",
    "   # Append data to a file\n",
    "   file = open('example.txt', 'a')\n",
    "   file.write(\"Appending more data.\")\n",
    "   file.close()\n",
    "   ```\n",
    "\n",
    "5. **Closing a File:**\n",
    "\n",
    "   It's important to close a file when you're done with it to free up system resources.\n",
    "\n",
    "   ```python\n",
    "   file.close()\n",
    "   ```\n",
    "\n",
    "6. **Using the `with` statement (Context Manager):**\n",
    "\n",
    "   A more recommended way to work with files is by using the `with` statement, which automatically closes the file when you are done with it.\n",
    "\n",
    "   ```python\n",
    "   with open('example.txt', 'r') as file:\n",
    "       content = file.read()\n",
    "   # File is automatically closed when the block is exited\n",
    "\n",
    "   # You can also use 'with' for writing and appending\n",
    "   with open('example.txt', 'a') as file:\n",
    "       file.write(\"Using 'with' for appending.\")\n",
    "   ```\n",
    "\n",
    "7. **Checking if a File Exists:**\n",
    "\n",
    "   You can use the `os.path.exists()` function to check if a file exists before attempting to open it.\n",
    "\n",
    "   ```python\n",
    "   import os\n",
    "\n",
    "   if os.path.exists('example.txt'):\n",
    "       # File exists, open it\n",
    "       file = open('example.txt', 'r')\n",
    "   else:\n",
    "       print(\"File does not exist.\")\n",
    "   ```\n",
    "\n",
    "Remember to handle exceptions (e.g., `FileNotFoundError`) when working with files, and always close files when you're done to avoid resource leaks. File handling is a fundamental aspect of many Python applications, and it's important to use it safely and efficiently.\n",
    "\n",
    "# Practice"
   ]
  },
  {
   "cell_type": "code",
   "execution_count": 13,
   "id": "0c53eef6",
   "metadata": {},
   "outputs": [
    {
     "name": "stdout",
     "output_type": "stream",
     "text": [
      "File Opened.\n",
      "Content Written.\n",
      "File Closed.\n"
     ]
    }
   ],
   "source": [
    "try:\n",
    "    f = open('File1.txt','w')\n",
    "    print('File Opened.')\n",
    "    f.write('Hi there! I\\'m Siddharth. This is a course by PWSkills.')\n",
    "    print('Content Written.')\n",
    "except Exception as e:\n",
    "    print(e)\n",
    "finally:\n",
    "    f.close()\n",
    "    print('File Closed.')"
   ]
  },
  {
   "cell_type": "code",
   "execution_count": 14,
   "id": "47aefa5b",
   "metadata": {},
   "outputs": [
    {
     "name": "stdout",
     "output_type": "stream",
     "text": [
      "File Opened.\n",
      "Hi there! I'm Siddharth. This is a course by PWSkills.\n",
      "Content Read.\n",
      "File Closed.\n"
     ]
    }
   ],
   "source": [
    "try:\n",
    "    f = open('File1.txt','r')\n",
    "    print('File Opened.')\n",
    "    print(f.read())\n",
    "    print('Content Read.')\n",
    "except Exception as e:\n",
    "    print(e)\n",
    "finally:\n",
    "    f.close()\n",
    "    print('File Closed.')"
   ]
  },
  {
   "cell_type": "code",
   "execution_count": 17,
   "id": "dbdcd5d9",
   "metadata": {},
   "outputs": [
    {
     "name": "stdout",
     "output_type": "stream",
     "text": [
      "File Opened.\n",
      "Content Written.\n",
      "File Closed.\n"
     ]
    }
   ],
   "source": [
    "try:\n",
    "    f = open('File1.txt','a+')\n",
    "    print('File Opened.')\n",
    "    f.write('Hi there! I\\'m Siddharth. My mentor is Sudhanshu Kumar.')\n",
    "    print('Content Written.')\n",
    "except Exception as e:\n",
    "    print(e)\n",
    "finally:\n",
    "    f.close()\n",
    "    print('File Closed.')"
   ]
  },
  {
   "cell_type": "code",
   "execution_count": 18,
   "id": "66b5c243",
   "metadata": {},
   "outputs": [
    {
     "name": "stdout",
     "output_type": "stream",
     "text": [
      "File Opened.\n",
      "Hi there! I'm Siddharth. This is a course by PWSkills.Hi there! I'm Siddharth. This is a course by PWSkills.Hi there! I'm Siddharth. My mentor is Sudhanshu Kumar.\n",
      "Content Read.\n",
      "File Closed.\n"
     ]
    }
   ],
   "source": [
    "try:\n",
    "    f = open('File1.txt','r')\n",
    "    print('File Opened.')\n",
    "    print(f.read())\n",
    "    print('Content Read.')\n",
    "except Exception as e:\n",
    "    print(e)\n",
    "finally:\n",
    "    f.close()\n",
    "    print('File Closed.')"
   ]
  },
  {
   "cell_type": "markdown",
   "id": "cf7b8eac",
   "metadata": {},
   "source": [
    "# 3. Logging\n",
    "\n",
    "Python logging is a built-in module that allows you to add logging capabilities to your Python applications. Logging is essential for tracking and recording events, errors, and other information during the execution of your program. It helps you diagnose issues, monitor your application's behavior, and maintain a record of important events.\n",
    "\n",
    "Here's a basic overview of Python logging, along with an example:\n",
    "\n",
    "1. **Importing the `logging` module**:\n",
    "   To use Python logging, you need to import the `logging` module, which is part of the standard library.\n",
    "\n",
    "   ```python\n",
    "   import logging\n",
    "   ```\n",
    "\n",
    "2. **Configuring Logging**:\n",
    "   Before you start using logging, you can configure its behavior. This includes setting the log level, specifying the log format, and choosing where log messages should be written. You can configure logging through code or via a configuration file.\n",
    "\n",
    "   ```python\n",
    "   # Configure logging\n",
    "   logging.basicConfig(\n",
    "       level=logging.DEBUG,  # Set the log level (DEBUG, INFO, WARNING, ERROR, CRITICAL)\n",
    "       format=\"%(asctime)s [%(levelname)s]: %(message)s\",  # Set the log format\n",
    "       filename=\"example.log\",  # Specify the log file name\n",
    "       filemode=\"w\"  # Set the file mode (\"w\" for write)\n",
    "   )\n",
    "   ```\n",
    "\n",
    "   In this example, we configure logging to write log messages to a file named \"example.log\" with a custom log format.\n",
    "\n",
    "3. **Logging Messages**:\n",
    "   You can log messages using various logging levels, such as `DEBUG`, `INFO`, `WARNING`, `ERROR`, and `CRITICAL`. Each level represents a different severity of the message.\n",
    "\n",
    "   ```python\n",
    "   logging.debug(\"This is a debug message\")\n",
    "   logging.info(\"This is an info message\")\n",
    "   logging.warning(\"This is a warning message\")\n",
    "   logging.error(\"This is an error message\")\n",
    "   logging.critical(\"This is a critical message\")\n",
    "   ```\n",
    "\n",
    "4. **Using Loggers**:\n",
    "   You can also create custom loggers to organize your log messages better. Loggers allow you to separate different parts of your application and configure them individually.\n",
    "\n",
    "   ```python\n",
    "   logger = logging.getLogger(\"my_logger\")\n",
    "   logger.setLevel(logging.DEBUG)\n",
    "   \n",
    "   logger.debug(\"This is a custom logger debug message\")\n",
    "   ```\n",
    "\n",
    "5. **Handling Exceptions**:\n",
    "   You can use Python logging to catch and log exceptions, making it easier to trace and debug issues.\n",
    "\n",
    "   ```python\n",
    "   try:\n",
    "       result = 10 / 0\n",
    "   except Exception as e:\n",
    "       logging.error(f\"An error occurred: {str(e)}\")\n",
    "   ```\n",
    "\n",
    "6. **Logging to Multiple Destinations**:\n",
    "   You can log messages to multiple destinations simultaneously, such as a file and the console.\n",
    "\n",
    "   ```python\n",
    "   # Create a logger\n",
    "   logger = logging.getLogger(\"my_logger\")\n",
    "   logger.setLevel(logging.DEBUG)\n",
    "\n",
    "   # Create a file handler\n",
    "   file_handler = logging.FileHandler(\"my_log_file.log\")\n",
    "   file_handler.setLevel(logging.DEBUG)\n",
    "\n",
    "   # Create a console handler\n",
    "   console_handler = logging.StreamHandler()\n",
    "   console_handler.setLevel(logging.INFO)\n",
    "\n",
    "   # Create a formatter\n",
    "   formatter = logging.Formatter(\"%(asctime)s [%(levelname)s]: %(message)s\")\n",
    "   file_handler.setFormatter(formatter)\n",
    "   console_handler.setFormatter(formatter)\n",
    "\n",
    "   # Add handlers to the logger\n",
    "   logger.addHandler(file_handler)\n",
    "   logger.addHandler(console_handler)\n",
    "\n",
    "   # Log messages\n",
    "   logger.debug(\"This message goes to the file and console\")\n",
    "   logger.info(\"This message goes only to the console\")\n",
    "   ```\n",
    "\n",
    "7. **Closing Thoughts**:\n",
    "   Python logging is a flexible and powerful tool for adding logging capabilities to your applications. It allows you to control the verbosity of your logs, handle exceptions, and direct log output to different destinations. Properly configured logging can greatly simplify the process of debugging and maintaining your code.\n",
    "\n",
    "Remember to configure logging appropriately for your specific application, setting the log level, format, and output location as needed.\n",
    "\n",
    "# Practice"
   ]
  },
  {
   "cell_type": "code",
   "execution_count": 5,
   "id": "41f3d486",
   "metadata": {},
   "outputs": [
    {
     "name": "stdout",
     "output_type": "stream",
     "text": [
      "Enter the first number: 100\n",
      "Enter the second number: 10\n",
      "Result: 10.0\n"
     ]
    }
   ],
   "source": [
    "import logging\n",
    "\n",
    "# Configure the logging settings\n",
    "logging.basicConfig(filename='division.log', level=logging.INFO, format='%(asctime)s - %(levelname)s - %(message)s')\n",
    "\n",
    "def divide_numbers(num1, num2):\n",
    "    try:\n",
    "        result = num1 / num2\n",
    "        logging.info(f\"Division of a/b: {result}\")\n",
    "        return result\n",
    "    except ZeroDivisionError as e:\n",
    "        logging.error(f\"Division by zero error: {e}\")\n",
    "        return None\n",
    "    except Exception as e:\n",
    "        logging.error(f\"An error occurred: {e}\")\n",
    "        return None\n",
    "\n",
    "if __name__ == \"__main__\":\n",
    "    try:\n",
    "        num1 = float(input(\"Enter the first number: \"))\n",
    "        num2 = float(input(\"Enter the second number: \"))\n",
    "        result = divide_numbers(num1, num2)\n",
    "        \n",
    "        if result is not None:\n",
    "            print(f\"Result: {result}\")\n",
    "    except ValueError as e:\n",
    "        logging.error(f\"Invalid input: {e}\")\n",
    "        print(\"Please enter valid numeric values.\")\n",
    "    finally:\n",
    "        # Close the file handler explicitly\n",
    "        logging.shutdown()"
   ]
  },
  {
   "cell_type": "markdown",
   "id": "97e77552",
   "metadata": {},
   "source": [
    "**In this program:**\n",
    "\n",
    "- We import the logging module and configure it to log errors to a file named \"division.log.\"\n",
    "\n",
    "- We define a function divide_numbers that takes two numbers as input, tries to perform the division, and logs any exceptions that may occur. It catches both ZeroDivisionError (if the user attempts to divide by zero) and a more general Exception (for other potential errors).\n",
    "\n",
    "- In the __main__ block, we get user input for two numbers, call the divide_numbers function, and handle any exceptions that may occur during user input (e.g., if the user enters non-numeric values).\n",
    "\n",
    "- If the division is successful, the result is printed."
   ]
  },
  {
   "cell_type": "code",
   "execution_count": 6,
   "id": "d22eb1da",
   "metadata": {},
   "outputs": [
    {
     "name": "stdout",
     "output_type": "stream",
     "text": [
      "2023-09-30 12:22:14,834 - ERROR - Invalid input: could not convert string to float: 'sid'\n",
      "2023-09-30 12:22:18,339 - ERROR - Division by zero error: float division by zero\n",
      "2023-09-30 12:22:21,292 - INFO - Division of a/b: 2.0\n",
      "2023-09-30 12:22:35,721 - INFO - Division of a/b: 10.0\n",
      "\n"
     ]
    }
   ],
   "source": [
    "f = open('division.log','r')\n",
    "print(f.read())\n",
    "f.close()"
   ]
  }
 ],
 "metadata": {
  "kernelspec": {
   "display_name": "Python 3 (ipykernel)",
   "language": "python",
   "name": "python3"
  },
  "language_info": {
   "codemirror_mode": {
    "name": "ipython",
    "version": 3
   },
   "file_extension": ".py",
   "mimetype": "text/x-python",
   "name": "python",
   "nbconvert_exporter": "python",
   "pygments_lexer": "ipython3",
   "version": "3.11.3"
  }
 },
 "nbformat": 4,
 "nbformat_minor": 5
}
