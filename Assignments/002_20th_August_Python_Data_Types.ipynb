{
 "cells": [
  {
   "cell_type": "markdown",
   "id": "e8a15df0",
   "metadata": {},
   "source": [
    "# 1. Topic: String Based Assignment Problem"
   ]
  },
  {
   "cell_type": "markdown",
   "id": "23bb77d5",
   "metadata": {},
   "source": [
    "1. Write a program to reverse a string."
   ]
  },
  {
   "cell_type": "code",
   "execution_count": 1,
   "id": "8ba43674",
   "metadata": {},
   "outputs": [
    {
     "name": "stdout",
     "output_type": "stream",
     "text": [
      "Enter String:sid\n",
      "Reverse of String is dis\n"
     ]
    }
   ],
   "source": [
    "str = input('Enter String:')\n",
    "print('Reverse of String is {}'.format(str[::-1]))"
   ]
  },
  {
   "cell_type": "markdown",
   "id": "12db7493",
   "metadata": {},
   "source": [
    "2. Check if a string is a palindrome."
   ]
  },
  {
   "cell_type": "code",
   "execution_count": 3,
   "id": "803c8b43",
   "metadata": {},
   "outputs": [
    {
     "name": "stdout",
     "output_type": "stream",
     "text": [
      "Enter String:malayalam\n",
      "String is a palindrome.\n"
     ]
    }
   ],
   "source": [
    "str = input('Enter String:')\n",
    "if str==str[::-1]:\n",
    "    print('String is a palindrome.')\n",
    "else:\n",
    "    print('String is not a palindrome.')"
   ]
  },
  {
   "cell_type": "markdown",
   "id": "1238f16b",
   "metadata": {},
   "source": [
    "3. Convert a string to uppercase."
   ]
  },
  {
   "cell_type": "code",
   "execution_count": 2,
   "id": "96adf612",
   "metadata": {},
   "outputs": [
    {
     "name": "stdout",
     "output_type": "stream",
     "text": [
      "Enter String:siddHArth\n",
      "Upper Case of String is SIDDHARTH.\n"
     ]
    }
   ],
   "source": [
    "str = input('Enter String:')\n",
    "print('Upper Case of String is {}.'.format(str.upper()))"
   ]
  },
  {
   "cell_type": "markdown",
   "id": "5d83914d",
   "metadata": {},
   "source": [
    "4. Convert a string to lowercase."
   ]
  },
  {
   "cell_type": "code",
   "execution_count": 3,
   "id": "22d79106",
   "metadata": {},
   "outputs": [
    {
     "name": "stdout",
     "output_type": "stream",
     "text": [
      "Enter String:siddHArth\n",
      "Upper Case of String is siddharth.\n"
     ]
    }
   ],
   "source": [
    "str = input('Enter String:')\n",
    "print('Lower Case of String is {}.'.format(str.lower()))"
   ]
  },
  {
   "cell_type": "markdown",
   "id": "c74b9b25",
   "metadata": {},
   "source": [
    "5. Count the number of vowels in a string."
   ]
  },
  {
   "cell_type": "code",
   "execution_count": 7,
   "id": "d45d9d08",
   "metadata": {},
   "outputs": [
    {
     "name": "stdout",
     "output_type": "stream",
     "text": [
      "Enter String:aeiouaeiousiddharth\n",
      "Number of Vowels in String is 12.\n"
     ]
    }
   ],
   "source": [
    "str, count, vowels = input('Enter String:'), 0, \"aeiou\"\n",
    "for i in str.lower():\n",
    "    if i in vowels:\n",
    "        count = count + 1\n",
    "print('Number of Vowels in String is {}.'.format(count))"
   ]
  },
  {
   "cell_type": "markdown",
   "id": "59ffefb9",
   "metadata": {},
   "source": [
    "6. Count the number of consonants in a string."
   ]
  },
  {
   "cell_type": "code",
   "execution_count": 9,
   "id": "106be186",
   "metadata": {},
   "outputs": [
    {
     "name": "stdout",
     "output_type": "stream",
     "text": [
      "Enter String:siddharthswain\n",
      "Number of Consonants in String is 10.\n"
     ]
    }
   ],
   "source": [
    "str, count, consonants = input('Enter String:'), 0, \"bcdfghjklmnpqrstvwxyz\"\n",
    "for i in str.lower():\n",
    "    if i in consonants:\n",
    "        count = count + 1\n",
    "print('Number of Consonants in String is {}.'.format(count))"
   ]
  },
  {
   "cell_type": "markdown",
   "id": "38211129",
   "metadata": {},
   "source": [
    "7. Remove all whitespaces from a string."
   ]
  },
  {
   "cell_type": "code",
   "execution_count": 10,
   "id": "f2412248",
   "metadata": {},
   "outputs": [
    {
     "name": "stdout",
     "output_type": "stream",
     "text": [
      "Enter a string: Hello World!     How are       you?\n",
      "String with whitespace removed: HelloWorld!Howareyou?\n"
     ]
    }
   ],
   "source": [
    "def remove_whitespace(input_string):\n",
    "    return input_string.replace(\" \", \"\")\n",
    "\n",
    "input_string = input(\"Enter a string: \")\n",
    "result_string = remove_whitespace(input_string)\n",
    "print(\"String with whitespace removed:\", result_string)"
   ]
  },
  {
   "cell_type": "markdown",
   "id": "737f4d43",
   "metadata": {},
   "source": [
    "8. Find the length of a string without using the `len()` function."
   ]
  },
  {
   "cell_type": "code",
   "execution_count": 13,
   "id": "8d229db4",
   "metadata": {},
   "outputs": [
    {
     "name": "stdout",
     "output_type": "stream",
     "text": [
      "Enter String:hello\n",
      "Length of String is: 5.\n"
     ]
    }
   ],
   "source": [
    "def count(str):\n",
    "    len = 0\n",
    "    for i in str:\n",
    "        len = len+1\n",
    "    return len\n",
    "\n",
    "str = input('Enter String:')\n",
    "print('Length of String is: {}.'.format(count(str)))"
   ]
  },
  {
   "cell_type": "markdown",
   "id": "488b55d2",
   "metadata": {},
   "source": [
    "9. Check if a string contains a specific word."
   ]
  },
  {
   "cell_type": "code",
   "execution_count": 18,
   "id": "aed82823",
   "metadata": {},
   "outputs": [
    {
     "name": "stdout",
     "output_type": "stream",
     "text": [
      "Enter String:Siddharth\n",
      "Enter Word to Find:har\n",
      "Word found in String.\n"
     ]
    }
   ],
   "source": [
    "str1 = input('Enter String:')\n",
    "str2 = input('Enter Word to Find:')\n",
    "if str1.find(str2)!=-1:\n",
    "    print('Word found in String.')\n",
    "else:\n",
    "    print('Word not found in String.')"
   ]
  },
  {
   "cell_type": "markdown",
   "id": "dfb5116b",
   "metadata": {},
   "source": [
    "10. Replace a word in a string with another word."
   ]
  },
  {
   "cell_type": "code",
   "execution_count": 20,
   "id": "f01f6d8c",
   "metadata": {},
   "outputs": [
    {
     "name": "stdout",
     "output_type": "stream",
     "text": [
      "Enter String:Siddharth\n",
      "What Word to Replace:Sid\n",
      "With which Word to Replace:MMM\n",
      "String after replacement is: MMMdharth\n"
     ]
    }
   ],
   "source": [
    "str1 = input('Enter String:')\n",
    "str2 = input('What Word to Replace:')\n",
    "str3 = input('With which Word to Replace:')\n",
    "\n",
    "print('String after replacement is: {}'.format(str1.replace(str2,str3)))"
   ]
  },
  {
   "cell_type": "markdown",
   "id": "d04fab75",
   "metadata": {},
   "source": [
    "11. Count the occurrences of a word in a string."
   ]
  },
  {
   "cell_type": "code",
   "execution_count": 21,
   "id": "b3d1561f",
   "metadata": {},
   "outputs": [
    {
     "name": "stdout",
     "output_type": "stream",
     "text": [
      "Enter a string: Siddharth Swain Siddharth Swain Nexa India\n",
      "Enter the word to count: Swain\n",
      "The word 'Swain' appears 2 times in the string.\n"
     ]
    }
   ],
   "source": [
    "def count_word_occurrences(input_string, target_word):\n",
    "    words = input_string.split()  # Split the string into words\n",
    "    count = 0\n",
    "\n",
    "    for word in words:\n",
    "        if word == target_word:\n",
    "            count += 1\n",
    "\n",
    "    return count\n",
    "\n",
    "input_string = input(\"Enter a string: \")\n",
    "target_word = input(\"Enter the word to count: \")\n",
    "\n",
    "occurrence_count = count_word_occurrences(input_string, target_word)\n",
    "print(f\"The word '{target_word}' appears {occurrence_count} times in the string.\")"
   ]
  },
  {
   "cell_type": "markdown",
   "id": "79a9c61e",
   "metadata": {},
   "source": [
    "12. Find the first occurrence of a word in a string"
   ]
  },
  {
   "cell_type": "code",
   "execution_count": 24,
   "id": "3b4d3973",
   "metadata": {},
   "outputs": [
    {
     "name": "stdout",
     "output_type": "stream",
     "text": [
      "Enter a string: Siddharth\n",
      "Enter the word to find: ddharth\n",
      "The word 'ddharth' first occurs at index 2.\n"
     ]
    }
   ],
   "source": [
    "input_string = input(\"Enter a string: \")\n",
    "target_word = input(\"Enter the word to find: \")\n",
    "\n",
    "index = input_string.find(target_word)\n",
    "\n",
    "if index != -1:\n",
    "    print(f\"The word '{target_word}' first occurs at index {index}.\")\n",
    "else:\n",
    "    print(f\"The word '{target_word}' is not found in the string.\")"
   ]
  },
  {
   "cell_type": "markdown",
   "id": "ce8f471b",
   "metadata": {},
   "source": [
    "13. Find the last occurrence of a word in a string."
   ]
  },
  {
   "cell_type": "code",
   "execution_count": 25,
   "id": "7d37808d",
   "metadata": {},
   "outputs": [
    {
     "name": "stdout",
     "output_type": "stream",
     "text": [
      "Enter a string: SidSidahfsajflanfalfnaflSid\n",
      "Enter the word to find: Sid\n",
      "The word 'Sid' last occurs at index 24.\n"
     ]
    }
   ],
   "source": [
    "input_string = input(\"Enter a string: \")\n",
    "target_word = input(\"Enter the word to find: \")\n",
    "\n",
    "index = input_string.rfind(target_word)\n",
    "\n",
    "if index != -1:\n",
    "    print(f\"The word '{target_word}' last occurs at index {index}.\")\n",
    "else:\n",
    "    print(f\"The word '{target_word}' is not found in the string.\")"
   ]
  },
  {
   "cell_type": "markdown",
   "id": "c0fd27e7",
   "metadata": {},
   "source": [
    "14. Split a string into a list of words."
   ]
  },
  {
   "cell_type": "code",
   "execution_count": 28,
   "id": "bed05a99",
   "metadata": {},
   "outputs": [
    {
     "name": "stdout",
     "output_type": "stream",
     "text": [
      "Enter a string: Hello, this is a test.\n",
      "List of words: ['Hello,', 'this', 'is', 'a', 'test.']\n"
     ]
    }
   ],
   "source": [
    "input_string = input(\"Enter a string: \")\n",
    "word_list = input_string.split()\n",
    "\n",
    "print(\"List of words:\", word_list)"
   ]
  },
  {
   "cell_type": "markdown",
   "id": "54b32b09",
   "metadata": {},
   "source": [
    "15. Join a list of words into a string."
   ]
  },
  {
   "cell_type": "code",
   "execution_count": 31,
   "id": "7b18532d",
   "metadata": {},
   "outputs": [
    {
     "name": "stdout",
     "output_type": "stream",
     "text": [
      "Joined string: Hello, this is a test.\n"
     ]
    }
   ],
   "source": [
    "word_list = ['Hello,', 'this', 'is', 'a', 'test.']\n",
    "delimiter = ' '  # This is the separator between elements in the list\n",
    "\n",
    "joined_string = delimiter.join(word_list)\n",
    "print(\"Joined string:\", joined_string)"
   ]
  },
  {
   "cell_type": "markdown",
   "id": "85507b1f",
   "metadata": {},
   "source": [
    "16. Convert a string where words are separated by spaces to one where words\n",
    "are separated by underscores."
   ]
  },
  {
   "cell_type": "code",
   "execution_count": 33,
   "id": "f75c3174",
   "metadata": {},
   "outputs": [
    {
     "name": "stdout",
     "output_type": "stream",
     "text": [
      "Enter a string with spaces between words: Sudhanshu is the best teacher\n",
      "Converted string: Sudhanshu_is_the_best_teacher\n"
     ]
    }
   ],
   "source": [
    "input_string = input(\"Enter a string with spaces between words: \")\n",
    "converted_string = input_string.replace(\" \", \"_\")\n",
    "\n",
    "print(\"Converted string:\", converted_string)"
   ]
  },
  {
   "cell_type": "code",
   "execution_count": null,
   "id": "26486293",
   "metadata": {},
   "outputs": [],
   "source": []
  }
 ],
 "metadata": {
  "kernelspec": {
   "display_name": "Python 3 (ipykernel)",
   "language": "python",
   "name": "python3"
  },
  "language_info": {
   "codemirror_mode": {
    "name": "ipython",
    "version": 3
   },
   "file_extension": ".py",
   "mimetype": "text/x-python",
   "name": "python",
   "nbconvert_exporter": "python",
   "pygments_lexer": "ipython3",
   "version": "3.9.13"
  }
 },
 "nbformat": 4,
 "nbformat_minor": 5
}
